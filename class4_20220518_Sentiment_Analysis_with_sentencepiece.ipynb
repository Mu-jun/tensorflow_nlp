{
  "nbformat": 4,
  "nbformat_minor": 0,
  "metadata": {
    "colab": {
      "name": "22_05_18_과제1",
      "provenance": [],
      "collapsed_sections": []
    },
    "kernelspec": {
      "name": "python3",
      "display_name": "Python 3"
    },
    "language_info": {
      "name": "python"
    },
    "accelerator": "GPU"
  },
  "cells": [
    {
      "cell_type": "markdown",
      "source": [
        "# Proj: 네이버 영화 리뷰 감성 분류에 SentencePiece적용하기"
      ],
      "metadata": {
        "id": "myUFFLXdczbh"
      }
    },
    {
      "cell_type": "markdown",
      "source": [
        "- 네이버 영화리뷰 감정 분석 코퍼스에 SentencePiece를 적용시킨 모델 학습하기\n",
        "- 학습된 모델로 sp_tokenize() 메소드 구현하기\n",
        "- 구현된 토크나이저를 적용하여 네이버 영화리뷰 감정 분석 모델을 재학습하기\n",
        "- KoNLPy 형태소 분석기를 사용한 모델과 성능 비교하기\n",
        "- (보너스) SentencePiece 모델의 model_type, vocab_size 등을 변경해 가면서 성능 개선 여부 확인하기"
      ],
      "metadata": {
        "id": "TXIxADWvdvcu"
      }
    },
    {
      "cell_type": "code",
      "source": [
        "!wget https://github.com/jungyeul/korean-parallel-corpora/raw/master/korean-english-news-v1/korean-english-park.train.tar.gz"
      ],
      "metadata": {
        "colab": {
          "base_uri": "https://localhost:8080/"
        },
        "id": "ZgZjIufldxIt",
        "outputId": "8ade5aa7-5e5f-459a-bae9-beebec276c8e"
      },
      "execution_count": null,
      "outputs": [
        {
          "output_type": "stream",
          "name": "stdout",
          "text": [
            "--2022-05-18 05:20:18--  https://github.com/jungyeul/korean-parallel-corpora/raw/master/korean-english-news-v1/korean-english-park.train.tar.gz\n",
            "Resolving github.com (github.com)... 13.114.40.48\n",
            "Connecting to github.com (github.com)|13.114.40.48|:443... connected.\n",
            "HTTP request sent, awaiting response... 302 Found\n",
            "Location: https://raw.githubusercontent.com/jungyeul/korean-parallel-corpora/master/korean-english-news-v1/korean-english-park.train.tar.gz [following]\n",
            "--2022-05-18 05:20:18--  https://raw.githubusercontent.com/jungyeul/korean-parallel-corpora/master/korean-english-news-v1/korean-english-park.train.tar.gz\n",
            "Resolving raw.githubusercontent.com (raw.githubusercontent.com)... 185.199.111.133, 185.199.109.133, 185.199.110.133, ...\n",
            "Connecting to raw.githubusercontent.com (raw.githubusercontent.com)|185.199.111.133|:443... connected.\n",
            "HTTP request sent, awaiting response... 200 OK\n",
            "Length: 8718893 (8.3M) [application/octet-stream]\n",
            "Saving to: ‘korean-english-park.train.tar.gz’\n",
            "\n",
            "korean-english-park 100%[===================>]   8.31M  --.-KB/s    in 0.1s    \n",
            "\n",
            "2022-05-18 05:20:19 (77.9 MB/s) - ‘korean-english-park.train.tar.gz’ saved [8718893/8718893]\n",
            "\n"
          ]
        }
      ]
    },
    {
      "cell_type": "code",
      "source": [
        "!tar -xzvf korean-english-park.train.tar.gz"
      ],
      "metadata": {
        "colab": {
          "base_uri": "https://localhost:8080/"
        },
        "id": "oFGMIRscdyqU",
        "outputId": "124ab28d-9997-41b6-b7df-90d31e7a3e85"
      },
      "execution_count": null,
      "outputs": [
        {
          "output_type": "stream",
          "name": "stdout",
          "text": [
            "korean-english-park.train.en\n",
            "korean-english-park.train.ko\n"
          ]
        }
      ]
    },
    {
      "cell_type": "code",
      "source": [
        "!pip install sentencepiece"
      ],
      "metadata": {
        "colab": {
          "base_uri": "https://localhost:8080/"
        },
        "id": "dKiTniRed0Jj",
        "outputId": "13e39375-efd8-4891-cf35-2d7926b7d49a"
      },
      "execution_count": null,
      "outputs": [
        {
          "output_type": "stream",
          "name": "stdout",
          "text": [
            "Collecting sentencepiece\n",
            "  Downloading sentencepiece-0.1.96-cp37-cp37m-manylinux_2_17_x86_64.manylinux2014_x86_64.whl (1.2 MB)\n",
            "\u001b[K     |████████████████████████████████| 1.2 MB 4.1 MB/s \n",
            "\u001b[?25hInstalling collected packages: sentencepiece\n",
            "Successfully installed sentencepiece-0.1.96\n"
          ]
        }
      ]
    },
    {
      "cell_type": "code",
      "source": [
        "import sentencepiece as spm\n",
        "import pandas as pd\n",
        "import csv"
      ],
      "metadata": {
        "id": "J9Yz-Cqgd1jH"
      },
      "execution_count": null,
      "outputs": []
    },
    {
      "cell_type": "code",
      "source": [
        "# spm.SentencePieceTrainer.train(\n",
        "#     f\"--input={corpus} --model_prefix={prefix} --vocab_size={vocab_size + 7}\" \n",
        "#     + \" --model_type=bpe\"\n",
        "#     + \" --max_sentence_length=999999\" # 문장 최대 길이\n",
        "#     + \" --pad_id=0 --pad_piece=[PAD]\" # pad (0)\n",
        "#     + \" --unk_id=1 --unk_piece=[UNK]\" # unknown (1)\n",
        "#     + \" --bos_id=2 --bos_piece=[BOS]\" # begin of sequence (2)\n",
        "#     + \" --eos_id=3 --eos_piece=[EOS]\" # end of sequence (3)\n",
        "#     + \" --user_defined_symbols=[SEP],[CLS],[MASK]\" # 사용자 정의 토큰\n",
        "# )"
      ],
      "metadata": {
        "id": "I684hOpshry1"
      },
      "execution_count": null,
      "outputs": []
    },
    {
      "cell_type": "code",
      "source": [
        "corpus = \"korean-english-park.train.ko\"\n",
        "prefix = \"news-v1\"\n",
        "vocab_size = 8000\n",
        "\n",
        "spm.SentencePieceTrainer.train(\n",
        "    f\"--input={corpus} --model_prefix={prefix} --vocab_size={vocab_size}\" + \n",
        "    \" --model_type=bpe\" +\n",
        "    \" --max_sentence_length=999999\" # 문장 최대 길이\n",
        ")"
      ],
      "metadata": {
        "id": "en0dRM3Hd2ql"
      },
      "execution_count": null,
      "outputs": []
    },
    {
      "cell_type": "code",
      "source": [
        "vocab_list = pd.read_csv('news-v1.vocab',sep='\\t', header=None, quoting=csv.QUOTE_NONE)\n",
        "vocab_list.head(10)"
      ],
      "metadata": {
        "colab": {
          "base_uri": "https://localhost:8080/",
          "height": 363
        },
        "id": "DT5ZJMO2d_o3",
        "outputId": "3bad81f4-8ea8-4e59-ba39-a9f693506447"
      },
      "execution_count": null,
      "outputs": [
        {
          "output_type": "execute_result",
          "data": {
            "text/plain": [
              "       0  1\n",
              "0  <unk>  0\n",
              "1    <s>  0\n",
              "2   </s>  0\n",
              "3     ▁이  0\n",
              "4     했다 -1\n",
              "5     ▁있 -2\n",
              "6     에서 -3\n",
              "7     ▁대 -4\n",
              "8     ▁사 -5\n",
              "9     ▁지 -6"
            ],
            "text/html": [
              "\n",
              "  <div id=\"df-1c98751e-a2a9-4968-990d-2d836bbf1c40\">\n",
              "    <div class=\"colab-df-container\">\n",
              "      <div>\n",
              "<style scoped>\n",
              "    .dataframe tbody tr th:only-of-type {\n",
              "        vertical-align: middle;\n",
              "    }\n",
              "\n",
              "    .dataframe tbody tr th {\n",
              "        vertical-align: top;\n",
              "    }\n",
              "\n",
              "    .dataframe thead th {\n",
              "        text-align: right;\n",
              "    }\n",
              "</style>\n",
              "<table border=\"1\" class=\"dataframe\">\n",
              "  <thead>\n",
              "    <tr style=\"text-align: right;\">\n",
              "      <th></th>\n",
              "      <th>0</th>\n",
              "      <th>1</th>\n",
              "    </tr>\n",
              "  </thead>\n",
              "  <tbody>\n",
              "    <tr>\n",
              "      <th>0</th>\n",
              "      <td>&lt;unk&gt;</td>\n",
              "      <td>0</td>\n",
              "    </tr>\n",
              "    <tr>\n",
              "      <th>1</th>\n",
              "      <td>&lt;s&gt;</td>\n",
              "      <td>0</td>\n",
              "    </tr>\n",
              "    <tr>\n",
              "      <th>2</th>\n",
              "      <td>&lt;/s&gt;</td>\n",
              "      <td>0</td>\n",
              "    </tr>\n",
              "    <tr>\n",
              "      <th>3</th>\n",
              "      <td>▁이</td>\n",
              "      <td>0</td>\n",
              "    </tr>\n",
              "    <tr>\n",
              "      <th>4</th>\n",
              "      <td>했다</td>\n",
              "      <td>-1</td>\n",
              "    </tr>\n",
              "    <tr>\n",
              "      <th>5</th>\n",
              "      <td>▁있</td>\n",
              "      <td>-2</td>\n",
              "    </tr>\n",
              "    <tr>\n",
              "      <th>6</th>\n",
              "      <td>에서</td>\n",
              "      <td>-3</td>\n",
              "    </tr>\n",
              "    <tr>\n",
              "      <th>7</th>\n",
              "      <td>▁대</td>\n",
              "      <td>-4</td>\n",
              "    </tr>\n",
              "    <tr>\n",
              "      <th>8</th>\n",
              "      <td>▁사</td>\n",
              "      <td>-5</td>\n",
              "    </tr>\n",
              "    <tr>\n",
              "      <th>9</th>\n",
              "      <td>▁지</td>\n",
              "      <td>-6</td>\n",
              "    </tr>\n",
              "  </tbody>\n",
              "</table>\n",
              "</div>\n",
              "      <button class=\"colab-df-convert\" onclick=\"convertToInteractive('df-1c98751e-a2a9-4968-990d-2d836bbf1c40')\"\n",
              "              title=\"Convert this dataframe to an interactive table.\"\n",
              "              style=\"display:none;\">\n",
              "        \n",
              "  <svg xmlns=\"http://www.w3.org/2000/svg\" height=\"24px\"viewBox=\"0 0 24 24\"\n",
              "       width=\"24px\">\n",
              "    <path d=\"M0 0h24v24H0V0z\" fill=\"none\"/>\n",
              "    <path d=\"M18.56 5.44l.94 2.06.94-2.06 2.06-.94-2.06-.94-.94-2.06-.94 2.06-2.06.94zm-11 1L8.5 8.5l.94-2.06 2.06-.94-2.06-.94L8.5 2.5l-.94 2.06-2.06.94zm10 10l.94 2.06.94-2.06 2.06-.94-2.06-.94-.94-2.06-.94 2.06-2.06.94z\"/><path d=\"M17.41 7.96l-1.37-1.37c-.4-.4-.92-.59-1.43-.59-.52 0-1.04.2-1.43.59L10.3 9.45l-7.72 7.72c-.78.78-.78 2.05 0 2.83L4 21.41c.39.39.9.59 1.41.59.51 0 1.02-.2 1.41-.59l7.78-7.78 2.81-2.81c.8-.78.8-2.07 0-2.86zM5.41 20L4 18.59l7.72-7.72 1.47 1.35L5.41 20z\"/>\n",
              "  </svg>\n",
              "      </button>\n",
              "      \n",
              "  <style>\n",
              "    .colab-df-container {\n",
              "      display:flex;\n",
              "      flex-wrap:wrap;\n",
              "      gap: 12px;\n",
              "    }\n",
              "\n",
              "    .colab-df-convert {\n",
              "      background-color: #E8F0FE;\n",
              "      border: none;\n",
              "      border-radius: 50%;\n",
              "      cursor: pointer;\n",
              "      display: none;\n",
              "      fill: #1967D2;\n",
              "      height: 32px;\n",
              "      padding: 0 0 0 0;\n",
              "      width: 32px;\n",
              "    }\n",
              "\n",
              "    .colab-df-convert:hover {\n",
              "      background-color: #E2EBFA;\n",
              "      box-shadow: 0px 1px 2px rgba(60, 64, 67, 0.3), 0px 1px 3px 1px rgba(60, 64, 67, 0.15);\n",
              "      fill: #174EA6;\n",
              "    }\n",
              "\n",
              "    [theme=dark] .colab-df-convert {\n",
              "      background-color: #3B4455;\n",
              "      fill: #D2E3FC;\n",
              "    }\n",
              "\n",
              "    [theme=dark] .colab-df-convert:hover {\n",
              "      background-color: #434B5C;\n",
              "      box-shadow: 0px 1px 3px 1px rgba(0, 0, 0, 0.15);\n",
              "      filter: drop-shadow(0px 1px 2px rgba(0, 0, 0, 0.3));\n",
              "      fill: #FFFFFF;\n",
              "    }\n",
              "  </style>\n",
              "\n",
              "      <script>\n",
              "        const buttonEl =\n",
              "          document.querySelector('#df-1c98751e-a2a9-4968-990d-2d836bbf1c40 button.colab-df-convert');\n",
              "        buttonEl.style.display =\n",
              "          google.colab.kernel.accessAllowed ? 'block' : 'none';\n",
              "\n",
              "        async function convertToInteractive(key) {\n",
              "          const element = document.querySelector('#df-1c98751e-a2a9-4968-990d-2d836bbf1c40');\n",
              "          const dataTable =\n",
              "            await google.colab.kernel.invokeFunction('convertToInteractive',\n",
              "                                                     [key], {});\n",
              "          if (!dataTable) return;\n",
              "\n",
              "          const docLinkHtml = 'Like what you see? Visit the ' +\n",
              "            '<a target=\"_blank\" href=https://colab.research.google.com/notebooks/data_table.ipynb>data table notebook</a>'\n",
              "            + ' to learn more about interactive tables.';\n",
              "          element.innerHTML = '';\n",
              "          dataTable['output_type'] = 'display_data';\n",
              "          await google.colab.output.renderOutput(dataTable, element);\n",
              "          const docLink = document.createElement('div');\n",
              "          docLink.innerHTML = docLinkHtml;\n",
              "          element.appendChild(docLink);\n",
              "        }\n",
              "      </script>\n",
              "    </div>\n",
              "  </div>\n",
              "  "
            ]
          },
          "metadata": {},
          "execution_count": 7
        }
      ]
    },
    {
      "cell_type": "code",
      "source": [
        "sp = spm.SentencePieceProcessor()\n",
        "sp.load('news-v1.model')"
      ],
      "metadata": {
        "colab": {
          "base_uri": "https://localhost:8080/"
        },
        "id": "KIy94Vt0esAY",
        "outputId": "bdd1012b-c16e-45fe-f466-3d8602757dbd"
      },
      "execution_count": null,
      "outputs": [
        {
          "output_type": "execute_result",
          "data": {
            "text/plain": [
              "True"
            ]
          },
          "metadata": {},
          "execution_count": 8
        }
      ]
    },
    {
      "cell_type": "code",
      "source": [
        "import pandas as pd\n",
        "import urllib.request\n",
        "import matplotlib.pyplot as plt\n",
        "import re\n",
        "from tensorflow import keras\n",
        "from tensorflow.keras.preprocessing.text import Tokenizer\n",
        "import numpy as np\n",
        "from tensorflow.keras.preprocessing.sequence import pad_sequences\n",
        "from collections import Counter"
      ],
      "metadata": {
        "id": "PIHBX2_MfdsN"
      },
      "execution_count": null,
      "outputs": []
    },
    {
      "cell_type": "code",
      "source": [
        "urllib.request.urlretrieve(\"https://raw.githubusercontent.com/e9t/nsmc/master/ratings_train.txt\", filename=\"ratings_train.txt\") # train\n",
        "urllib.request.urlretrieve(\"https://raw.githubusercontent.com/e9t/nsmc/master/ratings_test.txt\", filename=\"ratings_test.txt\") # test\n",
        "urllib.request.urlretrieve(\"https://raw.githubusercontent.com/e9t/nsmc/master/ratings.txt\", filename=\"ratings.txt\") # train + test"
      ],
      "metadata": {
        "colab": {
          "base_uri": "https://localhost:8080/"
        },
        "id": "d4StMzy5e3zy",
        "outputId": "ec17fcd9-68dd-4583-b125-50fd91d5f844"
      },
      "execution_count": null,
      "outputs": [
        {
          "output_type": "execute_result",
          "data": {
            "text/plain": [
              "('ratings.txt', <http.client.HTTPMessage at 0x7f6d10183890>)"
            ]
          },
          "metadata": {},
          "execution_count": 10
        }
      ]
    },
    {
      "cell_type": "code",
      "source": [
        "train_data = pd.read_table('ratings_train.txt')\n",
        "test_data = pd.read_table('ratings_test.txt')"
      ],
      "metadata": {
        "id": "FnswceWrfhOI"
      },
      "execution_count": null,
      "outputs": []
    },
    {
      "cell_type": "code",
      "source": [
        "train_data.head()"
      ],
      "metadata": {
        "colab": {
          "base_uri": "https://localhost:8080/",
          "height": 267
        },
        "id": "H-KVoq7pfi_Q",
        "outputId": "c85e720f-78c4-483c-ca99-e9ce4c3f6b7c"
      },
      "execution_count": null,
      "outputs": [
        {
          "output_type": "execute_result",
          "data": {
            "text/plain": [
              "         id                                           document  label\n",
              "0   9976970                                아 더빙.. 진짜 짜증나네요 목소리      0\n",
              "1   3819312                  흠...포스터보고 초딩영화줄....오버연기조차 가볍지 않구나      1\n",
              "2  10265843                                  너무재밓었다그래서보는것을추천한다      0\n",
              "3   9045019                      교도소 이야기구먼 ..솔직히 재미는 없다..평점 조정      0\n",
              "4   6483659  사이몬페그의 익살스런 연기가 돋보였던 영화!스파이더맨에서 늙어보이기만 했던 커스틴 ...      1"
            ],
            "text/html": [
              "\n",
              "  <div id=\"df-2fca6740-a08f-4146-9925-718b57d8aadf\">\n",
              "    <div class=\"colab-df-container\">\n",
              "      <div>\n",
              "<style scoped>\n",
              "    .dataframe tbody tr th:only-of-type {\n",
              "        vertical-align: middle;\n",
              "    }\n",
              "\n",
              "    .dataframe tbody tr th {\n",
              "        vertical-align: top;\n",
              "    }\n",
              "\n",
              "    .dataframe thead th {\n",
              "        text-align: right;\n",
              "    }\n",
              "</style>\n",
              "<table border=\"1\" class=\"dataframe\">\n",
              "  <thead>\n",
              "    <tr style=\"text-align: right;\">\n",
              "      <th></th>\n",
              "      <th>id</th>\n",
              "      <th>document</th>\n",
              "      <th>label</th>\n",
              "    </tr>\n",
              "  </thead>\n",
              "  <tbody>\n",
              "    <tr>\n",
              "      <th>0</th>\n",
              "      <td>9976970</td>\n",
              "      <td>아 더빙.. 진짜 짜증나네요 목소리</td>\n",
              "      <td>0</td>\n",
              "    </tr>\n",
              "    <tr>\n",
              "      <th>1</th>\n",
              "      <td>3819312</td>\n",
              "      <td>흠...포스터보고 초딩영화줄....오버연기조차 가볍지 않구나</td>\n",
              "      <td>1</td>\n",
              "    </tr>\n",
              "    <tr>\n",
              "      <th>2</th>\n",
              "      <td>10265843</td>\n",
              "      <td>너무재밓었다그래서보는것을추천한다</td>\n",
              "      <td>0</td>\n",
              "    </tr>\n",
              "    <tr>\n",
              "      <th>3</th>\n",
              "      <td>9045019</td>\n",
              "      <td>교도소 이야기구먼 ..솔직히 재미는 없다..평점 조정</td>\n",
              "      <td>0</td>\n",
              "    </tr>\n",
              "    <tr>\n",
              "      <th>4</th>\n",
              "      <td>6483659</td>\n",
              "      <td>사이몬페그의 익살스런 연기가 돋보였던 영화!스파이더맨에서 늙어보이기만 했던 커스틴 ...</td>\n",
              "      <td>1</td>\n",
              "    </tr>\n",
              "  </tbody>\n",
              "</table>\n",
              "</div>\n",
              "      <button class=\"colab-df-convert\" onclick=\"convertToInteractive('df-2fca6740-a08f-4146-9925-718b57d8aadf')\"\n",
              "              title=\"Convert this dataframe to an interactive table.\"\n",
              "              style=\"display:none;\">\n",
              "        \n",
              "  <svg xmlns=\"http://www.w3.org/2000/svg\" height=\"24px\"viewBox=\"0 0 24 24\"\n",
              "       width=\"24px\">\n",
              "    <path d=\"M0 0h24v24H0V0z\" fill=\"none\"/>\n",
              "    <path d=\"M18.56 5.44l.94 2.06.94-2.06 2.06-.94-2.06-.94-.94-2.06-.94 2.06-2.06.94zm-11 1L8.5 8.5l.94-2.06 2.06-.94-2.06-.94L8.5 2.5l-.94 2.06-2.06.94zm10 10l.94 2.06.94-2.06 2.06-.94-2.06-.94-.94-2.06-.94 2.06-2.06.94z\"/><path d=\"M17.41 7.96l-1.37-1.37c-.4-.4-.92-.59-1.43-.59-.52 0-1.04.2-1.43.59L10.3 9.45l-7.72 7.72c-.78.78-.78 2.05 0 2.83L4 21.41c.39.39.9.59 1.41.59.51 0 1.02-.2 1.41-.59l7.78-7.78 2.81-2.81c.8-.78.8-2.07 0-2.86zM5.41 20L4 18.59l7.72-7.72 1.47 1.35L5.41 20z\"/>\n",
              "  </svg>\n",
              "      </button>\n",
              "      \n",
              "  <style>\n",
              "    .colab-df-container {\n",
              "      display:flex;\n",
              "      flex-wrap:wrap;\n",
              "      gap: 12px;\n",
              "    }\n",
              "\n",
              "    .colab-df-convert {\n",
              "      background-color: #E8F0FE;\n",
              "      border: none;\n",
              "      border-radius: 50%;\n",
              "      cursor: pointer;\n",
              "      display: none;\n",
              "      fill: #1967D2;\n",
              "      height: 32px;\n",
              "      padding: 0 0 0 0;\n",
              "      width: 32px;\n",
              "    }\n",
              "\n",
              "    .colab-df-convert:hover {\n",
              "      background-color: #E2EBFA;\n",
              "      box-shadow: 0px 1px 2px rgba(60, 64, 67, 0.3), 0px 1px 3px 1px rgba(60, 64, 67, 0.15);\n",
              "      fill: #174EA6;\n",
              "    }\n",
              "\n",
              "    [theme=dark] .colab-df-convert {\n",
              "      background-color: #3B4455;\n",
              "      fill: #D2E3FC;\n",
              "    }\n",
              "\n",
              "    [theme=dark] .colab-df-convert:hover {\n",
              "      background-color: #434B5C;\n",
              "      box-shadow: 0px 1px 3px 1px rgba(0, 0, 0, 0.15);\n",
              "      filter: drop-shadow(0px 1px 2px rgba(0, 0, 0, 0.3));\n",
              "      fill: #FFFFFF;\n",
              "    }\n",
              "  </style>\n",
              "\n",
              "      <script>\n",
              "        const buttonEl =\n",
              "          document.querySelector('#df-2fca6740-a08f-4146-9925-718b57d8aadf button.colab-df-convert');\n",
              "        buttonEl.style.display =\n",
              "          google.colab.kernel.accessAllowed ? 'block' : 'none';\n",
              "\n",
              "        async function convertToInteractive(key) {\n",
              "          const element = document.querySelector('#df-2fca6740-a08f-4146-9925-718b57d8aadf');\n",
              "          const dataTable =\n",
              "            await google.colab.kernel.invokeFunction('convertToInteractive',\n",
              "                                                     [key], {});\n",
              "          if (!dataTable) return;\n",
              "\n",
              "          const docLinkHtml = 'Like what you see? Visit the ' +\n",
              "            '<a target=\"_blank\" href=https://colab.research.google.com/notebooks/data_table.ipynb>data table notebook</a>'\n",
              "            + ' to learn more about interactive tables.';\n",
              "          element.innerHTML = '';\n",
              "          dataTable['output_type'] = 'display_data';\n",
              "          await google.colab.output.renderOutput(dataTable, element);\n",
              "          const docLink = document.createElement('div');\n",
              "          docLink.innerHTML = docLinkHtml;\n",
              "          element.appendChild(docLink);\n",
              "        }\n",
              "      </script>\n",
              "    </div>\n",
              "  </div>\n",
              "  "
            ]
          },
          "metadata": {},
          "execution_count": 12
        }
      ]
    },
    {
      "cell_type": "code",
      "source": [
        "train_data.info()"
      ],
      "metadata": {
        "colab": {
          "base_uri": "https://localhost:8080/"
        },
        "id": "SJvLzbmBftoo",
        "outputId": "76fa6fcc-6d6f-4dda-fa3c-ce6bcc8337e9"
      },
      "execution_count": null,
      "outputs": [
        {
          "output_type": "stream",
          "name": "stdout",
          "text": [
            "<class 'pandas.core.frame.DataFrame'>\n",
            "RangeIndex: 150000 entries, 0 to 149999\n",
            "Data columns (total 3 columns):\n",
            " #   Column    Non-Null Count   Dtype \n",
            "---  ------    --------------   ----- \n",
            " 0   id        150000 non-null  int64 \n",
            " 1   document  149995 non-null  object\n",
            " 2   label     150000 non-null  int64 \n",
            "dtypes: int64(2), object(1)\n",
            "memory usage: 3.4+ MB\n"
          ]
        }
      ]
    },
    {
      "cell_type": "code",
      "source": [
        "stopwords = ['의','가','이','은','들','는','▁좀','▁잘','▁걍','과','도','를','으로','▁자','에','와','한','하다']"
      ],
      "metadata": {
        "id": "Z4YQ4P4Cf6_b"
      },
      "execution_count": null,
      "outputs": []
    },
    {
      "cell_type": "code",
      "source": [
        "def tokenize_and_remove_stopwords(data, stopwords, tokenizer):\n",
        "    result = []\n",
        "\n",
        "    for sentence in data:\n",
        "        curr_data = []\n",
        "        curr_data = tokenizer.encode_as_pieces(sentence) # tokenization\n",
        "        curr_data = [word for word in curr_data if not word in stopwords] # 불용어 제거\n",
        "        result.append(curr_data)\n",
        "    return result"
      ],
      "metadata": {
        "id": "Bpz0mSmKf8XO"
      },
      "execution_count": null,
      "outputs": []
    },
    {
      "cell_type": "code",
      "source": [
        "def load_data(train_data, test_data, num_words=10000):\n",
        "    # 중복 제거\n",
        "    train_data.drop_duplicates(subset=['document'], inplace=True)\n",
        "    test_data.drop_duplicates(subset=['document'], inplace=True)\n",
        "\n",
        "    # 결측치 제거\n",
        "    train_data = train_data.dropna(how='any')\n",
        "    test_data = test_data.dropna(how='any')\n",
        "\n",
        "    # 토큰화 및 불용어 제거\n",
        "    x_train = tokenize_and_remove_stopwords(train_data['document'],stopwords, sp)\n",
        "    x_test = tokenize_and_remove_stopwords(test_data['document'],stopwords, sp)\n",
        "\n",
        "    # 단어장 만드는 중\n",
        "    words = np.concatenate(x_train).tolist()\n",
        "    counter = Counter(words)\n",
        "    counter = counter.most_common(10000-4)\n",
        "    vocab = ['<PAD>','<BOS>','<UNK>','<UNUSED>'] + [key for key,_ in counter]\n",
        "    word_to_index = {word:index for index, word in enumerate(vocab)}\n",
        "\n",
        "    def wordlist_to_indexlist(wordlist):\n",
        "        return [word_to_index[word] if word in word_to_index else word_to_index['<UNK>'] for word in wordlist]\n",
        "\n",
        "    x_train = list(map(wordlist_to_indexlist, x_train))\n",
        "    x_test = list(map(wordlist_to_indexlist, x_test))\n",
        "\n",
        "    return x_train, np.array(list(train_data['label'])), x_test, np.array(list(test_data['label'])), word_to_index"
      ],
      "metadata": {
        "id": "rpUffyhof_OL"
      },
      "execution_count": null,
      "outputs": []
    },
    {
      "cell_type": "code",
      "source": [
        "x_train, y_train, x_test, y_test, word_to_index = load_data(train_data, test_data)"
      ],
      "metadata": {
        "id": "46EH76ZsgIR-"
      },
      "execution_count": null,
      "outputs": []
    },
    {
      "cell_type": "code",
      "source": [
        "print(x_train[10])"
      ],
      "metadata": {
        "colab": {
          "base_uri": "https://localhost:8080/"
        },
        "id": "tilDvZvIjJJY",
        "outputId": "1feab2ce-c8c6-4a75-b285-b2ab32e97c24"
      },
      "execution_count": null,
      "outputs": [
        {
          "output_type": "stream",
          "name": "stdout",
          "text": [
            "[4, 844, 31, 472, 40, 2529, 404, 107, 5, 82, 36, 404, 107, 917]\n"
          ]
        }
      ]
    },
    {
      "cell_type": "code",
      "source": [
        "index_to_word = {index:word for word,index in word_to_index.items()}"
      ],
      "metadata": {
        "id": "D-uNL-BwjRrG"
      },
      "execution_count": null,
      "outputs": []
    },
    {
      "cell_type": "code",
      "source": [
        "print(index_to_word)"
      ],
      "metadata": {
        "colab": {
          "base_uri": "https://localhost:8080/"
        },
        "id": "iE58orTmjTMZ",
        "outputId": "bdc21583-42a0-41fe-e576-f8f663e4abc5"
      },
      "execution_count": null,
      "outputs": [
        {
          "output_type": "stream",
          "name": "stdout",
          "text": [
            "{0: '<PAD>', 1: '<BOS>', 2: '<UNK>', 3: '<UNUSED>', 4: '▁', 5: '.', 6: '..', 7: '▁영화', 8: '!', 9: '다', 10: '요', 11: '...', 12: ',', 13: '▁이', 14: '고', 15: '지', 16: '?', 17: '게', 18: '네', 19: '나', 20: '~', 21: '을', 22: '어', 23: '만', 24: '영화', 25: '기', 26: '서', 27: '▁그', 28: '점', 29: '거', 30: '리', 31: '인', 32: '아', 33: '▁아', 34: '로', 35: '음', 36: '짜', 37: '▁너무', 38: '라', 39: '데', 40: '니', 41: '▁재미', 42: '▁진', 43: '▁재', 44: '는데', 45: '▁정말', 46: '밌', 47: '하', 48: '작', 49: '하고', 50: '▁안', 51: '해', 52: '까', 53: '면', 54: ';', 55: '없', 56: '▁봤', 57: '건', 58: '있', 59: '보', 60: '▁스', 61: '야', 62: '▁평', 63: '수', 64: '▁어', 65: '▁감', 66: '▁보', 67: '시', 68: '▁좋', 69: '▁지', 70: '하는', 71: '▁다', 72: '것', 73: '루', 74: '히', 75: '자', 76: '▁나', 77: '봐', 78: '▁무', 79: '대', 80: '토', 81: '었', 82: '진', 83: '연', 84: '동', 85: '▁이런', 86: '구', 87: '▁연', 88: '에서', 89: '마', 90: '▁더', 91: '정', 92: '말', 93: '할', 94: '▁한', 95: '▁왜', 96: '주', 97: '미', 98: '장', 99: '영', 100: '레', 101: '스', 102: '여', 103: '때', 104: '러', 105: '듯', 106: '▁말', 107: '이다', 108: '내', 109: '▁수', 110: '지만', 111: '▁본', 112: '드', 113: '그', 114: '았', 115: '함', 116: '냥', 117: '재', 118: '뭐', 119: '운', 120: '무', 121: '세', 122: '상', 123: '감', 124: '▁보고', 125: '▁볼', 126: '▁없', 127: '하게', 128: '성', 129: '▁연기', 130: 'ᄏᄏ', 131: '일', 132: '까지', 133: '려', 134: '▁별', 135: '더', 136: '▁1', 137: '냐', 138: '전', 139: '▁드라마', 140: '걸', 141: '▁쓰', 142: '▁여', 143: '습니다', 144: '▁느', 145: '▁생각', 146: '들이', 147: '생', 148: '보다', 149: '오', 150: '▁개', 151: '▁배우', 152: '▁내', 153: '사', 154: '편', 155: '랑', 156: '던', 157: '▁대', 158: '임', 159: '잼', 160: '분', 161: '우', 162: '▁오', 163: '▁최고', 164: '▁미', 165: '안', 166: '▁시', 167: '중', 168: '▁애', 169: '션', 170: '▁못', 171: '비', 172: '소', 173: '화', 174: '적인', 175: '▁공', 176: '▁남', 177: '▁10', 178: '겠', 179: '신', 180: '부', 181: '▁하', 182: '심', 183: '력', 184: 'O', 185: '▁보는', 186: '적', 187: '▁참', 188: '해서', 189: '▁전', 190: '▁영화를', 191: '저', 192: '했', 193: '▁명', 194: '▁웃', 195: '님', 196: '깝', 197: '워', 198: '▁가', 199: '점이', 200: '물', 201: '치', 202: '▁좋은', 203: '▁좋아', 204: '^^', 205: '▁제', 206: '버', 207: '보고', 208: '봤', 209: '릴', 210: '▁반', 211: '▁저', 212: '년', 213: '▁다시', 214: '으면', 215: '▁사랑', 216: '출', 217: '▁끝', 218: '같', 219: '▁없는', 220: '▁눈', 221: '래', 222: '본', 223: '개', 224: 'ᄏ', 225: '▁영화는', 226: '▁아니', 227: '▁기', 228: '▁해', 229: '니다', 230: '지는', 231: '없는', 232: '용', 233: '좋', 234: '줄', 235: '라고', 236: '하지', 237: '▁신', 238: '▁액', 239: '입니다', 240: '▁작품', 241: '▁알', 242: '▁난', 243: '▁내가', 244: '▁마지막', 245: '▁고', 246: '▁주', 247: '단', 248: '싶', 249: '▁최고의', 250: 'ᄏᄏᄏ', 251: '긴', 252: '▁영', 253: '질', 254: '름', 255: '준', 256: '포', 257: '낌', 258: '▁원', 259: '▁유', 260: '▁하는', 261: '선', 262: '-', 263: '▁완전', 264: '▁있는', 265: 'ᅲᅲ', 266: '괜', 267: '있는', 268: '▁할', 269: '면서', 270: '▁조', 271: '▁중', 272: '엔', 273: '입', 274: '너', 275: '▁없다', 276: '으', 277: '같은', 278: '모', 279: '▁하나', 280: '길', 281: '제', 282: '박', 283: '▁모', 284: '▁소', 285: '▁매', 286: '▁몰', 287: '▁내용', 288: '애', 289: '타', 290: '▁만', 291: '▁2', 292: '유', 293: '였', 294: '슨', 295: '▁거', 296: '기가', 297: '▁이렇게', 298: '터', 299: '리는', 300: '▁지금', 301: '디', 302: '▁넘', 303: '들의', 304: '뭔', 305: '않', 306: '▁것', 307: '울', 308: '▁김', 309: '남', 310: '다는', 311: '원', 312: '찮', 313: '▁추', 314: '공', 315: '▁시간', 316: '적으로', 317: '▁사', 318: '▁정', 319: '▁비', 320: '답', 321: '증', 322: '▁허', 323: '발', 324: '▁한국', 325: '당', 326: '기도', 327: '▁3', 328: '린', 329: '노', 330: '았다', 331: '뻔', 332: '▁같', 333: '이나', 334: '부터', 335: '난', 336: '▁죽', 337: '추', 338: '▁이해', 339: '▁만들', 340: '▁일', 341: '▁극', 342: '▁감독', 343: '▁싶', 344: 'ᅳᅳ', 345: '▁처음', 346: '▁기대', 347: '라는', 348: '▁역시', 349: '되는', 350: '직', 351: '실', 352: '겠다', 353: '급', 354: '▁기억', 355: '간', 356: '▁돈', 357: '천', 358: '군', 359: '▁부', 360: '▁예', 361: '▁도', 362: '체', 363: '번', 364: '▁많이', 365: '기는', 366: '▁마', 367: '움', 368: '든', 369: '리가', 370: '겨', 371: '조', 372: '었다', 373: '합니다', 374: '1', 375: '▁화', 376: '▁우', 377: '배우', 378: '날', 379: '▁불', 380: '▁성', 381: '프', 382: '했다', 383: '▁또', 384: '이라', 385: '런', 386: '▁잔', 387: '▁그리고', 388: '▁후', 389: '▁있', 390: '▁두', 391: '▁만든', 392: '▁아름', 393: '된', 394: '메', 395: '▁그런', 396: '▁세', 397: '▁결', 398: '▁장', 399: '평', 400: '류', 401: '맨', 402: '▁O', 403: '▁요', 404: '짱', 405: '▁보다', 406: '들은', 407: '▁강', 408: '트', 409: '딩', 410: '▁막', 411: '▁와', 412: '금', 413: '민', 414: 'ᄒᄒ', 415: '란', 416: '▁주인공', 417: '▁꼭', 418: ')', 419: '판', 420: '씨', 421: '사람', 422: 'ᅲ', 423: '되', 424: '▁상', 425: '망', 426: '▁귀', 427: '설', 428: '▁로', 429: '리고', 430: '역', 431: '먹', 432: '▁같은', 433: '▁아닌', 434: '가는', 435: '▁슬', 436: '속', 437: '식', 438: '▁울', 439: '코', 440: '▁되', 441: '▁유치', 442: '관', 443: '현', 444: '한다', 445: '절', 446: '라마', 447: '나는', 448: '▁박', 449: '굿', 450: '르', 451: \"'\", 452: '▁살', 453: '▁차', 454: '예', 455: '▁모르', 456: '▁망', 457: '없이', 458: '▁에', 459: '각', 460: '▁졸', 461: '▁소재', 462: '▁줄', 463: '▁가장', 464: '다고', 465: '밋', 466: '훈', 467: '반', 468: '바', 469: '지도', 470: '만에', 471: '▁인', 472: '피', 473: '▁우리', 474: '▁때', 475: '다가', 476: '경', 477: '▁다른', 478: '명', 479: '▁멋', 480: '2', 481: '시간', 482: '글', 483: '▁보면', 484: '티', 485: '였다', 486: '▁바', 487: '형', 488: '▁발', 489: '▁드', 490: '호', 491: '▁코', 492: '친', 493: '라도', 494: '▁아이', 495: '살', 496: '▁구', 497: '잔', 498: '좀', 499: '테', 500: '볼', 501: '▁노', 502: '주는', 503: '하면', 504: '▁마음', 505: '▁장면', 506: '럽', 507: '▁동', 508: '최', 509: '느', 510: '화를', 511: '▁초', 512: '져', 513: '▁심', 514: '▁가슴', 515: '림', 516: '▁그래', 517: '쳐', 518: '위', 519: '인지', 520: '색', 521: '▁아무', 522: '화가', 523: '▁솔', 524: '하지만', 525: '두', 526: '▁나오', 527: '론', 528: '쉬', 529: '▁역', 530: '했는데', 531: '적이', 532: '▁억', 533: '방', 534: '▁대한', 535: '하기', 536: '▁포', 537: '쓰', 538: '파', 539: '빠', 540: '딱', 541: '죠', 542: '후', 543: '▁일본', 544: '못', 545: '기를', 546: '▁리', 547: '기에', 548: '▁이상', 549: '팅', 550: '쁘', 551: '▁인생', 552: '있다', 553: '▁의', 554: '▁설', 555: '▁걸', 556: '매', 557: '막', 558: '따', 559: '회', 560: '보는', 561: '행', 562: '▁음악', 563: '▁배', 564: '알', 565: '이고', 566: '억', 567: '▁많은', 568: '극', 569: '악', 570: '엉', 571: '차', 572: '▁실', 573: \"▁'\", 574: '에는', 575: '▁모든', 576: '▁보기', 577: '▁한번', 578: '▁사람', 579: '(', 580: '▁최악', 581: '▁이야기', 582: '에게', 583: '▁듯', 584: '쾌', 585: '▁만들어', 586: '크', 587: '잘', 588: '▁간', 589: '▁현실', 590: '만한', 591: '▁점', 592: '정도', 593: '녀', 594: '처럼', 595: '▁속', 596: '웃', 597: '희', 598: '온', 599: '즘', 600: '픈', 601: '등', 602: '▁하고', 603: '근', 604: '▁수준', 605: '▁욕', 606: '이지', 607: '려고', 608: '▁않', 609: '▁존', 610: '3', 611: '▁몇', 612: '▁하지만', 613: '▁있다', 614: '렸', 615: '▁건', 616: 'ᄏᄏᄏᄏ', 617: '왔', 618: '▁서', 619: '▁전혀', 620: '쉽', 621: '▁캐릭', 622: '스터', 623: '▁이제', 624: '태', 625: '끼', 626: '링', 627: '받', 628: '▁보지', 629: '국', 630: '웠', 631: '_', 632: '다운', 633: '했던', 634: '▁찍', 635: '씬', 636: '뿐', 637: '▁아주', 638: '▁여자', 639: '품', 640: '껴', 641: '▁근', 642: '문', 643: '집', 644: '머', 645: '▁같다', 646: '▁코미디', 647: '케', 648: '나라', 649: '강', 650: '▁맞', 651: '▁낮', 652: '▁실망', 653: '는지', 654: '달', 655: '▁인간', 656: '▁갈', 657: '중에', 658: '놓', 659: '점을', 660: '▁열', 661: '감독', 662: '카', 663: 'ᄒ', 664: '겁', 665: '▁나온', 666: '새', 667: '▁생', 668: '▁개봉', 669: '▁먹', 670: '▁당', 671: '딴', 672: '들도', 673: '싫', 674: '었던', 675: '▁나오는', 676: '섭', 677: '▁과', 678: '▁최악의', 679: '▁모두', 680: '놈', 681: 'ᅮᅮ', 682: '▁답', 683: '즈', 684: '▁영화의', 685: '탄', 686: '▁버', 687: '▁어떻게', 688: '▁긴장', 689: '▁분', 690: '때문에', 691: '▁내내', 692: '수록', 693: '스럽', 694: '른', 695: '▁전개', 696: '대로', 697: '불', 698: '▁흥미', 699: '산', 700: '▁손', 701: '잡', 702: '▁표현', 703: '키', 704: '▁않고', 705: '성이', 706: '▁정도', 707: '킬', 708: '수가', 709: '▁머', 710: '▁순', 711: '별', 712: '▁단', 713: '▁호', 714: '들을', 715: '▁악', 716: '전에', 717: '▁아니라', 718: '▁4', 719: '▁즐', 720: '▁적', 721: '죽', 722: '에도', 723: '처', 724: '스토', 725: '▁계속', 726: 'ᅳ', 727: '▁야', 728: '줘', 729: '력이', 730: '올', 731: '▁필요', 732: '▁파', 733: '▁제목', 734: '지고', 735: '▁치', 736: '▁준', 737: '▁7', 738: '▁영화에', 739: '배', 740: '학', 741: '이라는', 742: '짝', 743: '언', 744: '주고', 745: '▁최', 746: '이는', 747: '맞', 748: '접', 749: '▁있을', 750: '▁않은', 751: '브', 752: '▁외', 753: '계', 754: '스트', 755: '▁질', 756: '타임', 757: '락', 758: '▁잊', 759: '얼', 760: '▁9', 761: '▁조금', 762: '▁어디', 763: '▁내용이', 764: '▁피', 765: '▁아니다', 766: '▁그렇', 767: '석', 768: '이가', 769: '참', 770: '순', 771: '만큼', 772: '잇', 773: '는다', 774: '▁8', 775: '▁선', 776: '봣', 777: '▁제대로', 778: '▁자체', 779: '하면서', 780: '▁없어', 781: '승', 782: '특', 783: '넘', 784: '4', 785: '▁만드는', 786: '립', 787: '▁편', 788: '능', 789: '▁남자', 790: '▁5', 791: '▁않는', 792: '▁오랜', 793: '▁게', 794: '▁캐', 795: '이라고', 796: '▁들', 797: '▁네', 798: '며', 799: '엇', 800: '치는', 801: '됨', 802: '이션', 803: '▁부족', 804: '리오', 805: '첨', 806: '결', 807: '김', 808: '된다', 809: '청', 810: '르는', 811: '▁-', 812: '▁천', 813: '▁싸', 814: '왜', 815: '범', 816: '▁노래', 817: '▁0', 818: '▁작', 819: '돌', 820: '▁나는', 821: '▁많', 822: '▁개인', 823: '습', 824: '써', 825: '투', 826: '▁알바', 827: '▁보여', 828: '인이', 829: '뭘', 830: '양', 831: '▁감독이', 832: '오는', 833: '났', 834: '빙', 835: '초', 836: '▁제작', 837: '환', 838: '병', 839: '\"\"', 840: '▁때문에', 841: '격', 842: '▁엄청', 843: '돋', 844: '걍', 845: '마다', 846: '▁잠', 847: '▁시리즈', 848: '▁나와', 849: '갈', 850: '▁살아', 851: '▁절대', 852: '▁가족', 853: '▁따', 854: '▁되는', 855: '▁놀', 856: '▁교', 857: '종', 858: '▁주는', 859: '꺼', 860: '▁삼', 861: '완', 862: '슬', 863: '▁될', 864: '▁시간이', 865: '아니', 866: '창', 867: '룡', 868: '정이', 869: '밖에', 870: '허', 871: '렇게', 872: '이란', 873: '▁입', 874: 'b', 875: '\"', 876: '▁형', 877: '끔', 878: '▁의미', 879: '짐', 880: '▁따뜻', 881: '담', 882: '▁아직도', 883: '▁느끼', 884: '리지', 885: '적이고', 886: '▁티', 887: '화의', 888: '옛', 889: '낚', 890: '물이', 891: '맘', 892: '혀', 893: '필', 894: '장에서', 895: '▁엔', 896: '▁베', 897: '▁위', 898: '▁각', 899: '▁현', 900: '▁싶다', 901: '다면', 902: '찌', 903: '엽', 904: '끝', 905: '▁날', 906: '자가', 907: '▁특히', 908: '믹', 909: '감이', 910: '▁무엇', 911: '하는데', 912: '▁담', 913: '곤', 914: '외', 915: '리를', 916: '지가', 917: '♥', 918: '▁감독의', 919: '▁정신', 920: '▁친구', 921: '돈', 922: '▁시작', 923: '꼬', 924: '어도', 925: '해야', 926: '▁달', 927: '쩌', 928: '▁있어', 929: '▁삶', 930: '▁빠', 931: '▁C', 932: '▁황', 933: '년대', 934: '퍼', 935: '▁찾아', 936: '덕', 937: '▁\"\"', 938: 'v', 939: '▁사람이', 940: '▁언제', 941: '▁떨어', 942: '통', 943: '낫', 944: '튼', 945: '▁시청', 946: '10', 947: '록', 948: '왠', 949: '술', 950: '▁뒤', 951: '찬', 952: '준다', 953: '▁멋진', 954: '어야', 955: '텐', 956: 'G', 957: '▁B', 958: '▁있었', 959: '들어', 960: '▁부분', 961: '줌', 962: '▁독', 963: '▁하지', 964: '▁믿', 965: '▁된', 966: '▁들어', 967: '▁빼', 968: '▁초반', 969: '빵', 970: '▁장난', 971: '▁관객', 972: '▁행복', 973: '▁새', 974: '▁힘', 975: '향', 976: '▁메', 977: '▁깨', 978: '드는', 979: '▁표', 980: '▁산', 981: '쌍', 982: '▁완벽', 983: '졌', 984: '치고', 985: '▁이야', 986: '▁용', 987: '▁없이', 988: '▁등', 989: '5', 990: '▁절', 991: '▁궁', 992: '꿀', 993: '▁레', 994: '었습니다', 995: '▁출연', 996: '르고', 997: '똥', 998: '▁생각이', 999: '쩔', 1000: '▁분위', 1001: '▁라', 1002: '▁양', 1003: '▁흐', 1004: '▁안보', 1005: '리에', 1006: '낸', 1007: '▁올', 1008: '▁오늘', 1009: '▁헐', 1010: '▁팬', 1011: '▁어떤', 1012: '효', 1013: '이었다', 1014: '▁글', 1015: '▁스타', 1016: '▁함께', 1017: '^', 1018: '▁약', 1019: '▁데', 1020: '목', 1021: '▁못한', 1022: '▁배경', 1023: '▁지나', 1024: '이지만', 1025: '▁큰', 1026: '▁6', 1027: '+', 1028: '될', 1029: '▁인상', 1030: '▁길', 1031: '동이', 1032: '▁식', 1033: '/', 1034: '되고', 1035: '▁당시', 1036: '교', 1037: '▁높', 1038: '복', 1039: '▁판', 1040: '굳', 1041: '7', 1042: '겠지만', 1043: '▁둘', 1044: '잖', 1045: '▁얼마나', 1046: '▁뿐', 1047: '왕', 1048: '나마', 1049: '▁20', 1050: '꽤', 1051: 'ᅮ', 1052: '대를', 1053: '셨', 1054: '눈', 1055: '꾸', 1056: '▁토', 1057: '▁완', 1058: '▁전쟁', 1059: '맛', 1060: '으나', 1061: '간의', 1062: '▁방', 1063: '▁\"', 1064: '혜', 1065: '련', 1066: '권', 1067: '표', 1068: '▁백', 1069: '▁특', 1070: '▁꿈', 1071: '았던', 1072: '▁주연', 1073: '▁카', 1074: '▁잡', 1075: '랑스', 1076: '자는', 1077: '럼', 1078: '▁힘들', 1079: '랄', 1080: '▁끝나', 1081: '▁복', 1082: '이상', 1083: '겟', 1084: '▁음', 1085: '▁예술', 1086: '젠', 1087: '간에', 1088: '▁타', 1089: '함을', 1090: '지지', 1091: 's', 1092: '▁작가', 1093: '▁주고', 1094: '법', 1095: '▁얘', 1096: '그래', 1097: '뜨', 1098: '수를', 1099: '하며', 1100: '액', 1101: '9', 1102: '광', 1103: '▁결국', 1104: '▁것이', 1105: '께', 1106: '춘', 1107: '빈', 1108: '블', 1109: '▁변', 1110: '렸다', 1111: '▁매우', 1112: '같이', 1113: '▁미국', 1114: '봄', 1115: '누', 1116: '닌', 1117: '▁그렇게', 1118: '▁대사', 1119: '▁암', 1120: '▁디', 1121: '▁집중', 1122: '충', 1123: '햇', 1124: '▁한다', 1125: '▁어느', 1126: '▁엄마', 1127: '▁여러', 1128: '자의', 1129: '▁임', 1130: '틱', 1131: 'd', 1132: '▁있고', 1133: '했을', 1134: '스러운', 1135: '▁같이', 1136: 'g', 1137: '척', 1138: '픽', 1139: '▁니', 1140: '많', 1141: '닥', 1142: '▁떠', 1143: '▁알고', 1144: 'o', 1145: 'D', 1146: '도로', 1147: '낄', 1148: '휴', 1149: '어나', 1150: '약', 1151: '음을', 1152: '▁총', 1153: '*', 1154: '▁빠져', 1155: '멍', 1156: '리의', 1157: '주의', 1158: '점에', 1159: '었을', 1160: '들과', 1161: '▁사실', 1162: '라이', 1163: '정한', 1164: '럴', 1165: '독', 1166: '▁혼', 1167: '웠다', 1168: '거리', 1169: '찍', 1170: '들에게', 1171: '▁물', 1172: '▁터', 1173: '갔', 1174: '함이', 1175: '월', 1176: '레이', 1177: '백', 1178: '▁나올', 1179: '▁탄', 1180: '전이', 1181: '▁너', 1182: '▁위한', 1183: '옴', 1184: '▁숨', 1185: '커', 1186: '▁위해', 1187: '기고', 1188: '랬', 1189: '였습니다', 1190: '▁색', 1191: '시는', 1192: '▁괴', 1193: '8', 1194: '▁풀', 1195: '귀', 1196: '쁜', 1197: '▁흘', 1198: '동을', 1199: '도가', 1200: '▁따라', 1201: '▁몸', 1202: '▁러', 1203: '▁환', 1204: '깔', 1205: '사가', 1206: '족', 1207: '탈', 1208: '화에', 1209: '것이', 1210: '부분', 1211: '▁책', 1212: '닝', 1213: '대한', 1214: '깊', 1215: '봤다', 1216: '먼', 1217: '리스', 1218: '롭', 1219: '플', 1220: '년이', 1221: '동안', 1222: '▁흥', 1223: '보기', 1224: '▁어린', 1225: '지를', 1226: '▁모습', 1227: '린다', 1228: '스러', 1229: '또', 1230: '▁내용은', 1231: '패', 1232: '▁패', 1233: '개가', 1234: '상을', 1235: '▁누가', 1236: '했지만', 1237: '▁얼굴', 1238: '▁대체', 1239: '봉', 1240: '▁읽', 1241: '상이', 1242: '▁않는다', 1243: '슴', 1244: '줬', 1245: '엄', 1246: '땜', 1247: '▁후반', 1248: '▁왕', 1249: '열', 1250: '삼', 1251: '▁경', 1252: '▁병', 1253: '릭', 1254: '▁누구', 1255: '업', 1256: '▁훨씬', 1257: '쯤', 1258: '▁처', 1259: '캐', 1260: '▁여기', 1261: '존', 1262: '셔', 1263: '욕', 1264: '▁보여주', 1265: '굉', 1266: '짓', 1267: '분이', 1268: '가지', 1269: '채', 1270: '장이', 1271: '픔', 1272: '00', 1273: '것을', 1274: '▁오래', 1275: '▁군', 1276: '▁이유', 1277: '▁히', 1278: '▁비교', 1279: '▁청', 1280: '▁케', 1281: '▁똑', 1282: '닐', 1283: '짜리', 1284: '럭', 1285: '갑', 1286: '▁키', 1287: 'y', 1288: '▁죄', 1289: '▁없었다', 1290: '▁전체', 1291: '성을', 1292: '젤', 1293: '▁은', 1294: '▁충격', 1295: '가가', 1296: '▁맛', 1297: '클', 1298: '▁그래서', 1299: '혼', 1300: '▁중간', 1301: '윤', 1302: '▁하다', 1303: '▁돌아', 1304: 'T', 1305: '▁번', 1306: '대의', 1307: '▁단순', 1308: '▁감사', 1309: '신이', 1310: 'ᄍᄍ', 1311: '▁문', 1312: '▁밖에', 1313: '▁것도', 1314: '싸', 1315: '랐', 1316: '▁사람들이', 1317: '▁비디오', 1318: '▁태', 1319: '겹', 1320: '▁다큐', 1321: '▁통', 1322: '▁보여주는', 1323: '>', 1324: '앗', 1325: '▁딸', 1326: '▁사람들', 1327: '끄', 1328: '듬', 1329: 'e', 1330: '▁다음', 1331: '▁것을', 1332: '댓', 1333: '람', 1334: '으면서', 1335: '▁시즌', 1336: '▁깊', 1337: '베', 1338: '펑', 1339: '흠', 1340: '낭', 1341: '▁알게', 1342: '깐', 1343: '멋', 1344: '▁상당', 1345: '▁멜', 1346: '씩', 1347: '▁구성', 1348: '합', 1349: '곡', 1350: '▁S', 1351: '▁첫', 1352: '겐', 1353: '▁집', 1354: '▁섹', 1355: '인의', 1356: '돼', 1357: '▁송', 1358: 'S', 1359: '폭', 1360: '견', 1361: '▁돌', 1362: '이크', 1363: '▁이미', 1364: '겼', 1365: '▁존재', 1366: '지로', 1367: '▁30', 1368: '멘', 1369: '▁취', 1370: '륜', 1371: '▁이름', 1372: '적이다', 1373: '▁훌륭', 1374: '▁풍', 1375: '대가', 1376: '었고', 1377: '▁생각을', 1378: '스가', 1379: '▁인물', 1380: '▁바로', 1381: '▁쓸', 1382: '놀', 1383: '풋', 1384: '▁않다', 1385: '침', 1386: '▁b', 1387: '랍', 1388: '▁잘못', 1389: '▁민', 1390: '▁않았', 1391: '▁대해', 1392: '기의', 1393: '▁중국', 1394: '혹', 1395: '몰', 1396: '▁다운', 1397: '▁틀', 1398: '팬', 1399: '진다', 1400: '끈', 1401: 't', 1402: '▁온', 1403: '뻐', 1404: '▁그대로', 1405: '▁약간', 1406: '▁정도로', 1407: '리와', 1408: '▁크', 1409: '황', 1410: '▁관', 1411: '▁거의', 1412: '▁소설', 1413: '다시', 1414: '떨', 1415: '▁c', 1416: '▁않을', 1417: '탕', 1418: '▁철', 1419: '▁높은', 1420: '몽', 1421: '▁s', 1422: '리다', 1423: '▁100', 1424: '▁언', 1425: '6', 1426: '하던', 1427: '보다는', 1428: '▁그리', 1429: '▁자연', 1430: 'F', 1431: 'ᄒᄒᄒ', 1432: '땐', 1433: '▁흔', 1434: '철', 1435: '▁자기', 1436: '로운', 1437: '칠', 1438: '밥', 1439: '아이', 1440: '기로', 1441: '▁있지만', 1442: '욱', 1443: '상에', 1444: '▁종', 1445: '숙', 1446: '놔', 1447: '▁했다', 1448: '▁윤', 1449: '간다', 1450: '에서도', 1451: '▁해서', 1452: '어가', 1453: '어진', 1454: '서는', 1455: '쓸', 1456: '▁앞으로', 1457: '▁문제', 1458: '려는', 1459: '▁함', 1460: '스타', 1461: '▁되어', 1462: '에서는', 1463: '빨', 1464: '▁장면이', 1465: '수도', 1466: '만이', 1467: '▁충', 1468: '자를', 1469: '▁밑', 1470: '▁맨', 1471: '츠', 1472: '▁세계', 1473: '▁예상', 1474: '▁(', 1475: '▁낮은', 1476: '▁착', 1477: '규', 1478: '%', 1479: '꼈', 1480: '▁더욱', 1481: '▁광', 1482: '▁o', 1483: '됐', 1484: '▁갑자기', 1485: '▁홍', 1486: '▁90', 1487: '▁목소', 1488: '▁끌', 1489: '대는', 1490: '▁없을', 1491: '▁훌륭한', 1492: '었지만', 1493: '▁긴', 1494: '낮', 1495: '정을', 1496: '▁새로운', 1497: '▁앞', 1498: '▁누', 1499: '▁채', 1500: '▁빨리', 1501: '되어', 1502: '옥', 1503: '도는', 1504: '▁믿고', 1505: '꼽', 1506: '▁클', 1507: '물을', 1508: '거나', 1509: '대에', 1510: '▁않아', 1511: '▁못하는', 1512: '▁휴', 1513: '▁해야', 1514: '덜', 1515: '▁불편', 1516: '깜', 1517: '낀', 1518: '사를', 1519: '르게', 1520: '미디', 1521: '촌', 1522: '▁방송', 1523: '▁뛰', 1524: '▁있어서', 1525: '▁아직', 1526: '▁밀', 1527: '팔', 1528: '가고', 1529: '▁커', 1530: '학교', 1531: '▁듣', 1532: '▁빛', 1533: '이에', 1534: '▁기다', 1535: '감을', 1536: '밀', 1537: '▁저는', 1538: '있었다', 1539: '센', 1540: '▁비해', 1541: '학생', 1542: '엿', 1543: '▁싶어', 1544: '▁대단한', 1545: '졌다', 1546: 'f', 1547: '▁이번', 1548: ':', 1549: '▁t', 1550: '▁이어', 1551: '▁놓', 1552: '▁꺼', 1553: '▁그러나', 1554: '했고', 1555: '▁항상', 1556: '▁가지고', 1557: '▁나의', 1558: '뒤', 1559: '▁봄', 1560: '▁있는데', 1561: '일이', 1562: '▁갑', 1563: '0', 1564: '콤', 1565: '▁평가', 1566: '=', 1567: '이트', 1568: 'ᅲᅲᅲ', 1569: '릿', 1570: '쪽', 1571: '벽', 1572: 'h', 1573: '▁빌', 1574: '념', 1575: '▁가는', 1576: '▁사람은', 1577: '▁투', 1578: '▁관람', 1579: '째', 1580: '▁있었다', 1581: '▁M', 1582: '▁충분히', 1583: '▁TV', 1584: '닿', 1585: '▁떠나', 1586: '▁트', 1587: '에선', 1588: '뜬', 1589: '▁한편', 1590: '명이', 1591: 'ᄏᄏᄏᄏᄏ', 1592: '▁빈', 1593: '▁것은', 1594: '나와', 1595: '됬', 1596: '꼴', 1597: '▁있다는', 1598: '▁계', 1599: '▁점점', 1600: '높', 1601: '▁범', 1602: '▁합니다', 1603: '만의', 1604: '취', 1605: '▁만족', 1606: '하다고', 1607: '▁낭', 1608: '암', 1609: '▁시절', 1610: '▁자극', 1611: '내는', 1612: '조차', 1613: '지게', 1614: '졸', 1615: '▁수가', 1616: '▁헤', 1617: '히려', 1618: '다른', 1619: '▁알아', 1620: 'c', 1621: '▁늘', 1622: 'a', 1623: '▁홍콩', 1624: '괴', 1625: '▁된다', 1626: '▁혹', 1627: '▁맥', 1628: '춤', 1629: '묘', 1630: '▁하게', 1631: '▁섬', 1632: '▁m', 1633: '내가', 1634: '수는', 1635: '▁창', 1636: '용으로', 1637: '▁선택', 1638: '깨', 1639: '징', 1640: '▁사이', 1641: '▁순간', 1642: 'st', 1643: 'n', 1644: '력을', 1645: '이어', 1646: '▁사회', 1647: '책', 1648: '껏', 1649: '렇', 1650: '나가', 1651: '되지', 1652: '▁묻', 1653: '▁프랑스', 1654: '도록', 1655: '▁급', 1656: '했습니다', 1657: '▁먼', 1658: '▁엄청난', 1659: '▁씨', 1660: '▁편집', 1661: '▁감독은', 1662: '거운', 1663: '웅', 1664: '지의', 1665: '셈', 1666: '▁과거', 1667: '벌', 1668: '▁쓴', 1669: '▁필', 1670: '흥', 1671: '스의', 1672: '한다는', 1673: '▁남아', 1674: '볍', 1675: '▁뮤', 1676: '리게', 1677: '빼', 1678: '▁범죄', 1679: '체가', 1680: '료', 1681: 'm', 1682: '익', 1683: '▁능', 1684: '▁사람들은', 1685: 'ᄃᄃ', 1686: '▁든', 1687: '우는', 1688: '났다', 1689: '▁살인', 1690: '▁80', 1691: '쿠', 1692: '▁향', 1693: '봅', 1694: '하여', 1695: '▁물론', 1696: '▁권', 1697: '들에', 1698: '큐', 1699: '▁넘어', 1700: '퀄', 1701: '빛', 1702: '해진', 1703: '▁힘든', 1704: '▁견', 1705: '쳤', 1706: '뷰', 1707: '▁결혼', 1708: '▁나이', 1709: '▁다르', 1710: '방송', 1711: '득', 1712: '▁벗', 1713: '협', 1714: '▁전설', 1715: '▁브', 1716: '▁넣', 1717: '<', 1718: '▁최근', 1719: '였던', 1720: '▁저질', 1721: '홍', 1722: '▁사라', 1723: '▁이후', 1724: '떡', 1725: '▁흑', 1726: '▁g', 1727: '널', 1728: '틀', 1729: '골', 1730: '틴', 1731: '수한', 1732: 'C', 1733: '▁루', 1734: '험', 1735: '▁그림', 1736: '페', 1737: '▁테', 1738: '▁희망', 1739: '렌', 1740: '▁소리', 1741: '상의', 1742: '당한', 1743: '스를', 1744: '률', 1745: '▁영웅', 1746: '내고', 1747: '사회', 1748: '가를', 1749: '실을', 1750: '▁이야기를', 1751: '.5', 1752: '▁끼', 1753: '년에', 1754: '▁페', 1755: '▁독립', 1756: '▁학교', 1757: '▁뛰어', 1758: '▁덕', 1759: '시리즈', 1760: '원이', 1761: '꽃', 1762: '▁빨', 1763: '▁친', 1764: '▁놀라', 1765: '변', 1766: '▁하면', 1767: '▁나라', 1768: '지금', 1769: '▁것이다', 1770: '▁기대하고', 1771: '▁인정', 1772: '드가', 1773: '▁잃', 1774: '량', 1775: '▁비슷한', 1776: '▁나쁜', 1777: '상은', 1778: '주가', 1779: '장인', 1780: '령', 1781: '송', 1782: '▁또한', 1783: '십', 1784: '♡', 1785: '▁아이들이', 1786: '▁처음으로', 1787: '풍', 1788: '니는', 1789: '▁d', 1790: '▁왔', 1791: '머니', 1792: '자들이', 1793: '력에', 1794: 'k', 1795: '리로', 1796: 'V', 1797: '활', 1798: '▁운', 1799: '▁목', 1800: '즌', 1801: '▁찾', 1802: '닫', 1803: '아야', 1804: '인을', 1805: '랜', 1806: '스는', 1807: '식이', 1808: '▁국', 1809: '웬', 1810: '▁바람', 1811: '놨', 1812: '▁진행', 1813: '힌', 1814: 'x', 1815: 'l', 1816: '착', 1817: '쎄', 1818: '▁멀', 1819: '도를', 1820: '▁압', 1821: '씁', 1822: '사는', 1823: '앞', 1824: 'ood', 1825: '▁프로', 1826: '▁팔', 1827: '▁머리', 1828: '▁중에', 1829: '▁보이는', 1830: '이를', 1831: '▁부모', 1832: '힘', 1833: '폐', 1834: '하자', 1835: '▁촬영', 1836: '늙', 1837: '▁많아', 1838: 'ᄉᄇ', 1839: '쇼', 1840: '▁희', 1841: '▁돌려', 1842: '어로', 1843: '▁우울', 1844: '하다는', 1845: '손', 1846: 'ᄋ', 1847: '▁노출', 1848: '▁않았다', 1849: '▁말하고', 1850: '롱', 1851: '▁통해', 1852: '말을', 1853: '▁묘', 1854: '찡', 1855: '짱짱', 1856: '▁금', 1857: '인은', 1858: '자들', 1859: '분에', 1860: '▁만큼', 1861: '▁마이', 1862: '쩐', 1863: '▁모습이', 1864: '랐다', 1865: '▁바라', 1866: '▁면', 1867: '어난', 1868: '쁨', 1869: '챙', 1870: '번째', 1871: '쥬', 1872: '꼭', 1873: '▁가득', 1874: '스런', 1875: '▁지난', 1876: '▁상황', 1877: '▁D', 1878: '▁그의', 1879: '▁짐', 1880: '▁이래', 1881: '▁직', 1882: '▁높아', 1883: '▁누군', 1884: '▁만들었다', 1885: '씨가', 1886: '것은', 1887: '뚱', 1888: '▁역사', 1889: '로는', 1890: '쏘', 1891: '뭉', 1892: '▁분명', 1893: '▁얼', 1894: '▁회', 1895: '▁생각한다', 1896: '▁201', 1897: '▁실제', 1898: '한번', 1899: '▁못하고', 1900: '이며', 1901: '▁워', 1902: '썩', 1903: '▁만나', 1904: '북', 1905: '▁마치', 1906: '▁전달', 1907: '▁먼저', 1908: '▁삶을', 1909: '▁알려', 1910: '찾', 1911: '흐', 1912: '▁노력', 1913: '▁어렵', 1914: '▁샤', 1915: '정은', 1916: '소가', 1917: '▁아버', 1918: '▁블', 1919: '▁미래', 1920: '아버', 1921: '▁핵', 1922: '▁죽음', 1923: '기와', 1924: '잤', 1925: '앙', 1926: '▁퍼', 1927: '했는지', 1928: '▁찬', 1929: '▁성장', 1930: '▁골', 1931: '이의', 1932: '▁서로', 1933: '▁현재', 1934: '탁', 1935: '▁엄', 1936: '▁뒷', 1937: '▁깊은', 1938: '▁:', 1939: '▁자신의', 1940: '▁짓', 1941: '택', 1942: '썼', 1943: '굴', 1944: '어버', 1945: '▁확실히', 1946: '▁합', 1947: '성은', 1948: '▁비슷', 1949: '심을', 1950: '▁했던', 1951: '▁있었던', 1952: '끌', 1953: '터가', 1954: '풀', 1955: '헌', 1956: '▁15', 1957: '▁케이블', 1958: '.\"', 1959: '율', 1960: '▁했지만', 1961: '▁모습을', 1962: '응', 1963: '레스', 1964: '짠', 1965: '▁설명', 1966: '빡', 1967: '콘', 1968: '류의', 1969: '쟁', 1970: '가족', 1971: '▁내용을', 1972: '뜩', 1973: '둥', 1974: '씀', 1975: '지컬', 1976: '리아', 1977: '얘', 1978: '▁사는', 1979: '이드', 1980: '▁나를', 1981: '▁어린이', 1982: '▁성공', 1983: '헤', 1984: '제가', 1985: '시키', 1986: '▁승', 1987: '▁시도', 1988: '사의', 1989: '킨', 1990: '객', 1991: '랫', 1992: '▁이하', 1993: '시켜', 1994: '▁훨', 1995: '하려', 1996: '퉁', 1997: '자들의', 1998: '줍', 1999: '▁끊', 2000: '엠', 2001: '@', 2002: '▁행', 2003: '둘', 2004: '▁응', 2005: '▁카메라', 2006: '▁여성', 2007: '▁등장', 2008: '으며', 2009: '▁사람을', 2010: '친구', 2011: '하려는', 2012: '솔', 2013: '.2', 2014: '▁행동', 2015: '전을', 2016: '리기', 2017: '▁A', 2018: '뜻', 2019: '▁진정', 2020: '▁처음이다', 2021: '킹', 2022: '비가', 2023: '▁여전히', 2024: '▁필요한', 2025: '▁꾸', 2026: '헛', 2027: '겉', 2028: '렉', 2029: '▁아니면', 2030: '▁실패', 2031: '맙', 2032: '니아', 2033: '▁짧', 2034: '▁확', 2035: '기지', 2036: '덤', 2037: '터리', 2038: 'i', 2039: '▁엑', 2040: '▁있다면', 2041: '▁크리스', 2042: '총', 2043: '▁기본', 2044: '덩', 2045: '▁프로그램', 2046: '니가', 2047: '품을', 2048: '넣', 2049: 'z', 2050: '▁법', 2051: '프로', 2052: '▁정치', 2053: '했다는', 2054: '위해', 2055: '▁밤', 2056: '균', 2057: 'ᄋᄋ', 2058: '수의', 2059: '▁전에', 2060: '▁블랙', 2061: '딸', 2062: '신을', 2063: '▁까지', 2064: '▁심리', 2065: '▁논', 2066: '▁다가', 2067: '자기', 2068: '▁벌', 2069: '▁가진', 2070: '▁그들의', 2071: '▁아마', 2072: '▁던', 2073: '▁예전', 2074: '닮', 2075: '이스', 2076: '▁마라', 2077: '많은', 2078: '▁아프', 2079: '▁갖', 2080: '▁폭', 2081: '▁12', 2082: '▁끝난', 2083: '턴', 2084: '성에', 2085: '▁올라', 2086: '스럽게', 2087: '룬', 2088: '▁돼', 2089: '장한', 2090: '켜', 2091: '▁연예', 2092: '더라도', 2093: '벼', 2094: '맹', 2095: '▁다큐멘', 2096: '쫌', 2097: '혁', 2098: '▁플', 2099: 'p', 2100: '▁게임', 2101: '▁나서', 2102: 'er', 2103: '갓', 2104: '▁하루', 2105: '▁분노', 2106: '한다면', 2107: '▁하면서', 2108: '혐', 2109: '세계', 2110: '도에', 2111: '▁종교', 2112: '잉', 2113: '네이', 2114: '▁슈퍼', 2115: '▁결론', 2116: '▁되고', 2117: '도의', 2118: '▁자유', 2119: '▁십', 2120: '▁없다는', 2121: '팍', 2122: '▁힐', 2123: '틈', 2124: '▁만들어진', 2125: '움을', 2126: '에서의', 2127: '▁붙', 2128: '떄', 2129: '영상', 2130: '장을', 2131: '숨', 2132: '장에', 2133: '사에', 2134: '▁재난', 2135: '▁톰', 2136: '▁의심', 2137: '콩', 2138: '제를', 2139: '▁학', 2140: '▁중요한', 2141: '쓴', 2142: '▁G', 2143: '슈', 2144: '왓', 2145: '컬', 2146: '▁칼', 2147: '▁희생', 2148: '▁스트', 2149: '껄', 2150: '리나', 2151: '나이', 2152: '▁되었다', 2153: '자로', 2154: '▁어려', 2155: '염', 2156: '▁포기', 2157: '끄러', 2158: '▁동물', 2159: '로서', 2160: '꾼', 2161: '▁사기', 2162: '튀', 2163: '롯', 2164: 'ᅲᅲᅲᅲ', 2165: '▁채널', 2166: '댄', 2167: '이자', 2168: '겼다', 2169: '▁받', 2170: '늘', 2171: '▁이유는', 2172: '▁w', 2173: '▁있지', 2174: '▁크게', 2175: '냄', 2176: '관이', 2177: '▁우리가', 2178: '▁가치', 2179: '즈는', 2180: '▁메시', 2181: '식으로', 2182: '▁접', 2183: '▁I', 2184: '쩜', 2185: '▁아침', 2186: '▁되지', 2187: '싱', 2188: '▁수도', 2189: '▁현대', 2190: '섞', 2191: '시킨', 2192: '▁전투', 2193: '▁레이', 2194: '▁말하는', 2195: '▁퇴', 2196: '▁쉽게', 2197: '▁두고', 2198: '▁보이', 2199: '▁격', 2200: '▁없지만', 2201: '▁녹', 2202: '▁어제', 2203: '쵝', 2204: '▁나에게', 2205: '▁침', 2206: '▁일부', 2207: '드라', 2208: 'w', 2209: 'M', 2210: '꿔', 2211: '판이', 2212: '되었', 2213: '▁사람의', 2214: '▁보아', 2215: '첩', 2216: '안에', 2217: '자와', 2218: '▁전기', 2219: '뇌', 2220: '▁무시', 2221: '텔', 2222: '냈', 2223: '▁잇', 2224: '으로서', 2225: '▁컨', 2226: '중한', 2227: '▁라이', 2228: '시에', 2229: '▁비극', 2230: '▁징', 2231: '&', 2232: '리우드', 2233: '▁70', 2234: '▁외국', 2235: '▁나가', 2236: 'r', 2237: '비로', 2238: '▁거짓', 2239: '▁젊은', 2240: '명의', 2241: '▁만들고', 2242: '▁있게', 2243: '펐', 2244: '▁하기', 2245: '과는', 2246: '디오', 2247: '▁소장', 2248: '렁', 2249: '드의', 2250: '하기도', 2251: 'j', 2252: '▁뇌', 2253: '녕', 2254: '전쟁', 2255: '▁마무리', 2256: '갔다', 2257: '밋밋', 2258: '▁말을', 2259: '하라', 2260: '신의', 2261: '찝찝', 2262: '▁그린', 2263: '▁그녀', 2264: '땅', 2265: '전은', 2266: '뱀', 2267: '▁스크', 2268: '▁나은', 2269: '이기', 2270: '▁쇼', 2271: '▁다시한번', 2272: '뚝', 2273: '▁지구', 2274: '▁시간을', 2275: '▁라고', 2276: '▁디즈니', 2277: '데이', 2278: '▁않게', 2279: '20', 2280: '큰', 2281: '일본', 2282: '▁못할', 2283: '▁a', 2284: '▁관계', 2285: '정에', 2286: '두고', 2287: '▁쉬', 2288: '였지만', 2289: '푹', 2290: '▁불구하고', 2291: '뿔', 2292: '세가', 2293: '우리', 2294: '곳', 2295: '▁1,', 2296: '컷', 2297: '자인', 2298: '꽝', 2299: '했으나', 2300: '팩', 2301: '한다고', 2302: '▁역할', 2303: '▁받아', 2304: '▁흡', 2305: '푸', 2306: '갠', 2307: '렷', 2308: '셉', 2309: '르가', 2310: '한국', 2311: '흑', 2312: '▁탈', 2313: '라가', 2314: '▁못해', 2315: '▁폭력', 2316: '몇', 2317: '쩝', 2318: '롭게', 2319: '▁농', 2320: '▁연결', 2321: '엘', 2322: '실이', 2323: ']', 2324: '이로', 2325: '믿', 2326: '사와', 2327: '옹', 2328: '▁40', 2329: '▁쌍', 2330: '우고', 2331: '▁하이', 2332: 'E', 2333: '▁좌', 2334: '폰', 2335: '▁익', 2336: '▁월', 2337: '▁하던', 2338: '▁닥', 2339: '하길', 2340: '▁대표', 2341: '▁살고', 2342: '//', 2343: '▁어려운', 2344: '상과', 2345: '▁바뀌', 2346: '▁남자가', 2347: '시키는', 2348: '▁지금은', 2349: '벨', 2350: '죄', 2351: '▁다이', 2352: '▁연속', 2353: '▁못했다', 2354: '▁있습니다', 2355: '▁많다', 2356: '▁유명', 2357: '나지', 2358: '▁자신', 2359: '리며', 2360: '▁슈', 2361: '▁남편', 2362: '맥', 2363: '▁일어', 2364: '▁경찰', 2365: '라스', 2366: '신은', 2367: '힐', 2368: '▁올해', 2369: '과의', 2370: '▁아직까지', 2371: '▁출', 2372: '전의', 2373: '제로', 2374: '관계', 2375: '진이', 2376: '▁아들', 2377: '▁홍보', 2378: '▁우주', 2379: '▁소녀', 2380: '▁광고', 2381: '▁싱', 2382: 'ou', 2383: '만은', 2384: '씹', 2385: 'ᄏᄏᄏᄏᄏᄏ', 2386: '▁일반', 2387: '찰', 2388: '▁충분', 2389: '넌', 2390: '▁떨어진', 2391: '▁국민', 2392: '화는', 2393: 'or', 2394: '쳤다', 2395: '▁냉', 2396: '▁신경', 2397: '명을', 2398: '▁단지', 2399: '▁19', 2400: '▁전반', 2401: '▁겨', 2402: '▁어머니', 2403: '딧', 2404: '▁니콜', 2405: '▁상업', 2406: '▁뽑', 2407: '나다', 2408: '▁벌써', 2409: '렬', 2410: '장의', 2411: '▁가지', 2412: '▁집에서', 2413: '▁스파', 2414: 'X', 2415: '깎', 2416: '▁지켜', 2417: '▁푸', 2418: '값', 2419: '▁않지만', 2420: '▁높다', 2421: '와는', 2422: '▁받았', 2423: '받고', 2424: '면을', 2425: '▁시각', 2426: '섯', 2427: '궁', 2428: '▁인도', 2429: 'ing', 2430: '▁폴', 2431: '▁뜻', 2432: '▁가져', 2433: '딘', 2434: '떼', 2435: '▁흉', 2436: '벤', 2437: '됩니다', 2438: '계의', 2439: '라인', 2440: '▁주변', 2441: '에만', 2442: '검', 2443: '▁속에', 2444: '▁생각하고', 2445: '아니라', 2446: '톱', 2447: '▁기독교', 2448: 'BS', 2449: '략', 2450: '▁말해', 2451: '키는', 2452: '상으로', 2453: '납', 2454: '▁체', 2455: '▁유명한', 2456: '▁성인', 2457: '▁국내', 2458: '뽕', 2459: '▁받을', 2460: '즐', 2461: '듣', 2462: '▁전문가', 2463: '▁생각하는', 2464: '절한', 2465: '호가', 2466: '▁게이', 2467: '임을', 2468: '▁달라', 2469: '.4', 2470: '▁18', 2471: '▁있던', 2472: '▁마이클', 2473: '드리', 2474: '만을', 2475: '잠', 2476: '컨', 2477: '▁발견', 2478: '▁드러', 2479: '치를', 2480: '회가', 2481: '석이', 2482: '와의', 2483: '펙', 2484: '▁쥐', 2485: '으로써', 2486: '성의', 2487: '▁내려', 2488: '▁쉽', 2489: '하려고', 2490: '뢰', 2491: '닙', 2492: '격이', 2493: '디어', 2494: '▁이후로', 2495: '▁/', 2496: '▁검색', 2497: '한지', 2498: '식을', 2499: '▁끌어', 2500: '▁로봇', 2501: '▁특수', 2502: '확', 2503: '치지', 2504: '멜', 2505: '로를', 2506: '몸', 2507: '밍', 2508: '겠다는', 2509: '▁E', 2510: '춰', 2511: '▁늘어', 2512: '▁[', 2513: '▁아버지', 2514: '▁동안', 2515: '들로', 2516: '▁영국', 2517: 'ver', 2518: '낼', 2519: '탓', 2520: '▁낳', 2521: '하겠다', 2522: '떠', 2523: '홀', 2524: '으로는', 2525: '빗', 2526: '왔다', 2527: '.1', 2528: '칙', 2529: '트가', 2530: '었다고', 2531: '러나', 2532: '▁피해', 2533: '부로', 2534: '▁불러', 2535: '▁50', 2536: '▁복잡', 2537: '▁경험', 2538: '▁에이', 2539: '▁눈에', 2540: '곱', 2541: '▁작은', 2542: '▁조합', 2543: '▁죽은', 2544: '▁13', 2545: '▁청소년', 2546: '▁관심', 2547: '복을', 2548: '▁마시', 2549: '▁자살', 2550: '▁11', 2551: '인들이', 2552: '흘', 2553: '지에', 2554: '▁더불어', 2555: '운데', 2556: '갖', 2557: 'ᄀ', 2558: '▁보인다', 2559: '둑', 2560: '▁스스로', 2561: '▁the', 2562: '▁기술', 2563: '드로', 2564: '가에', 2565: '▁타임', 2566: '일의', 2567: '▁T', 2568: '몬', 2569: '내지', 2570: '소를', 2571: '▁하나의', 2572: '성과', 2573: '▁직접', 2574: '퀴', 2575: '뎁', 2576: '▁겨울', 2577: '쿵', 2578: '▁나타', 2579: '▁척', 2580: '▁완전히', 2581: '흡', 2582: '▁주말', 2583: '젼', 2584: '▁조선', 2585: '상황', 2586: '▁제이', 2587: '으려', 2588: '주지', 2589: '▁앤', 2590: '자들은', 2591: '▁실제로', 2592: '쥐', 2593: '▁일이', 2594: '▁교육', 2595: '뻤', 2596: '콜', 2597: '▁올려', 2598: '벅', 2599: '♥♥', 2600: '문이', 2601: 'B', 2602: '바이', 2603: '선을', 2604: '나의', 2605: '▁이유를', 2606: '▁포르', 2607: '▁탐', 2608: '씨는', 2609: '가의', 2610: '▁영어', 2611: '압', 2612: '샤', 2613: '경을', 2614: '▁문화', 2615: '▁나머', 2616: '▁비판', 2617: '겨진', 2618: '▁심각', 2619: '쭉', 2620: '분을', 2621: '땡', 2622: '콧', 2623: '축', 2624: '숭', 2625: '▁대중', 2626: '층', 2627: '▁옆', 2628: '▁탁', 2629: '룩', 2630: '멸', 2631: '긋', 2632: '▁중요', 2633: '렬한', 2634: '▁사람들의', 2635: '▁개막', 2636: '뎀', 2637: '해를', 2638: '품이', 2639: '▁맞아', 2640: 'ᄉ', 2641: '▁커플', 2642: '▁우리의', 2643: '▁몇몇', 2644: '년만에', 2645: '드를', 2646: '▁관한', 2647: '▁투자', 2648: '얼리', 2649: '▁레알', 2650: '▁들었다', 2651: '▁아기', 2652: '되면', 2653: '▁인해', 2654: '▁모두가', 2655: '▁고통', 2656: '▁잭', 2657: '▁웨', 2658: '깡', 2659: '왤', 2660: '빌', 2661: '년의', 2662: '▁곳', 2663: '읽', 2664: '▁업', 2665: '디에', 2666: '▁그녀의', 2667: '터를', 2668: '▁가능', 2669: '르의', 2670: '껐', 2671: '▁인기', 2672: '점으로', 2673: '▁아내', 2674: '▁콩', 2675: '▁탑', 2676: 'ᄏᄏᄏᄏᄏᄏᄏ', 2677: '쩡', 2678: 'P', 2679: 'ᅲᅮ', 2680: '▁빅', 2681: '넹', 2682: '셀', 2683: '▁얼마', 2684: '일을', 2685: '펜', 2686: '텝', 2687: '위로', 2688: '▁옥', 2689: '▁우리는', 2690: '▁h', 2691: '에게는', 2692: '▁여행', 2693: '웰', 2694: '▁당신', 2695: '칼', 2696: '제는', 2697: '▁이민', 2698: '▁있었지만', 2699: '왔던', 2700: '률이', 2701: '▁자주', 2702: '떻게', 2703: '▁f', 2704: '아프', 2705: '붕', 2706: '로의', 2707: '원의', 2708: '밖', 2709: '▁해결', 2710: '컥', 2711: '치가', 2712: '렐', 2713: 'ᄍᄍᄍ', 2714: '▁있는지', 2715: '폼', 2716: '밤', 2717: '▁때문', 2718: '▁묘사', 2719: '▁대해서', 2720: '▁맹', 2721: '오늘', 2722: '▁제시', 2723: '혈', 2724: '육', 2725: '▁팀', 2726: '000', 2727: '항', 2728: '▁나왔다', 2729: 'at', 2730: '▁보통', 2731: '리언', 2732: '낯', 2733: '▁사건', 2734: '▁만한', 2735: '▁멈', 2736: '버그', 2737: '▁다루', 2738: '되었다', 2739: '깁', 2740: '▁납', 2741: '▁술', 2742: '논', 2743: '▁자신이', 2744: '핑', 2745: '갱', 2746: '▁설득', 2747: '▁장애', 2748: '켓', 2749: '늑', 2750: 'u', 2751: '삐', 2752: '바로', 2753: 'ᄃᄃᄃ', 2754: '▁봉', 2755: '식의', 2756: '▁이루', 2757: '부에', 2758: '듭', 2759: '국의', 2760: '앵', 2761: '톤', 2762: '부를', 2763: '▁자신을', 2764: '줬다', 2765: '▁육', 2766: '캬', 2767: '상에서', 2768: '▁뿌', 2769: '웨', 2770: '▁런', 2771: '곰', 2772: '▁엘', 2773: '▁발전', 2774: '분의', 2775: '▁보내', 2776: 'N', 2777: '했다고', 2778: '▁대화', 2779: '앤', 2780: '▁영화제', 2781: '큼', 2782: '▁방영', 2783: '깍', 2784: '▁k', 2785: '▁조작', 2786: '▁문제가', 2787: '▁결정', 2788: '▁가치가', 2789: '띄', 2790: '▁효과', 2791: '쿨', 2792: '▁바꾸', 2793: '▁특별한', 2794: '▁동성애', 2795: '▁칭', 2796: '▁갖고', 2797: '▁이것이', 2798: 'it', 2799: '▁북한', 2800: '똑', 2801: '▁하늘', 2802: '쏠', 2803: '스와', 2804: '▁유지', 2805: '▁l', 2806: '▁주지', 2807: '모든', 2808: '▁기자', 2809: '타인', 2810: '▁우려', 2811: '하고자', 2812: '▁없습니다', 2813: '▁남은', 2814: '점에서', 2815: '▁제외', 2816: '래요', 2817: '▁21', 2818: '일은', 2819: '▁여름', 2820: '▁도망', 2821: '-1', 2822: '▁프', 2823: '부가', 2824: '▁찰', 2825: '12', 2826: '삭', 2827: '▁n', 2828: '▁돈을', 2829: '▁가족이', 2830: '▁비밀', 2831: '낙', 2832: '▁브루', 2833: '끄는', 2834: '러는', 2835: '▁p', 2836: '운드', 2837: '세기', 2838: '▁묵', 2839: '쪼', 2840: '쯔', 2841: '`', 2842: '세포', 2843: '곽', 2844: '냈다', 2845: '찔', 2846: '▁위해서', 2847: '▁낙', 2848: 'A', 2849: '▁클레', 2850: '율이', 2851: '▁새끼', 2852: '▁속에서', 2853: '▁아동', 2854: '▁학생', 2855: '핀', 2856: '터는', 2857: '▁기준', 2858: '뭥', 2859: '각을', 2860: '서가', 2861: '아는', 2862: '▁또다른', 2863: '계를', 2864: '▁전문', 2865: '싼', 2866: 'L', 2867: '▁집에', 2868: '틸', 2869: '고를', 2870: '▁연극', 2871: '▁결코', 2872: 'ie', 2873: '얄', 2874: '▁도전', 2875: '닉', 2876: '국은', 2877: '▁빠진', 2878: '스로', 2879: '▁출연한', 2880: '▁오래된', 2881: 'ᄃ', 2882: '▁택', 2883: '▁증', 2884: '▁크리스마스', 2885: '▁젊', 2886: '11', 2887: '▁놓고', 2888: '▁데이', 2889: '인트', 2890: '▁아래', 2891: '쿡', 2892: '▁쿠', 2893: '례', 2894: '▁활', 2895: '잊', 2896: '휘', 2897: '붙', 2898: '사건', 2899: '로드', 2900: '선이', 2901: '▁상관', 2902: '국이', 2903: '▁늦', 2904: '스키', 2905: '뿌', 2906: '▁한국의', 2907: '리포터', 2908: '▁이용', 2909: '▁떨', 2910: '▁수많은', 2911: '렵', 2912: '부는', 2913: '▁아무런', 2914: '지와', 2915: '▁홀', 2916: 'I', 2917: '회의', 2918: '렛', 2919: '▁다양한', 2920: '▁사진', 2921: '개를', 2922: '▁몬', 2923: '▁샘', 2924: '라의', 2925: '▁로버트', 2926: '▁담배', 2927: '▁사고', 2928: '받을', 2929: '리즈', 2930: '스크', 2931: '슨이', 2932: '인과', 2933: '▁맡', 2934: '헐', 2935: '스테', 2936: '▁제임스', 2937: '안보', 2938: '▁안에', 2939: '있다고', 2940: '뮤', 2941: '▁싸움', 2942: '▁돌아가', 2943: '▁거부', 2944: '▁맞추', 2945: '▁짧은', 2946: '▁새로', 2947: 'an', 2948: '▁국가', 2949: '흔', 2950: '▁윌', 2951: '▁생긴', 2952: '장으로', 2953: '수로', 2954: '찐', 2955: '▁N', 2956: '▁결과', 2957: '▁움직', 2958: '▁들고', 2959: '▁L', 2960: '구를', 2961: '벗', 2962: '싹', 2963: '▁한다는', 2964: '사한', 2965: '▁W', 2966: 'on', 2967: '▁혹은', 2968: '삶', 2969: '▁들어가', 2970: '▁타고', 2971: '획', 2972: 'ᄒᄒᄒᄒ', 2973: '▁나머지', 2974: '스에', 2975: '륭', 2976: '▁X', 2977: '▁무료', 2978: '▁서부', 2979: '▁휘', 2980: '▁60', 2981: '▁반드시', 2982: '▁e', 2983: '즈의', 2984: '30', 2985: '▁14', 2986: '▁강한', 2987: '늦', 2988: 'ᄏᄏᄏᄏᄏᄏᄏᄏ', 2989: '▁벤', 2990: '▁겪', 2991: '▁달리', 2992: '비를', 2993: '▁여자친구', 2994: '19', 2995: '▁객', 2996: '▁스티븐', 2997: '▁심지어', 2998: '랩', 2999: '▁받은', 3000: '▁당신은', 3001: '▁가르', 3002: '▁P', 3003: '▁이상의', 3004: '묵', 3005: '▁유일한', 3006: '▁매일', 3007: '▁확인', 3008: '▁옷', 3009: '니의', 3010: '▁잠시', 3011: '뭣', 3012: '▁러시아', 3013: '▁수입', 3014: '▁효', 3015: '▁받는', 3016: '리에서', 3017: '▁얻', 3018: '▁K', 3019: '▁장면을', 3020: '♥♥♥', 3021: 'ᅡ', 3022: '▁심한', 3023: '쫄', 3024: '쨌', 3025: '▁바다', 3026: '▁밝', 3027: '생활', 3028: 'ᄌ', 3029: 'as', 3030: '땀', 3031: '▁특별', 3032: '▁있다고', 3033: '▁대부분', 3034: '▁아니라고', 3035: 'ᄒᄃᄃ', 3036: 'ᅵ', 3037: '슨의', 3038: '▁한국인', 3039: '윈', 3040: '▁사상', 3041: '▁of', 3042: '마는', 3043: '▁팝', 3044: '▁카메', 3045: '뗄', 3046: '메이', 3047: '셋', 3048: '▁곧', 3049: '깃', 3050: '킥', 3051: '칭', 3052: '베이', 3053: '▁확실', 3054: '▁맞춰', 3055: '▁갔다', 3056: '칸', 3057: '▁받고', 3058: '▁고등학교', 3059: '젖', 3060: 'en', 3061: '삽', 3062: '어를', 3063: '라이언', 3064: '▁과학', 3065: '부의', 3066: '리자', 3067: '▁됩니다', 3068: '▁일본의', 3069: '옵', 3070: '면에', 3071: '음에도', 3072: '.3', 3073: '고한', 3074: '화로', 3075: '▁염', 3076: '▁극단', 3077: '위에', 3078: '▁정상', 3079: '이프', 3080: '▁폐', 3081: '▁오브', 3082: '팠', 3083: '뛰', 3084: '하거나', 3085: '둡', 3086: '▁강력', 3087: '▁헬', 3088: '치의', 3089: '눌', 3090: '▁화장', 3091: '▁생활', 3092: '▁중독', 3093: '꿈', 3094: '▁빠른', 3095: '▁흑인', 3096: '의를', 3097: '비의', 3098: '진은', 3099: '▁링', 3100: '▁실험', 3101: '▁유발', 3102: '▁전해', 3103: '떤', 3104: '▁일본은', 3105: '뽀', 3106: '▁그동안', 3107: 'ᄂ', 3108: '잭', 3109: '어스', 3110: '털', 3111: '▁선물', 3112: '▁마무', 3113: '일에', 3114: '스코', 3115: '▁재개', 3116: '▁달려', 3117: '넬', 3118: 'al', 3119: '포를', 3120: '▁타이', 3121: '▁숙', 3122: 'in', 3123: '▁R', 3124: '▁탈출', 3125: 're', 3126: '▁폭풍', 3127: '▁옹', 3128: '▁프레', 3129: '▁가능한', 3130: '▁대신', 3131: '랙', 3132: '▁2000', 3133: '▁아이디', 3134: '▁폭발', 3135: '▁년', 3136: '딜', 3137: '셜', 3138: '슷', 3139: '겠다고', 3140: '테러', 3141: '맴', 3142: '▁혁', 3143: '▁사실을', 3144: '▁기타', 3145: 'ᄍ', 3146: '짤', 3147: '▁것에', 3148: 'ᄡ', 3149: '트의', 3150: '▁검', 3151: '▁환경', 3152: '렴', 3153: '퓨', 3154: '▁극복', 3155: '로가', 3156: '툰', 3157: '▁뉴', 3158: '장은', 3159: '▁압도', 3160: '▁적어도', 3161: '램', 3162: '▁좋지', 3163: '웟', 3164: '▁평균', 3165: '어의', 3166: '▁파괴', 3167: '▁만약', 3168: '졌던', 3169: '▁부담', 3170: '▁땅', 3171: '위가', 3172: '▁무게', 3173: 'est', 3174: '▁마약', 3175: '▁만난', 3176: '▁벨', 3177: '▁정보', 3178: '▁않았지만', 3179: '▁반대', 3180: '옳', 3181: '닷', 3182: '▁것인', 3183: '▁자본', 3184: 'ar', 3185: '리카', 3186: '▁불안', 3187: '롤', 3188: '이던', 3189: '탑', 3190: 'is', 3191: '웨이', 3192: '▁자동차', 3193: '▁보이지', 3194: '썰', 3195: '▁원조', 3196: '▁폐지', 3197: '릅', 3198: '▁쫓', 3199: '시가', 3200: '자이', 3201: '▁없다고', 3202: '어는', 3203: 'oo', 3204: '라에', 3205: '▁늦게', 3206: '뚜', 3207: '엮', 3208: '▁굴', 3209: '▁스포', 3210: '▁오는', 3211: '다이', 3212: '▁미국의', 3213: '릇', 3214: '▁프리', 3215: '껀', 3216: '므', 3217: '▁그것이', 3218: '범죄', 3219: '▁중심', 3220: '▁흔들', 3221: 'ᅮᅲ', 3222: 'ᄆ', 3223: '▁최소', 3224: '▁인터넷', 3225: '▁내용의', 3226: '▁축구', 3227: '원은', 3228: '행을', 3229: '▁헌', 3230: '▁독일', 3231: 'ad', 3232: '찢', 3233: '내기', 3234: '▁불가능', 3235: '▁기존', 3236: '그러나', 3237: '중인', 3238: '이었던', 3239: '▁사람들에게', 3240: '트를', 3241: '▁린', 3242: '윌', 3243: '구가', 3244: '트로', 3245: 'ut', 3246: 'ed', 3247: '▁아무도', 3248: 'R', 3249: '▁브래', 3250: '몫', 3251: '포인트', 3252: '랭', 3253: '▁가까운', 3254: '▁할리우드', 3255: '▁F', 3256: '폴', 3257: 'le', 3258: '역을', 3259: '▁하며', 3260: '뎅', 3261: '바라', 3262: '▁일어나', 3263: 'es', 3264: '▁콜린', 3265: '▁선정', 3266: '▁떨어져', 3267: '미국', 3268: '▁담긴', 3269: '훌', 3270: '▁최소한', 3271: '즈가', 3272: '▁공간', 3273: '▁찾을', 3274: '▁무너', 3275: '죤', 3276: '렀', 3277: '▁킹', 3278: '▁책임', 3279: '판을', 3280: '개의', 3281: '관을', 3282: '▁스포츠', 3283: '▁부정', 3284: '▁이동', 3285: '90', 3286: '짬뽕', 3287: '비는', 3288: '▁유럽', 3289: '뭇', 3290: 'ᄏᄏᄏᄏᄏᄏᄏᄏᄏ', 3291: '쩍', 3292: '▁적절한', 3293: '▁반영', 3294: '▁이끌어', 3295: '제도', 3296: '▁쏟아', 3297: '▁찾는', 3298: '트는', 3299: '▁to', 3300: '섬', 3301: '실에', 3302: '▁상징', 3303: '탱', 3304: '좌', 3305: '▁벌어', 3306: '▁앉아', 3307: '▁왔다', 3308: '인인', 3309: '▁인종', 3310: '대에서', 3311: '밑', 3312: '▁품', 3313: '사로', 3314: '80', 3315: '▁끝에', 3316: '제에', 3317: '므로', 3318: '▁승리', 3319: '증을', 3320: '랴', 3321: '읍', 3322: '▁나무', 3323: '▁데뷔', 3324: '인들의', 3325: '쌩', 3326: '브라', 3327: '맑', 3328: '▁축', 3329: '▁앞에', 3330: '▁북', 3331: '엣', 3332: '▁판단', 3333: '▁서울', 3334: '룰', 3335: '끗', 3336: '핸', 3337: 'ow', 3338: '져야', 3339: '힙', 3340: '프레', 3341: '냅', 3342: '▁이름을', 3343: '쟈', 3344: '러스', 3345: '▁몰아', 3346: '▁피해자', 3347: '보가', 3348: 'TV', 3349: '뱅', 3350: '▁날아', 3351: '▁도시', 3352: '▁그들이', 3353: '▁공중', 3354: '▁사람들을', 3355: '쉐', 3356: '계가', 3357: '▁&', 3358: '스카', 3359: '단이', 3360: '바다', 3361: '▁가정', 3362: '실에서', 3363: '▁피터', 3364: '관에', 3365: '스캐', 3366: '▁않았던', 3367: '▁사무', 3368: '▁걱정', 3369: '▁컴퓨터', 3370: '▁전화', 3371: '뻥', 3372: '주일', 3373: '▁모른다', 3374: '띠', 3375: '이와', 3376: '▁빙', 3377: '소는', 3378: '팀', 3379: '▁나아', 3380: '뺏', 3381: '▁인디', 3382: '▁음식', 3383: '▁예측', 3384: '▁클라', 3385: '▁후에', 3386: '니스', 3387: '▁정당', 3388: 'ᅮᅮᅮ', 3389: '▁th', 3390: '팡', 3391: '▁잃은', 3392: '▁삭제', 3393: '▁2012', 3394: '▁당신이', 3395: '셧', 3396: '▁고양이', 3397: '▁지지', 3398: '케이', 3399: '체를', 3400: '▁뒤에', 3401: '됐다', 3402: '▁및', 3403: '▁H', 3404: 've', 3405: '▁원하는', 3406: '쉴', 3407: '▁자세', 3408: '듦', 3409: '▁블루', 3410: '▁보낸', 3411: '곳에', 3412: '▁맡은', 3413: '▁남성', 3414: '렸던', 3415: '▁있었고', 3416: '격을', 3417: '킴', 3418: '▁혼란', 3419: '시의', 3420: '븐', 3421: '컸', 3422: '▁글을', 3423: '섹', 3424: '▁힘을', 3425: '츄', 3426: '▁변화', 3427: '▁소개', 3428: '지구', 3429: '위를', 3430: '▁충분한', 3431: '물에', 3432: '▁에서', 3433: '넷', 3434: '▁방법', 3435: '▁습', 3436: '밧', 3437: '▁르', 3438: 'ᄌᄂ', 3439: '▁대학', 3440: '빕', 3441: '▁텐', 3442: '년을', 3443: '라며', 3444: '▁있으나', 3445: '쇄', 3446: '리우', 3447: '▁철저', 3448: '밉', 3449: '디아', 3450: '상태', 3451: '우스', 3452: '▁공유', 3453: 'ay', 3454: '사고', 3455: '용을', 3456: '★', 3457: '둔', 3458: '▁폰', 3459: '▁졸업', 3460: '맷', 3461: '▁J', 3462: 'K', 3463: '▁방해', 3464: '▁불과', 3465: '▁원숭', 3466: '원을', 3467: '▁일을', 3468: '푼', 3469: '▁고등', 3470: '한이', 3471: '▁상황을', 3472: '▁상황이', 3473: '▁밝혀', 3474: '틋', 3475: '▁됐다', 3476: '▁했습니다', 3477: '▁그가', 3478: '문에', 3479: '▁의해', 3480: '자에', 3481: '워드', 3482: '캡', 3483: '프로그램', 3484: '▁단체', 3485: '르다', 3486: '▁벗어나', 3487: '인에', 3488: '스톤', 3489: '마리', 3490: '▁걷', 3491: '회를', 3492: '▁역사상', 3493: '됫', 3494: '▁펼쳐', 3495: '전으로', 3496: '▁신고', 3497: 'od', 3498: '▁메이', 3499: '사들이', 3500: '▁숀', 3501: '▁is', 3502: '▁섭', 3503: '엑', 3504: '▁고양', 3505: '핵', 3506: '▁우선', 3507: '헉', 3508: '타는', 3509: '▁평화', 3510: '▁필요가', 3511: '구의', 3512: '명은', 3513: '첼', 3514: '▁베이', 3515: '▁가수', 3516: '욤', 3517: '▁털', 3518: 'BC', 3519: '50', 3520: '▁동영상', 3521: '▁비록', 3522: '톡', 3523: '솜', 3524: '쏴', 3525: '▁한다고', 3526: '▁소유', 3527: '버스', 3528: '▁부르', 3529: '▁사실이', 3530: '▁16', 3531: '▁둔', 3532: '기술', 3533: '▁시험', 3534: '▁모른', 3535: '▁테러', 3536: '일러', 3537: '▁방향', 3538: '르면', 3539: '처를', 3540: '시키고', 3541: '▁민족', 3542: '▁크로', 3543: '▁아파', 3544: '▁바이', 3545: '팽', 3546: '덴', 3547: '왈', 3548: '지기', 3549: '밟', 3550: '핫', 3551: '▁스피', 3552: '델', 3553: '▁불가', 3554: '묻', 3555: '▁사과', 3556: '년간', 3557: '▁연관', 3558: '탐', 3559: '▁가족을', 3560: '▁음모', 3561: '샘', 3562: '단한', 3563: '기자', 3564: '▁관심이', 3565: '▁앞서', 3566: '▁획', 3567: '졌습니다', 3568: '▁단어', 3569: '▁이전', 3570: '일한', 3571: '▁조지', 3572: '▁칠', 3573: '▁의사', 3574: '▁바닥', 3575: '캅', 3576: '서를', 3577: '▁두려', 3578: '피아', 3579: '.8', 3580: '▁덮', 3581: '귄', 3582: '뿜', 3583: '▁도와', 3584: '▁받았다', 3585: '▁록', 3586: 'ᄏᄏᄏᄏᄏᄏᄏᄏᄏᄏᄏ', 3587: '▁추가', 3588: '프리', 3589: '둠', 3590: '▁앙', 3591: 'ost', 3592: '▁으로', 3593: '▁V', 3594: '짙', 3595: '▁17', 3596: '▁위로', 3597: '▁모여', 3598: '▁보일', 3599: '잣', 3600: '았다고', 3601: 'am', 3602: '▁길을', 3603: '겻', 3604: '▁사회적', 3605: '▁코스', 3606: '▁받아야', 3607: '▁문제를', 3608: '콕', 3609: '▁갱', 3610: '이번', 3611: '원에', 3612: '▁적은', 3613: '▁붕', 3614: '▁오랫동안', 3615: '스에서', 3616: '▁수는', 3617: '.9', 3618: '▁목숨', 3619: '랏', 3620: '스티', 3621: '홧', 3622: '렘', 3623: '▁부부', 3624: '농', 3625: '훨', 3626: '▁불법', 3627: '▁상대', 3628: '명한', 3629: '지원', 3630: '멀', 3631: '▁의한', 3632: '뚫', 3633: 'U', 3634: '▁앨', 3635: '▁내놓', 3636: '▁아이를', 3637: '▁밖', 3638: 'ot', 3639: '주를', 3640: '리트', 3641: '킵', 3642: '▁25', 3643: '뉴', 3644: 'et', 3645: '▁관련', 3646: '경찰', 3647: '▁에드', 3648: 'ᅥ', 3649: '▁쓰러', 3650: '땠', 3651: '량이', 3652: '▁덴', 3653: '▁강요', 3654: '믄', 3655: '인들은', 3656: '▁구조', 3657: '.0', 3658: '쯧쯧', 3659: '방에', 3660: '▁아바', 3661: '얀', 3662: '랜드', 3663: '소에', 3664: '책을', 3665: '하였', 3666: '▁들여', 3667: '▁로드', 3668: '▁해외', 3669: '▁가족과', 3670: '▁되면', 3671: '▁생존', 3672: '뜯', 3673: '▁마찬가지', 3674: '시킬', 3675: 'id', 3676: '위는', 3677: '곁', 3678: '▁갖게', 3679: 'ᄇ', 3680: '▁심장', 3681: '▁벽', 3682: '▁사용', 3683: '▁모양', 3684: '▁이루어', 3685: '▁쌓', 3686: '▁곤', 3687: '▁보이고', 3688: '로이', 3689: '자들을', 3690: '컴', 3691: '비아', 3692: '하였다', 3693: '봇', 3694: '밀한', 3695: '질을', 3696: '했었다', 3697: 'im', 3698: '군이', 3699: 'ᄏᄏᄏᄏᄏᄏᄏᄏᄏᄏ', 3700: '좆', 3701: '▁된다는', 3702: '▁일본이', 3703: '▁도중', 3704: '턱', 3705: '헷', 3706: '사에서', 3707: '▁케이', 3708: '마스', 3709: '첫', 3710: '달라고', 3711: '▁롤', 3712: '칫', 3713: '스틴', 3714: '뻑', 3715: '꽉', 3716: '40', 3717: '룸', 3718: '▁거듭', 3719: '촬영', 3720: '▁스페인', 3721: '옷', 3722: '스턴', 3723: '▁바란다', 3724: '▁과도', 3725: '뜸', 3726: '트릭', 3727: '▁곡', 3728: '▁보석', 3729: '늬', 3730: '▁인류', 3731: '▁경우', 3732: '▁로마', 3733: '▁아메', 3734: '▁다니', 3735: '티는', 3736: '▁일찍', 3737: '됐을', 3738: '명도', 3739: '▁다니엘', 3740: '쌈', 3741: '▁준비', 3742: '▁것과', 3743: '적을', 3744: '중국', 3745: '트라', 3746: '원에서', 3747: '로스', 3748: '▁마리', 3749: '▁개발', 3750: '당이', 3751: 'om', 3752: '셰', 3753: '▁흥분', 3754: '샌', 3755: '▁넘는', 3756: '웍', 3757: '▁이것은', 3758: '▁추구', 3759: '▁잉', 3760: '장과', 3761: '어들', 3762: '▁줄리아', 3763: '펭', 3764: '가인', 3765: '인으로', 3766: '▁미국이', 3767: '금이', 3768: '▁우승', 3769: '▁비행기', 3770: '쪽으로', 3771: '저는', 3772: '▁찾기', 3773: '꽁', 3774: '▁지키', 3775: '▁영향을', 3776: '▁커피', 3777: '짖', 3778: '우주', 3779: '썬', 3780: '▁적이', 3781: '▁대결', 3782: '▁패션', 3783: '▁닭', 3784: '삘', 3785: '계에', 3786: '일리', 3787: '▁수십', 3788: '▁웹', 3789: '문을', 3790: '▁밴', 3791: '▁얻어', 3792: 'un', 3793: '▁명확', 3794: '▁적극', 3795: '떻', 3796: '▁그에', 3797: '위의', 3798: '▁출발', 3799: '▁이끌', 3800: '술을', 3801: '잃', 3802: '▁수사', 3803: '▁혈', 3804: '▁고문', 3805: '일로', 3806: '툭', 3807: '▁심사', 3808: '리스트', 3809: '▁일본에서', 3810: '템', 3811: '▁참여', 3812: '▁가까이', 3813: '수에', 3814: '▁지상', 3815: '▁빨간', 3816: '▁태국', 3817: '▁미술', 3818: '국을', 3819: 'ᄇᄉ', 3820: '▁각각', 3821: '▁사람에게', 3822: '▁그들을', 3823: '▁나타나', 3824: '졋', 3825: '헝', 3826: '선의', 3827: '▁갖춘', 3828: '▁조기', 3829: '가들은', 3830: '라를', 3831: '끓', 3832: '식에', 3833: '▁숲', 3834: '▁콜', 3835: '▁치료', 3836: '비치', 3837: '.6', 3838: '드와', 3839: '▁v', 3840: '.7', 3841: '훗', 3842: 'el', 3843: '▁학살', 3844: '짧', 3845: '▁뼈', 3846: '전히', 3847: 'ter', 3848: '지면서', 3849: '▁고소', 3850: '▁게임을', 3851: '하지는', 3852: '▁만날', 3853: '찜찜', 3854: '▁훔', 3855: '궈', 3856: '▁200', 3857: '▁소년', 3858: '▁소지', 3859: '▁정확히', 3860: '국에', 3861: '뎌', 3862: '▁석', 3863: '▁이탈리아', 3864: '▁어떠한', 3865: '튜', 3866: '▁태양', 3867: '전문', 3868: '▁결과는', 3869: '▁권력', 3870: '들린', 3871: '▁오마', 3872: '껍', 3873: '▁최대', 3874: 'ra', 3875: '등을', 3876: '▁성적', 3877: '▁도움이', 3878: '▁첫번째', 3879: '▁2003', 3880: '▁영향', 3881: '▁필요하다', 3882: '율을', 3883: '▁운동', 3884: '▁이를', 3885: 'uc', 3886: '://', 3887: '▁문제는', 3888: '겄', 3889: '륵', 3890: '회는', 3891: 'ᅢ', 3892: '동물', 3893: '단의', 3894: '▁마틴', 3895: '르지', 3896: '▁위험', 3897: '줫', 3898: '해줄', 3899: '▁강하게', 3900: '▁엘리', 3901: '▁대사는', 3902: '▁대학생', 3903: '▁증명', 3904: '▁군인', 3905: '▁in', 3906: '펴', 3907: '쫒', 3908: '▁항', 3909: '선은', 3910: '▁역사적', 3911: '▁이란', 3912: '쨋', 3913: 'ᄏᄏᄏᄏᄏᄏᄏᄏᄏᄏᄏᄏᄏ', 3914: '▁관심을', 3915: '권이', 3916: '▁2005', 3917: '▁그와', 3918: '똘', 3919: '▁머리를', 3920: 'com', 3921: '뉘', 3922: '▁장난감', 3923: '。', 3924: '▁김정', 3925: '▁쏟', 3926: '▁상당한', 3927: '▁등록', 3928: '밨', 3929: '▁가난', 3930: '방을', 3931: '위기', 3932: '▁반응', 3933: '지어', 3934: '▁잡고', 3935: '이즈', 3936: '얽', 3937: '▁협', 3938: '▁클리', 3939: '▁대통령', 3940: '하라는', 3941: '▁윌리엄', 3942: '▁그를', 3943: '▁넓', 3944: '밸', 3945: '혔', 3946: '리칸', 3947: '▁신화', 3948: '▁분명히', 3949: '▁2004', 3950: '▁타이틀', 3951: '자에게', 3952: '▁목적', 3953: 'H', 3954: 'ic', 3955: '릉', 3956: '▁최초의', 3957: '▁했다는', 3958: '국민', 3959: '▁사형', 3960: '▁지배', 3961: '디는', 3962: '홈', 3963: '럿', 3964: '▁아프리카', 3965: '▁인권', 3966: '▁거리', 3967: '서에', 3968: '그는', 3969: '해질', 3970: 'ch', 3971: '▁법정', 3972: '정보', 3973: '▁대만', 3974: '뭡', 3975: '▁그는', 3976: '▁초기', 3977: 'op', 3978: '었으나', 3979: '잎', 3980: '▁출신', 3981: '.10', 3982: '▁해리', 3983: '▁이중', 3984: '▁시사', 3985: '되면서', 3986: 'th', 3987: '된다고', 3988: '▁확실한', 3989: '석을', 3990: '▁건강', 3991: '▁접근', 3992: '▁절반', 3993: '뀐', 3994: '핏', 3995: '켄', 3996: '▁이유로', 3997: '썸', 3998: '앉', 3999: '틀러', 4000: '망을', 4001: '윽', 4002: '▁마크', 4003: '▁태어난', 4004: '▁연주', 4005: '▁300', 4006: '빤', 4007: '▁몸을', 4008: '쉣', 4009: '둬', 4010: '▁강조', 4011: '▁총격', 4012: '▁글로', 4013: '▁않으면', 4014: '▁역할을', 4015: '▁낸', 4016: '▁조정', 4017: '▁납치', 4018: '▁컴', 4019: '▁즉', 4020: '▁아카데미', 4021: '▁전쟁을', 4022: '매우', 4023: '▁말라', 4024: '▁지적', 4025: '▁수치', 4026: '▁크루', 4027: '▁그중', 4028: 'ᄅᄋ', 4029: '퇴', 4030: '▁콘', 4031: '탭', 4032: '▁인터', 4033: '시를', 4034: '▁28', 4035: '▁값', 4036: '하이', 4037: '페이스', 4038: '곳에서', 4039: '▁메시지를', 4040: '딕', 4041: '책임', 4042: '▁공연', 4043: '▁자유를', 4044: '적이며', 4045: '옆', 4046: '▁받아들이', 4047: '▁가상', 4048: '▁그들은', 4049: '트리', 4050: '▁심각한', 4051: '▁사망', 4052: '▁도입', 4053: '▁또는', 4054: '▁훌', 4055: '▁의학', 4056: '화된', 4057: '▁추락', 4058: '▁여왕', 4059: 'ᄏᄏᄏᄏᄏᄏᄏᄏᄏᄏᄏᄏ', 4060: '▁기념', 4061: '▁이혼', 4062: '▁198', 4063: '▁다양', 4064: '꼇', 4065: '▁활용', 4066: 'il', 4067: '▁찾고', 4068: '▁기록', 4069: '꿨', 4070: '▁빚', 4071: '군의', 4072: 'all', 4073: '▁묶', 4074: '▁은퇴', 4075: '금을', 4076: '가들이', 4077: '그가', 4078: '▁켄', 4079: '▁갇', 4080: '▁예산', 4081: '▁위에', 4082: '트와', 4083: '대중', 4084: '해졌다', 4085: 'ul', 4086: '▁의견', 4087: '▁지진', 4088: '형을', 4089: 'up', 4090: '▁최저', 4091: '▁주목', 4092: '받았다', 4093: '▁생명', 4094: '미니', 4095: '▁플레이', 4096: '텀', 4097: '▁물고', 4098: '▁델', 4099: '▁회사', 4100: '▁나누', 4101: '썻', 4102: '넋', 4103: '▁때문이다', 4104: '▁혜', 4105: 'ᅩ', 4106: '▁일요일', 4107: '▁향해', 4108: '▁이재', 4109: '▁The', 4110: 'us', 4111: 'ᄀᄀ', 4112: '▁이상을', 4113: '▁199', 4114: '▁대비', 4115: '리그', 4116: '▁r', 4117: '권을', 4118: '▁일으', 4119: '▁위안', 4120: '▁특징', 4121: '↓', 4122: '톰', 4123: '▁베트남', 4124: '▁차이가', 4125: '드에', 4126: '▁위험한', 4127: '-0', 4128: '트에', 4129: '▁칸', 4130: '였다고', 4131: '기사', 4132: '▁방법이', 4133: '▁셀', 4134: '▁열린', 4135: '요일', 4136: '시아', 4137: '▁펼', 4138: '><', 4139: '▁무기', 4140: '앨', 4141: '쇠', 4142: '▁비행', 4143: '▁안에서', 4144: 'ro', 4145: '톨', 4146: '▁마을', 4147: '▁고발', 4148: '스라', 4149: 'tp', 4150: '▁임신', 4151: '▁시기', 4152: '▁토니', 4153: '▁시작한', 4154: '보를', 4155: 'ore', 4156: '▁옮', 4157: '법을', 4158: '▁포함', 4159: '측', 4160: '▁집단', 4161: '▁과정을', 4162: '▁젊은이', 4163: '지인', 4164: '▁스티브', 4165: '▁가자', 4166: '▁뉴욕', 4167: '엎', 4168: '긍', 4169: '안이', 4170: 'de', 4171: '쉰', 4172: '췄', 4173: '▁외국인', 4174: '뺨', 4175: '▁`', 4176: '▁총을', 4177: '▁2010', 4178: '▁진행되는', 4179: '▁Y', 4180: '▁노예', 4181: '주로', 4182: '정부', 4183: '샷', 4184: '탤', 4185: '흙', 4186: '국가', 4187: '댕', 4188: '▁sh', 4189: '70', 4190: '▁가까', 4191: '뻣', 4192: '딨', 4193: '꾹', 4194: '선수', 4195: '렌스', 4196: '뱉', 4197: '▁23', 4198: 'Z', 4199: '▁보고서', 4200: '▁상태', 4201: '눠', 4202: '드시', 4203: '뒀', 4204: '▁청소', 4205: '▁에어', 4206: '회에', 4207: '▁제작한', 4208: '▁콘서', 4209: '댐', 4210: '단을', 4211: '▁검은', 4212: '뤄', 4213: '부에서', 4214: '▁고향', 4215: '▁존중', 4216: '▁크리스토퍼', 4217: '▁수백', 4218: '쏙', 4219: 'ᄏᄏᄏᄏᄏᄏᄏᄏᄏᄏᄏᄏᄏᄏ', 4220: '▁아이의', 4221: '▁전국', 4222: '▁on', 4223: '밴', 4224: '▁대상', 4225: '▁한국이', 4226: '하라고', 4227: '▁고래', 4228: '▁맺', 4229: '▁부여', 4230: '▁되기', 4231: '人', 4232: '♥♥♥♥', 4233: '▁치열', 4234: '▁기사', 4235: '▁상황에', 4236: '☆', 4237: '댈', 4238: '▁24', 4239: '▁저녁', 4240: '▁2001', 4241: '현지', 4242: '▁이상이', 4243: '▁오토', 4244: '▁멤버', 4245: '▁500', 4246: '북한', 4247: '샀', 4248: '▁미국에서', 4249: '▁연장', 4250: '펄', 4251: '▁말한다', 4252: '▁호소', 4253: '시티', 4254: '▁홈', 4255: '▁생각했다', 4256: '▁U', 4257: '▁최초로', 4258: '▁앉', 4259: '퉤', 4260: '▁2,', 4261: '샹', 4262: '▁부인', 4263: '호는', 4264: '웩', 4265: '▁걸어', 4266: '▁갖추', 4267: '♡♡', 4268: '업을', 4269: '▁거대한', 4270: '샬', 4271: '국인', 4272: '▁언급', 4273: '됴', 4274: '관련', 4275: '기간', 4276: '단은', 4277: 'ᅲᅲᅲᅲᅲ', 4278: '▁대책', 4279: 'he', 4280: '▁강제', 4281: '꽂', 4282: '▁공식', 4283: '▁미국에', 4284: '▁아시아', 4285: '▁소방', 4286: '번의', 4287: '▁라스', 4288: '픕', 4289: '▁붉은', 4290: 'og', 4291: '▁초대', 4292: '현재', 4293: '횽', 4294: '꺄', 4295: '괴한', 4296: '소의', 4297: '낳', 4298: '만원', 4299: '▁경계', 4300: 'Y', 4301: '▁이들이', 4302: '),', 4303: '칩', 4304: 'ᄂᄂ', 4305: '피해', 4306: '▁마르', 4307: '텅', 4308: '▁조직', 4309: '▁선수', 4310: '뽑', 4311: '▁것인지', 4312: '위원', 4313: '펀', 4314: '킷', 4315: '끊', 4316: '▁인터뷰', 4317: '지난', 4318: '▁말한', 4319: 'ᄅ', 4320: '햄', 4321: '탔', 4322: '▁대형', 4323: '▁중국의', 4324: '▁낼', 4325: '르기', 4326: '▁알리', 4327: '▁기도', 4328: '▁일이다', 4329: '월드', 4330: '▁매년', 4331: '슨은', 4332: '▁인식', 4333: 'ant', 4334: '녹', 4335: '버트', 4336: '일과', 4337: '▁and', 4338: 'W', 4339: '▁미칠', 4340: '▁곳에서', 4341: '▁차지', 4342: '▁파악', 4343: '▁얻을', 4344: '세인', 4345: '▁가질', 4346: '▁전세계', 4347: '▁당한', 4348: '▁된다고', 4349: '차가', 4350: '▁22', 4351: '▁국제', 4352: '대전', 4353: '▁한때', 4354: '▁목숨을', 4355: '▁고려', 4356: '됌', 4357: '▁마지막으로', 4358: '▁나이트', 4359: '자들에게', 4360: '▁한국은', 4361: '▁횡', 4362: '밝', 4363: '긔', 4364: '지수', 4365: '졌고', 4366: '▁대변', 4367: '▁잃었다', 4368: '치로', 4369: '▁겸', 4370: '릴라', 4371: '지며', 4372: 'ig', 4373: 'J', 4374: '▁측', 4375: '▁최초', 4376: '치에', 4377: '뀌', 4378: '▁관계를', 4379: '▁투표', 4380: '▁2008', 4381: '▁자리', 4382: '▁기회', 4383: '프트', 4384: '주에', 4385: '▁전환', 4386: '▁일어난', 4387: '씌', 4388: '뺀', 4389: '즈를', 4390: '벙', 4391: '세를', 4392: '됐지만', 4393: '22', 4394: '슐', 4395: '빅', 4396: '솟', 4397: '▁여성의', 4398: '▁비틀', 4399: '▁그것은', 4400: '쒸', 4401: '▁동료', 4402: '▁못하게', 4403: '젓', 4404: '▁아이들을', 4405: '▁be', 4406: '▁구매', 4407: '▁시민', 4408: '▁경찰이', 4409: '고래', 4410: '▁고통을', 4411: '▁캠', 4412: '쬐', 4413: '▁사막', 4414: '▁지하철', 4415: '니어', 4416: '▁일제', 4417: '췌', 4418: '▁인한', 4419: '뇨', 4420: '▁유리', 4421: '▁의존', 4422: '▁경쟁', 4423: 'if', 4424: '▁대기', 4425: '멕', 4426: '티나', 4427: '▁나갈', 4428: '▁루이스', 4429: '▁등이', 4430: '비와', 4431: '탄을', 4432: '▁정확', 4433: '▁돌아다', 4434: '▁노무현', 4435: '▁레드', 4436: '▁경기', 4437: '쑤', 4438: '▁건축', 4439: '▁*', 4440: '▁회복', 4441: '렀다', 4442: '▁트라', 4443: '쌔', 4444: '퀸', 4445: '넨', 4446: '▁종합', 4447: '▁암살', 4448: '크는', 4449: '▁금요일', 4450: '▁것으로', 4451: '도시', 4452: '소로', 4453: '번째로', 4454: '▁이뤄', 4455: '▁그녀는', 4456: 'ent', 4457: '관리', 4458: '▁st', 4459: '▁것처럼', 4460: '쭈', 4461: '설명', 4462: '률은', 4463: '▁걸려', 4464: '▁사건을', 4465: '▁동시', 4466: '·', 4467: '되기', 4468: '▁퀸', 4469: '들과의', 4470: '류를', 4471: '▁분석', 4472: '▁월드', 4473: '왔다고', 4474: '▁re', 4475: '퀀', 4476: '▁증거', 4477: '쥔', 4478: '▁관계가', 4479: '맺', 4480: '▁건물', 4481: '#', 4482: '▁대리', 4483: '▁압박', 4484: '▁그리스', 4485: '▁한국에', 4486: '▁사건의', 4487: '▁멸', 4488: '▁전통', 4489: '홉', 4490: '▁197', 4491: '▁지원', 4492: '▁보여줬다', 4493: '▁노동', 4494: '▁기다리고', 4495: '좁', 4496: '▁흰', 4497: '▁파리', 4498: '▁이러한', 4499: '리드', 4500: '덥', 4501: '▁따른', 4502: '▁지속', 4503: '켠', 4504: '닦', 4505: '귓', 4506: '▁잭슨', 4507: '세의', 4508: '젊', 4509: '▁치명', 4510: '욜', 4511: '▁1%', 4512: '▁윈', 4513: '▁120', 4514: '▁훈련', 4515: '▁호텔', 4516: '▁입장', 4517: '운동', 4518: '▁스티', 4519: 'ti', 4520: '▁균', 4521: '로부터', 4522: '▁펜', 4523: '▁이전에', 4524: '얹', 4525: '밭', 4526: '대와', 4527: '닳', 4528: '되어야', 4529: '▁비난', 4530: '▁계획', 4531: '소와', 4532: '뻘', 4533: '▁보호', 4534: '▁소녀의', 4535: '됐고', 4536: '▁샌', 4537: '관은', 4538: '▁아마도', 4539: '▁민주주의', 4540: '▁보장', 4541: '▁이웃', 4542: '▁뉴스', 4543: 'ff', 4544: '▁해적', 4545: '’', 4546: '▁삭', 4547: '[', 4548: '셸', 4549: '필드', 4550: '▁사건이', 4551: '대표', 4552: '500', 4553: '힛', 4554: '개월', 4555: '▁모델', 4556: '▁수퍼', 4557: '▁정치적', 4558: '▁계속해서', 4559: '▁금지', 4560: '가에서', 4561: '▁경제', 4562: '▁움', 4563: '▁신뢰', 4564: '▁질문', 4565: '발을', 4566: '▁수정', 4567: '▁근육', 4568: '▁유전', 4569: '도에서', 4570: '▁복제', 4571: '▁래', 4572: '▁따라서', 4573: '과학', 4574: '▁보였다', 4575: '▁관리', 4576: '꼼', 4577: '우리가', 4578: '▁브라', 4579: '시켰', 4580: '▁받지', 4581: '▁라디오', 4582: '▁그레', 4583: '▁이주', 4584: '축구', 4585: '▁그녀가', 4586: '▁1000', 4587: '▁스톤', 4588: '데미', 4589: '켈', 4590: '▁명예', 4591: '▁훼손', 4592: '▁남한', 4593: '▁인공', 4594: '쿼', 4595: '▁몰려', 4596: 'ol', 4597: 'ome', 4598: '▁덧', 4599: '글로', 4600: '▁닉', 4601: '윙', 4602: '페이지', 4603: '▁형태', 4604: '되었습니다', 4605: '▁196', 4606: '▁전쟁에', 4607: '▁2009', 4608: '▁정부', 4609: '▁오르', 4610: 'ᅮᅮᅮᅮ', 4611: '▁미군', 4612: '밈', 4613: '▁언론', 4614: '뤘', 4615: '▁제한', 4616: '▁스탠', 4617: '▁유니', 4618: '▁기회를', 4619: '▁쓰나미', 4620: '젝', 4621: '▁가운데', 4622: '▁통한', 4623: '선에', 4624: '타의', 4625: '▁없으며', 4626: '▁대다', 4627: '얕', 4628: '▁비평', 4629: '몹', 4630: 'ks', 4631: '법은', 4632: '▁최종', 4633: '▁쿠바', 4634: '▁2006', 4635: '▁오른', 4636: '붓', 4637: '행한', 4638: '앓', 4639: '▁골든', 4640: '▁숫', 4641: '▁얻은', 4642: '회에서', 4643: '뤽', 4644: '깬', 4645: '뛴', 4646: 'ᄏᄏᄏᄏᄏᄏᄏᄏᄏᄏᄏᄏᄏᄏᄏ', 4647: 'EC', 4648: '▁실종', 4649: '▁미국은', 4650: '▁저지', 4651: '▁적합', 4652: '포드', 4653: '▁2002', 4654: '체의', 4655: '핍', 4656: '▁전까지', 4657: '▁장소', 4658: '너지', 4659: '댔', 4660: '기구', 4661: '브는', 4662: 'ce', 4663: '걱', 4664: '센트', 4665: '▁셰', 4666: '▁해병', 4667: '펠', 4668: '▁배제', 4669: '녔', 4670: 'ᄉᄉ', 4671: '라로', 4672: '▁연구', 4673: '수인', 4674: '▁상황에서', 4675: '쪄', 4676: '클라', 4677: '(1', 4678: '▁빠르게', 4679: '▁했다고', 4680: '건의', 4681: '짱짱짱', 4682: '윗', 4683: '▁보수', 4684: 'ir', 4685: '씻', 4686: '60', 4687: 'um', 4688: '▁두려워', 4689: '▁작업', 4690: 'ill', 4691: 'ᅳᅮ', 4692: '차를', 4693: '붐', 4694: 'ᄌᄅ', 4695: '쯧', 4696: '썽', 4697: '▁2007', 4698: '▁시스템', 4699: '▁독재', 4700: 'Q', 4701: '▁공개', 4702: '지자', 4703: '호를', 4704: '▁며칠', 4705: '쵸', 4706: '▁사실은', 4707: '▁연락', 4708: '▁기반', 4709: '▁곳에', 4710: 'ᄊ', 4711: 'ap', 4712: '쟝', 4713: '▁수영', 4714: '▁테러리스트', 4715: 'ᄉᄀ', 4716: '▁현재의', 4717: 'q', 4718: '@@', 4719: '▁이에', 4720: '▁무장', 4721: '▁은행', 4722: '▁고아', 4723: '뜰', 4724: '▁잠재', 4725: 'ee', 4726: '▁정확한', 4727: '놉', 4728: '▁베르', 4729: '▁보도', 4730: '팜', 4731: '바는', 4732: '시각', 4733: '훅', 4734: '▁비롯', 4735: '가로', 4736: '진을', 4737: '쌤', 4738: '▁44', 4739: '유로', 4740: '헬', 4741: '▁브리', 4742: '▁마련', 4743: '▁대학교', 4744: '▁알려지지', 4745: '▁중국이', 4746: '얌', 4747: '▁도로', 4748: '레이크', 4749: '▁동의', 4750: '세에', 4751: '▁우리를', 4752: '▁스테', 4753: '▁지도', 4754: '훼', 4755: '▁프로젝', 4756: '시장', 4757: '비스', 4758: '되며', 4759: '퀼', 4760: '▁이용해', 4761: '▁규', 4762: '선에서', 4763: '▁근본', 4764: 'oc', 4765: '▁움직임', 4766: '▁이슬람', 4767: '▁주의', 4768: '짱잼', 4769: '햐', 4770: '▁아일랜드', 4771: '▁작렬', 4772: '▁것입니다', 4773: '▁손을', 4774: '▁근거', 4775: '▁사례', 4776: '▁테스트', 4777: '▁시작할', 4778: '앳', 4779: '▁도움', 4780: '▁동원', 4781: '▁‘', 4782: '쨩', 4783: '▁붙잡', 4784: '하에', 4785: '비행', 4786: '얻', 4787: '펏', 4788: '웁', 4789: '썅', 4790: '약을', 4791: '환을', 4792: '▁조성', 4793: '▁내린', 4794: '▁존스', 4795: '▁관찰', 4796: '▁자신에게', 4797: '굵', 4798: 'ain', 4799: '▁Th', 4800: '▁ar', 4801: '지에서', 4802: '▁긴급', 4803: '▁행동을', 4804: '결과', 4805: '욧', 4806: '▁강력한', 4807: 'ight', 4808: '▁행위', 4809: '는지는', 4810: '됀', 4811: '▁입고', 4812: '▁핵심', 4813: '지역', 4814: '▁산타', 4815: '▁주식', 4816: '위원회', 4817: '▁왼', 4818: '▁유대', 4819: '르도', 4820: '산을', 4821: '▁공산', 4822: '▁결승', 4823: '전에서', 4824: '▁그룹', 4825: '휼', 4826: 'ᅳᅳᄏ', 4827: '겜', 4828: '▁교수', 4829: '▁알렉', 4830: '▁긍정', 4831: 'os', 4832: '▁자리를', 4833: '갸', 4834: '▁1990', 4835: '▁이와', 4836: '▁일은', 4837: '캠', 4838: '▁반면', 4839: '뱃', 4840: '및', 4841: '슌', 4842: '▁걸릴', 4843: '▁월드컵', 4844: '▁추적', 4845: '▁27', 4846: '뵈', 4847: '꾀', 4848: '▁환영', 4849: '환경', 4850: '준비', 4851: '▁저지른', 4852: '굼', 4853: '▁안정', 4854: '쫙', 4855: 'ᄆᄎ', 4856: '레나', 4857: '▁가족은', 4858: '짭', 4859: '▁사이에', 4860: '▁하나인', 4861: '튜브', 4862: '원과', 4863: '관의', 4864: '▁지역', 4865: '▁차기', 4866: '▁입은', 4867: '▁소비', 4868: '▁스캔', 4869: '▁가능성', 4870: '팝', 4871: 'ak', 4872: '▁축하', 4873: '▁형성', 4874: '▁물질', 4875: '낡', 4876: '▁프랭', 4877: '▁돕', 4878: '▁검사', 4879: '▁명백', 4880: '조를', 4881: '회사', 4882: '▁복귀', 4883: '빔', 4884: '▁랜', 4885: '▁최신', 4886: '주민', 4887: '월의', 4888: '뷔', 4889: '▁자녀', 4890: '▁공격', 4891: '기에서', 4892: '싱턴', 4893: '25', 4894: '맡', 4895: '캔', 4896: '▁보내는', 4897: '량을', 4898: '닭', 4899: '▁기부', 4900: '▁자료', 4901: '▁법을', 4902: 'ct', 4903: '▁디자인', 4904: '르트', 4905: '리학', 4906: '▁활동', 4907: '늠', 4908: '▁안전', 4909: '흉', 4910: '▁옮겨', 4911: '▁재활', 4912: '▁대부분이', 4913: '료를', 4914: '▁가능성을', 4915: 'ry', 4916: '몸으로', 4917: '되었던', 4918: '▁결과가', 4919: '덥잖', 4920: '▁처리', 4921: '샴', 4922: '▁조건', 4923: '▁있기', 4924: '▁있도록', 4925: '딪', 4926: '▁펠', 4927: '▁필립', 4928: '▁“', 4929: '▁주요', 4930: '엥', 4931: '200', 4932: '리프', 4933: '월에', 4934: '▁소수', 4935: '시켰다', 4936: '▁무릎', 4937: '세로', 4938: '냉', 4939: 'our', 4940: '▁대부분의', 4941: '▁입을', 4942: '▁장기', 4943: '▁최우', 4944: '촬', 4945: '▁수술', 4946: '씽', 4947: '오와', 4948: '쌀', 4949: '▁것보다', 4950: 'ell', 4951: '안을', 4952: '쿄', 4953: '덧', 4954: '▁위기', 4955: '▁고고', 4956: '듀', 4957: 'll', 4958: '나미', 4959: 'art', 4960: '담을', 4961: '▁지연', 4962: '즉', 4963: '▁교도', 4964: '▁부패', 4965: '甲', 4966: '▁트레', 4967: '▁토마스', 4968: '뵙', 4969: '▁성향', 4970: '표가', 4971: '▁아부', 4972: '▁해군', 4973: '▁보상', 4974: '싯', 4975: '퀘', 4976: '딥', 4977: '캣', 4978: '쉘', 4979: '뚤', 4980: '났다고', 4981: '가스', 4982: '긁', 4983: '▁26', 4984: '떴', 4985: '▁파트너', 4986: '하도록', 4987: ')/', 4988: '쪽에', 4989: 'ᄋᄉᄋ', 4990: '▁방식으로', 4991: '사인', 4992: '프라', 4993: '욘', 4994: '젬', 4995: '레스트', 4996: '숀', 4997: '토니', 4998: '▁딜', 4999: '▁때까지', 5000: '▁이글', 5001: '▁수천', 5002: '띵', 5003: '▁조각', 5004: '▁소속', 5005: '▁등의', 5006: '동영상', 5007: '쁠', 5008: '▁홍수', 5009: '켰', 5010: 'ᄃᄃᄃᄃ', 5011: '▁주인', 5012: '짚', 5013: '▁밝히', 5014: '▁바란', 5015: '▁막을', 5016: '격으로', 5017: '▁발생', 5018: '▁버스', 5019: '▁마이크', 5020: '▁변호', 5021: '▁윌리', 5022: '▁이들의', 5023: 'ust', 5024: '▁붕괴', 5025: '조합', 5026: '▁확신', 5027: '땟', 5028: '민주', 5029: '▁클럽', 5030: '▁여행을', 5031: '쿤', 5032: '롬', 5033: '▁방어', 5034: '찜', 5035: '퍽', 5036: '▁자이', 5037: '▁1/', 5038: '▁매니', 5039: '▁for', 5040: '▁스키', 5041: '동차', 5042: '▁주민', 5043: '▁통제', 5044: '▁등을', 5045: '넉', 5046: 'ᅳᅳ^', 5047: '라운드', 5048: 'ur', 5049: '▁올린', 5050: '즈니', 5051: '▁열어', 5052: '뺐', 5053: '뭍', 5054: '하우', 5055: '▁고대', 5056: '▁프랑', 5057: '▁어떠', 5058: 'ess', 5059: '분간', 5060: '▁지하', 5061: '▁리차드', 5062: '▁공공', 5063: '▁공동', 5064: '쟤', 5065: '됩', 5066: '▁북한의', 5067: '갚', 5068: '▁점을', 5069: '탠', 5070: '▁이들을', 5071: '▁1998', 5072: '큘', 5073: '▁중요하다', 5074: 'ew', 5075: '퍼센트', 5076: '뇬', 5077: 'ᄋᄋᄋ', 5078: '됐던', 5079: '▁득', 5080: '▁병사', 5081: '명과', 5082: '걔', 5083: '콥', 5084: '룻', 5085: '▁상승', 5086: '멎', 5087: '짬', 5088: '뺴', 5089: '▁브라질', 5090: '▁시달', 5091: '▁사냥', 5092: '▁구입', 5093: '”', 5094: '▁병원', 5095: '▁알려진', 5096: '▁살해', 5097: '▁제공', 5098: '군을', 5099: '빽', 5100: '▁워싱턴', 5101: '▁ch', 5102: '투표', 5103: '괘', 5104: '소에서', 5105: '▁진출', 5106: '민족', 5107: '낱', 5108: '▁화이트', 5109: '▁노력을', 5110: '훤', 5111: '▁재판', 5112: '안은', 5113: '떳', 5114: '정에서', 5115: 'ᅲᅲᅲᅲᅲᅲ', 5116: '숴', 5117: '명으로', 5118: '▁패배', 5119: 'av', 5120: 'ri', 5121: '댁', 5122: '▁이틀', 5123: '폭탄', 5124: '▁앤드', 5125: '만약', 5126: '▁요구', 5127: '▁걸쳐', 5128: '▁개도', 5129: '챔', 5130: '뮬', 5131: '하기를', 5132: '하겠다는', 5133: 'tion', 5134: '수지', 5135: '잼ᄏ', 5136: '▁학생들이', 5137: '졌다고', 5138: '▁인질', 5139: 'ec', 5140: '▁영화배우', 5141: '우리는', 5142: '명에', 5143: '프는', 5144: '▁만에', 5145: '▁정권', 5146: '▁관련된', 5147: 'ast', 5148: '▁이곳', 5149: '乃', 5150: '▁능력을', 5151: 'ime', 5152: '▁파티', 5153: '▁교회', 5154: '▁식당', 5155: '곧', 5156: '▁전시', 5157: '▁경찰은', 5158: '▁협박', 5159: '량의', 5160: '▁아르', 5161: '▁시작된', 5162: '꿰', 5163: '성장', 5164: '▁바르', 5165: '\\\\', 5166: '▁운전', 5167: '▁민주화', 5168: '괄', 5169: '쾅', 5170: '썸띵', 5171: '리조', 5172: '탱크', 5173: '팀이', 5174: '▁인사', 5175: '▁아카', 5176: '리포', 5177: '읎', 5178: '됏', 5179: '▁있음을', 5180: 'ᄏᄏᄏᄏᄏᄏᄏᄏᄏᄏᄏᄏᄏᄏᄏᄏ', 5181: '쳤다고', 5182: '렸다고', 5183: '률을', 5184: '꿉', 5185: '▁교통', 5186: '▁보낼', 5187: '▁옷을', 5188: 'se', 5189: '죵', 5190: '▁얼음', 5191: '쨔', 5192: '▁대처', 5193: '▁추모', 5194: '|', 5195: '서양', 5196: '▁1997', 5197: '스탄', 5198: '▁하락', 5199: '▁일으킨', 5200: '혔다', 5201: '돠', 5202: '▁무력', 5203: '▁이들', 5204: '첸', 5205: '▁일하는', 5206: '뿍', 5207: 'ᄏᄏᄏᄏᄏᄏᄏᄏᄏᄏᄏᄏᄏᄏᄏᄏᄏ', 5208: '▁전용', 5209: '댜', 5210: '→', 5211: '쑈', 5212: '멈', 5213: '▁가능성이', 5214: '▁성폭행', 5215: '넥', 5216: '노동', 5217: '벡', 5218: '▁29', 5219: '겔', 5220: '프의', 5221: '▁특정', 5222: '잼잼', 5223: '좃', 5224: '핥', 5225: '▁스콜세', 5226: '멤', 5227: '살의', 5228: '▁하루에', 5229: '뀔', 5230: '▁골드', 5231: '▁논란', 5232: '▁48', 5233: '▁시기에', 5234: 'ob', 5235: '샐', 5236: 'ack', 5237: '사일', 5238: '▁주문', 5239: '▁관계에', 5240: '뤠', 5241: '슥', 5242: '▁수행', 5243: '시코', 5244: '▁정해', 5245: '▁허락', 5246: '▁베를린', 5247: '르타', 5248: '부시', 5249: '뽀뽀', 5250: '▁토요일', 5251: '폄', 5252: '▁기간', 5253: '붉', 5254: '꽥꽥', 5255: '▁공군', 5256: '믓', 5257: '생활을', 5258: '▁1980', 5259: '횟', 5260: '♡♡♡', 5261: '잼ᄏᄏ', 5262: '맬', 5263: 'ly', 5264: '▁자리에서', 5265: '▁촉', 5266: '▁위치', 5267: 'ect', 5268: '▁매춘', 5269: '▁경고', 5270: '▁사업', 5271: 'ia', 5272: '타나', 5273: '멧', 5274: 'ab', 5275: '▁수상', 5276: '▁1970', 5277: '원으로', 5278: '▁35', 5279: 'ies', 5280: '세는', 5281: '큽', 5282: '▁멕시코', 5283: '수사', 5284: '▁비롯한', 5285: '▁시작했다', 5286: '국제', 5287: '르크', 5288: '관계를', 5289: '일부', 5290: '쁩', 5291: '쏜', 5292: '겅', 5293: '▁용의', 5294: '퐁', 5295: '▁참가', 5296: '▁미국인', 5297: 'oun', 5298: '▁변화를', 5299: '▁올해의', 5300: '찼', 5301: '▁물에', 5302: '▁처벌', 5303: '권에', 5304: '었으며', 5305: '▁자세한', 5306: '▁10%', 5307: '▁오픈', 5308: '륨', 5309: '▁트리', 5310: '시피', 5311: '▁시장', 5312: '▁강도', 5313: '▁기원', 5314: '▁프랑스의', 5315: '▁현재까지', 5316: '드에서', 5317: '▁부시', 5318: '섰', 5319: '대원', 5320: '녁', 5321: '▁작년', 5322: '▁헨', 5323: '▁세금', 5324: '▁수잔', 5325: 'ᄋᄏ', 5326: '▁그루', 5327: '만달러', 5328: '▁북한이', 5329: '▁구속', 5330: '♬', 5331: '▁자신들의', 5332: '▁내릴', 5333: '풉', 5334: '▁기능', 5335: '사전', 5336: '▁것이라는', 5337: '슬러', 5338: '▁방법을', 5339: '단체', 5340: '이라며', 5341: '▁알렉산', 5342: '글라', 5343: '▁떨어졌다', 5344: '▁마돈', 5345: '▁북극', 5346: 'ive', 5347: '▁폐기', 5348: '▁호주', 5349: '휠', 5350: 'km', 5351: '▁대륙', 5352: '▁이스라엘', 5353: '표를', 5354: '▁정교', 5355: '네스', 5356: '▁받기', 5357: '그룹', 5358: '▁이번주', 5359: '잰', 5360: '▁리처드', 5361: '옜', 5362: '▁받아들', 5363: '부와', 5364: '▁것이라고', 5365: '▁아파트', 5366: '했으며', 5367: '갤', 5368: '썹', 5369: 'orld', 5370: '▁직원', 5371: '툴', 5372: '플레이', 5373: '▁위협', 5374: '▁책임을', 5375: '더는', 5376: '겸', 5377: '▁둘러', 5378: 'ᄒᄒᄒᄒᄒ', 5379: '▁간의', 5380: '쳇', 5381: '▁명의', 5382: '▁산업', 5383: '▁작성', 5384: '굽', 5385: '국으로', 5386: '▁약속', 5387: '▁le', 5388: '리노', 5389: '으로부터', 5390: '▁기업', 5391: '무를', 5392: '굶', 5393: '-2', 5394: '▁녹음', 5395: '당은', 5396: '▁남북', 5397: '▁맞서', 5398: '▁변화가', 5399: '▁이미지를', 5400: '유럽', 5401: 'ang', 5402: '너는', 5403: '^^♥', 5404: '▁미사일', 5405: '▁집으로', 5406: 'ᄊᄅᄀ', 5407: '▁공정', 5408: '뷁', 5409: '샛', 5410: ',000', 5411: '』', 5412: '뻣뻣', 5413: '임스', 5414: '깽', 5415: '▁휴대폰', 5416: '▁돌파', 5417: '텨', 5418: '▁힌', 5419: '▁힐러리', 5420: '되었고', 5421: '힝', 5422: '▁자국', 5423: 'ᅲᅲᅲᅲᅲᅲᅲ', 5424: '인들을', 5425: '▁여학생', 5426: '뒷', 5427: '▁전직', 5428: 'ong', 5429: 'ge', 5430: '▁결과를', 5431: '▁여성을', 5432: '아시아', 5433: '훑', 5434: '▁군사', 5435: '보호', 5436: '웡', 5437: '▁이명박', 5438: '▁출시', 5439: '▁바이러스', 5440: '▁켈', 5441: '모리', 5442: '닼ᄏᄏᄏ', 5443: 'ᅧ', 5444: '▁예비', 5445: '▁예를', 5446: '▁기울', 5447: '흣', 5448: '▁진영', 5449: '▁일으키', 5450: '낍', 5451: '돔', 5452: '▁생활을', 5453: '시키기', 5454: '▁이들은', 5455: '쒯', 5456: '▁목표', 5457: '덱', 5458: '▁바라고', 5459: '르코', 5460: '춥', 5461: '▁지방', 5462: '달을', 5463: '챈', 5464: '▁디지털', 5465: 'ᅭ', 5466: '▁미국을', 5467: '▁주로', 5468: '원들이', 5469: '▁스튜', 5470: '세력', 5471: '샵', 5472: '▁오후', 5473: '▁챔피언', 5474: '▁문제의', 5475: '금으로', 5476: 'em', 5477: '똘똘', 5478: '▁물리', 5479: '기업', 5480: '▁김대중', 5481: '▁연설', 5482: '▁디스', 5483: '▁보냈', 5484: '건을', 5485: '대통령', 5486: '깼', 5487: '▁뒤를', 5488: '율은', 5489: '▁입양', 5490: '▁33', 5491: '▁대답', 5492: '넛', 5493: '조직', 5494: '▁시티', 5495: '꽈', 5496: '▁변호사', 5497: '셔널', 5498: '헨', 5499: '▁그에게', 5500: '▁기쁘', 5501: '▁보인', 5502: '▁다이애나', 5503: '▁메르', 5504: '떳떳', 5505: '▁투입', 5506: '▁신문', 5507: 'ᅮᅳ', 5508: '뿅', 5509: '▁쌀', 5510: '.)', 5511: '끽', 5512: '툭툭', 5513: '홥', 5514: '▁화성', 5515: '▁민간', 5516: '▁피해를', 5517: '▁충돌', 5518: '▁민감', 5519: '▁사용한', 5520: '『', 5521: '▁북한을', 5522: '▁라이트', 5523: '활동', 5524: '▁질문을', 5525: '▁후보', 5526: '▁열차', 5527: '、', 5528: '뉜', 5529: '▁개선', 5530: '▁도쿄', 5531: 'ᅦ', 5532: 'ᅲᅲ♥', 5533: '티아', 5534: '▁캔', 5535: '졷', 5536: '▁현지', 5537: '▁당했다', 5538: '▁관광', 5539: '넴', 5540: '▁1999', 5541: '▁전부터', 5542: '▁브라운', 5543: '뻗', 5544: '햅', 5545: '▁with', 5546: '▁꺾', 5547: '쏟', 5548: '▁여겨', 5549: '첨단', 5550: '짱♥', 5551: '괞', 5552: '▁사람들과', 5553: '했기', 5554: '▁국가의', 5555: '꺽', 5556: '콱', 5557: '사관', 5558: '▁증언', 5559: '▁상대로', 5560: '갯', 5561: '▁머물', 5562: '▁헬기', 5563: '괸', 5564: '파로', 5565: '륙', 5566: '▁같다고', 5567: '▁않기', 5568: '쯧쯧쯧', 5569: '▁ex', 5570: '얍', 5571: '▁월요일', 5572: '눕', 5573: '▁않는다면', 5574: '▁헨리', 5575: '앜', 5576: 'ation', 5577: '쎈', 5578: '워크', 5579: '병을', 5580: '융', 5581: '▁상태로', 5582: '▁수단', 5583: '▁이사', 5584: '▁도달', 5585: '걷', 5586: '꼐', 5587: '▁올랐', 5588: '헴', 5589: '라미', 5590: '▁상품', 5591: '▁걸친', 5592: '촛', 5593: '▁장식', 5594: '퉷', 5595: '▁국정', 5596: '▁비공', 5597: '냔', 5598: '▁대통령이', 5599: '페인', 5600: '▁이는', 5601: '▁예정', 5602: '▁이익', 5603: '앍', 5604: '군과', 5605: '▁며', 5606: '커는', 5607: '핡', 5608: '멱', 5609: '팰', 5610: '티스', 5611: '왁', 5612: '쫑', 5613: '▁분리', 5614: '▁1996', 5615: '주년', 5616: '▁점차', 5617: '쥑', 5618: '산업', 5619: '퓨터', 5620: '▁리그', 5621: '슬림', 5622: '▁실질', 5623: '▁아이폰', 5624: '▁주장', 5625: '백만', 5626: '▁요구하는', 5627: '▁의사가', 5628: '츠는', 5629: '읭', 5630: '▁받게', 5631: '▁쇠', 5632: '▁의료', 5633: '▁pl', 5634: '껑', 5635: '▁스웨덴', 5636: '▁중앙', 5637: '핳', 5638: '렜', 5639: '사들은', 5640: '▁시에', 5641: '▁노르', 5642: 'ud', 5643: 'ᄎ', 5644: '▁폐쇄', 5645: '▁여성이', 5646: '▁대화를', 5647: '컵', 5648: '▁오사', 5649: '▁론', 5650: '▁고든', 5651: '▁관해', 5652: '▁역사적인', 5653: '▁작전', 5654: '▁제기', 5655: '▁부부가', 5656: '혓', 5657: '▁다이아몬', 5658: '유지', 5659: '▁얻기', 5660: '서부', 5661: '랖', 5662: '▁환자', 5663: '▁상을', 5664: '꿋꿋', 5665: '▁겪고', 5666: '당의', 5667: '내에', 5668: '거래', 5669: '▁총기', 5670: '▁테이프', 5671: '윅', 5672: '▁앓', 5673: '▁이집트', 5674: 'ᅲᅳᅲ', 5675: '땔', 5676: '▁찬성', 5677: '▁동반', 5678: '▁생산', 5679: 'TA', 5680: '▁와인', 5681: '▁매장', 5682: '▁32', 5683: '대회', 5684: '▁텔레', 5685: '▁불리는', 5686: '▁해당', 5687: '▁번째', 5688: '섀', 5689: '▁무사', 5690: 'ᄏᄏᄏᄏᄏᄏᄏᄏᄏᄏᄏᄏᄏᄏᄏᄏᄏᄏᄏᄏ', 5691: '▁불을', 5692: '십자', 5693: '▁세워', 5694: '줏', 5695: '▁그러한', 5696: '▁경비', 5697: 'ᄁ', 5698: 'ip', 5699: 'tic', 5700: 'ᄉᄁ', 5701: '▁얻었다', 5702: '놧', 5703: '▁입증', 5704: '넝', 5705: '▁무죄', 5706: '▁51', 5707: '▁출동', 5708: 'cm', 5709: '뒹', 5710: '칵', 5711: '^^^', 5712: '꺠', 5713: '▁sp', 5714: '▁설치', 5715: '▁an', 5716: '▁뜻을', 5717: '▁사진을', 5718: '훈련', 5719: '▁공무', 5720: '▁동성', 5721: '뿐만아니라', 5722: '▁전사', 5723: '▁덧붙', 5724: '▁트레이', 5725: '텍', 5726: '▁레이스', 5727: '무부', 5728: '사이트', 5729: '닼ᄏᄏ', 5730: '벳', 5731: '쑥', 5732: '▁임무', 5733: '▁있으며', 5734: '{', 5735: '}', 5736: '란드', 5737: '▁후세', 5738: '뼈', 5739: '▁이번이', 5740: '▁화산', 5741: '▁이론', 5742: '▁피고', 5743: '트에서', 5744: '뒈', 5745: '흩', 5746: '불어', 5747: '▁목격', 5748: '▁유세', 5749: '▁사건은', 5750: '▁상반', 5751: '짰', 5752: '▁회장', 5753: '▁서비스', 5754: '▁가스', 5755: '▁엘리자베스', 5756: '▁St', 5757: '▁아베', 5758: '▁리버', 5759: '▁폭탄', 5760: '故', 5761: '▁사고가', 5762: '눔', 5763: '닼', 5764: '나우', 5765: '쪙', 5766: '뀜', 5767: '▁중단', 5768: '▁화재', 5769: '닛', 5770: '▁조종', 5771: '▁위원회', 5772: 'co', 5773: '▁고조', 5774: '잼ᄏᄏᄏ', 5775: '츤', 5776: '▁모인', 5777: '▁팔레스타인', 5778: '욥', 5779: '뎃', 5780: '▁걱', 5781: '▁에너지', 5782: '도우', 5783: '▁194', 5784: '▁배출', 5785: '▁36', 5786: '껌', 5787: '▁접속', 5788: '▁텔', 5789: '냐는', 5790: '▁전역', 5791: '▁중국은', 5792: '▁스미스', 5793: '▁사건에', 5794: '▁듀', 5795: '실험', 5796: '▁오염', 5797: '▁비상', 5798: '꺅', 5799: '▁휩', 5800: '▁150', 5801: '챤', 5802: '헵', 5803: '▁선보', 5804: '앰', 5805: '롹', 5806: '잼^^', 5807: 'qu', 5808: '툼', 5809: '▁알려져', 5810: '▁계속되는', 5811: '쨰', 5812: '▁공연을', 5813: '생물', 5814: '였으며', 5815: '▁대통령의', 5816: '▁이로', 5817: 'ᅣ', 5818: '▁피라미', 5819: '▁갤', 5820: '▁의무', 5821: '촉', 5822: '▁카르', 5823: 'one', 5824: '▁도착', 5825: '▁최고가', 5826: '▁디자이너', 5827: '년과', 5828: '▁31', 5829: '▁명이', 5830: '▁해변', 5831: '▁노조', 5832: '♡♡♡♡', 5833: '▁마감', 5834: 'ᅩᅩ', 5835: '베스', 5836: '욬ᄏᄏᄏ', 5837: '쭈쭈', 5838: '▁날씨', 5839: '▁아랍', 5840: '▁정부가', 5841: '작업', 5842: '격한', 5843: '▁담당', 5844: '$', 5845: '▁양성', 5846: '쫘', 5847: '단에', 5848: '뱅크', 5849: '▁이끄는', 5850: '잦', 5851: 'EA', 5852: '밓', 5853: '▁영국의', 5854: '엌', 5855: '▁의견을', 5856: '▁지휘', 5857: '▁박물관', 5858: '훠', 5859: '▁일정', 5860: '결을', 5861: '▁중국을', 5862: '▁구제', 5863: '앱', 5864: '▁애플', 5865: '▁중에는', 5866: '▁풀려', 5867: '▁중인', 5868: '▁곳을', 5869: '▁하와', 5870: '▁유사한', 5871: 'ac', 5872: '무장', 5873: '▁한반도', 5874: '▁아기를', 5875: '미터', 5876: '▁교황', 5877: 'ht', 5878: '쫓', 5879: '썪', 5880: '쏭', 5881: '▁개입', 5882: '▁사용하는', 5883: '볶', 5884: '짊', 5885: 'ᄍᄍᄍᄍ', 5886: '벚', 5887: '팟', 5888: '▁50%', 5889: '일간', 5890: '2009', 5891: 'ark', 5892: '▁거절', 5893: '▁de', 5894: '리키', 5895: 'ine', 5896: '선언', 5897: '읊', 5898: '▁확보', 5899: '▁주장하는', 5900: '승을', 5901: '▁장례', 5902: '▁캐나다', 5903: 'ᄁᄌ', 5904: '마일', 5905: '^^♡', 5906: '▁수출', 5907: '아메', 5908: '됐다는', 5909: '▁분야', 5910: '-3', 5911: '사태', 5912: '정책', 5913: 'SA', 5914: 'ᄀᄀᄀ', 5915: '▁패트릭', 5916: '▁차를', 5917: 'ib', 5918: '잴', 5919: 'end', 5920: '▁구출', 5921: '▁관계자', 5922: '▁산악', 5923: '▁북미', 5924: '▁매들린', 5925: '▁않다고', 5926: 'ᄆᄌᄒ', 5927: '▁응급', 5928: '랗', 5929: '▁이라크', 5930: '▁디지', 5931: '▁점령', 5932: '깟', 5933: '▁쿠퍼', 5934: '됐다고', 5935: 'ᆞ', 5936: '▁달성', 5937: '괘씸', 5938: '▁적용', 5939: '▁긍정적인', 5940: '▁보복', 5941: '괭', 5942: '▁판매', 5943: '▁이산', 5944: '뭄', 5945: '후보', 5946: '▁방법으로', 5947: '無', 5948: '▁물을', 5949: '▁방송은', 5950: '식에서', 5951: '▁41', 5952: '▁목표를', 5953: '쌓', 5954: '기록', 5955: '령은', 5956: '▁이른', 5957: '▁유죄', 5958: '▁찰스', 5959: '뺄', 5960: 'ue', 5961: '▁런던', 5962: '▁사실상', 5963: 'ᄏᄏᄏᄏᄏᄏᄏᄏᄏᄏᄏᄏᄏᄏᄏᄏᄏᄏᄏᄏᄏ', 5964: '▁신용', 5965: 'ate', 5966: '▁독일의', 5967: 'ion', 5968: '▁민주', 5969: '▁he', 5970: '▁차례', 5971: '▁구축', 5972: '▁성과', 5973: '숟', 5974: '위인', 5975: '▁45', 5976: 'age', 5977: '▁도움을', 5978: '▁FBI', 5979: '▁오전', 5980: '▁기관', 5981: 'and', 5982: '▁정책', 5983: '▁사각', 5984: '^ᅳ^', 5985: '빴', 5986: 'iss', 5987: '▁민간인', 5988: '▁응답', 5989: '평화', 5990: '▁세계대전', 5991: '▁국회의', 5992: '▁벌인', 5993: '닼ᄏ', 5994: '영상을', 5995: '기관', 5996: 'old', 5997: '▁에이즈', 5998: '▁이집', 5999: '▁통과', 6000: '함으로써', 6001: '▁뿐만아니라', 6002: '군에', 6003: '▁곳으로', 6004: '▁측은', 6005: '▁카페', 6006: '츈', 6007: '▁목적으로', 6008: '▁전략', 6009: '▁장악', 6010: '▁삼성', 6011: '소속', 6012: 'ary', 6013: 'http', 6014: '죨', 6015: '덟', 6016: '경기', 6017: '팥', 6018: '▁78', 6019: '▁출산', 6020: '▁불구', 6021: '▁국가가', 6022: '잌', 6023: '콰', 6024: '(2', 6025: '자들에', 6026: '뺑', 6027: '센터', 6028: '▁경찰에', 6029: '▁주차', 6030: '헥', 6031: '쌉', 6032: '지대', 6033: '재판', 6034: '▁궤', 6035: '웹', 6036: '▁재정', 6037: '▁펀', 6038: '▁Ch', 6039: 'ist', 6040: '▁정치적인', 6041: '숏', 6042: '▁한반', 6043: '▁금융', 6044: 'ub', 6045: '웜', 6046: '▁로비', 6047: '▁자신들이', 6048: '꿇', 6049: '▁노동자', 6050: '차로', 6051: '▁태풍', 6052: '촘촘', 6053: '▁사살', 6054: '▁비용', 6055: '▁지시', 6056: '▁국가를', 6057: 'ᄒᄒᄒᄒᄒᄒ', 6058: '▁허용', 6059: '▁소송', 6060: '▁정부는', 6061: '믈', 6062: '쳣', 6063: 'ath', 6064: '▁트럭', 6065: '▁개방', 6066: '년부터', 6067: '▁인용', 6068: '튼은', 6069: '딛', 6070: '애나', 6071: '▁취소', 6072: '<<', 6073: 'ace', 6074: '경제', 6075: '뤼', 6076: '▁로저', 6077: '프리카', 6078: 'The', 6079: '▁교체', 6080: '▁칠레', 6081: '뛸', 6082: '▁말했다', 6083: '▁다우', 6084: '▁로켓', 6085: '텅텅', 6086: '▁되찾', 6087: '▁테러를', 6088: '▁세계적으로', 6089: '만명', 6090: '엌ᄏᄏ', 6091: '▁저항', 6092: '엘라', 6093: '챘', 6094: '훼손', 6095: '▁취재', 6096: '찹', 6097: 'ᄒᄃᄃᄃ', 6098: '달러', 6099: '▁Sh', 6100: '트너', 6101: '▁문제에', 6102: '▁결론을', 6103: '▁195', 6104: '촐', 6105: '▁테러범', 6106: 'ᄏᄏᄏᄏᄏᄏᄏᄏᄏᄏᄏᄏᄏᄏᄏᄏᄏᄏ', 6107: '마리가', 6108: '▁참여한', 6109: '▁계약', 6110: '▁블레어', 6111: '▁물러', 6112: '자들과', 6113: 'ity', 6114: '▁대항', 6115: '담당', 6116: '컹', 6117: '▁내년', 6118: '찟', 6119: '쥰', 6120: '흰', 6121: '떵', 6122: '▁개의', 6123: '롸', 6124: '▁필리핀', 6125: '▁저장', 6126: '하겠다고', 6127: '▁멸종', 6128: 'res', 6129: '▁코리아', 6130: 'kg', 6131: '겪', 6132: '원인', 6133: '렙', 6134: '▁벌어진', 6135: '클리', 6136: '▁LA', 6137: '▁감지', 6138: '숫', 6139: '▁상하이', 6140: '뫼', 6141: '탈리아', 6142: '끙', 6143: '▁희생자', 6144: '퀵', 6145: '군은', 6146: '숩', 6147: '▁쇼핑', 6148: 'und', 6149: '옌', 6150: '▁중국에', 6151: '찝', 6152: 'ᄑ', 6153: '▁용의자', 6154: '▁마지', 6155: '▁달러', 6156: '▁문을', 6157: '▁온라인', 6158: '엊', 6159: '▁근처', 6160: '▁권리를', 6161: '▁내려야', 6162: '=2', 6163: '▁약물', 6164: '▁기원합니다', 6165: '뽐', 6166: 'ers', 6167: '▁동영상을', 6168: '▁배치', 6169: '좔좔', 6170: '쎼', 6171: '엾', 6172: '盧', 6173: '촤', 6174: '▁수용', 6175: '챠', 6176: '▁무기를', 6177: '▁덴마크', 6178: '▁고객', 6179: '▁문제로', 6180: '마리의', 6181: '▁보안', 6182: '▁9.11', 6183: '▁앨범', 6184: '▁않았다고', 6185: '골을', 6186: 'OR', 6187: '▁베네', 6188: '국적', 6189: '▁않는다고', 6190: '이었다고', 6191: '룽', 6192: '▁세르', 6193: '▁스위', 6194: '쭝', 6195: '▁병원에서', 6196: '▁대통령은', 6197: '▁받아들일', 6198: '좇', 6199: '챦', 6200: '덮', 6201: '스트리트', 6202: 'ag', 6203: '▁여론', 6204: '▁케네디', 6205: '女', 6206: '년까지', 6207: '텼', 6208: '▁텍사스', 6209: '▁통화', 6210: '▁평화를', 6211: 'ᄋᄋᄋᄋ', 6212: '차례', 6213: '잼♥', 6214: '옅', 6215: '돕', 6216: '▁부대', 6217: '▁운영', 6218: '▁지불', 6219: '빡빡', 6220: '랠', 6221: '▁변경', 6222: '옮', 6223: '▁라이벌', 6224: '꿧', 6225: '▁49', 6226: '▁관중', 6227: 'ail', 6228: '▁반응을', 6229: '▁34', 6230: '▁프로그램을', 6231: '삥', 6232: '▁국민들이', 6233: '▁결과에', 6234: '스템', 6235: '한을', 6236: '▁비키', 6237: '▁전염', 6238: '▁카를', 6239: '▁폭행', 6240: '▁당선', 6241: '▁지목', 6242: '▁보험', 6243: '밋겟', 6244: 'ard', 6245: '▁준비가', 6246: '▁발굴', 6247: '▁사이트', 6248: '▁것이고', 6249: '▁밖에서', 6250: '▁맞이', 6251: '▁시위', 6252: '븅', 6253: '▁서브', 6254: '▁차량', 6255: '♥♥♥♥♥', 6256: '.11', 6257: '▁요청', 6258: '▁고립', 6259: '▁성공을', 6260: '몆', 6261: '▁중국에서', 6262: '▁음식을', 6263: '▁발사', 6264: '이슬', 6265: '1)', 6266: '궂', 6267: '▁페루', 6268: '▁줄어들', 6269: '졉', 6270: '▁박물', 6271: 'ᅳᅳᅳ', 6272: '뮈', 6273: '▁감시', 6274: '령을', 6275: \"▁''\", 6276: '▁400', 6277: '쥴', 6278: 'ᅲᅲᅮ', 6279: '빰', 6280: '▁데이비', 6281: '▁수익', 6282: '▁올림픽', 6283: '▁고아원', 6284: '▁대응', 6285: '▁니콜라', 6286: '▁직면', 6287: '▁랭킹', 6288: '♪', 6289: 'ᄏᄏᄏᄏᄏᄏᄏᄏᄏᄏᄏᄏᄏᄏᄏᄏᄏᄏᄏᄏᄏᄏᄏᄏᄏ', 6290: '벵', 6291: '녜', 6292: '▁지급', 6293: '경찰이', 6294: '▁겨냥', 6295: '슛', 6296: '뙇', 6297: '▁피해가', 6298: '팁', 6299: '에따라', 6300: '▁태평양', 6301: '▁근로', 6302: '▁주가', 6303: '▁비서', 6304: '▁추측', 6305: '>>', 6306: '연합', 6307: '♥♡♥♡♥♡♥♡♥♡♥', 6308: '러시아', 6309: '▁축제', 6310: 'ᅩᅩᅩ', 6311: '▁사고로', 6312: '>>>>', 6313: '▁의혹', 6314: '▁가입', 6315: '▁과정에서', 6316: '▁위험에', 6317: '묶', 6318: '개발', 6319: 'ice', 6320: '▁권력을', 6321: '베트', 6322: '▁영양', 6323: '▁됐다고', 6324: '▁고위', 6325: '▁선거', 6326: '▁터키', 6327: 'ᅲᅲᅲᅲᅲᅲᅲᅲ', 6328: '짦', 6329: '▁브랜드', 6330: '▁전인', 6331: '▁55', 6332: 'ᄋᄂ', 6333: '▁난민', 6334: '▁ac', 6335: '앞서', 6336: 'ᅳ^', 6337: '뽜', 6338: '▁가격', 6339: '▁자신은', 6340: '▁보조', 6341: '마크', 6342: '▁노력하고', 6343: '▁거두', 6344: '▁진입', 6345: '그램', 6346: '▁캄', 6347: '▁소매', 6348: '띤', 6349: '셩', 6350: '되었다고', 6351: '▁38', 6352: '▁방안', 6353: '▁캠프', 6354: '냇', 6355: '▁증거가', 6356: '2007', 6357: '▁In', 6358: '▁세계적', 6359: '▁군부', 6360: '뽄', 6361: '▁해고', 6362: '▁착륙', 6363: '▁제공하는', 6364: '삿', 6365: '▁초래', 6366: '▁마찬', 6367: 'ᄏᄀᄏ', 6368: '▁카라', 6369: '▁경찰서', 6370: '겟썸', 6371: '▁대의', 6372: '▁대해서는', 6373: '찿', 6374: '▁서방', 6375: '▁가로', 6376: '폈', 6377: '▁중동', 6378: '▁휩싸', 6379: '▁존슨', 6380: '욬ᄏᄏ', 6381: '▁58', 6382: '멌', 6383: '▁한나라', 6384: '찡찡', 6385: '계획', 6386: '젯', 6387: '▁130', 6388: 'ᄏᄏᄏᄏᄏᄏᄏᄏᄏᄏᄏᄏᄏᄏᄏᄏᄏᄏᄏ', 6389: 'ans', 6390: '▁사태', 6391: '켰다', 6392: '▁프라이', 6393: '▁해양', 6394: '▁합법', 6395: '됄', 6396: '갇', 6397: '▁작전을', 6398: '▁회의', 6399: '핼', 6400: '▁will', 6401: '▁서울에서', 6402: '▁공모', 6403: '▁주간', 6404: '▁보인다고', 6405: '낰ᄏ', 6406: '▁위해서는', 6407: '맵', 6408: '▁수를', 6409: '▁밖으로', 6410: '왼', 6411: '▁생물', 6412: '▁빈곤', 6413: '▁파업', 6414: '깰', 6415: '▁Un', 6416: '단에서', 6417: '뇽', 6418: '넼ᄏᄏᄏ', 6419: '▁스미', 6420: '▁아웅산', 6421: '▁52', 6422: '▁수요일', 6423: '▁유로', 6424: '캉', 6425: '▁용납', 6426: '욯', 6427: '▁수상한', 6428: '▁실행', 6429: '▁이르', 6430: '▁이송', 6431: '셔츠', 6432: '▁스프', 6433: '넓', 6434: '▁국회의원', 6435: '쨉', 6436: '▁신체', 6437: 'ance', 6438: '깸', 6439: '헀', 6440: '▁아스', 6441: '그들은', 6442: '▁PP', 6443: '밌잖', 6444: '▁없었다고', 6445: '억원', 6446: '▁어려움을', 6447: '▁북한에', 6448: '앜ᄏ', 6449: '▁예약', 6450: '욀', 6451: '르토', 6452: '넼ᄏᄏᄏᄏ', 6453: '교도', 6454: 'ld', 6455: '▁감금', 6456: '▁반대하는', 6457: '.12', 6458: '×', 6459: '연금', 6460: '▁아웅', 6461: '▁페르', 6462: '▁답변', 6463: '▁거래', 6464: '뉴스', 6465: '▁둘러싼', 6466: '▁단계', 6467: '▁공을', 6468: '곘', 6469: '▁방콕', 6470: '▁부사', 6471: '횡', 6472: '▁진행되고', 6473: '▁부상', 6474: 'ᅡᄋ', 6475: '펫', 6476: 'IN', 6477: '▁세력', 6478: '▁제거', 6479: '퐝', 6480: 'oll', 6481: 'ear', 6482: '▁동맹', 6483: '되자', 6484: 'ild', 6485: '▁전날', 6486: '▁정보를', 6487: '▁스리', 6488: 'ᆞᆞ', 6489: '▁탈레반', 6490: '▁결정을', 6491: '▁빈민', 6492: '▁판사', 6493: '▁확대', 6494: '▁노스', 6495: 'BA', 6496: '▁국민들의', 6497: '쏩', 6498: '일랜드', 6499: '러한', 6500: 'ᄇᄃᄇᄃ', 6501: '퉤퉤', 6502: '킈', 6503: 'ᄏᄒ', 6504: '눅눅', 6505: '▁크리스토', 6506: '샨', 6507: '▁경호', 6508: '▁위반', 6509: '▁여부를', 6510: '▁전자', 6511: '쿰', 6512: '▁기지', 6513: '▁과격', 6514: '카에', 6515: '.03', 6516: '▁장관', 6517: 'ᄆᄂᄋᄅ', 6518: '▁온몸으로', 6519: '▁휴가를', 6520: '긍정', 6521: '中', 6522: '▁왕실', 6523: '▁화학', 6524: '섰다', 6525: '▁이양', 6526: '▁집을', 6527: '▁음주', 6528: '2005', 6529: '뵜', 6530: '젛', 6531: '캇', 6532: '▁승려', 6533: 'ᄆᄋ', 6534: '쌕', 6535: '▁계열', 6536: '꼰', 6537: '▁스코', 6538: '았으며', 6539: '잏', 6540: '>ᄆ', 6541: '>ᄆ<', 6542: 'ᄏᄏᄏᄀ', 6543: '대학', 6544: '얇', 6545: '▁있었다고', 6546: '안전', 6547: '▁마카', 6548: '헸', 6549: 'ᅮᅮᅲ', 6550: '▁거주', 6551: '▁낸시', 6552: '▁기상', 6553: '▁팀이', 6554: '▁통치', 6555: '▁힐러', 6556: '넙', 6557: '쉼', 6558: '▁받았다고', 6559: 'ᅲᅮᅲ', 6560: '▁정기', 6561: '▁에드워', 6562: '땡땡', 6563: '▁해안', 6564: '▁로이', 6565: '욬ᄏ', 6566: '▁주도', 6567: '▁에도', 6568: '▁증가', 6569: '뽁', 6570: '▁PC', 6571: '▁앓고', 6572: '▁분열', 6573: 'ᄏᄃᄏᄃ', 6574: '낰ᄏᄏᄏᄏ', 6575: '넼ᄏᄏ', 6576: '▁입장을', 6577: '▁한국과', 6578: '쯩', 6579: '▁구글', 6580: '펼', 6581: '▁추방', 6582: 'ᄏ잼', 6583: '쩃', 6584: '▁협상', 6585: 'ᄄ', 6586: '돗', 6587: '▁무가', 6588: '▁소식', 6589: '셍', 6590: 'ᆪ', 6591: '떔', 6592: '▁밝힌', 6593: 'ᅥᄋ', 6594: '앜ᄏᄏᄏ', 6595: '▁진압', 6596: '숲', 6597: 'ort', 6598: '케인', 6599: '웽', 6600: '▁발생하는', 6601: '띨', 6602: '▁레스토랑', 6603: '닼ᄏᄏᄏᄏ', 6604: 'pp', 6605: 'ᅳᅳᄏᄏ', 6606: '▁토론', 6607: '▁공장', 6608: 'ᅮᅮ♥', 6609: '뎈ᄏᄏᄏ', 6610: '▁46', 6611: '넼', 6612: '▁비키니', 6613: '▁이슬', 6614: '먀', 6615: '▁질병', 6616: '▁인구', 6617: '▁여성은', 6618: 'ᄌᄉ', 6619: '.1%', 6620: 'ᄏᄏᄏᄏᄏᄏᄏᄏᄏᄏᄏᄏᄏᄏᄏᄏᄏᄏᄏᄏᄏᄏᄏᄏᄏᄏᄏᄏᄏ', 6621: '▁것이며', 6622: '장관', 6623: '쳥', 6624: '▁직후', 6625: 'meric', 6626: '쉿', 6627: '읏', 6628: '▁것이라', 6629: '▁기자는', 6630: '▁후임', 6631: '▁애완', 6632: 'ᄌᄆ', 6633: '▁에는', 6634: '▁인하', 6635: '▁반정부', 6636: '짱♥♥', 6637: '▁자신과', 6638: 'ᅵᄋ', 6639: '▁행위를', 6640: '▁보관', 6641: '▁표를', 6642: '▁강화', 6643: '갭', 6644: '다드', 6645: '▁3000', 6646: '란시', 6647: '얔ᄏᄏ', 6648: '짱ᄏᄏ', 6649: '▁상태가', 6650: 'ure', 6651: '▁콜롬비아', 6652: '▁사육', 6653: 'ᄇᄇ', 6654: '▁언론이', 6655: '▁버마', 6656: '쌈빡', 6657: '▁달라이라마', 6658: '▁고용', 6659: '▁자문', 6660: '▁포함되어', 6661: 'ᄀᄉ', 6662: '▁시민들이', 6663: '▁이스라엘의', 6664: '잼썻', 6665: '▁장을', 6666: '명에게', 6667: '▁구체', 6668: 'ᅳᅳᅳᅳ', 6669: '▁시행', 6670: '▁천연', 6671: '늣', 6672: '▁블로그', 6673: 'ᅲ♥', 6674: '▁발표', 6675: '밌겟', 6676: '▁250', 6677: '빳', 6678: '▁포함해', 6679: '▁줄기', 6680: '▁철수', 6681: '녓', 6682: '▁방문', 6683: '▁현장에서', 6684: '몀', 6685: '▁내부', 6686: '셀로', 6687: 'ᅲᅲᅲᅲᅲᅲᅲᅲᅲᅲ', 6688: '▁하마', 6689: '▁대회', 6690: '▁뉴질랜드', 6691: '쓱', 6692: '▁지난주', 6693: 'ian', 6694: '튈', 6695: '츰', 6696: '▁언론에', 6697: '훔', 6698: 'ᄃᄃᄃᄃᄃᄃ', 6699: '▁시신', 6700: '휙휙', 6701: 'ire', 6702: 'ᄏᄏᄏᄏᄏᄏᄏᄏᄏᄏᄏᄏᄏᄏᄏᄏᄏᄏᄏᄏᄏᄏᄏ', 6703: '갸륵', 6704: '▁불만을', 6705: '▁생물학', 6706: '▁행사', 6707: '▁휴전', 6708: 'ᅮᅳᅮ', 6709: '▁조류', 6710: '.01', 6711: '몃', 6712: '▁선고', 6713: '▁검찰', 6714: '회담', 6715: '▁업무', 6716: 'aw', 6717: '쟎', 6718: '▁대통령을', 6719: '꺅꺅', 6720: '만명이', 6721: '라크', 6722: '라디', 6723: '▁후원', 6724: 'ᄏᄏᄏᄏᄏᄏᄏᄏᄏᄏᄏᄏᄏᄏᄏᄏᄏᄏᄏᄏᄏᄏ', 6725: '▁대량', 6726: '▁전력', 6727: '녈', 6728: 'ress', 6729: '캘', 6730: '▁조사', 6731: 'ᄎᄎ', 6732: '^ᄆ^', 6733: '^♥', 6734: '▁맡고', 6735: '갬', 6736: '▁수요', 6737: '잽', 6738: '▁방지', 6739: '▁바이러', 6740: '▁투어', 6741: '▁재산', 6742: '▁복구', 6743: 'ake', 6744: '▁대선', 6745: '조사', 6746: '땃', 6747: '꾹꾹', 6748: '▁선언', 6749: '▁힐튼', 6750: '2)', 6751: '칀', 6752: '▁기구', 6753: '▁취할', 6754: '쌌', 6755: '▁북한은', 6756: '▁거쳐', 6757: '▁상호', 6758: '뗀', 6759: '햏햏', 6760: '킁', 6761: '▁그랜드', 6762: '▁프레스', 6763: '▁남성이', 6764: '▁태도를', 6765: '헹', 6766: '▁군중', 6767: '▁강력히', 6768: 'ves', 6769: '욬ᄏᄏᄏᄏ', 6770: '▁지정', 6771: '▁보건', 6772: '▁봉사', 6773: 'ᄏᄏᄏ짱', 6774: '▁버지니아', 6775: '▁수의', 6776: '。。', 6777: '부양', 6778: '앟', 6779: '▁네덜란드', 6780: '▁애완견', 6781: '非', 6782: '▁시아', 6783: '훙', 6784: '일까지', 6785: '숍', 6786: '앎', 6787: '캄', 6788: '얙', 6789: 'ᄒᄉᄒ', 6790: '▁포함한', 6791: 'ᅪ', 6792: '췬', 6793: 'ᄏᄀ', 6794: '^ᄋ^', 6795: '얏', 6796: '▁호주의', 6797: '▁폭탄을', 6798: '▁승리한', 6799: 'OC', 6800: '▁전당', 6801: '쫗', 6802: '▁대규모', 6803: '앴', 6804: '▁정책을', 6805: 'ᄉᄏ', 6806: '뗼', 6807: '깠', 6808: '▁사담', 6809: '▁폴란드', 6810: '▁소환', 6811: '▁800', 6812: '▁딕', 6813: '곸ᄏᄏᄏᄏ', 6814: '눼', 6815: '맟', 6816: '하기로', 6817: '▁측정', 6818: '킁킁', 6819: '년에서', 6820: 'づ', 6821: '̄', 6822: '▁규모가', 6823: '▁시장이', 6824: '주에서', 6825: '▁국영', 6826: '잼밌', 6827: '업체', 6828: '○○○', 6829: '▁러시아의', 6830: '궐', 6831: '▁전세계적으로', 6832: '갉', 6833: '욯ᄒᄒᄒ', 6834: 'ᅮᅮᅮᅮᅮᅮᅮ', 6835: '읔', 6836: 'ence', 6837: 'ON', 6838: '▁회사의', 6839: '▁전문가들은', 6840: '▁대가로', 6841: '▁화재가', 6842: '끕', 6843: '핳핳', 6844: '▁위기를', 6845: '쎌', 6846: '깽깽', 6847: '▁승리를', 6848: '퐈', 6849: '^^^^', 6850: '▁서비', 6851: '쥘', 6852: '▁조종사', 6853: '공격', 6854: 'ᄀᄎ', 6855: '탬', 6856: '▁회사가', 6857: '>>>', 6858: '갛', 6859: '▁1994', 6860: '^^ᄒ', 6861: '▁옐', 6862: '낑', 6863: '▁국경', 6864: '눙', 6865: '▁계획을', 6866: '신수', 6867: '챔피언', 6868: '▁음반', 6869: '체스터', 6870: '좐', 6871: '▁예정된', 6872: '뉠', 6873: '▁차지하고', 6874: '▁작용', 6875: '▁73', 6876: '▁프린', 6877: '▁관련이', 6878: 'ith', 6879: '▁소득', 6880: '켬', 6881: '엌ᄏᄏᄏ', 6882: '욯ᄒᄒ', 6883: '▁자금', 6884: '쌩쑈', 6885: '▁이달', 6886: '▁허리', 6887: '쉅', 6888: '▁국경을', 6889: '▁혜택', 6890: '▁통신', 6891: '▁케네', 6892: '슭', 6893: '갰', 6894: '▁전면', 6895: '▁잉글랜드', 6896: 'ᅲᅲᄏ', 6897: '찻', 6898: '▁예상했다', 6899: '▁전화를', 6900: '텃', 6901: '맣', 6902: '▁호텔에서', 6903: '넼ᄏ', 6904: '떈', 6905: '▁미국과', 6906: '쩡쩡', 6907: '꿍', 6908: '▁유출', 6909: 'ep', 6910: '터키', 6911: 'ᄏᄏᄏᄏᄏᄏᄏᄏᄏᄏᄏᄏᄏᄏᄏᄏᄏᄏᄏᄏᄏᄏᄏᄏᄏᄏ', 6912: '얔ᄏ', 6913: '^^ᄏᄏ', 6914: '뽈', 6915: '▁않도록', 6916: '당과', 6917: '^^ᄏᄏᄏᄏ', 6918: '▁멤', 6919: 'ᅲᅳᅮ', 6920: '곶', 6921: '좉', 6922: '젋', 6923: '(7', 6924: '▁임시', 6925: 'ᄏᄏᄏᄏᄏᄏᄏᄏᄏᄏᄏᄏᄏᄏᄏᄏᄏᄏᄏᄏᄏᄏᄏᄏ', 6926: '▁40%', 6927: '뎈ᄏ', 6928: '▁김정일', 6929: '▁위협을', 6930: '뻬', 6931: '▁기술을', 6932: '▁인도네시아', 6933: '날두', 6934: '▁신청', 6935: '녘', 6936: '떡볶', 6937: '곸', 6938: '▁첼', 6939: '껄껄', 6940: '▁합류', 6941: '▁광산', 6942: '⌒⌒', 6943: '▁감소', 6944: 'ᄋᄇ', 6945: '▁37', 6946: '▁열대', 6947: '▁규모', 6948: '▁BBC', 6949: '큭', 6950: '▁이같은', 6951: '▁사건으로', 6952: '곀ᄏᄏ', 6953: '▁스콜', 6954: 'ᄅᄅ', 6955: '깅', 6956: '▁성공했다', 6957: '▁벌여', 6958: '▁항공', 6959: '▁시인', 6960: '쌘', 6961: '▁배후', 6962: '▁헌법', 6963: '항을', 6964: '잼ᄏᄏᄏᄏ', 6965: 'code', 6966: '밎', 6967: '↑', 6968: '▁날짜', 6969: '쎅', 6970: '▁네트', 6971: '쉡', 6972: '▁말하며', 6973: '통령', 6974: '▁보고서는', 6975: '★★★★★', 6976: '챌', 6977: '뿡뿡', 6978: '▁씨는', 6979: '▁경제학', 6980: '깄', 6981: '▁있었으며', 6982: '운티', 6983: '짯', 6984: '짱짱짱짱', 6985: '▁이르는', 6986: '▁비행기를', 6987: '뎠', 6988: '▁실패했다', 6989: '▁시속', 6990: '5%', 6991: '은행', 6992: 'ᄁᄁᄁ', 6993: 'AN', 6994: '볕', 6995: '캥', 6996: '▁철도', 6997: '+ᄆ+', 6998: '떙', 6999: '짱짱♥', 7000: '휙', 7001: 'ᅲᅮᅲᅮ', 7002: '▁스코틀랜드', 7003: 'ᅲᅲᅲᅲᅲᅲᅲᅲᅲᅲᅲᅲᅲ', 7004: '▁협력', 7005: '▁유혈', 7006: '▁오스트', 7007: '日', 7008: '미르', 7009: '쒜', 7010: '늪', 7011: '졍', 7012: '짱^^', 7013: '^^ᄏ', 7014: '벙벙', 7015: '뎈ᄏᄏᄏᄏ', 7016: '▁약속을', 7017: '▁1200', 7018: 'ᅮᅲᅲᅲ', 7019: '▁유럽의', 7020: '▁사건과', 7021: '▁업체', 7022: '▁사우', 7023: '▁나타냈다', 7024: '▁콜로', 7025: '핰핰', 7026: '▁평양', 7027: '▁데이비드', 7028: 'ᄏᄏ걍', 7029: 'ᄃᄃᄃᄃᄃ', 7030: '.08', 7031: '▁예정입니다', 7032: '▁비난을', 7033: '(3', 7034: '▁고고학', 7035: '▁피츠', 7036: '쫙쫙', 7037: '▁일반적으로', 7038: '듸', 7039: 'TO', 7040: '▁둘러싸', 7041: 'ase', 7042: '▁근거로', 7043: '▁야기', 7044: '당인', 7045: '짱♡', 7046: '▁사무실', 7047: '▁감염', 7048: 'oy', 7049: '콸', 7050: '▁600', 7051: '▁추진', 7052: '↗', 7053: 'pl', 7054: '띈', 7055: '▁시카고', 7056: '옇', 7057: 'ᅡᄒ', 7058: '▁56', 7059: '▁확산', 7060: '욯ᄒ', 7061: '▁목록', 7062: '뎐', 7063: '왃', 7064: '훸', 7065: '슝', 7066: '.02', 7067: '잼잼잼', 7068: '▁않았으며', 7069: '▁라파', 7070: 'ᅯ', 7071: '갘ᄏᄏ', 7072: '▁소비자', 7073: '▁지명', 7074: '씐', 7075: '넢', 7076: '▁흡연', 7077: '▁보냈다', 7078: '▁민주당', 7079: '뎈', 7080: '옼', 7081: '▁UN', 7082: '팼', 7083: '▁침입', 7084: '▁64', 7085: 'ᅲᅲᅲᅲᅲᅲᅲᅲᅲᅲᅲ', 7086: '死', 7087: '▁법적', 7088: '(6', 7089: '겡', 7090: '^ᄉ^', 7091: '엡', 7092: '▁선두', 7093: '멉', 7094: '▁가량', 7095: '▁배럴', 7096: '▁의하면', 7097: '▁마카오', 7098: '▁수반', 7099: 'ᅡᄃ', 7100: '시설', 7101: 'ᅳᅳᅩ', 7102: '킄', 7103: '4)', 7104: '잼ᅳᅳ', 7105: '섥', 7106: '▁위기에', 7107: '▁일부가', 7108: '씰', 7109: '▁학생들은', 7110: '봫', 7111: '꽁꽁', 7112: 'ᄏᄁᄌᄆ', 7113: '▁일부를', 7114: '월부터', 7115: '월까지', 7116: 'ᄏᄏᄏᄏᄏᄏᄏᄏᄏᄏᄏᄏᄏᄏᄏᄏᄏᄏᄏᄏᄏᄏᄏᄏᄏᄏᄏ', 7117: '▁사용해', 7118: '▁입원', 7119: '▁건설', 7120: '▁이로써', 7121: '쏫', 7122: '▁작동', 7123: 'ᄏᄏ잼', 7124: '秀作', 7125: 'IC', 7126: '쐈', 7127: '▁미군이', 7128: '▁회사는', 7129: '▁국방부', 7130: '▁공항', 7131: '▁공화', 7132: '붉은', 7133: '솧', 7134: '▁베를', 7135: '▁일자', 7136: 'ᄂᄉ', 7137: '▁관여', 7138: 'GA', 7139: 'ᅳᅳ+', 7140: '쏙쏙', 7141: '쭐', 7142: 'oin', 7143: '́', 7144: '첬', 7145: '뀰잼', 7146: '○', 7147: '▁악화', 7148: '룹', 7149: '읅', 7150: 'ᄒᄒᄒᄒᄒᄒᄒᄒ', 7151: '쯪', 7152: 'ign', 7153: '▁이메', 7154: '^^♥♥', 7155: '▁병원에', 7156: '▁시설', 7157: '랰ᄏᄏᄏ', 7158: '▁신속', 7159: '얜', 7160: '▁참석', 7161: '똥닦', 7162: '▁통합', 7163: '▁#', 7164: '뵛', 7165: '.06', 7166: '▁술을', 7167: '▁자선', 7168: '▁언급하지', 7169: '연구', 7170: 'ric', 7171: '▁안전한', 7172: '곸ᄏ', 7173: '▁남부', 7174: '섣', 7175: '▁북쪽', 7176: '튄', 7177: 'ᄎᄏᄎᄏ', 7178: '라에서', 7179: '푹푹', 7180: 'ᅮᅲᅲ', 7181: '▁출입', 7182: '쎔', 7183: '똔', 7184: '▁이란의', 7185: '▁홈런', 7186: '숱', 7187: '^^ᄒᄒᄒ', 7188: '먄', 7189: '딫', 7190: '분기', 7191: '▁야생', 7192: '뱁', 7193: '▁준비를', 7194: 'ᄂᄂᄂ', 7195: '뿡', 7196: '▁막기', 7197: '▁한영', 7198: '년간의', 7199: '▁선포', 7200: '▁치료를', 7201: '▁구성된', 7202: 'ᄃᄉ', 7203: '有', 7204: '▁밝혔', 7205: '뱌', 7206: '▁출신의', 7207: '붸', 7208: '▁크라이', 7209: '♥♥♥♥♥♥♥', 7210: '▁우려가', 7211: '▁발언', 7212: 'ial', 7213: '▁네팔', 7214: '.05', 7215: '딤', 7216: '쉑', 7217: '▁진행된', 7218: '짱ᄒᄒ', 7219: '쩝쩝', 7220: 'ide', 7221: '뉨', 7222: '▁석유', 7223: '끆', 7224: 'ᅲᅲ♡', 7225: '▁시위를', 7226: '▁내렸다', 7227: '뼛', 7228: '꺽꺽', 7229: 'AS', 7230: '▁중국과', 7231: '븜', 7232: 'ᄏᄃ', 7233: '지수는', 7234: '▁실종된', 7235: '▁소행', 7236: '▁자료를', 7237: '▁드러났다', 7238: '땄', 7239: '▁공화당', 7240: '랫동안', 7241: '▁지원을', 7242: '드르', 7243: '긱', 7244: '닠ᄏ', 7245: 'ᅲᅲᅲᅲᅲᅲᅲᅲᅲ', 7246: 'ᄏᄏᄏ잼', 7247: '봈', 7248: 'ᄉᄐᄎ', 7249: '일린', 7250: 'ᄒ잼', 7251: 'ᄏᄏᄏᄏ짱', 7252: '美', 7253: 'iz', 7254: '▁영업', 7255: '▁CIA', 7256: '^^ᄏᄏᄏ', 7257: '▁at', 7258: 'its', 7259: '맻', 7260: '▁표시', 7261: '퐌', 7262: '▁개혁', 7263: '미어', 7264: '▁징역', 7265: '▁철회', 7266: '뵐', 7267: '▁임명', 7268: '▁블레', 7269: '▁중이다', 7270: '▷', 7271: '문에서', 7272: '▁사퇴', 7273: '▁오바마', 7274: '▁획득', 7275: '릐', 7276: '▁수색', 7277: '▁경제에', 7278: 'oh', 7279: '▁블로그에', 7280: '▁예상된다', 7281: '▁아프가니스탄', 7282: '폿', 7283: '짱♥♥♥♥', 7284: '썸씽', 7285: '▁논란이', 7286: '▁집행', 7287: 'ᄋᄃ', 7288: '곸ᄏᄏ', 7289: '얗', 7290: '윔', 7291: '▁불길', 7292: '젹', 7293: '▁노벨', 7294: 'ᄏᄋ', 7295: '▁고속도로', 7296: '▁침해', 7297: '멩', 7298: '쫀', 7299: 'ᄏᄏᄀᄏ', 7300: '궤', 7301: 'ᅳᄀ', 7302: '짢', 7303: '억달러', 7304: '▁프리미어', 7305: '줠', 7306: '▁조치', 7307: '얔ᄏᄏᄏ', 7308: '죗', 7309: 'ᄏ걍', 7310: '벋', 7311: 'ID', 7312: 'ᄒᄃ', 7313: '자이너', 7314: '깥', 7315: '일간의', 7316: '▁목요일', 7317: 'ork', 7318: '▁경제적', 7319: '▁선발', 7320: '꽹', 7321: '▁39', 7322: '▁가능성은', 7323: '쟘', 7324: '몄', 7325: '▁시장은', 7326: 'ᅮᅮᄒ', 7327: '▁혜택을', 7328: '졈', 7329: '꽥', 7330: '▁근무', 7331: '▁아르헨', 7332: '▁병력', 7333: '▁앞두고', 7334: '숑', 7335: '올림픽', 7336: '챕', 7337: 'ᄒᄒᄒᄒᄒᄒᄒᄒᄒᄒᄒᄒᄒ', 7338: '▁AI', 7339: '세력이', 7340: '▁규정', 7341: 'ment', 7342: '▁54', 7343: '▁소탕', 7344: '▁소프트', 7345: '뮌', 7346: \")'\", 7347: 'ᄂᄌ', 7348: '▁뉴욕에서', 7349: '▁검거', 7350: '팻', 7351: '싄', 7352: '@^^@', 7353: '곪', 7354: '▁경찰과', 7355: '▁예선', 7356: '마리를', 7357: '갘', 7358: '▁En', 7359: '▁경찰의', 7360: 'ᄏᄐ', 7361: '핡핡', 7362: '▁양육', 7363: '탯', 7364: '▁고속', 7365: '패를', 7366: '결승', 7367: '▁비상사태', 7368: '껒', 7369: '▁시드니', 7370: '헉헉', 7371: '年', 7372: '년에는', 7373: '▶', 7374: 'ᅲᅮᅮ', 7375: '▁시스템을', 7376: '주간', 7377: '▁파병', 7378: '▁강타', 7379: '▁청와대', 7380: '뚬', 7381: 'ᄁᄁ', 7382: '▁안전하게', 7383: 'rom', 7384: '뱔', 7385: '▁천주교', 7386: '▁캘리포니아', 7387: '켁', 7388: '▁인터뷰에서', 7389: '▁농민', 7390: 'ᅳᄉ', 7391: '▁시장에서', 7392: '켯', 7393: '▁진술', 7394: '뻘쭘', 7395: '밷', 7396: '이슬람', 7397: '주문', 7398: '왘', 7399: '큭큭', 7400: '▁위조', 7401: '셤', 7402: '▁가졌다', 7403: '▁현장에', 7404: '▁75', 7405: '▁수집', 7406: '귤', 7407: '짱ᄏ', 7408: '▁장착', 7409: '공화국', 7410: '▁감행', 7411: '▁47', 7412: '▁신종', 7413: '꿎', 7414: '덫', 7415: '졌으며', 7416: 'ᅲᅲᅲᅲᅲᅲᅲᅲᅲᅲᅲᅲᅲᅲᅲᅲᅲᅲᅲᅲᅲᅲᅲᅲ', 7417: '삻', 7418: '깻', 7419: '▁호세', 7420: 'ᄈ', 7421: '▁밝히고', 7422: '○○', 7423: '▁나타났다', 7424: '욬', 7425: '好', 7426: '▁시드', 7427: '▼', 7428: '▁대부분은', 7429: 'ᄏᄏᄀ', 7430: '샥', 7431: '깉', 7432: '▁기자가', 7433: '▁화요일', 7434: '▁공항에서', 7435: 'ᄋᄅ', 7436: '땨', 7437: 'ᄀᄏ', 7438: '▁로스', 7439: '측이', 7440: '▁선수가', 7441: '뺑뺑', 7442: '▁내정', 7443: '▁ag', 7444: '☞', 7445: '▁국방', 7446: '붇', 7447: '흫', 7448: '▁공급', 7449: '슉', 7450: '도르', 7451: '잼ᅲ', 7452: 'ᄅᄅᄅᄅ', 7453: '▁경찰관', 7454: '▁사법', 7455: '▁벌이고', 7456: '팸', 7457: '++', 7458: '동부', 7459: '떫', 7460: '▽', 7461: '하마', 7462: '▁제조', 7463: '정거', 7464: '▁바그다드', 7465: '.09', 7466: '▁인터뷰를', 7467: '3%', 7468: '▁보좌', 7469: '빂', 7470: '쩖', 7471: '부르크', 7472: 'ᅡᅡ', 7473: '췃', 7474: '홋', 7475: '▁입국', 7476: '▁머물고', 7477: '《', 7478: '》', 7479: '▁최근의', 7480: '켐', 7481: '▁납치된', 7482: '▁백악관', 7483: '원들은', 7484: '쨍쨍', 7485: '르드', 7486: '탉', 7487: '▁활동을', 7488: '뎄', 7489: '▁검사를', 7490: '▁파손', 7491: '연맹', 7492: 'ᄌᄌ', 7493: 'ama', 7494: 'ᅲᅲ♥♥', 7495: '끙끙', 7496: 'ᆬ', 7497: '낰', 7498: '▁의미한다', 7499: '즁', 7500: '▁상태에', 7501: '닼ᄏᄏᄏᄏᄏᄏ', 7502: '▁말합니다', 7503: '읹', 7504: '측의', 7505: '솝', 7506: '웄', 7507: 'ᄋᄒ', 7508: 'ᄏᄏᄏᄏᄏᄏᄏᄏᄏᄏᄏᄏᄏᄏᄏᄏᄏᄏᄏᄏᄏᄏᄏᄏᄏᄏᄏᄏᄏᄏᄏᄏᄏ', 7509: 'ss', 7510: '뽱', 7511: '쎘', 7512: '캬캬캬', 7513: '지역에', 7514: 'ᅡᄏᄏ', 7515: '▁예루살렘', 7516: '▁지난해', 7517: '▁선박', 7518: '▁강경', 7519: '▁단속', 7520: '늡', 7521: '▁경매', 7522: '▁복용', 7523: '선거', 7524: '닠ᄏᄏᄏ', 7525: '▁회장이', 7526: '▁지역에', 7527: '눅', 7528: 'ᅦᅦ', 7529: '넒', 7530: '▁FA', 7531: '▁하워드', 7532: '≥∀≤', 7533: '귈', 7534: '▁합의', 7535: '▁장갑', 7536: '둣', 7537: '튿', 7538: '“', 7539: '들로부터', 7540: '▁센터', 7541: 'ᅡᄀ', 7542: '▁화물', 7543: '냑', 7544: '▁관광객', 7545: '▁소말리아', 7546: '쮸쮸', 7547: 'ᄏᄏᄏ쨋', 7548: '▁설립', 7549: '펌', 7550: '줸좡', 7551: '협회', 7552: 'ᅲᄏ', 7553: '▁주장을', 7554: '햤', 7555: '▁급속', 7556: 'ᄏᄏᄏ♥♥', 7557: '▁계획이', 7558: '랭킹', 7559: '▁배심', 7560: '핟', 7561: '▁지출', 7562: \"'(\", 7563: '됐었다', 7564: '▁발생해', 7565: '쩜ᄏᄏᄏ', 7566: '윰', 7567: '▁경제를', 7568: '꼳', 7569: '善', 7570: '니스탄', 7571: '▁지역을', 7572: '▁AC', 7573: '욬ᄏᄏᄏᄏᄏᄏᄏᄏᄏ', 7574: '뺏겻', 7575: 'ᄏᄐᄏ', 7576: 'ᄋᄇᄋ', 7577: '잗', 7578: '뻥뻥', 7579: '▁식품', 7580: '▁MS', 7581: '▁국회', 7582: '2006', 7583: '옭', 7584: '칰ᄏᄏᄏ', 7585: '측은', 7586: 'ush', 7587: '타민', 7588: '봬', 7589: '8)', 7590: '▁Sp', 7591: '떽떽', 7592: '▁골을', 7593: 'ᄐᄐ', 7594: '벙쪘', 7595: '▁정부를', 7596: '▁pro', 7597: '▁캄보디아', 7598: '▁리콜', 7599: '쭁', 7600: '앖', 7601: '환으로', 7602: '▁시장의', 7603: '쑨', 7604: '▁부시는', 7605: '슝슝', 7606: '▁프로그램에', 7607: '랔ᄏᄏᄏ', 7608: '▁미군을', 7609: 'ᄊᄈ', 7610: '▁석방', 7611: '샠', 7612: '햌ᄏᄏᄏᄏ', 7613: '즛', 7614: '▁제품', 7615: '▁res', 7616: '샜', 7617: 'ᅭᄋ', 7618: 'ω', 7619: 'ᄊᄉᄐᄎ', 7620: '▁횡령', 7621: '▁핵무기', 7622: '중앙', 7623: '쪈', 7624: '평양', 7625: '얔', 7626: '▁부채', 7627: '@@@@', 7628: '잼씁', 7629: '얔ᄏᄏᄏᄏ', 7630: 'ᄇᄋ', 7631: '옇ᄒ', 7632: '▁관계자들이', 7633: '쯥', 7634: '줮', 7635: '▁해산', 7636: '(4', 7637: '봭', 7638: '공화', 7639: '쫄쫄', 7640: '떌', 7641: '섴ᄏᄏ', 7642: '갗', 7643: '▁파키스탄', 7644: '단체가', 7645: '똥퀄', 7646: '딥빡', 7647: '▁질문에', 7648: '냣', 7649: '▁열릴', 7650: '퉷퉷', 7651: '짱ᅮᅮ', 7652: '츤츤', 7653: '림픽', 7654: '좊', 7655: '븨', 7656: 'ᅥᅡ', 7657: 'ᄆᄆ', 7658: '콬', 7659: 'ᅳᄏ', 7660: '▁파타', 7661: '펩', 7662: '뭬', 7663: '▁인명', 7664: '플루', 7665: '잼ᄒᄒ', 7666: '곸ᄏᄏᄏᄏᄏ', 7667: '뎈ᄏᄏᄏᄏᄏᄏ', 7668: '짤짤', 7669: '▁휘발유', 7670: '▁대통령에', 7671: '헣', 7672: '겧', 7673: '▁누리', 7674: '껄껄껄', 7675: '▁국제적', 7676: 'ᄑᄑ', 7677: '싣', 7678: '잴잼', 7679: '쀍', 7680: 'ᅡᄉ', 7681: '▁베컴', 7682: 'ᄉᄉᄉᄉ', 7683: '▁마드리', 7684: '핶', 7685: '촣', 7686: '▁운동을', 7687: '랔ᄏ', 7688: '▁웨스트', 7689: 'ᅵᄀ', 7690: '▁대사관', 7691: '▁발생하지', 7692: '곸ᄏᄏᄏ', 7693: 'ᄍᄍᄍᄍᄍᄍᄍᄍᄍ', 7694: 'ᄒᄏ', 7695: '쏨', 7696: '쵼', 7697: '▁전망', 7698: '▁체코', 7699: 'ᄋᄉ', 7700: '▁발표할', 7701: '헠헠헠', 7702: '꿉꿉', 7703: '▁제출', 7704: '▁발견된', 7705: '똭', 7706: '밌닼', 7707: '꺾', 7708: '▁구호', 7709: '짘ᄏᄏᄏ', 7710: '▁교수는', 7711: 'ᅮᅮᅮᅮᅮ', 7712: '▁변호사가', 7713: '∼', 7714: '원자', 7715: '▁시위가', 7716: 'ᄎᄌ', 7717: '무현', 7718: '잼♥♥', 7719: '씁씁', 7720: '뚯', 7721: '最高', 7722: '뻥뚤', 7723: '췟', 7724: '밌뜸', 7725: '▁중재', 7726: '엪', 7727: 'ᄏᄐᄎ', 7728: 'ᅩᅩᅩᅩ', 7729: '뼉', 7730: '急', 7731: '▁달하는', 7732: '겈ᄏᄏᄏ', 7733: '귯', 7734: '▁원칙', 7735: '▁시상', 7736: '욤ᄒ', 7737: '▁美', 7738: '感', 7739: '냨ᄏᄏᄏᄏ', 7740: '▁훈련을', 7741: 'HO', 7742: '퍽퍽', 7743: '띌', 7744: '뾰', 7745: '땋', 7746: '▁문서', 7747: '밣', 7748: '▁반군', 7749: '▁정부와', 7750: '셴', 7751: '뜀', 7752: '▁위성', 7753: '▁휴대', 7754: '▁상공', 7755: '솤ᄏᄏ', 7756: '▁주지사가', 7757: 'ᄁᄋ', 7758: '▁포경', 7759: '▁연합', 7760: '▁식량', 7761: '▁북한과', 7762: '▁망명', 7763: '앜ᄏᄏ', 7764: '뫘', 7765: '자금', 7766: '쪾', 7767: '쓔', 7768: '▁사원', 7769: 'ᄏᄏᄃᄃ', 7770: '챗', 7771: '밌ᄃ', 7772: '♥♡', 7773: '▁오스트리아', 7774: '▁바르셀로', 7775: '갘ᄏ', 7776: '잼읍', 7777: '똠', 7778: '▁승객', 7779: '▁사령관', 7780: '▁국제사회의', 7781: '7)', 7782: '♥♥ᄏᄏ', 7783: '되었으며', 7784: '♥ᄒᄒ', 7785: '←', 7786: '활동을', 7787: '▁예방', 7788: 'ᅵᄂ', 7789: '▁파견', 7790: '▁못했다고', 7791: '反', 7792: '읔ᄏ', 7793: '▁핵무', 7794: '퇘', 7795: '▁실시', 7796: '짘ᄏ', 7797: '▁이식', 7798: '▁외교', 7799: 'ᆪᆪ', 7800: '팀은', 7801: 'ᅲᅮᅮᅮ', 7802: '▁해결할', 7803: '▁출판', 7804: '잼ᄋᄋᄋ', 7805: 'ᅦᄒ', 7806: '통신', 7807: '▁목표로', 7808: 'ᄏᄏᄁ', 7809: '숯', 7810: '♥♡♥♡♥', 7811: '멓', 7812: 'EO', 7813: '잼짱', 7814: '흝', 7815: 'ᄏᄒᄒ', 7816: 'ᅧᄂ', 7817: '라이나', 7818: '▁소식이', 7819: '섀꺄', 7820: '낰ᄏᄏ', 7821: '▁말레이시아', 7822: '▁발견했다', 7823: '▁미얀마', 7824: '▁교환', 7825: 'ᄏ짱', 7826: '냠냠', 7827: '▁향후', 7828: '▁위험이', 7829: '뷸', 7830: 'ᅲᅲᅲᅲᅲᅲᅲᅲᅲᅲᅲᅲ', 7831: '투갈', 7832: '데타', 7833: '쩜ᄏᄏ', 7834: '뼜', 7835: '연방', 7836: 'ᄊᄅ', 7837: '뀨', 7838: '캬캬', 7839: '짘ᄏᄏ', 7840: '뜽', 7841: '▁골프', 7842: '햌ᄏᄏᄏᄏᄏ', 7843: '▁지도자가', 7844: '▁시장에', 7845: 'anc', 7846: '솓', 7847: '명박', 7848: '꽥깩', 7849: '홬ᄏᄏ', 7850: '츨', 7851: '청은', 7852: '잼♡♡♡♡', 7853: '▁이날', 7854: '맏', 7855: '공항', 7856: 'ᅠ', 7857: 'ᅳᄋ', 7858: '쳬', 7859: '뵨', 7860: '^♡', 7861: '▁일자리를', 7862: '▁우크라이나', 7863: '뜷', 7864: '곗', 7865: 'ᅮᅮᅮᅮᅮᅮᅮᅮᅮ', 7866: '춧', 7867: '홬', 7868: '핰핰핰', 7869: '▁체포', 7870: '잼♡♡♡', 7871: '>ᄉ', 7872: '▁경기를', 7873: '用', 7874: '̈', 7875: '▁분쟁', 7876: '쫏', 7877: '-4', 7878: 'ᅮ짱', 7879: '낲', 7880: '▁계속되고', 7881: 'ᅳᅳᅳᅳᅳᅳᅳᅳᅳᅳ', 7882: '▁야후', 7883: '▁자산', 7884: '늉', 7885: '맗', 7886: '텁', 7887: 'ᅢᄀ', 7888: '텍사', 7889: '잿', 7890: '뗴', 7891: 'ᄒᄆ', 7892: '▁야생동물', 7893: '▁대상으로', 7894: '셕', 7895: '륄', 7896: '^ᄒᄒ', 7897: '.07', 7898: 'ᄏ왠', 7899: '▁이곳에서', 7900: '▁연방', 7901: '덯', 7902: '럤', 7903: 'ᄇᄅ', 7904: '랑카', 7905: '▁콩고', 7906: '삔', 7907: '직을', 7908: 'ᅲᅲᅮᅮ', 7909: 'ᄉᄉᄆᄉ', 7910: '죳', 7911: '▁변호사는', 7912: 'apan', 7913: '튕', 7914: 'ᄉᄀᄋ', 7915: 'ᅲᄋ', 7916: '▁con', 7917: '▁말까지', 7918: '@@@', 7919: '라덴', 7920: '욌', 7921: 'ᄉᄑ', 7922: '낰ᄏᄏᄏ', 7923: '맠ᄏᄏᄏ', 7924: '닷컴', 7925: '▁경영', 7926: '궅', 7927: '해왔다', 7928: '山', 7929: '喜', 7930: '的', 7931: '▁추정', 7932: 'ᅮᄏ', 7933: '쭌', 7934: '졎', 7935: '밌쪙', 7936: '@ᅡ', 7937: '▁기록을', 7938: '▁거리에', 7939: '▁아흐', 7940: '캍', 7941: '뼘', 7942: '▁부동', 7943: '귯귯', 7944: '▁성관계를', 7945: '자이자', 7946: '딍', 7947: '묠', 7948: '̄∇', 7949: '낔', 7950: '▁촉발', 7951: '이스라엘', 7952: '▁팔레스', 7953: '퓬', 7954: '걍ᄏ', 7955: 'ᅲ♡', 7956: '빡첬', 7957: '읺', 7958: '후드', 7959: '삤', 7960: '▁간주', 7961: '▁이라크전', 7962: '▁국왕', 7963: 'ᄆᄂᄋ', 7964: '봵', 7965: '뽠', 7966: 'ᄋᄆᄋ', 7967: '▁블로', 7968: 'ᄍᄍᄍᄍᄍ', 7969: '뎡', 7970: '빢', 7971: '쩨', 7972: 'ᄉᄆ', 7973: '▁구단', 7974: '▁금연', 7975: '놕', 7976: '▁왕세자', 7977: '핰', 7978: '죷', 7979: '▁부부는', 7980: '▁지질', 7981: 'ᄏᄏᄏᄏᄏᄏᄏᄏᄏᄏᄏᄏᄏᄏᄏᄏᄏᄏᄏᄏᄏᄏᄏᄏᄏᄏᄏᄏᄏᄏᄏᄏᄏᄏᄏᄏᄏᄏᄏᄏ', 7982: 'ᄎᄅ', 7983: '낱낱', 7984: '▁원문', 7985: '쓉', 7986: '▁의원이', 7987: '▁테러로', 7988: '▁살해한', 7989: '▁소송을', 7990: '찎', 7991: '숄', 7992: '凸', 7993: '▁제안을', 7994: '맜', 7995: '븡', 7996: '▁공개적으로', 7997: 'ᄃᄃᄃᄃᄃᄃᄃᄃ', 7998: 'ᄏᄏ^^', 7999: '돟', 8000: '잼♡', 8001: '▁개최', 8002: '▁책임이', 8003: '윀', 8004: 'ᅣᄏ', 8005: '▁후세인', 8006: '「', 8007: '」', 8008: '▁검토', 8009: '▁연루', 8010: 'ᄋᄏᄏ', 8011: '▁국립', 8012: '싀', 8013: '댑', 8014: '훡', 8015: '겋', 8016: '▁신임', 8017: 'ᅳᅲ', 8018: 'ᅮᅮᄏ', 8019: '쨍', 8020: '▁증권', 8021: 'ᄋᄋᄏ', 8022: '▁의사를', 8023: '쫌쫌쫌', 8024: '넿ᄒ', 8025: '맄', 8026: '핳ᄒ', 8027: '앜ᄏᄏᄏᄏᄏᄏᄏᄏ', 8028: 'ᅴ', 8029: '▁필요하다고', 8030: '亞流作', 8031: 'nn', 8032: '▁민병', 8033: '줸', 8034: '▁공격은', 8035: '믺', 8036: '뫄', 8037: '닼ᄏᄏᄏᄏᄏᄏᄏᄏᄏ', 8038: '햌ᄏᄏᄏ', 8039: 'ᄑᄒᄒᄒ', 8040: '첵', 8041: '▁혐의', 8042: '▁경기에', 8043: 'over', 8044: '주교', 8045: '횬', 8046: '꽝꽝', 8047: '▁논쟁', 8048: '뷃', 8049: '▁플로', 8050: '츼', 8051: '곀ᄏ', 8052: '촏', 8053: '썜', 8054: '⊙', 8055: '♡♥♡♥', 8056: '쫀쫀', 8057: '▁의원', 8058: '됭', 8059: '읃', 8060: '▁원자', 8061: '닠ᄏᄏ', 8062: '귝', 8063: '▁손상', 8064: '앜ᄏᄏᄏᄏ', 8065: '짴ᄏᄏᄏᄏᄏ', 8066: '힣', 8067: '횐', 8068: '▁무역', 8069: '땡땡땡', 8070: '껜', 8071: '쳔', 8072: '▁온난', 8073: '쀼', 8074: 'ᅲᄉ', 8075: '돠^^', 8076: '▁가택', 8077: '돱', 8078: '▁명령', 8079: '▁섭취', 8080: '걘', 8081: '▁독립을', 8082: '2008', 8083: '▁무선', 8084: '▁총리와', 8085: '▁기록한', 8086: 'NA', 8087: '닠ᄏᄏᄏᄏᄏᄏᄏᄏᄏᄏᄏᄏᄏᄏᄏ', 8088: '▁허리케인', 8089: '§', 8090: '봑', 8091: '싰', 8092: 'ᄒᄀ', 8093: '無言', 8094: '★★★', 8095: '▁적대', 8096: '▁타임즈', 8097: 'ᄊᄒᄐᄎ', 8098: '▁정부의', 8099: '둿', 8100: '▁수사관', 8101: '▁육군', 8102: '왹', 8103: '̊', 8104: 'ᅮ♥♥♥♥', 8105: '▁사용할', 8106: '▁지도자', 8107: '▁선거운동', 8108: '▁명은', 8109: '됌ᄏᄏ', 8110: 'ᅳᅳ잼', 8111: '쏙ᄏᄏ', 8112: 'ᅮᅮ짱짱', 8113: '밋쎠', 8114: '▁New', 8115: 'IA', 8116: '▁사업을', 8117: 'ᅵᄊ', 8118: '짴ᄏᄏᄏᄏᄏᄏ', 8119: '좍좍', 8120: 'ᅲᅮᅲᄑ', 8121: '퀭', 8122: '뢔', 8123: '랔ᄏᄏᄏᄏᄏᄏᄏᄏ', 8124: '▁합병', 8125: '븟ᄋᄀ', 8126: '▁AP', 8127: '붹', 8128: '짘ᄏᄏᄏᄏᄏᄏ', 8129: '헠ᄏᄏᄏ', 8130: '※', 8131: '뚬ᄒᄒ', 8132: '▁샘플', 8133: '캉캉', 8134: '떙떙', 8135: '뺒', 8136: '욧><', 8137: '욬ᄏᄏᄏᄏᄏᄏᄏᄏᄏᄏᄏᄏᄏ', 8138: '떽땍', 8139: '끙♥', 8140: 'ᄈᄏ', 8141: '보장이', 8142: '얍얍', 8143: '꿘', 8144: '→→→', 8145: '必要', 8146: '밌ᄋ', 8147: '▁부동산', 8148: '▁마감했다', 8149: '▁인구가', 8150: '츽', 8151: '닯', 8152: '6)', 8153: '맬맬', 8154: 'ᅮᅲ♥', 8155: 'ᄊᄊᄊᄊᄊᄊ', 8156: '핯', 8157: '뻑뻑', 8158: 'ᅮᅮᅮᅮᅮᅮᅮᅮᅮᅮᅮᅮᅮᅮᅮᅮᅮᅮᅮᅮᅮᅮᅮᅮᅮᅮᅮ', 8159: '풔', 8160: '맸', 8161: '곃', 8162: '빡ᄏ', 8163: '됌ᅲ', 8164: 'ᅡᅡᅡ핳', 8165: '욈', 8166: '럈', 8167: '퀼ᅮᅮ', 8168: '똥똥똥똥떵', 8169: 'ᄒᄐᄎ', 8170: '▁인수', 8171: 'ᄅᄏ', 8172: '▁해결을', 8173: '▁발생한', 8174: '릏', 8175: '킌', 8176: '홪', 8177: '▁의혹을', 8178: '뜸ᄏᄏᄏ', 8179: '깇', 8180: '잛', 8181: '껄ᅲᅲᅲ', 8182: '겈ᄏᄏᄏᄏ', 8183: '▁정책에', 8184: '챡', 8185: '젆', 8186: '퀜', 8187: '^^ᄒᄒᄒᄒ', 8188: '엨ᄏᄏ', 8189: '홬ᄏᄏᄏᄏᄏᄏᄏᄏᄏᄏᄏ', 8190: '^^^^^', 8191: '▁상승했다', 8192: '▁이행', 8193: '돠ᅳᅳ', 8194: '샙', 8195: '럔', 8196: '▁국민들은', 8197: '왘ᄏᄏ', 8198: '옶', 8199: '질랜드', 8200: '++++++', 8201: '쫭', 8202: 'ᄌᄃᄅ', 8203: '욬ᄏᄏᄏᄏᄏᄏ', 8204: '찡♥♥♥♥♥♥♥♥', 8205: 'ᅮᅮᅳ', 8206: '∇', 8207: '最高の映', 8208: 'だ。', 8209: '믕', 8210: 'ᄋ얌ᄋᄋ', 8211: '▁지지를', 8212: '짏', 8213: '뤠긔', 8214: '忍', 8215: '밉밉', 8216: '>ᄆ<ᄏᄏ', 8217: '♡ᄒᄒ', 8218: '▁구체적인', 8219: '▁알려졌다', 8220: 'ᅳ+', 8221: '自立', 8222: 'ᅲᅲᅮᅲ', 8223: '잼깄', 8224: '윖', 8225: '▁테러가', 8226: '닼ᄏᄏᄏᄏᄏᄏᄏᄏᄏᄏᄏᄏᄏᄏᄏᄏᄏᄏᄏᄏᄏᄏᄏᄏᄏᄏᄏᄏᄏᄏᄏᄏ', 8227: '쒰', 8228: '읿', 8229: 'ᅲᅲᅲᅲᅲᅲᅲᅲᅲᅲᅲᅲᅲᅲᅲᅲᅲᅲᅲᅲᅲᅲ>', 8230: '랃', 8231: '잼잌ᄉ', 8232: '밌엌ᄏᄏᄏᄏᄏᄏᄏᄏᄏᄏᄏᄏᄏᄏᄏᄏᄏᄏᄏ', 8233: '▁안전을', 8234: 'KK', 8235: '쩡ᄅ', 8236: 'ᄀᄋᄉ', 8237: '會者定離', 8238: '─━', 8239: '──━ᅇ', 8240: '띔', 8241: 'ᄋ♥♥', 8242: 'ᅢᅢᅢ', 8243: '▁중지', 8244: '뻴', 8245: '묭', 8246: '▁발표를', 8247: '딬ᄏᄏᄏᄏᄏᄏᄏ', 8248: '닼ᄏᄏᄏᄏᄏ', 8249: '섴ᄏᄏᄏᄏᄏ', 8250: '욺ᅲᅲᅲ짱', 8251: 'ᄒᄏᄏᄏᄏᄏᄏᄏᄏᄏ', 8252: '▁즉시', 8253: '▁페더', 8254: '뮨', 8255: 'ᄒᄒᄅ', 8256: '^^ᄏᄏᄏᄏᄏᄏᄏᄏᄏ', 8257: 'ᄃᄀ딛', 8258: '딛ᄉ', 8259: 'ᄂᄅᄂ', 8260: 'ᅲᅲᅲᅲᅲᅲᅲᅲᅲᅲᅲᅲᅲᅲᅲ', 8261: '▁확정', 8262: '▁요청했다', 8263: 'ᄏᄏᄏᄏᄏᄏᄏᄏᄏᄏᄏᄏᄏᄏᄏᄏᄏᄏᄏᄏᄏᄏᄏᄏᄏᄏᄏᄏᄏᄏᄏᄏᄏᄏᄏᄏᄏ', 8264: 'ᄋᄌᄅ', 8265: '▁콜롬', 8266: '▁결정했다', 8267: 'AP', 8268: '늄', 8269: '▁마이크로', 8270: 'ᅢ밌썰', 8271: 'ᄒᄒᄒᄒᄒᄒᄒᄒᄒᄒᄒ', 8272: '꾿', 8273: 'ᅲᅲ힝힝힝', 8274: '>>>>>>>>>>', 8275: 'ᄏᄏᄏᄏᄏᄏᄏᄏᄏᄏᄏᄏᄏᄏᄏᄏᄏᄏᄏᄏᄏᄏᄏᄏᄏᄏᄏᄏᄏᄏᄏᄏᄏᄏᄏᄏᄏᄏᄏᄏᄏᄏᄏᄏᄏᄏᄏᄏᄏᄏᄏᄏᄏᄏᄏᄏᄏᄏᄏᄏᄏᄏᄏᄏᄏᄏᄏᄏᄏᄏᄏᄏᄏᄏᄏᄏᄏᄏᄏᄏᄏᄏᄏᄏᄏᄏᄏᄏᄏᄏᄏᄏᄏᄏ', 8276: 'ᅳᅮᅮᅮ', 8277: 'ᄋᄏᄋᄏ', 8278: '갵', 8279: '뿨', 8280: 'ᄋᄇᄋ♡', 8281: '漁火', 8282: '♥━♥', 8283: 'ᄂᄂᄂᄂᄂ', 8284: '붅', 8285: '에따', 8286: '▁사이클', 8287: 'ᅡ잼', 8288: '쿳', 8289: '뽕똘', 8290: '덷', 8291: '<ᄏᄏᄏ', 8292: 'ᄋᄉᄋᄏᄏᄏ>', 8293: '븍', 8294: '쪠', 8295: 'ᅡᄋᄇ', 8296: '無間道', 8297: 'ᅲᅲᅲ븍', 8298: '日本映', 8299: 'の低力。幸せだよ。', 8300: 'ᄁ꺄', 8301: 'ᅭᅭ', 8302: 'ᄃᄃᄃᄃᄃᄃᄃᄃᄃᄃᄃᄃᄃ', 8303: '쇳', 8304: '뿜ᄏ', 8305: '겂', 8306: '싯쪄', 8307: '▁연설에서', 8308: '릎', 8309: '젔', 8310: '욹', 8311: '▁방글라데시', 8312: '헹헹', 8313: '申', 8314: '똥똥', 8315: '딲', 8316: '쑈ᄏ', 8317: 'ᅢᅵᄆ', 8318: 'ᅵᅡᅥᅵ', 8319: '랰ᄏᄏᄏᄏᄏᄏᄏᄏᄏᄏᄏᄏᄏᄏᄏᄏᄏᄏᄏᄏᄏᄏᄏᄏᄏᄏᄏᄏᄏᄏ', 8320: '▁말했습니다', 8321: 'ᅥᄌ', 8322: '닠ᄏᄏᄏᄏᄏ', 8323: 'ᄏᄀᄀ', 8324: '여명의', 8325: '<<<', 8326: '▁조사를', 8327: '규모', 8328: '찐>', 8329: '톼', 8330: '一品', 8331: '▁잔해', 8332: '쵁', 8333: 'ᄏᄏᄏ툭툭', 8334: '셧쌉', 8335: '턀', 8336: '쐌ᄏ', 8337: '뎅ᄏᄏᄏ', 8338: '풰', 8339: '겝', 8340: '쭊', 8341: '챨', 8342: 'ᅲ왠', 8343: '걍짱', 8344: '싐', 8345: '믐', 8346: '풉ᄏᄏᄏᄏ', 8347: '걍ᄏᄏ', 8348: '밌썽', 8349: 'ᄌᄋᄇᄅ', 8350: '잼짱잼', 8351: 'ᄏ^^', 8352: '▁양국', 8353: 'ᄏᄏ♥', 8354: '▁사망자', 8355: '옇ᄒᄒ', 8356: '옇ᄒᄒᄒᄒ', 8357: 'ᄒᄒ짱', 8358: 'ᄏᄏᄏᄏᄏᄏᄏᄏᄏᄏᄏᄏᄏᄏᄏᄏᄏᄏᄏᄏᄏᄏᄏᄏᄏᄏᄏᄏᄏᄏᄏᄏᄏᄏ', 8359: '늠ᄏᄏ', 8360: '넼ᄏᄏᄏᄏᄏ', 8361: '춋', 8362: '훃', 8363: 'ᅳᅲᅳ', 8364: '▁##', 8365: '☆ᄏ', 8366: '핧', 8367: '쩜쩜', 8368: 'ᅲᅮᅮᅮᅮᅲᅲᅲ', 8369: 'ᅲᅲ♥♥♥♥★★★★', 8370: '♥ᅲᅲ', 8371: '떱', 8372: '뢍', 8373: '뙀', 8374: '궛', 8375: '▁경유', 8376: '▁송환', 8377: '옯', 8378: '똥떵', 8379: '끅끅', 8380: '잼잼잼잼', 8381: '▁협상을', 8382: '짱뽕', 8383: '글라데', 8384: '듵', 8385: 'DA', 8386: '핕', 8387: '훓', 8388: '꺤', 8389: 'ᄀᄏᄏ', 8390: 'ᅥᄑ', 8391: '▁조사가', 8392: 'ᅲᅲ훅훅ᅲ', 8393: 'ᄋᄌᄀ', 8394: 'ᄇᄂ', 8395: '텟', 8396: '풓', 8397: '끠', 8398: '▁올렸다', 8399: 'ᄒᄒᄆᄆ', 8400: '쭙', 8401: '▁가능성에', 8402: '앋', 8403: '슁ᄏᄏ', 8404: '엌ᄉ', 8405: '닺', 8406: '뿅뿅', 8407: '♥♥^^', 8408: '쩁', 8409: '▁충돌이', 8410: '뻥뻥ᅲᅲ', 8411: '쉩', 8412: '엌ᄏᄁ', 8413: 'ᄃᄃ^^', 8414: 'ᄒᄒᄏ', 8415: '붆', 8416: '엨ᄏ', 8417: '뷐', 8418: '릋', 8419: '잼♥♥♥♥', 8420: '럾', 8421: 'っ', 8422: '～', 8423: '⌒☆', 8424: 'ᄂ땜', 8425: '흳', 8426: '껀뎅', 8427: '뿅♥', 8428: '티모', 8429: '헿ᄏ', 8430: '시켰다고', 8431: 'ᄏᄏᄏ\\\\', 8432: '짱♥♥♥♥♥♥♥♥♥', 8433: '컄캬캬캬컄컄컄', 8434: '걈', 8435: 'ᅣᅣ', 8436: '곀ᄏᄏᄏᄏᄏᄏᄏᄏᄏᄏᄏᄏᄏᄏᄏᄏᄏᄏᄏᄏᄏᄏᄏᄏᄏᄏᄏᄏᄏ', 8437: 'ᄅᄒ', 8438: '밋갰', 8439: '▁주민들에게', 8440: '븅♥', 8441: '▁승무원', 8442: '껄ᅮᅮ', 8443: '낰ᄏᄏᄏᄏᄏᄏᄏᄏᄏᄏᄏᄏᄏ', 8444: '얔ᄏᄏᄏᄏᄏᄏᄏᄏᄏᄏᄏ', 8445: '왘ᄏᄏᄏᄏ', 8446: '\\xad\\xad', 8447: '떙떙땡', 8448: '랟', 8449: '좡', 8450: 'ᅲ잼', 8451: '▁부문', 8452: '헣헣', 8453: '엏', 8454: 'ᄏᄏᄏᄏᄏᄏᄏᄏᄏᄏᄏᄏᄏᄏᄏᄏᄏᄏᄏᄏᄏᄏᄏᄏᄏᄏᄏᄏᄏᄏᄏᄏ', 8455: '찱', 8456: '륵ᄀ륵', 8457: '밌닼ᄏᄏᄏ', 8458: '밌넴', 8459: '댰', 8460: '앀ᄏ', 8461: '읮', 8462: 'π', 8463: '꿐', 8464: '▁주석', 8465: '회사인', 8466: '돜ᄏᄏ', 8467: '겤ᄏᄏ', 8468: '칵퉷', 8469: '넼ᄏᄏᄏᄏᄏᄏᄏᄏᄏᄏᄏᄏ', 8470: '쎴', 8471: 'ᅳᅳ짱', 8472: '귘ᄏᄏᄏ', 8473: 'ᅥᅥᅥᅥᅥᅥᅥᅥᅥᅥᅥ', 8474: '英', 8475: '룔', 8476: 'ᅲᄒ', 8477: '곅', 8478: '▁알카에다', 8479: '▁관계자들은', 8480: 'ᄃᄂ', 8481: '귻ᄇᄃᄇᄃ', 8482: '짴ᄏ', 8483: 'ᄏᄏ썸띵', 8484: '뎅ᄏᄏᄏᄏᄏ', 8485: '힙힙', 8486: 'ᅥ밓', 8487: 'ᄋᄏᄏᄏ', 8488: '낰ᄏᄏᄏᄏᄏᄏᄏᄏᄏᄏ', 8489: '븬', 8490: '뒈졋', 8491: 'ᄋᄒᄒᄒ', 8492: '왑', 8493: '리핀', 8494: '▁완화', 8495: 'ᄉᄂᄑᄌ', 8496: 'ᅲᅲᅲᅮᅲᅮᅲ', 8497: '▁국무부', 8498: '쩜쩜쩜쩜', 8499: '잼ᅲᅲᅲ', 8500: '촥', 8501: 'ᄒᄏᄏ', 8502: '▁마드리드', 8503: 'ᅳ♥', 8504: '핳ᄒ핳ᄒᄒ', 8505: 'ᅩᅩᅩᅩᅩᅩᅩᅩᅩᅩᅩᅩᅩᅩᅩᅩᅩᅩᅩᅩ', 8506: 'ᄏᄏᄐᄏ', 8507: '쿸', 8508: 'ᅳᅳᅳᅳᅳᅳᅳᅳ', 8509: '▁청와', 8510: '죶', 8511: '듧', 8512: '밌댔', 8513: '♥ᄏᄏᄏᄏᄏᄏᄏᄏ', 8514: '칻', 8515: '짱줗', 8516: '^^♥♥♥♥♥♥♥♥♥♥', 8517: 'ᄉᄅᄒᄋ', 8518: '욤ᅲ', 8519: '튬', 8520: '웤ᄏᄏ', 8521: '푹푹푹푹', 8522: '푹푹푹', 8523: '껄껄껄껄', 8524: '▁했으며', 8525: '뎅ᅮᅮ', 8526: '쎤', 8527: '맄ᄏᄏᄏᄏ', 8528: '껃', 8529: '씼', 8530: '뻡', 8531: 'ᅮ룯', 8532: '뱌ᅩ', 8533: '홱홱', 8534: 'ᆞᆞᆞ', 8535: '▁빙하', 8536: '헛읏', 8537: 'ᄎᄎᄎᄎᄎ', 8538: 'ᅮᅮᅮᄒ', 8539: '죙', 8540: 'ᄐ', 8541: '잼뀰댬', 8542: 'ᅲᅲᅲ짱짱', 8543: '▁항의', 8544: 'ᅡ먀ᅡᄋ', 8545: '>ᄆᄆ', 8546: 'ᅢᅢᅢᅢᅢᅢᅢᅢᅢᅢ', 8547: '쒀', 8548: 'ᄏᄏᄏᄏᄏᄏᄏᄏᄏᄏᄏᄏᄏᄏᄏᄏᄏᄏᄏᄏᄏᄏᄏᄏᄏᄏᄏᄏᄏᄏᄏᄏᄏᄏᄏᄏᄏᄏᄏᄏᄏᄏᄏᄏᄏᄏᄏᄏᄏᄏᄏᄏᄏᄏᄏᄏᄏᄏᄏᄏᄏᄏᄏᄏᄏᄏᄏᄏᄏᄏᄏᄏᄏᄏᄏᄏᄏᄏᄏᄏᄏᄏᄏᄏᄏᄏᄏᄏᄏᄏᄏᄏᄏᄏᄏᄏᄏᄏᄏᄏᄏᄏᄏᄏᄏᄏᄏᄏᄏᄏᄏᄏᄏᄏᄏᄏᄏᄏᄏᄏᄏᄏᄏᄏᄏᄏᄏᄏᄏᄏᄏᄏᄏᄏᄏᄏᄏᄏᄏᄏ', 8549: 'ᅣᅡ', 8550: '▁탐사', 8551: '뺘', 8552: '><ᄒ', 8553: '칵ᅲᅲ', 8554: '퉤ᅦᅦ', 8555: '뷴', 8556: 'ᄏᄏ꿋꿋', 8557: '▁국민들에게', 8558: '▁외교부', 8559: '▁연구진은', 8560: '켤', 8561: 'ᄉᄇᄅ', 8562: '▁언론은', 8563: 'ᄊᄑ', 8564: '先祖', 8565: '禮', 8566: '릣', 8567: 'ft', 8568: 'ᄏᄏᄏᄏᄏᄏᄏᄏᄏᄏ>', 8569: '볹', 8570: '피언', 8571: '★★', 8572: '▁연구를', 8573: '▁버락', 8574: '휼ᅲᅲᅲ', 8575: '퉤퉤퉤퉤퉤', 8576: '춸', 8577: '뙁', 8578: '▁총재', 8579: '엌ᄏ', 8580: '▁발생할', 8581: 'ᄀᄌᄀ', 8582: '▁주한미', 8583: '▁정부에', 8584: '앜ᄏᄏᄏᄏᄏᄏᄏ', 8585: '三峽', 8586: '롴ᄏᄏ', 8587: 'ᄂᄅ늴', 8588: 'ᅮᅮᅮᅮᅮᅮ', 8589: 'ᄏᄁᄏ', 8590: '짱♥♥♥♥♥♥♥♥♥♥', 8591: 'ᅵᅡ', 8592: '섷', 8593: '錢生錢死', 8594: '욷ᄒ텨', 8595: '솰', 8596: '잼ᄋᄉ', 8597: 'ᄃᄉᄐ싡ᄋ', 8598: '짱짱짱짱쨩쨩', 8599: '퓰', 8600: '일부터', 8601: 'ᄍᄌᄋᄉᄇ', 8602: '▁미시', 8603: '줭', 8604: '귐', 8605: '똗', 8606: '잼ᄀ', 8607: 'ors', 8608: '자회담', 8609: '햌ᄏᄏᄏᄏᄏᄏᄏᄏᄏᄏ', 8610: 'ᄒᄒ♡', 8611: '▁해제', 8612: '쪄ᅲ', 8613: '쐬', 8614: '짱짱♡', 8615: '좢', 8616: 'ᄏᄏᄏᄌᄉ', 8617: 'ᄆ<', 8618: '^^♥♥♥', 8619: 'ᅳ홧', 8620: '꺆', 8621: '끚', 8622: '▁바스라', 8623: '짱잼ᄏᄏ', 8624: 'ᄈᄐ', 8625: '퓽퓽', 8626: '짱♥♥♥', 8627: '깤', 8628: 'ᅮᅮᄏᄏᄏ', 8629: 'ᄌ쫌', 8630: '쪄ᅧ', 8631: '♥ᄒᄒᄒ', 8632: 'ᅥᄅ', 8633: '뎈ᄏᄏ', 8634: '섶', 8635: 'ᅮᅮᅲᅮ', 8636: 'ᄉᄇᄏᄏᄏᄏᄏ', 8637: '▁롬', 8638: '▁외교통상', 8639: 'ᄏᄏᄍᄍ', 8640: '욜ᄏᄏ', 8641: '▁임무를', 8642: '귿귿', 8643: '낱ᄐ', 8644: '잫', 8645: 'ᄏᄋᄏᄏ', 8646: '‘', 8647: '걀', 8648: '▁수감', 8649: '▁수비', 8650: 'ᅲᅲᄏᄏᄏᄏ', 8651: '캭', 8652: '귬', 8653: '▁탄핵', 8654: '웡ᄋᄉᄋ', 8655: 'ᅱ', 8656: 'ᅳ걍', 8657: '짭짤', 8658: '뺵', 8659: '▁예정인', 8660: '앜ᄏᄏᄏᄏ잼', 8661: '▁항소', 8662: 'ᄏᄏᄏᄏᄏᄏᄏᄏᄏᄏᄏᄏᄏᄏᄏᄏ앜ᄏᄏ', 8663: '▁기자회견', 8664: 'ᄂᄀ욷', 8665: '▁공식적인', 8666: '춌', 8667: '헑', 8668: '刻苦', 8669: '봘', 8670: '닼ᄏᄏᄏ킼ᄏᄏ', 8671: '北', 8672: 'ᄏᄏᄏᄏᄏᄏᄏᄏᄏᄏᄏᄏᄏᄏᄏᄏᄏᄏᄏᄏᄏᄏᄏᄏᄏᄏᄏᄏ', 8673: 'ᄋᄋᄋᄋᄋᄋᄋᄋᄋᄋᄋᄋᄋᄋᄋᄋᄋᄋᄋᄋᄋᄋᄋᄋᄋᄋᄋᄋᄋᄋᄋᄋ', 8674: 'ᅲᅲᅲᅲᅲᅲᅲᅲᅲᅲᅲᅲᅲᅲᅲᅲᅲᅲᅲᅲᅲᅲᅲᅲᅲᅲᅲᅲᅲᅲᅲᅲᅲᅲᅲᅲᅲᅲᅲᅲᅲᅲᅲᅲᅲᅲᅲᅲᅲᅲᅲᅲᅲᅲᅲᅲᅲᅲᅲᅲᅲᅲᅲᅲᅲᅲᅲᅲᅲᅲᅲᅲᅲᅲᅲᅲᅲᅲᅲᅲᅲᅲᅲᅲᅲᅲᅲᅲᅲᅲᅲᅲᅲᅲᅲᅲᅲᅲᅲᅲᅲᅲᅲᅲᅲᅲᅲᅲᅲᅲᅲᅲᅲᅲᅲᅲᅲᅲᅲᅲᅲᅲᅲᅲᅲᅲᅲᅲᅲᅲᅲᅲᅲᅲᅲᅲ', 8675: '헿헿헷', 8676: 'ᅳᅳᄏᄏᄏᄏ', 8677: '퀄+', 8678: '욬ᄉ쵸ᅲᅧᄅ', 8679: '잼ᅮᅮᅮᅮ', 8680: 'ᅡᅡᅡᅡᅡᅡᅡ', 8681: '잼씹잼', 8682: '닁', 8683: '뇔', 8684: '끋', 8685: '쀨', 8686: '먠', 8687: '▁한나라당', 8688: '콮', 8689: '뀨뀨', 8690: 'ᅳᄇ', 8691: '▁소형', 8692: 'ᄌᄂ빡', 8693: 'ᄃᄄ', 8694: '댜><', 8695: '났으며', 8696: '틍', 8697: 'ᅮᅮᄏᄏ', 8698: '名演', 8699: 'ᅲᅲᅲᅳ', 8700: '▁리버풀', 8701: 'ᅵᅵ', 8702: 'ᄒᄒᄌᄒ', 8703: '♥♥♥짱', 8704: 'ᄒ♥', 8705: '▁재건', 8706: '뺠', 8707: '붜', 8708: '쭈쮸', 8709: '♥♥♥♥♥♥♥♥♥♥♥♥♥♥', 8710: 'ᄏᄏᄀᄏᄏᄏᄀᄏᄀᄏᄏᄏᄏ', 8711: 'ᄏᄏᄏᄏᄏᄅᄏᄏᄏ', 8712: '÷', 8713: '♤', 8714: '(5', 8715: 'ᄀᄊᄅ', 8716: '▁휴대전', 8717: '냊', 8718: '곷', 8719: 'ᅲᅲᅲ뽀', 8720: '즈볼', 8721: '곸ᄏᄏᄏᄏᄏᄏᄏᄏ', 8722: '씹잼', 8723: '舒淇', 8724: 'ᄏᄏ舒淇', 8725: 'ᅲᅲ씁', 8726: '졔', 8727: 'ᅲ♡ᅮ', 8728: 'ᄇᄈ', 8729: '▁사우디', 8730: '作', 8731: '첮', 8732: '뎈ᄏᄏᄏᄏᄏᄏᄏ', 8733: '쬬', 8734: '닊', 8735: '▁유권자', 8736: '▁자살폭탄테러', 8737: '밌겓', 8738: '▁유엔', 8739: '카르타', 8740: 'ᅵ밌', 8741: 'ᄆᄒ', 8742: 'ᄉᄇᄌᄀᄉᄌᄀᄎ', 8743: '옄', 8744: '쳅', 8745: 'ᅲᅲᅲᅲᅲᅲᅲᅲᅲᅲᅲᅲᅲᅲᅲᅲᅲ', 8746: '▁정착', 8747: '▁차량을', 8748: '^ᄒᄒᄒ', 8749: '▁권고', 8750: '줫겟', 8751: 'ᄐᄏ', 8752: '젇', 8753: '씹샊', 8754: '韓派', 8755: '僞善者', 8756: '高岡蒼佑', 8757: '쑝><', 8758: 'ᅲᅲ잼', 8759: '떽', 8760: '앜ᄏᄏᄏᄏᄏᄏᄏᄏᄏᄏᄏᄏᄏᄏᄏᄏᄏᄏᄏᄏᄏᄏᄏᄏᄏᄏᄏᄏᄏᄏᄏᄏᄏᄏᄏᄏᄏᄏᄏᄏᄏᄏᄏᄏᄏᄏᄏᄏᄏ', 8761: '▁인디애나', 8762: '▁가격이', 8763: '▁행정부', 8764: 'ᄒᄒᄏᄏ', 8765: '볐', 8766: '썸ᄏᄏ', 8767: '갅ᄉ', 8768: 'ᅳᄌ', 8769: 'ᄉ녿', 8770: '▁수천명의', 8771: 'ᄏᄏᄀᄀ', 8772: '잼읎', 8773: '죤ᄏᄏ', 8774: '씝', 8775: '▁방문을', 8776: '▁해결하기', 8777: '쌕쒸', 8778: '개국', 8779: '멐', 8780: '죸ᄏᄏᄏᄏᄏᄏᄏᄏᄏᄏᄏᄏ', 8781: '쩐닼ᄏ', 8782: 'ᅲᅲᅲᅲᅲᅲᅲᅲᅲᅲᅲᅲᅲᅲᅲᅲᅲᅲᅲᅲᅲᅲᅲ', 8783: '낰ᄏᄏᄏᄏᄏᄏᄏᄏᄏᄏᄏᄏᄏᄏᄏᄏᄏᄏ', 8784: '잌ᄏᄏᄏᄏᄏ', 8785: '듴ᄏᄏᄏ', 8786: '슲', 8787: '>>>>>>>>>', 8788: '웤', 8789: '꼿', 8790: '뿜ᄏᄏᄏᄏᄏᄏᄏᄏᄏᄏᄏᄏᄏᄏᄏᄏᄏ', 8791: '쌤썽', 8792: '쑹컹', 8793: '▁베네수엘라', 8794: 'ᄌᄌᄌᄌᄌᄌᄌᄌᄌᄌᄌᄌᄌ', 8795: '넴ᅲ', 8796: '걍쌤', 8797: 'ᄏᄏᄏ앜', 8798: 'ᄏᄏᄏ엌ᄏᄏ', 8799: 'orth', 8800: 'ᅮᅢᄂᄆ', 8801: '뢉', 8802: 'ens', 8803: '찯', 8804: 'ᅩᄒᄅᄋ', 8805: '♥★♥★♥★♡☆♡☆♡☆', 8806: '봴', 8807: 'ᄏᄏᄏᄏᄏᄏᄏᄏᄏᄏᄏᄏᄏᄏᄏᄏᄏᄏᄏᄏᄏᄏᄏᄏᄏᄏᄏᄏᄏᄏᄏᄏᄏᄏᄏᄏᄏᄏᄏᄏᄏᄏᄏᄏᄏᄏᄏᄏᄏᄏᄏᄏᄏᄏᄏᄏᄏᄏᄏ', 8808: 'ᅮ넝', 8809: 'ᅳᅇ', 8810: 'ᄊᄉ', 8811: '퍽퍽퍽', 8812: '젭', 8813: '숼', 8814: '▁복무', 8815: '쌜', 8816: '▁요구한', 8817: '웩ᅳ', 8818: '쾡', 8819: '툿', 8820: '쥤', 8821: '겈ᄏᄏᄏᄏᄏᄏᄏᄏᄏᄏᄏᄏᄏ', 8822: '헠헠', 8823: '▁법률', 8824: '땓', 8825: '댇댇', 8826: 'ᄏᄏᄏ엥', 8827: '슾', 8828: '뀼♥', 8829: 'Total', 8830: '훋ᄃᄃᄃ', 8831: '짱ᄋ', 8832: '▁게재', 8833: 'asp', 8834: '옰', 8835: '^^♡♡♡', 8836: '▁성직', 8837: 'ᄒᄆ흨ᄅᄂ', 8838: '닼ᄏᄏᄏᄏᄏᄏᄏᄏᄏᄏᄏᄏ', 8839: '▁발언을', 8840: 'ᄁᄀ', 8841: '봣씁', 8842: '짱ᄏᄏᄏ', 8843: '띡', 8844: 'ᄒ^^', 8845: '꿬ᄏᄏᄏᄏ', 8846: '냠냠냠뱉', 8847: '솨ᅳᅳ', 8848: '잼ᅳᄏ', 8849: 'ᅮ놘', 8850: 'ᄏᄒᄏᄒᄏᄒᄏᄏᄒᄏᄒᄏᄒᄏᄒᄏᄒᄒᄏᄏᄒᄒᄏ', 8851: '^^^ᄏᄏ', 8852: '▁Se', 8853: '▁Japan', 8854: 'ᄃᄏ', 8855: '잼땋', 8856: '겜썸', 8857: '▁엘리자', 8858: '^☆', 8859: '짱♡♡♡♡♡♡♡♡♡♡', 8860: '싑', 8861: 'ᅳᄂ', 8862: '▁성폭', 8863: '糞男', 8864: '糞女', 8865: '▁북부', 8866: '要', 8867: '섫', 8868: '▁승인', 8869: '짂', 8870: '켁켁', 8871: '츙', 8872: 'ᄉᄇᄏᄏᄏ', 8873: '♫♬♪', 8874: '5)', 8875: '▁확인했다', 8876: '놋', 8877: 'ᄏᄀᄀᄀ', 8878: '껰', 8879: '▁유권', 8880: '좆쩜', 8881: '쎗', 8882: '▁사령관은', 8883: '멕시코', 8884: '넀', 8885: '횤ᄏᄏᄏ', 8886: '月', 8887: '♥\\\\', 8888: '닼ᄏᄏᄏᄏᄏᄏᄏᄏᄏᄏᄏᄏᄏᄏᄏᄏᄏᄏ', 8889: '짱짱쩡', 8890: '쬬쬬', 8891: '쥣', 8892: '▁비판했다', 8893: '넙쩍', 8894: '♥♥♥♥♥♥♥♥♥♥♥', 8895: '밌닼ᄏᄏᄏᄏᄏᄏᄏ', 8896: 'ᄏᄏ\\\\', 8897: '밋곻', 8898: '▁지지하는', 8899: '뽕삘', 8900: '쌤ᅲᅲᅲᅲᅲᅲ', 8901: '끅끅끅', 8902: '잼♥ᄒᄒᄒᄒ', 8903: '▁주장하고', 8904: '핻', 8905: 'ᄒᄋᄃ', 8906: 'ᄏᄏᄏᄏᄏᄏᄏᄏᄏ앜ᄏᄏᄏᄏᄏ', 8907: '밋츰', 8908: '캭캬캬', 8909: '짴ᄏᄏᄏᄏ', 8910: 'ᅲᅲᅲ♥', 8911: '맂', 8912: '륒', 8913: '뎍', 8914: '▁법안을', 8915: 'ᅡᄅ', 8916: 'ᄀᄂᄂᄂ', 8917: '냌ᄏᄀᄁᄀ', 8918: 'ᄏᄁ', 8919: 'ᅵᅵᅵᅵᅵᅵ', 8920: '▁남북한', 8921: 'りえ様', 8922: 'ガンダム見たいですね', 8923: 'ウングワンヨルシムヒします', 8924: '겈ᄏᄏ', 8925: '뮁', 8926: '돠^^^^^^', 8927: '슼', 8928: '밌ᄊ', 8929: 'ᅭᄅ', 8930: '▁스웨', 8931: '쟙', 8932: 'ᄁᄏᄏᄏ', 8933: '謝霆鋒', 8934: '짱><', 8935: '낑낑', 8936: '섳ᄆ', 8937: 'ᅵᄃᄋ', 8938: '잖앜ᄏᄏᄏ', 8939: '늠늠', 8940: '☜', 8941: 'ᄒᄅᄅ', 8942: '▁사망하고', 8943: '▁보유', 8944: '볓', 8945: 'ᅵᅵᅵᅵ', 8946: 'ᄒᄋᄅ', 8947: '檢', 8948: '쯧쯗', 8949: '♥▼♥', 8950: 'ᄋ싢', 8951: '똥ᄏᄏ', 8952: 'ᄏ뽀', 8953: '▁침체', 8954: '땈ᄏᄏ', 8955: '▁국제사회', 8956: 'ᄏ똥', 8957: '▁기후', 8958: '▁청문', 8959: '볠', 8960: '▁여객', 8961: '^ᅩ^', 8962: '最高峰', 8963: '썽띵', 8964: '넫', 8965: '늨', 8966: 'ᄏᄏᄏ죤', 8967: 'ᄊᄅᄋ', 8968: '냠', 8969: '똥쌌', 8970: '홬ᄏᄏᄏ', 8971: '惡', 8972: '終末', 8973: '希望', 8974: '싴ᄏᄏᄏᄏᄏᄏᄏᄏᄏᄏᄏᄏ', 8975: '♡^', 8976: '뀜+', 8977: '뵐껄', 8978: 'oci', 8979: '넼ᄏᄏᄏᄏᄏᄏᄏᄏ', 8980: '슺', 8981: '옿', 8982: '랔ᄏᄏ', 8983: 'ᄏᄀ깽♥', 8984: 'ᄃᄃᄃᄃᄃᄃᄃ', 8985: '옼ᄏ', 8986: '냬', 8987: '칰ᄏ', 8988: '눊', 8989: '쟞', 8990: 'ᄑᄏᄏᄏ', 8991: '^ᅳ^ᄏᄏ', 8992: '잤잖', 8993: '♥♡♥♡', 8994: '▁이스라엘이', 8995: 'ᄋᄀ', 8996: '닠ᄏᄏᄏᄏ', 8997: '리포니아', 8998: 'ᄏᄏ쭈', 8999: '둣둣', 9000: '쎀ᄏᄏᄏᄏ', 9001: '쓕ᄏᄏᄏ', 9002: '듁', 9003: '궜', 9004: '귱', 9005: '즞', 9006: 'ᄋᄃᄌᄉ', 9007: '.”', 9008: '짱ᄏᄒ', 9009: '밌긔', 9010: '꺅><', 9011: 'ᄍᄍᄉᄏ', 9012: '▁귀국', 9013: '띱', 9014: '▁총리', 9015: 'ᄅ잼', 9016: 'ᅥᅥ♥♥♥', 9017: 'ᄅᄌᄇᄋ', 9018: '앚ᄉ', 9019: '★★★★★★★★★★', 9020: '뒌', 9021: '▁부과', 9022: 'ᄒᄒᄒᄒ귓', 9023: 'ᄒᄒᄒ^', 9024: 'ᄏᄏᄏᄏ씹', 9025: '♩', 9026: '▁기밀', 9027: '냨ᄏᄏᄏᄏᄏᄏᄏᄏᄏᄏᄏᄏᄏᄏ', 9028: '욤+', 9029: '♡짱', 9030: '빤쭈', 9031: 'ᄆᄅ', 9032: '▁밝혀졌다', 9033: 'ᄒ>', 9034: '잼ᅮᅮ', 9035: '믜', 9036: '벰', 9037: '뗬', 9038: '곸ᄏᄏᄏᄏᄏᄏᄏᄏᄏᄏ', 9039: 'ᅲᅲᅲᅲᅲᅲᅲᅲᅲᅲᅲᅲᅲᅲᅲᅲᅲᅲᅲᅲ', 9040: '잼★♥♥', 9041: '♥♩♪♬☞☜♡', 9042: '빽빽', 9043: '言葉', 9044: '곀곀', 9045: '됻', 9046: 'ᅵᄅ', 9047: '上', 9048: 'ᄈᄉ', 9049: 'ᄅᄆ', 9050: '짱ᄃ', 9051: '얔ᄏᄏᄏᄏᄏᄏᄏᄏᄏ', 9052: 'ᅭᅮ', 9053: 'ᅭᅮᄉ', 9054: '슌땜', 9055: '求道記', 9056: '굵갉', 9057: '꺙꾱낑랽룕뷁', 9058: '흨흨', 9059: 'ᅮ닏', 9060: 'ᄃᄉᄐ', 9061: 'ᄃᄂᄃᄉᄃᄉᄃᄋᄃᄒᄌᄊᄉᄅ', 9062: 'ᅥᄋᄆ', 9063: '삳', 9064: 'ᄂᄋᆱ', 9065: '外道', 9066: 'ᅮᅮᅮ뎁', 9067: '옘뵹', 9068: 'ᄃᄃᄏᄏ', 9069: '웡ᅲᅮ', 9070: '샣', 9071: 'ᄀᄂᄃ', 9072: '캬ᅳ', 9073: '웡♥', 9074: '덛ᄇᄀᄋ', 9075: '욤ᅳ^ᅳ', 9076: '셌', 9077: 'ᄌᄇᄉ', 9078: 'ᅳᅳᅩᄏᄏᄏᄏ', 9079: 'JO', 9080: '넸', 9081: '죻', 9082: 'ᅮᅳᅲ', 9083: 'ᄂᄃ', 9084: '텈ᄏᄏᄏᄏᄏᄏᄏᄏᄏᄏᄏᄏᄏᄏᄏ', 9085: 'ᄏᄃᄀ', 9086: '⊙⊙', 9087: '댠', 9088: '댸', 9089: '뱎', 9090: '얔ᄏᄏᄏᄏᄏᄏᄏᄏᄏᄏᄏᄏᄏᄏᄏ', 9091: '♥♥♥★★★★', 9092: '▁모색', 9093: '즤', 9094: '옂', 9095: '빡빢', 9096: '벙찐', 9097: '▁샌프란시스코', 9098: '틐ᄏ', 9099: 'BI', 9100: '▁기소', 9101: '밬ᄏ', 9102: 'ᅵᄃ', 9103: '▁알래스카', 9104: 'ᄏᄏ옜', 9105: '섿', 9106: '썡', 9107: 'ᄏᄏ왤', 9108: '쏱', 9109: '^───^', 9110: 'ᄅᄅᄅᄅᄅᄅᄅ', 9111: '밋ᄉᄉ뜸', 9112: '밋쪙', 9113: '必要韓紙', 9114: '욥^', 9115: '뱌쓔', 9116: '▁남아프리카', 9117: 'ᄏᄀᄉᄃ', 9118: '^♥^', 9119: 'ᄊᄂ', 9120: '놬ᄏᄏᄏ', 9121: 'ᄌᄀᄂᄎ', 9122: 'ᅭᄂ', 9123: '헿헿', 9124: '敵', 9125: '좝', 9126: '쫌ᄃᄃ', 9127: '기문', 9128: '빋', 9129: '덛', 9130: '밋ᄃ', 9131: '▁위치한', 9132: '탸', 9133: '▁발병', 9134: '욧ᄏᄏᄏᄏ', 9135: '▁증거를', 9136: '쪙ᄏᄏᄏᄏ', 9137: '헷ᄋ', 9138: '쑴', 9139: '▁리처', 9140: '짱★', 9141: '잌ᄏᄏᄏᄏᄏᄏᄏᄏᄏᄏᄏᄏᄏᄏᄏᄏᄏᄏᄏᄏᄏᄏ', 9142: '짱짱ᄏᄏ', 9143: 'ᅲᅲ짱', 9144: '곻', 9145: '짱꽝', 9146: 'ᄋᄃᄂ', 9147: '껌씹', 9148: '낰ᄏᄏᄏᄏᄏᄏᄏᄏᄏᄏᄏᄏ', 9149: '됐으나', 9150: 'ᅵᄏᄏ', 9151: 'ᄋᄏᄃᄏ', 9152: '♡♥♡♥♡', 9153: '▁거뒀', 9154: '뎁ᄇ', 9155: '욬ᄏᄏᄏᄏᄏᄏᄏᄏ', 9156: '▁밀란', 9157: '씹ᅵ', 9158: 'ᅳᅳᅮᅮ', 9159: 'ᄏᄏᄏᄏᄏᄉᄇ', 9160: '햐ᄏᄏᄏᄏᄏᄏᄏᄏᄏᄏᄏ', 9161: '뎅ᄒᄒ', 9162: '☆★☆★☆★☆★☆★☆★☆★☆★☆★☆★☆★☆★☆★☆★☆★☆★☆★☆★☆★☆★☆★☆★☆★☆★☆★☆★☆★☆★☆★☆★☆★☆★☆★☆★☆★☆★☆★☆★☆★☆★☆★☆★☆★☆★☆★☆★☆★☆★☆☆★☆★☆★☆★☆★☆★☆★☆★☆★☆★☆★☆★☆◐◑※', 9163: '⊙◎●○▷◁▽△■□】【', 9164: '랔ᄏᄏ왘ᄏᄏ뭥밐ᄏ', 9165: '▁아르헨티나', 9166: '낞', 9167: 'ᄇᄉᄊᄅᄀ', 9168: '찡♥', 9169: '퉜', 9170: '숰ᄏᄏᄏᄏᄏᄏᄏᄏᄏᄏᄏᄏᄏᄏᄏᄏ', 9171: '밫ᄀ', 9172: '▁청구', 9173: '>柱傑侖', 9174: 'ᅮᅮᅮᅮᅮᅮᅮᅮᅮᅮᅮᅮᅮᅮᅮ', 9175: '뚠', 9176: 'ᅲᅲᄏᄏᄏ', 9177: '▁합동', 9178: '▁차관', 9179: 'ᅲᄑ', 9180: '밌읍', 9181: 'ᄀ\\xad', 9182: '▁은신', 9183: '정부가', 9184: '죤@', 9185: '앜ᄏᄏᄏᄏᄏᄏᄏᄏᄏᄏᄏᄏᄏᄏᄏᄏᄏᄏᄏᄏᄏᄏᄏᄏᄏᄏᄏ', 9186: '뱆', 9187: 'ᄃᄋ', 9188: 'ᅵ쨩', 9189: '껌뻑', 9190: '뎁ᅮᅮ♥', 9191: '♡ᅳᅳᄏ', 9192: 'ᄇᄉᄃᄋ', 9193: '觸法', 9194: '쭐쭐', 9195: '▁채택', 9196: '잼^', 9197: '+잼', 9198: '덨', 9199: '욧^^', 9200: '렿', 9201: '벸', 9202: 'ᄏᄏᄏᄏᄏᄏᄏᄏᄏᄏᄏᄏᄏᄏᄏᄏᄏᄏᄏᄏᄏᄏᄏᄏᄏᄏᄏᄏᄏᄏᄏᄏᄏᄏᄏᄏ', 9203: '렜댜', 9204: 'ᄒᄒᄉ', 9205: '▁법안', 9206: '똥씹', 9207: '뺌', 9208: '꽝ᅲ', 9209: 'ᄀᄃᄏᄃ', 9210: 'ᄌᄉᄀᄃ', 9211: '쎀ᄏᄏᄏ', 9212: '나이티', 9213: '驛', 9214: '^^ᅳ', 9215: '蜀山', 9216: '小', 9217: '候看的', 9218: '念小', 9219: '候', 9220: 'ᅥᄏᄏᄏ', 9221: 'ᄐᄂᄋᄀᄅ', 9222: '윘', 9223: '무역', 9224: '▁구금', 9225: 'ᄏᄏ킼', 9226: '難山', 9227: '▁백악', 9228: 'ᄏᄏᄏᄏᄏᄏᄏᄏᄏᄏᄏᄏᄏᄏᄏᄏᄏᄏᄏᄏᄏᄏᄏᄏᄏᄏᄏᄏᄏᄏᄏ', 9229: 'ᄒᄒᄒᄒᄒᄒᄒᄒᄒᄒᄒᄒᄒᄒᄒᄒᄒᄒᄒ', 9230: '人。', 9231: '꿎꿎', 9232: 'iti', 9233: 'ᄉᄋᄂ', 9234: '뵌', 9235: '넼ᄏᄏᄏᄏᄏᄏᄏᄏᄏᄏᄏᄏᄏᄏ', 9236: '^♡^', 9237: '▁페르난', 9238: '테네', 9239: '紐', 9240: '넗濡쒕씪異', 9241: '쟾濡', 9242: '▁제재', 9243: '묨ᄇ', 9244: '깈ᄏ', 9245: '텡', 9246: '뎅ᄒ', 9247: 'ᄉᄉᄃᄃ', 9248: 'ᅲᅮᅮᅮᅮ', 9249: 'ᄒᄒᄒᄒᄒᄒᄒᄒᄒᄒ^^', 9250: '쥼^', 9251: 'ᅩᅥᄋᄂ', 9252: '▁치러', 9253: '흏', 9254: '놃', 9255: 'ᅡᅲ', 9256: '大作', 9257: '긬ᄏᄏᄏᄏᄏᄏᄏᄏ', 9258: '뢈', 9259: '릳', 9260: '蟲師', 9261: 'むしし', 9262: '▁우승을', 9263: '닏', 9264: '▁사령', 9265: 'ᄏᄏᄏᄏᄏᄏᄏᄏᄏᄏᄏᄏᄏᄏᄏᄏᄏᄏᄏᄏᄏᄏᄏᄏᄏᄏᄏᄏᄏᄏ', 9266: '生', 9267: '뤰', 9268: '쓱쓱', 9269: '봣쪄', 9270: '촹', 9271: '▁결정에', 9272: '굯', 9273: 'SC', 9274: 'ᄒᄒᄒ힣ᄒᄒᄒ', 9275: '땝', 9276: 'ᅢᄌ킌', 9277: 'ᅥᅩ', 9278: 'ᄍᄍᄍᄍᄍᄍᄍᄍᄍᄍᄍᄍᄍᄍᄍᄍᄍᄍ', 9279: '힝ᄏ', 9280: '▁성화', 9281: '욬ᄏᄏᄏᄏᄏᄏᄏᄏᄏᄏᄏᄏᄏᄏᄏ', 9282: '넼ᄏᄏᄏᄏᄏᄏᄏᄏᄏᄏ', 9283: '곀ᄏᄏᄏᄏᄏᄏ', 9284: '^^짱', 9285: '띰', 9286: 'ᅳᅳ++++', 9287: '랔', 9288: '엷', 9289: '옄ᄏᄏᄏ', 9290: 'ᄋᄇᄚ', 9291: '읖', 9292: '^○^', 9293: '▁재판을', 9294: 'ᅦᅦᄋ', 9295: '▁측근', 9296: '잼겝봣', 9297: 'ᅮᅮ♡♡♡', 9298: '핱', 9299: 'ᅲᅳᅳᅲ', 9300: '完', 9301: '셧겟', 9302: '▁인터넷을', 9303: '댣', 9304: '똥꽄ᄏ', 9305: '긛', 9306: '▁야당', 9307: 'ᄒᄒᄋ', 9308: '긔^^', 9309: 'ᅮᅮ@@@', 9310: 'ᅳ븨', 9311: '탆', 9312: '곸ᄏᄏᄏᄏᄏᄏᄏᄏᄏᄏᄏ', 9313: '싑ᅲ', 9314: '꼅', 9315: '★♥', 9316: '後部よし、信', 9317: 'よし', 9318: '쌤썜', 9319: '핦', 9320: '뵤', 9321: '3)', 9322: '뽀얗', 9323: '헙', 9324: '▁게이츠', 9325: '엌ᄏᄏᄏᄏ', 9326: '놑', 9327: '▁열리는', 9328: 'ᄏᄏ짱짱', 9329: '@ᅡᄃ', 9330: 'inis', 9331: '綠林', 9332: '江湖', 9333: '復讐無情', 9334: 'ᅵᄆ', 9335: '▁화재로', 9336: 'ᅳᅲᅲ', 9337: '▁폭탄이', 9338: 'ᄏᄏᄏᄏᄏᄏᄏᄏᄏᄏᄏᄏᄏᄏᄏᄏᄏᄏᄏᄏᄏᄏᄏᄏᄏᄏᄏᄏᄏᄏᄏᄏᄏᄏᄏᄏᄏᄏ', 9339: '▁공식적으로', 9340: '▁사태를', 9341: 'ᄏᄏᄏᄏᄏᄏᄏᄏᄏᄏᄏᄏᄏᄏᄏᄏᄏᄏᄏᄏᄏᄏᄏᄏᄏᄏᄏᄏᄏᄏᄏᄏᄏᄏᄏᄏᄏᄏᄏᄏᄏᄏᄏᄏᄏᄏᄏᄏᄏᄏᄏᄏᄏᄏᄏᄏᄏᄏᄏᄏᄏᄏᄏᄏᄏᄏᄏᄏᄏᄏᄏᄏᄏᄏᄏᄏᄏᄏᄏᄏᄏᄏᄏᄏᄏᄏᄏᄏᄏᄏᄏᄏᄏᄏᄏᄏᄏᄏᄏᄏᄏᄏᄏᄏᄏᄏᄏᄏᄏᄏᄏᄏᄏᄏᄏᄏᄏᄏᄏᄏᄏᄏᄏᄏᄏᄏᄏᄏᄏ', 9342: '띀', 9343: '▁요르단', 9344: '얐', 9345: '▁네덜', 9346: '잼ᄏᄒᄏᄒ', 9347: 'ᄃᄃᄃᄃᄃᄃᄃᄃᄃ', 9348: 'ᅥᅮ', 9349: 'ᅥᄆᄌ', 9350: '▁비용이', 9351: '짱짱짱ᄏᄏᄏ', 9352: '끽끽', 9353: '끅', 9354: '▁사항', 9355: '옼ᄏᄏᄏ', 9356: '잤댘ᄏᄏᄏᄏ', 9357: '껬', 9358: '뿩', 9359: '통제', 9360: '쟨', 9361: '▁케냐', 9362: '쟉', 9363: 'ᄉᄌᄉ', 9364: 'ᅲᅲᄏᄏᄏᄏᄏᄏᄏᄏᄏᄏ', 9365: 'ᄋᄋᄋᄋᄋᄋ', 9366: '정부는', 9367: 'ᅵᄉ', 9368: 'ᅧᄋ', 9369: '닟탗', 9370: 'ᅵᅡᄌ닺ᄃ', 9371: '땸앸ᄏ', 9372: '쳣닼ᄏᄏᄏ', 9373: '썌', 9374: '디움', 9375: '엏헑', 9376: '넼ᄏᄏᄏᄏᄏᄏ', 9377: '여명이', 9378: 'ᅳᅩ', 9379: '헷헷', 9380: '▁자금을', 9381: '흣♥', 9382: 'ᄋᄋᄋᄋᄋ', 9383: 'ᅳ짱', 9384: '▁방문할', 9385: '맄ᄏᄏᄏᄏᄏᄏᄏᄏᄏᄏ', 9386: '짇', 9387: '▁발표한', 9388: '▁포르투갈', 9389: '愛憎', 9390: 'ᄃᄂᄆᄅ', 9391: '늰', 9392: '♥♥♥♥\\\\', 9393: 'ations', 9394: 'ᄀᄀ씽', 9395: 'ᄁᄁᄁᄁᄁᄁᄁᄁ', 9396: 'ᄇᄃᄋ', 9397: 'ᄂᄇᄆ', 9398: '▁촉진', 9399: '잼乃', 9400: '^^ᅲᅲ', 9401: 'ᄏᄃᄏ', 9402: '▁수백명의', 9403: '원제', 9404: 'ᄋᄋᄂᄂ', 9405: '쭘', 9406: '힝힝', 9407: '싯댜', 9408: '만명의', 9409: '▁발언은', 9410: '▁플로리다', 9411: '밋ᄋ', 9412: 'ᄒᄒᄒᄒᄒᄒᄒᄒᄒᄒᄒᄒᄒᄒᄒᄒᄒᄒᄒᄒᄒᄒᄒᄒᄒᄒᄒᄒᄒ', 9413: '▁폭탄테러', 9414: '▁네트워크', 9415: '뭥뮈', 9416: '잼+', 9417: '▁수니파', 9418: '닻', 9419: 'ᄂᄋᄒᄅ', 9420: '뎟', 9421: '셑', 9422: 'ᅧᅥᅥᅮ', 9423: '뜌ᅡ', 9424: 'ᄏᄏᄏᄏᄏᄏᄏᄏᄏᄏᄏᄏᄏᄏᄏᄏᄏᄏᄏᄏᄏᄏᄏᄏᄏᄏᄏᄏᄏᄏᄏᄏᄏᄏᄏᄏᄏᄏᄏᄏᄏᄏᄏᄏᄏᄏᄏᄏᄏᄏᄏᄏᄏᄏᄏᄏᄏᄏᄏᄏ', 9425: '5000', 9426: 'ᄂᄃᄒ', 9427: '짱♡♡', 9428: '잼꼐봣', 9429: '틔', 9430: 'ᄏᄏ썸', 9431: '쮜', 9432: '욧ᄆ', 9433: 'ᄂᄃᄉ', 9434: 'ᄇᄌᄂ', 9435: '냨ᄏᄏᄏᄏᄏᄏᄏ', 9436: '띵똥', 9437: '皿', 9438: '▁주장한', 9439: '뎅ᅲᅲ', 9440: '▁사우스', 9441: '잿빝', 9442: 'ᄅᄀ', 9443: 'ᅦᆰ', 9444: '휨', 9445: '넝ᅮᅮ', 9446: '▁EU', 9447: 'ᄏᄏᄏᄏᄏᄏᄏᄏᄏᄏᄏᄏᄏᄏᄏᄏᄏᄏᄏᄏᄏᄏᄏᄏᄏᄏᄏᄏᄏᄏᄏᄏᄏᄏᄏᄏᄏᄏᄏᄏᄏᄏᄏ', 9448: '옄ᄏᄏᄏᄏᄏᄏᄏᄏᄏ', 9449: '▁바그', 9450: '낏', 9451: '♧', 9452: 'ᄌᄀ', 9453: 'ᄏᄏᄏᄏᄀᄀ잼', 9454: '닼ᄏᄏᄀ', 9455: '묽', 9456: '깍깍', 9457: '뿜ᄏᄏ', 9458: '얺', 9459: '▁대피', 9460: 'ᄒ쫌', 9461: '▁대출', 9462: '롁', 9463: '욧ᄏᄏ', 9464: '▁증시', 9465: '슽', 9466: 'mer', 9467: '♥♥♥짱짱', 9468: 'ᄂᄋ', 9469: 'ᄏᄏᄏᄐᄐᄐᄐ', 9470: 'ᄏᄐᄐᄐᄐ', 9471: '잼ᅲᅲ', 9472: '잌ᄏᄏᄏᄏᄏᄏᄏᄏᄏᄏᄏ', 9473: '^^ᄒᄒ', 9474: '개월간', 9475: '▁추정되는', 9476: '짱짱ᅲᅲ', 9477: '男', 9478: '뻭', 9479: '헠헠헠헠헠ᄏᄏ', 9480: '뎈ᄏᄏᄏᄏᄏᄏᄏᄏᄏ', 9481: '캢', 9482: '쉥', 9483: '깤ᄏᄏᄏ', 9484: '뎅ᄏ짱짱', 9485: '샡', 9486: 'ᄃᄇ', 9487: 'ᅥᄂ', 9488: '먀ᅦᅢᄂᄋ봊ᄒ', 9489: 'ᅣ볻', 9490: 'ᅣᄉ', 9491: 'ᅣᄀ', 9492: 'ᅦᄌ', 9493: 'ᅩᄉᄒ', 9494: '엨', 9495: '뺍', 9496: '♡♥', 9497: '핱핱핱', 9498: '헿헿헿헿', 9499: '짱짱짱乃', 9500: 'ᅮᄅ', 9501: '▁다음달', 9502: '뻉', 9503: '꿑', 9504: '왘ᄏᄏᄏᄏᄏᄏᄏᄏᄏᄏᄏᄏᄏᄏᄏᄏᄏᄏᄏᄏᄏᄏᄏᄏᄏᄏᄏ', 9505: '폽', 9506: '낰ᄏᄏᄏᄏᄏᄏᄏᄏᄏ', 9507: '▁라이스', 9508: '9)', 9509: '쉣ᅲ', 9510: 'ᅳᅳᄋ', 9511: '잼뜬', 9512: '前', 9513: '後', 9514: '▁현장을', 9515: '놬ᄏᄏ', 9516: '놬ᄏᄏᄏᄉ', 9517: '긔믜', 9518: '뤌', 9519: '똴', 9520: '졋넼ᄏᄏ', 9521: 'ᅦ엥ᄋ', 9522: '▁집계', 9523: 'ᄍᄍᄍᄍᄍᄍ', 9524: '곀ᄏᄏᄏᄏᄏ', 9525: '껭', 9526: '핛핛핛', 9527: '퓌', 9528: '칝', 9529: '퉤퉤퉤', 9530: '뎋ᄒ', 9531: '짱짱ᄒᄒᄒ', 9532: '쟤땜', 9533: 'ᄒᄒᄒᄒᄒᄒᄒᄒᄒᄒᄒᄒᄒᄒᄒ', 9534: '▁수니', 9535: '좆씹', 9536: '닼ᄏᄏᄏ♡', 9537: '▁달러를', 9538: 'ᅲᅲᅲ떡', 9539: '잼ᄆᄆ', 9540: 'ᅲᅲ걍', 9541: 'ᅮ훟귝ᄒ', 9542: '쌩쌩', 9543: 'ᄎᄏ', 9544: 'ᄂᄐᄎ', 9545: 'ᅳᄃᄅ', 9546: '쨈', 9547: 'ᅳᅮᅮ', 9548: '@ᄏᄏᄏ', 9549: '↘', 9550: '짘', 9551: '젅', 9552: '+딥', 9553: '긑', 9554: 'ᄅᄂ', 9555: '퇄', 9556: '땍땍', 9557: '프롬', 9558: 'ᄏᄏᄏᄏᄏᄏᄏᄏᄏᄏᄏᄏᄏᄏᄏᄏᄏᄏᄉ', 9559: '륵ᅮᅮ', 9560: '싖ᄀᄃ', 9561: '▁촉구', 9562: '▁소식을', 9563: '<퀵>', 9564: '▁주민들이', 9565: '돜ᄏᄏᄏᄏᄏᄏᄏᄏᄏᄏᄏᄏᄏᄏᄏᄏᄏᄏᄏᄏᄏᄏᄏᄏᄏᄏᄏᄏᄏᄏ', 9566: '♡♡♡♡♡♡♡', 9567: 'ᄌᄒ', 9568: '▁대통령과', 9569: '혖', 9570: '◀', 9571: '꿓', 9572: '▁Korean', 9573: 'ᄃᄃ퀄', 9574: 'ᄏᄏᄏᄏ쩐', 9575: '폇', 9576: '▁선거에', 9577: '벴', 9578: 'おもひでぽろぽろ', 9579: '겤ᄏ', 9580: '▁오바마가', 9581: 'ᄂ옿', 9582: '▁허가', 9583: '잌ᄏᄏᄏ', 9584: '섴ᄏᄏᄏ', 9585: '렝', 9586: '삵쾡', 9587: 'ᄒᄏᄏᄏ', 9588: '볔', 9589: '뽐뽀', 9590: '^π', 9591: 'ᄌᄅ젬', 9592: '神', 9593: '作品', 9594: '왘ᄏᄏᄏᄏᄏᄏᄏ', 9595: '低', 9596: '뎁ᄏᄏ', 9597: '友田彩也香', 9598: '뻥찐', 9599: 'ᄒᄒ^^', 9600: 'ᄀᆭᄉ', 9601: 'ᅩᄒᄒ', 9602: '▁실업', 9603: 'ᄏᄏ찜', 9604: '▁논의', 9605: '▁조지아', 9606: '▁공격을', 9607: '겡ᄋ', 9608: '뤡', 9609: 'ᄃᄃᄃᄃᄃᄃᄃᄃᄃᄃᄃᄃᄃᄃ', 9610: '바브', 9611: '▁재배', 9612: '▁올랐다', 9613: 'ᄋᄃᄀᄒ', 9614: '죤잼', 9615: '짱+', 9616: '뢀', 9617: 'ᄒᄒᄒᄒᄒᄒᄒ', 9618: 'ᄡᄃᄋ', 9619: '짱ᅲᅮ', 9620: '롷', 9621: '뱍', 9622: 'ᅡᄏᄏᄏ', 9623: '▁챔피언스', 9624: '짱ᄏᄏᄏᄏᄏᄏᄏ', 9625: '리조나', 9626: 'ᄏᄏ★★★★★★★★★★★★★★★★★★★★★★★★★★★★★★★★', 9627: '★☆', 9628: '봣겟', 9629: 'ᅲ짱짱', 9630: '♥♥♥♥♥♥♥♥', 9631: '넵', 9632: '튠', 9633: '쫭쫭쫭♥♥♥♥♥♥♥', 9634: 'ᅮᅮᅮᅲ', 9635: '렜잖', 9636: 'ᄇ핬', 9637: 'ᄒᄅ', 9638: '솀', 9639: 'ᄌᄂ뿜', 9640: '항공', 9641: 'ᄃᄃᄃᄃᄃᄃᄃᄃᄃᄃᄃᄃᄃᄃᄃᄃ', 9642: '뎃ᄒᄒ', 9643: '不好', 9644: '겧ᄒᄒᄒᄒᄒᄒᄒᄒ', 9645: '▁모하메드', 9646: '튭', 9647: '삑', 9648: 'ᅡᄆ', 9649: 'ᅡᅥ', 9650: '밌엌ᄏᄏᄏᄏᄏ', 9651: '▁카스트', 9652: '넼ᄏᄏᄀ', 9653: '굷', 9654: '왠똥', 9655: '짼', 9656: '쭙잖', 9657: '▁즉각', 9658: '껌뻑껌', 9659: '■', 9660: '↓↓', 9661: '+×÷', 9662: '☆★♡♥', 9663: '\\\\\\\\|<<>', 9664: '■●○', 9665: '°◆※¤《■》》》》¡¿', 9666: '¿※◆', 9667: '■|||<><><>', 9668: 'ᄏᄏᄏᄐ', 9669: '닼ᄏᄏ닼ᄏ', 9670: '잼쎠', 9671: '냨ᄏᄏᄏᄏᄏᄏᄏᄏᄏ', 9672: '풕', 9673: 'きもかった', 9674: '▁펼쳤다', 9675: '^^♡♡', 9676: '됬긔', 9677: '뜩ᄏ', 9678: '▁부토', 9679: 'ᄉᄅᄀ', 9680: '짱짱짱♥♥', 9681: 'ᄑᄑᄑ', 9682: '짱^^♥', 9683: '꺍', 9684: 'ᄏ칵', 9685: 'ᄁᄏᄏ잼', 9686: '+ᄒ', 9687: '▁스위스', 9688: '사추', 9689: '鈴木慶一', 9690: 'スカンピン', 9691: '맄ᄏᄏᄏ', 9692: '▁압수', 9693: 'ᄀᄌᄂ', 9694: 'ᄑᄃᄋᄋ', 9695: 'ᅮᅮᅮᅮᅮᅮᅮᅮ', 9696: 'ᄍᄍᄍᄍᄍᄍᄍ', 9697: '귱ᄋ', 9698: '낛', 9699: '쪘', 9700: '홯', 9701: '욷', 9702: 'ᄏᄏᄂ', 9703: 'コントロ', 9704: 'ル', 9705: 'バ', 9706: 'ニング', 9707: '▁수술을', 9708: '▁경기가', 9709: '▁순찰', 9710: '쌰', 9711: '倭色', 9712: '밌졍', 9713: '▁절차', 9714: 'ᅳᅳᅳᅳᅳᅳᅳᅳᅳᅳᅳᅳ', 9715: '떡뽁', 9716: 'ᄀᄂ', 9717: '▁주지사는', 9718: '王', 9719: 'ᅥᅪ', 9720: 'ᄋᆱᄂ', 9721: 'ᄋᄌᄂ', 9722: '띨띨', 9723: '괞챦', 9724: 'ᄂᄆ', 9725: 'ᄏᄏᄏᄏᄏᄏᄏᄏᄏᄏᄏᄏᄏᄏᄏᄏᄏᄏᄏᄏᄏᄏᄏᄏᄏᄏᄏᄏᄏᄏᄏᄏᄏᄏᄏᄏᄏᄏᄏᄏᄏᄏᄏᄏᄏᄏᄏᄏᄏᄏᄏᄏᄏᄏᄏᄏᄏᄏᄏᄏᄏᄏᄏᄏᄏᄏᄏᄏᄏᄏᄏᄏᄏᄏᄏᄏᄏᄏᄏᄏᄏᄏᄏᄏᄏᄏᄏᄏᄏᄏᄏᄏᄏᄏᄏᄏᄏᄏᄏᄏᄏᄏᄏᄏᄏᄏᄏᄏᄏᄏᄏᄏᄏᄏᄏᄏᄏᄏᄏᄏᄏᄏ', 9726: '릌ᄏ', 9727: '▁수백만', 9728: 'ᅥᄒ', 9729: '잼겟', 9730: 'ᄋᄒᄅ옿옿ᄋᆭᄋ', 9731: '♥♥♥♥♥♥♥♥♥♥♥♥♥♥♥♥♥♥♥♥♥♥', 9732: '▁이스라엘은', 9733: '엥엥', 9734: '푱', 9735: '꺜ᄏᄏᄏᄏ', 9736: '▁조치를', 9737: '▁스리랑카', 9738: '▁사우디아라비아', 9739: '졎걑', 9740: '냨ᄏᄏᄏᄏᄏ', 9741: '뽯', 9742: '햌ᄏᄏᄏᄏᄏᄏᄏ', 9743: 'ᄒᄏᄏᄒ', 9744: '밋읏', 9745: 'ᅦᅦᅦᅦ', 9746: '뎈ᄏᄏᄏᄏᄏᄏᄏᄏᄏᄏ', 9747: 'ᄏᄏᄏᄏᄏᄏᄏᄏᄏᄏᄏᄏᄏᄏᄏᄏᄏᄏᄏᄏᄏᄏᄏᄏᄏᄏᄏᄏᄏᄏᄏᄏᄏᄏᄏᄏᄏᄏᄏᄏᄏᄏᄏᄏᄏᄏᄏᄏᄏᄏᄏᄏᄏᄏᄏᄏᄏᄏᄏᄏᄏᄏᄏᄏᄏᄏᄏᄏᄏᄏᄏᄏᄏᄏᄏᄏᄏᄏᄏᄏᄏᄏᄏᄏᄏᄏᄏᄏᄏᄏᄏ', 9748: 'ᄏᄏᄏᄏᄏᄏᄏᄏᄏᄏᄏᄏᄏᄏᄏᄏᄏᄏᄏᄏᄏᄏᄏᄏᄏᄏᄏᄏᄏᄏᄏᄏᄏᄏᄏᄏᄏᄏᄏᄏᄏᄏᄏᄏᄏᄏᄏᄏ', 9749: 'ᄒᄋ', 9750: '▁사망자가', 9751: '깹', 9752: '찜ᄒᄒᄒ', 9753: '▁공개된', 9754: '▁주민들은', 9755: '챃', 9756: 'ᄏᄑ', 9757: 'ᄏᄏᄆ', 9758: 'ᅲᅲᄋᄋ', 9759: '▁사찰', 9760: 'ᅲᅲᅲᅲᅲᅲᅲᅲᅲᅲᅲᅲᅲᅲᅲᅲᅲᅲᅲᅲᅲᅲᅲᅲᅲᅲᅲᅲᅲᅲ', 9761: '엓', 9762: 'enc', 9763: '듨', 9764: '▁총리가', 9765: '돤', 9766: '끾끾', 9767: '죈', 9768: '촟', 9769: '퐉퐉', 9770: 'ᅲᅲᅲᅲᅲᅲᅲᅲᅲᅲᅲᅲᅲᅲᅲᅲᅲᅲ', 9771: '옄ᄏᄏ', 9772: '졏', 9773: '뜸짱짱', 9774: '▁부시의', 9775: '네자', 9776: '툥', 9777: '쓔봙', 9778: 'ᅲᅮᅮ짱', 9779: 'ᅲᅮ짱', 9780: '쉈', 9781: '꼮', 9782: '붑', 9783: '핳핳핳핳', 9784: '핳핳핳', 9785: '▁관련해', 9786: '오픈', 9787: 'ᅳᄆ', 9788: '냌ᄏᄏᄏᄏ', 9789: 'ᄀᄏᄏᄏ', 9790: '無色無臭', 9791: 'ᅮᅮ꺇ᄀ', 9792: '▁방문한', 9793: '▁당국', 9794: 'ᄅᄅᄅᄅᄅᄅᄅᄅᄅᄅᄅᄅᄅᄅᄅᄅᄅ', 9795: 'ᄏᄏᄏᄏᄏᄏᄏᄏᄏ>ᄇ<ᄏᄏᄏᄏᄏᄏᄏ>', 9796: '맴잼잼잼잼젬', 9797: '▁동티모', 9798: 'ᄁᄏ', 9799: 'ᅡᅡᅡ', 9800: '춴', 9801: '愛', 9802: '섳', 9803: '섲', 9804: '밌엌ᄏᄏᄏᄏᄏᄏᄏᄏᄏᄏᄏᄏᄏᄏᄏᄏ', 9805: '콯ᄋ', 9806: 'ᄏ옼', 9807: '▁의장은', 9808: '촘', 9809: '윱', 9810: 'ᄂᄅ', 9811: '휏', 9812: '봊솢솢', 9813: '▁왕세', 9814: '▁작업을', 9815: '겟넼', 9816: 'ᄏᄏ쩐', 9817: '씽씽', 9818: '웩ᄏᄏᄏ', 9819: 'ᄁᄎ', 9820: '힝힝힝', 9821: '힛힛', 9822: 'ᄏᄒᄒᄒ', 9823: '카고', 9824: '쩐쩐쩐', 9825: '▁판결을', 9826: '떰', 9827: 'ᄉ쵝', 9828: '뿰', 9829: '잼ᄒ', 9830: '▁수상했다', 9831: '짱ᄒ', 9832: '짱짱ᅲᅳᅮ', 9833: '▁항구', 9834: '▁DNA', 9835: 'ᅥᄊ', 9836: 'ᄏᄏᄀᄏᄏᄏᄏᄏᄏᄏᄏᄏᄏᄏ', 9837: '잼ᄋᄋ', 9838: '▁말레이', 9839: '슠ᄏᄏᄏ퐠ᄏᄏᄏᄏᄏ', 9840: '짱ᅲᅳ', 9841: '맍', 9842: '▁부상을', 9843: '▁입었다', 9844: '▁비자', 9845: '式', 9846: 'ᅳᄂᄉᄂ', 9847: '욤ᄒᄒᄒ', 9848: '낟', 9849: 'ᄉᆪᄀ', 9850: '^^헿ᄏᄏᄏᄒ', 9851: 'ᄒᄒᄒᄒ헿', 9852: '욬ᄏᄏᄏᄏᄏᄏᄏᄏᄏᄏ', 9853: '禪', 9854: '家', 9855: '훅훅', 9856: '죴', 9857: '짫', 9858: '글랜드', 9859: '▁증강', 9860: 'ᄊᄃᄀ', 9861: '▁지도자들이', 9862: '뭣땜', 9863: '♥ᄏᄏ', 9864: '땁', 9865: 'ᅲᅲ짱짱', 9866: 'ᅲᅲᅲᅲᅲᅲᅲᅲᅲᅲᅲᅲᅲᅲ', 9867: 'ᄏᄒᄏᄒ', 9868: '▁모스크바', 9869: '꿋', 9870: '▁경기에서', 9871: '괘ᆞ', 9872: '늠ᅲᅲ', 9873: '쾨', 9874: '잼잼잼ᄏᄏ', 9875: '☆☆☆☆☆', 9876: '범위', 9877: '孝', 9878: 'ᅲᅲᅲᅲᅲᅲᅲᅲᅲᅲᅲᅲᅲᅲᅲᅲᅲᅲᅲᅲᅲᅲᅲᅲᅲ', 9879: '짬뿡', 9880: '옄ᄏᄏᄏᄏᄏᄏᄏ', 9881: '▁보안관은', 9882: '쩧', 9883: '뒹굼', 9884: 'ᄒ♥♡', 9885: '밌엌ᄏᄏᄁ', 9886: '直腸', 9887: '뎁ᄒ', 9888: 'ᄋᄀᄅᄋ', 9889: '뫁', 9890: '쏔ᄏᄏᄏᄏᄏ', 9891: '旋律', 9892: '戰', 9893: '慄', 9894: 'ᅧᅡᄇ', 9895: '+찡', 9896: '섻', 9897: 'ᄏᄏ홧', 9898: '깞', 9899: '댜♡♡', 9900: 'FA', 9901: '졀', 9902: '▁문제와', 9903: '잼ᄉᄇ', 9904: '짱짱짱짱찡짱짱짱짱찡짱짱짱짱찡', 9905: 'ᄋᄆᄂᄋᄆᄂᄋᄂᄆᄋ', 9906: '쮸쮸쮸쮸', 9907: '▁평가했다', 9908: '겋ᄒᄒ', 9909: '▁요구하고', 9910: 'ᄏᄏᄏᄏ^^', 9911: '▁참석한', 9912: '▁공항에', 9913: '^^ᄒᄒᄒᄒᄒ', 9914: 'ᅮᄐ', 9915: '웡ᅲᅲ', 9916: '쑬', 9917: '맠ᄏ', 9918: '電車男メインテ', 9919: 'マ', 9920: '▁규제', 9921: '훕', 9922: 'ᄒᄒᄏᄏᄏᄏ', 9923: '▁판사는', 9924: '핣', 9925: '惡手', 9926: '싷', 9927: 'ᅮᅮᅮᅮᅮᅮᅮᅮᅮᅮᅮᅮᅮᅮᅮᅮᅮᅮᅮᅮᅮᅮ', 9928: '가니스탄', 9929: '엥ᄏᄏ걍', 9930: 'ᅦᄀ', 9931: 'ᅲᅲᅲᅳᅳ', 9932: '꾹뀩', 9933: '쫑냅', 9934: '쉔', 9935: '天下', 9936: '꽦꽥', 9937: '▁42', 9938: '넜', 9939: '뎃땜', 9940: '▁1...', 9941: '♥♥♥♥♥♥♥♥♥♥♥♥♥♥♥ᅲᅲ', 9942: 'ᅳᅡ', 9943: 'ᄏᄉᄏ', 9944: '퓽', 9945: '뎅ᄒᄒ짱', 9946: '셐', 9947: '힣ᄒᄒ', 9948: '典型的なチョッパリのエロ映画。けらけら^^', 9949: '솨', 9950: 'ᄀᄅ', 9951: 'ᅲᅲᅲ쨩', 9952: '썅ᄂ', 9953: '쪙♥', 9954: '▁행정', 9955: '휸', 9956: '▁회원', 9957: 'ᄏᄏᄏᄏᄏᄏᄏᄏᄏᄏᄏᄏᄏᄏᄏᄏᄏᄏᄏᄏᄏᄏᄏᄏᄏᄏᄏᄏᄏᄏᄏᄏᄏᄏᄏᄏᄏᄏᄏᄏᄏᄏᄏᄏᄏᄏᄏᄏᄏᄏᄏᄏᄏᄏᄏᄏᄏᄏᄏᄏᄏᄏᄏᄏᄏᄏᄏ', 9958: '홓', 9959: '쨓', 9960: '잼ᄂᄋ', 9961: '왅', 9962: '밌씁', 9963: '뜸^', 9964: 'ᅳᅳᄉᄇ', 9965: 'ᄋᄋᄋᄋᄋᄋᄋᄋᄋᄋᄋᄋᄋᄋᄋᄋᄋᄋᄋᄋᄋᄋᄋᄋᄋᄋᄋᄋᄋᄋᄋᄋᄋᄋᄋᄋᄋᄋᄋᄋᄋᄋᄋᄋᄋᄋᄋᄋᄋᄋᄋᄋᄋ', 9966: 'ᄉᄉᄉᄉᄉᄉᄉ', 9967: 'ᄏᄏᄏᄏᄏᄏᄏᄏᄏᄏᄏᄏᄏᄏᄏᄏᄏᄏᄏᄏᄏᄏᄏᄏᄏᄏᄏᄏᄏᄏᄏᄏᄏᄏᄏᄏᄏᄏᄏᄏᄏᄏᄏᄏᄏᄏᄏᄏᄏᄏᄏᄏᄏᄏᄏᄏᄏᄏᄏᄏᄏᄏᄏᄏᄏᄏᄏᄏᄏᄏᄏᄏᄏᄏᄏᄏᄏᄏᄏᄏᄏᄏᄏᄏᄏᄏᄏᄏᄏᄏᄏᄏᄏᄏᄏᄏᄏᄏᄏᄏᄏᄏᄏᄏᄏᄏᄏᄏᄏᄏᄏᄏᄏᄏᄏᄏᄏᄏᄏᄏᄏᄏᄏᄏᄏᄏᄏᄏᄏᄏᄏ', 9968: '퐛', 9969: '륺', 9970: 'article', 9971: '혐의', 9972: 'ᄆᄎᄏᄏᄏᄏᄏᄏᄏᄏᄏ', 9973: '킬로', 9974: '★☆☆☆☆', 9975: '♡♥ᄆᄋ', 9976: '▁계획은', 9977: '뭨ᄏᄏᄏᄏ', 9978: '앟ᄒᄉᄒᄒᄒᄒᄒ', 9979: '잼ᄒᄃ귻ᄀᄂ', 9980: 'ᄃ긛', 9981: '▁결정은', 9982: 'ᄋᄋᄋᄋ욜', 9983: '氣', 9984: '쥇', 9985: 'ᄉᄀᄈ', 9986: 'ᄑᄏ', 9987: '윳', 9988: 'ᄋᄋᄋᄋᄋᄋᄋᄋᄋᄋᄋᄋᄋᄋᄋᄋ', 9989: 'ᄂᄏᄏ', 9990: 'ᄏᄏᄏᄏᄏᄏᄏᄏᄏᄏᄏᄏᄏᄏᄏᄏᄏᄏᄏᄏᄏᄏᄏᄏᄏᄏᄏᄏᄏᄏᄏᄏᄏᄏᄏ', 9991: '멩멩', 9992: 'ᄏ뒹', 9993: '콴', 9994: '▁아프간', 9995: '뎜', 9996: 'ᅮ\\\\', 9997: '욥ᄏ', 9998: '▁피난', 9999: 'ᄀᄎᄒ'}\n"
          ]
        }
      ]
    },
    {
      "cell_type": "code",
      "source": [
        "s = spm.SentencePieceProcessor()\n",
        "s.Load('news-v1.model')\n",
        "\n",
        "def sp_tokenize(s, corpus):\n",
        "\n",
        "    tensor = []\n",
        "\n",
        "    for sen in corpus:\n",
        "        tensor.append(s.EncodeAsIds(sen))\n",
        "\n",
        "    with open(\"./news-v1.vocab\", 'r') as f:\n",
        "        vocab = f.readlines()\n",
        "\n",
        "    word_index = {}\n",
        "    index_word = {}\n",
        "\n",
        "    for idx, line in enumerate(vocab):\n",
        "        word = line.split(\"\\t\")[0]\n",
        "\n",
        "        word_index.update({idx:word})\n",
        "        index_word.update({word:idx})\n",
        "\n",
        "    tensor = tf.keras.preprocessing.sequence.pad_sequences(tensor, padding='post')\n",
        "\n",
        "    return tensor, word_index, index_word"
      ],
      "metadata": {
        "id": "oSWnTzCkjUsW"
      },
      "execution_count": null,
      "outputs": []
    },
    {
      "cell_type": "code",
      "source": [
        "# 데이터 셋 내 문장 길이 분포\n",
        "total_data_text = list(x_train) + list(x_test)\n",
        "\n",
        "# 텍스트데이터 문장길이의 리스트를 생성한 후\n",
        "num_tokens = [len(tokens) for tokens in total_data_text]\n",
        "num_tokens = np.array(num_tokens)\n",
        "\n",
        "# 문장 길이의 평균값, 최대값, 표준편차를 계산\n",
        "print(\"문장길이 평균 :\", np.mean(num_tokens))\n",
        "print(\"문장길이 최대 :\", np.max(num_tokens))\n",
        "print(\"문장길이 표준편차 :\", np.std(num_tokens))\n",
        "\n",
        "# 예를 들면 최대길이를 (평균 + 2*표준편차)로 한다면,\n",
        "max_tokens = np.mean(num_tokens) + 2*np.std(num_tokens)\n",
        "\n",
        "maxlen = int(max_tokens)\n",
        "print(\"pad_sequence maxlen :\", maxlen)\n",
        "print(\"전체 문장의 {:.2}%가 maxlen 설정값 이내에 포함됩니다.\".format(np.sum(num_tokens < max_tokens)/len(num_tokens)))\n"
      ],
      "metadata": {
        "colab": {
          "base_uri": "https://localhost:8080/"
        },
        "id": "hDzHoVpijaS1",
        "outputId": "2c595de2-1cb7-471a-da5a-b73bc26a5516"
      },
      "execution_count": null,
      "outputs": [
        {
          "output_type": "stream",
          "name": "stdout",
          "text": [
            "문장길이 평균 : 20.713462237443622\n",
            "문장길이 최대 : 140\n",
            "문장길이 표준편차 : 16.425012529667296\n",
            "pad_sequence maxlen : 53\n",
            "전체 문장의 0.94%가 maxlen 설정값 이내에 포함됩니다.\n"
          ]
        }
      ]
    },
    {
      "cell_type": "code",
      "source": [
        "# 패딩 추가\n",
        "x_train = pad_sequences(x_train, value=word_to_index['<PAD>'], padding='pre', maxlen=maxlen)\n",
        "x_test = pad_sequences(x_test, value=word_to_index['<PAD>'], padding='pre', maxlen=maxlen)"
      ],
      "metadata": {
        "id": "nafgilxcjgUp"
      },
      "execution_count": null,
      "outputs": []
    },
    {
      "cell_type": "code",
      "source": [
        "print(x_train.shape)\n",
        "print(x_test.shape)"
      ],
      "metadata": {
        "colab": {
          "base_uri": "https://localhost:8080/"
        },
        "id": "BaiVEvxpjhrc",
        "outputId": "26388486-1cb9-4c0a-bbca-dafd1d5b4ea7"
      },
      "execution_count": null,
      "outputs": [
        {
          "output_type": "stream",
          "name": "stdout",
          "text": [
            "(146182, 53)\n",
            "(49157, 53)\n"
          ]
        }
      ]
    },
    {
      "cell_type": "code",
      "source": [
        "vocab_size = 10000\n",
        "word_vector_dim = 200 # 보통 2의 배수로 지정\n",
        "\n",
        "model = keras.Sequential()\n",
        "model.add(keras.layers.Embedding(vocab_size, word_vector_dim, input_shape=(None,)))\n",
        "model.add(keras.layers.LSTM(8))\n",
        "model.add(keras.layers.Dense(8, activation='relu'))\n",
        "model.add(keras.layers.Dense(1, activation='sigmoid'))\n",
        "model.summary()"
      ],
      "metadata": {
        "colab": {
          "base_uri": "https://localhost:8080/"
        },
        "id": "7Rd5I3dAjjbW",
        "outputId": "4f294815-7e7d-4f96-f5ac-33a66af8de33"
      },
      "execution_count": null,
      "outputs": [
        {
          "output_type": "stream",
          "name": "stdout",
          "text": [
            "Model: \"sequential\"\n",
            "_________________________________________________________________\n",
            " Layer (type)                Output Shape              Param #   \n",
            "=================================================================\n",
            " embedding (Embedding)       (None, None, 200)         2000000   \n",
            "                                                                 \n",
            " lstm (LSTM)                 (None, 8)                 6688      \n",
            "                                                                 \n",
            " dense (Dense)               (None, 8)                 72        \n",
            "                                                                 \n",
            " dense_1 (Dense)             (None, 1)                 9         \n",
            "                                                                 \n",
            "=================================================================\n",
            "Total params: 2,006,769\n",
            "Trainable params: 2,006,769\n",
            "Non-trainable params: 0\n",
            "_________________________________________________________________\n"
          ]
        }
      ]
    },
    {
      "cell_type": "code",
      "source": [
        "x_val = x_train[:50000]\n",
        "y_val = y_train[:50000]\n",
        "\n",
        "partial_x_train = x_train[50000:]\n",
        "partial_y_train = y_train[50000:]"
      ],
      "metadata": {
        "id": "6V8HVq6ljmox"
      },
      "execution_count": null,
      "outputs": []
    },
    {
      "cell_type": "code",
      "source": [
        "model.compile(\n",
        "    optimizer= 'adam',\n",
        "    loss='binary_crossentropy',\n",
        "    metrics=['accuracy']\n",
        ")\n",
        "epochs = 50\n",
        "hist = model.fit(partial_x_train, partial_y_train, epochs=epochs, batch_size=32, validation_data=(x_val, y_val))\n",
        "model.save('my_model.h5')"
      ],
      "metadata": {
        "colab": {
          "base_uri": "https://localhost:8080/"
        },
        "id": "tt3Nl2LLjpGj",
        "outputId": "1f8f550a-4448-4486-a1a9-1ae5daa5d771"
      },
      "execution_count": null,
      "outputs": [
        {
          "output_type": "stream",
          "name": "stdout",
          "text": [
            "Epoch 1/50\n",
            "3006/3006 [==============================] - 59s 17ms/step - loss: 0.4134 - accuracy: 0.8118 - val_loss: 0.3690 - val_accuracy: 0.8325\n",
            "Epoch 2/50\n",
            "3006/3006 [==============================] - 51s 17ms/step - loss: 0.3230 - accuracy: 0.8596 - val_loss: 0.3531 - val_accuracy: 0.8441\n",
            "Epoch 3/50\n",
            "3006/3006 [==============================] - 54s 18ms/step - loss: 0.2741 - accuracy: 0.8863 - val_loss: 0.3718 - val_accuracy: 0.8427\n",
            "Epoch 4/50\n",
            "3006/3006 [==============================] - 50s 17ms/step - loss: 0.2328 - accuracy: 0.9058 - val_loss: 0.3926 - val_accuracy: 0.8418\n",
            "Epoch 5/50\n",
            "3006/3006 [==============================] - 51s 17ms/step - loss: 0.2002 - accuracy: 0.9221 - val_loss: 0.4026 - val_accuracy: 0.8388\n",
            "Epoch 6/50\n",
            "3006/3006 [==============================] - 53s 18ms/step - loss: 0.1704 - accuracy: 0.9355 - val_loss: 0.4541 - val_accuracy: 0.8376\n",
            "Epoch 7/50\n",
            "3006/3006 [==============================] - 50s 17ms/step - loss: 0.1490 - accuracy: 0.9460 - val_loss: 0.5140 - val_accuracy: 0.8309\n",
            "Epoch 8/50\n",
            "3006/3006 [==============================] - 53s 18ms/step - loss: 0.1309 - accuracy: 0.9530 - val_loss: 0.5439 - val_accuracy: 0.8299\n",
            "Epoch 9/50\n",
            "3006/3006 [==============================] - 53s 18ms/step - loss: 0.1158 - accuracy: 0.9590 - val_loss: 0.5503 - val_accuracy: 0.8255\n",
            "Epoch 10/50\n",
            "3006/3006 [==============================] - 51s 17ms/step - loss: 0.1049 - accuracy: 0.9639 - val_loss: 0.6250 - val_accuracy: 0.8289\n",
            "Epoch 11/50\n",
            "3006/3006 [==============================] - 55s 18ms/step - loss: 0.0935 - accuracy: 0.9680 - val_loss: 0.6301 - val_accuracy: 0.8283\n",
            "Epoch 12/50\n",
            "3006/3006 [==============================] - 51s 17ms/step - loss: 0.0858 - accuracy: 0.9714 - val_loss: 0.6668 - val_accuracy: 0.8251\n",
            "Epoch 13/50\n",
            "3006/3006 [==============================] - 53s 18ms/step - loss: 0.0802 - accuracy: 0.9731 - val_loss: 0.7323 - val_accuracy: 0.8206\n",
            "Epoch 14/50\n",
            "3006/3006 [==============================] - 50s 17ms/step - loss: 0.0754 - accuracy: 0.9750 - val_loss: 0.7026 - val_accuracy: 0.8217\n",
            "Epoch 15/50\n",
            "3006/3006 [==============================] - 53s 18ms/step - loss: 0.0684 - accuracy: 0.9781 - val_loss: 0.7482 - val_accuracy: 0.8207\n",
            "Epoch 16/50\n",
            "3006/3006 [==============================] - 53s 18ms/step - loss: 0.0649 - accuracy: 0.9790 - val_loss: 0.7396 - val_accuracy: 0.8200\n",
            "Epoch 17/50\n",
            "3006/3006 [==============================] - 53s 18ms/step - loss: 0.0610 - accuracy: 0.9804 - val_loss: 0.8089 - val_accuracy: 0.8202\n",
            "Epoch 18/50\n",
            "3006/3006 [==============================] - 53s 18ms/step - loss: 0.0560 - accuracy: 0.9823 - val_loss: 0.8092 - val_accuracy: 0.8165\n",
            "Epoch 19/50\n",
            "3006/3006 [==============================] - 50s 17ms/step - loss: 0.0576 - accuracy: 0.9820 - val_loss: 0.7897 - val_accuracy: 0.8203\n",
            "Epoch 20/50\n",
            "3006/3006 [==============================] - 50s 17ms/step - loss: 0.0534 - accuracy: 0.9839 - val_loss: 0.7970 - val_accuracy: 0.8194\n",
            "Epoch 21/50\n",
            "3006/3006 [==============================] - 50s 17ms/step - loss: 0.0505 - accuracy: 0.9845 - val_loss: 0.8776 - val_accuracy: 0.8174\n",
            "Epoch 22/50\n",
            "3006/3006 [==============================] - 53s 18ms/step - loss: 0.0509 - accuracy: 0.9841 - val_loss: 0.8329 - val_accuracy: 0.8197\n",
            "Epoch 23/50\n",
            "3006/3006 [==============================] - 50s 17ms/step - loss: 0.0476 - accuracy: 0.9856 - val_loss: 0.8651 - val_accuracy: 0.8144\n",
            "Epoch 24/50\n",
            "3006/3006 [==============================] - 50s 17ms/step - loss: 0.0465 - accuracy: 0.9859 - val_loss: 0.9055 - val_accuracy: 0.8161\n",
            "Epoch 25/50\n",
            "3006/3006 [==============================] - 50s 17ms/step - loss: 0.0438 - accuracy: 0.9868 - val_loss: 0.9151 - val_accuracy: 0.8189\n",
            "Epoch 26/50\n",
            "3006/3006 [==============================] - 53s 18ms/step - loss: 0.0406 - accuracy: 0.9874 - val_loss: 0.9583 - val_accuracy: 0.8170\n",
            "Epoch 27/50\n",
            "3006/3006 [==============================] - 53s 18ms/step - loss: 0.0415 - accuracy: 0.9876 - val_loss: 0.9333 - val_accuracy: 0.8155\n",
            "Epoch 28/50\n",
            "3006/3006 [==============================] - 53s 18ms/step - loss: 0.0393 - accuracy: 0.9882 - val_loss: 0.9283 - val_accuracy: 0.8126\n",
            "Epoch 29/50\n",
            "3006/3006 [==============================] - 53s 18ms/step - loss: 0.0412 - accuracy: 0.9878 - val_loss: 0.9123 - val_accuracy: 0.8176\n",
            "Epoch 30/50\n",
            "3006/3006 [==============================] - 53s 18ms/step - loss: 0.0392 - accuracy: 0.9885 - val_loss: 0.9348 - val_accuracy: 0.8154\n",
            "Epoch 31/50\n",
            "3006/3006 [==============================] - 50s 17ms/step - loss: 0.0369 - accuracy: 0.9893 - val_loss: 0.9304 - val_accuracy: 0.8154\n",
            "Epoch 32/50\n",
            "3006/3006 [==============================] - 53s 18ms/step - loss: 0.0354 - accuracy: 0.9900 - val_loss: 0.9761 - val_accuracy: 0.8137\n",
            "Epoch 33/50\n",
            "3006/3006 [==============================] - 53s 18ms/step - loss: 0.0349 - accuracy: 0.9900 - val_loss: 0.9643 - val_accuracy: 0.8147\n",
            "Epoch 34/50\n",
            "3006/3006 [==============================] - 53s 18ms/step - loss: 0.0359 - accuracy: 0.9892 - val_loss: 1.0224 - val_accuracy: 0.8157\n",
            "Epoch 35/50\n",
            "3006/3006 [==============================] - 53s 18ms/step - loss: 0.0336 - accuracy: 0.9905 - val_loss: 0.9910 - val_accuracy: 0.8156\n",
            "Epoch 36/50\n",
            "3006/3006 [==============================] - 53s 18ms/step - loss: 0.0355 - accuracy: 0.9894 - val_loss: 0.9641 - val_accuracy: 0.8152\n",
            "Epoch 37/50\n",
            "3006/3006 [==============================] - 53s 18ms/step - loss: 0.0318 - accuracy: 0.9910 - val_loss: 1.0552 - val_accuracy: 0.8155\n",
            "Epoch 38/50\n",
            "3006/3006 [==============================] - 53s 18ms/step - loss: 0.0316 - accuracy: 0.9910 - val_loss: 1.0486 - val_accuracy: 0.8152\n",
            "Epoch 39/50\n",
            "3006/3006 [==============================] - 50s 17ms/step - loss: 0.0329 - accuracy: 0.9903 - val_loss: 1.0309 - val_accuracy: 0.8112\n",
            "Epoch 40/50\n",
            "3006/3006 [==============================] - 53s 18ms/step - loss: 0.0307 - accuracy: 0.9912 - val_loss: 1.0774 - val_accuracy: 0.8143\n",
            "Epoch 41/50\n",
            "3006/3006 [==============================] - 53s 18ms/step - loss: 0.0325 - accuracy: 0.9903 - val_loss: 0.9954 - val_accuracy: 0.8125\n",
            "Epoch 42/50\n",
            "3006/3006 [==============================] - 50s 17ms/step - loss: 0.0326 - accuracy: 0.9907 - val_loss: 0.9736 - val_accuracy: 0.8130\n",
            "Epoch 43/50\n",
            "3006/3006 [==============================] - 53s 18ms/step - loss: 0.0298 - accuracy: 0.9916 - val_loss: 1.0642 - val_accuracy: 0.8135\n",
            "Epoch 44/50\n",
            "3006/3006 [==============================] - 53s 18ms/step - loss: 0.0323 - accuracy: 0.9906 - val_loss: 0.9760 - val_accuracy: 0.8137\n",
            "Epoch 45/50\n",
            "3006/3006 [==============================] - 53s 18ms/step - loss: 0.0271 - accuracy: 0.9918 - val_loss: 1.0703 - val_accuracy: 0.8148\n",
            "Epoch 46/50\n",
            "3006/3006 [==============================] - 55s 18ms/step - loss: 0.0288 - accuracy: 0.9914 - val_loss: 1.0601 - val_accuracy: 0.8146\n",
            "Epoch 47/50\n",
            "3006/3006 [==============================] - 55s 18ms/step - loss: 0.0284 - accuracy: 0.9922 - val_loss: 1.0114 - val_accuracy: 0.8149\n",
            "Epoch 48/50\n",
            " 551/3006 [====>.........................] - ETA: 34s - loss: 0.0209 - accuracy: 0.9943"
          ]
        }
      ]
    },
    {
      "cell_type": "code",
      "source": [
        "result = model.evaluate(x_test, y_test, verbose=2)"
      ],
      "metadata": {
        "id": "fk5JVzTajqU3"
      },
      "execution_count": null,
      "outputs": []
    },
    {
      "cell_type": "code",
      "source": [
        "print(result)"
      ],
      "metadata": {
        "id": "EcXiuvstjr9N"
      },
      "execution_count": null,
      "outputs": []
    },
    {
      "cell_type": "code",
      "source": [
        "history_dict = hist.history\n",
        "print(history_dict.keys())"
      ],
      "metadata": {
        "id": "j-6K_fnTjtKi"
      },
      "execution_count": null,
      "outputs": []
    },
    {
      "cell_type": "code",
      "source": [
        "acc = history_dict['accuracy']\n",
        "val_acc = history_dict['val_accuracy']\n",
        "loss = history_dict['loss']\n",
        "val_loss = history_dict['val_loss']"
      ],
      "metadata": {
        "id": "LUeJkBtvjvAD"
      },
      "execution_count": null,
      "outputs": []
    },
    {
      "cell_type": "code",
      "source": [
        "plt.plot(loss,c='b',label='Traing loss')\n",
        "plt.plot(val_loss,c='r',label='validation loss')\n",
        "plt.title('Training and validation loss')\n",
        "plt.xlabel('Epochs')\n",
        "plt.ylabel('loss')\n",
        "plt.legend()\n",
        "plt.show()"
      ],
      "metadata": {
        "id": "bALp-qXXjwAt"
      },
      "execution_count": null,
      "outputs": []
    },
    {
      "cell_type": "code",
      "source": [
        "plt.plot(acc,c='b',label='Traing acc')\n",
        "plt.plot(val_acc,c='r',label='validation acc')\n",
        "plt.title('Training and validation accuracy')\n",
        "plt.xlabel('Epochs')\n",
        "plt.ylabel('acc')\n",
        "plt.legend()\n",
        "plt.show()"
      ],
      "metadata": {
        "id": "y5topKZXjxKi"
      },
      "execution_count": null,
      "outputs": []
    }
  ]
}