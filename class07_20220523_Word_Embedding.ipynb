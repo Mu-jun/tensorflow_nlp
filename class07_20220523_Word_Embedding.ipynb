{
  "nbformat": 4,
  "nbformat_minor": 0,
  "metadata": {
    "colab": {
      "name": "22_05_23_day07_embedding.ipynb의 사본",
      "provenance": [],
      "collapsed_sections": [],
      "toc_visible": true
    },
    "kernelspec": {
      "name": "python3",
      "display_name": "Python 3"
    },
    "language_info": {
      "name": "python"
    }
  },
  "cells": [
    {
      "cell_type": "markdown",
      "source": [
        "# One hot encoding실습"
      ],
      "metadata": {
        "id": "5Y_zeM-zgrFL"
      }
    },
    {
      "cell_type": "code",
      "execution_count": 1,
      "metadata": {
        "id": "Cs4Gsjn2MR1E"
      },
      "outputs": [],
      "source": [
        "import numpy as np"
      ]
    },
    {
      "cell_type": "code",
      "source": [
        "# 입력 문장 (모델 입력)\n",
        "raw_inputs = [\n",
        "             \"나는 학생 입니다\",\n",
        "             \"나는 좋은 선생님 입니다\",\n",
        "             \"당신은 매우 좋은 선생님 입니다\"\n",
        "]\n",
        "\n",
        "# 정답 학생(1) 기타(0)\n",
        "raw_labels = [1, 0, 0]"
      ],
      "metadata": {
        "id": "gUWRm8JRgyYm"
      },
      "execution_count": 2,
      "outputs": []
    },
    {
      "cell_type": "code",
      "source": [
        "words = []\n",
        "for s in raw_inputs:\n",
        "    words.extend(s.split())"
      ],
      "metadata": {
        "id": "BSBNtWlahCGA"
      },
      "execution_count": 3,
      "outputs": []
    },
    {
      "cell_type": "code",
      "source": [
        "print(words)"
      ],
      "metadata": {
        "colab": {
          "base_uri": "https://localhost:8080/"
        },
        "id": "zjjOjN4Hhg6w",
        "outputId": "8b801cd1-ccb3-47dc-880b-3a7fe9e72cae"
      },
      "execution_count": 4,
      "outputs": [
        {
          "output_type": "stream",
          "name": "stdout",
          "text": [
            "['나는', '학생', '입니다', '나는', '좋은', '선생님', '입니다', '당신은', '매우', '좋은', '선생님', '입니다']\n"
          ]
        }
      ]
    },
    {
      "cell_type": "code",
      "source": [
        "# 중복 단어 제거\n",
        "words = list(dict.fromkeys(words))"
      ],
      "metadata": {
        "id": "fguyojtnhhy0"
      },
      "execution_count": 5,
      "outputs": []
    },
    {
      "cell_type": "code",
      "source": [
        "print(words)"
      ],
      "metadata": {
        "colab": {
          "base_uri": "https://localhost:8080/"
        },
        "id": "_Jbi4F-9h0Xz",
        "outputId": "301e29db-1401-499d-f293-395e628b2b63"
      },
      "execution_count": 6,
      "outputs": [
        {
          "output_type": "stream",
          "name": "stdout",
          "text": [
            "['나는', '학생', '입니다', '좋은', '선생님', '당신은', '매우']\n"
          ]
        }
      ]
    },
    {
      "cell_type": "code",
      "source": [
        "word_to_id = {\"<PAD>\":0,\"<UNK>\":1}\n",
        "for w in words:\n",
        "    word_to_id[w] = len(word_to_id)\n",
        "print(word_to_id)"
      ],
      "metadata": {
        "colab": {
          "base_uri": "https://localhost:8080/"
        },
        "id": "P3RyGKa2h1Ok",
        "outputId": "de044920-08b1-44e6-a2c2-29317b33a243"
      },
      "execution_count": 7,
      "outputs": [
        {
          "output_type": "stream",
          "name": "stdout",
          "text": [
            "{'<PAD>': 0, '<UNK>': 1, '나는': 2, '학생': 3, '입니다': 4, '좋은': 5, '선생님': 6, '당신은': 7, '매우': 8}\n"
          ]
        }
      ]
    },
    {
      "cell_type": "code",
      "source": [
        "word_to_id.items()"
      ],
      "metadata": {
        "colab": {
          "base_uri": "https://localhost:8080/"
        },
        "id": "P3FrqtebiX7O",
        "outputId": "8919a6e7-f18f-45ad-e1bf-7a840850955f"
      },
      "execution_count": 8,
      "outputs": [
        {
          "output_type": "execute_result",
          "data": {
            "text/plain": [
              "dict_items([('<PAD>', 0), ('<UNK>', 1), ('나는', 2), ('학생', 3), ('입니다', 4), ('좋은', 5), ('선생님', 6), ('당신은', 7), ('매우', 8)])"
            ]
          },
          "metadata": {},
          "execution_count": 8
        }
      ]
    },
    {
      "cell_type": "code",
      "source": [
        "id_to_words = {i:w for w,i in word_to_id.items()}\n",
        "print(id_to_words)"
      ],
      "metadata": {
        "colab": {
          "base_uri": "https://localhost:8080/"
        },
        "id": "4JIcW8Y5ijfh",
        "outputId": "e92e7f71-dfbd-4cf7-b6e7-cfe7107b6f6d"
      },
      "execution_count": 9,
      "outputs": [
        {
          "output_type": "stream",
          "name": "stdout",
          "text": [
            "{0: '<PAD>', 1: '<UNK>', 2: '나는', 3: '학생', 4: '입니다', 5: '좋은', 6: '선생님', 7: '당신은', 8: '매우'}\n"
          ]
        }
      ]
    },
    {
      "cell_type": "code",
      "source": [
        "train_inputs = []\n",
        "\n",
        "# 문장마다 시퀸스 변환하는 과정\n",
        "for s in raw_inputs:\n",
        "    row = [word_to_id[w] for w in s.split()]\n",
        "\n",
        "    # padding\n",
        "    row += [0] * (5-len(row))\n",
        "    train_inputs.append(row)\n",
        "\n",
        "train_inputs = np.array(train_inputs)\n",
        "print(train_inputs)"
      ],
      "metadata": {
        "colab": {
          "base_uri": "https://localhost:8080/"
        },
        "id": "VI1ldW_Pi4aw",
        "outputId": "aeb50f47-1ff1-4a14-b7d7-e4b8b9ef420d"
      },
      "execution_count": 10,
      "outputs": [
        {
          "output_type": "stream",
          "name": "stdout",
          "text": [
            "[[2 3 4 0 0]\n",
            " [2 5 6 4 0]\n",
            " [7 8 5 6 4]]\n"
          ]
        }
      ]
    },
    {
      "cell_type": "code",
      "source": [
        "train_inputs.shape"
      ],
      "metadata": {
        "colab": {
          "base_uri": "https://localhost:8080/"
        },
        "id": "vDKeXTwqjrIt",
        "outputId": "3c844c14-4682-4a9f-f03d-1a04bba83603"
      },
      "execution_count": 11,
      "outputs": [
        {
          "output_type": "execute_result",
          "data": {
            "text/plain": [
              "(3, 5)"
            ]
          },
          "metadata": {},
          "execution_count": 11
        }
      ]
    },
    {
      "cell_type": "code",
      "source": [
        "# one-hot matrix 생성\n",
        "onehot_matrix = np.eye(len(word_to_id)) # 단위행렬 생성\n",
        "print(onehot_matrix)"
      ],
      "metadata": {
        "colab": {
          "base_uri": "https://localhost:8080/"
        },
        "id": "mw0J2dfIkEk0",
        "outputId": "2e6b4e50-ad30-45d2-9919-f9919fcc46ae"
      },
      "execution_count": 12,
      "outputs": [
        {
          "output_type": "stream",
          "name": "stdout",
          "text": [
            "[[1. 0. 0. 0. 0. 0. 0. 0. 0.]\n",
            " [0. 1. 0. 0. 0. 0. 0. 0. 0.]\n",
            " [0. 0. 1. 0. 0. 0. 0. 0. 0.]\n",
            " [0. 0. 0. 1. 0. 0. 0. 0. 0.]\n",
            " [0. 0. 0. 0. 1. 0. 0. 0. 0.]\n",
            " [0. 0. 0. 0. 0. 1. 0. 0. 0.]\n",
            " [0. 0. 0. 0. 0. 0. 1. 0. 0.]\n",
            " [0. 0. 0. 0. 0. 0. 0. 1. 0.]\n",
            " [0. 0. 0. 0. 0. 0. 0. 0. 1.]]\n"
          ]
        }
      ]
    },
    {
      "cell_type": "code",
      "source": [
        "train_onehot = onehot_matrix[train_inputs]\n",
        "print(train_onehot)"
      ],
      "metadata": {
        "colab": {
          "base_uri": "https://localhost:8080/"
        },
        "id": "WsE1K1aQkW1Z",
        "outputId": "d3ac156f-8eab-4de5-c172-9c1d978eca95"
      },
      "execution_count": 13,
      "outputs": [
        {
          "output_type": "stream",
          "name": "stdout",
          "text": [
            "[[[0. 0. 1. 0. 0. 0. 0. 0. 0.]\n",
            "  [0. 0. 0. 1. 0. 0. 0. 0. 0.]\n",
            "  [0. 0. 0. 0. 1. 0. 0. 0. 0.]\n",
            "  [1. 0. 0. 0. 0. 0. 0. 0. 0.]\n",
            "  [1. 0. 0. 0. 0. 0. 0. 0. 0.]]\n",
            "\n",
            " [[0. 0. 1. 0. 0. 0. 0. 0. 0.]\n",
            "  [0. 0. 0. 0. 0. 1. 0. 0. 0.]\n",
            "  [0. 0. 0. 0. 0. 0. 1. 0. 0.]\n",
            "  [0. 0. 0. 0. 1. 0. 0. 0. 0.]\n",
            "  [1. 0. 0. 0. 0. 0. 0. 0. 0.]]\n",
            "\n",
            " [[0. 0. 0. 0. 0. 0. 0. 1. 0.]\n",
            "  [0. 0. 0. 0. 0. 0. 0. 0. 1.]\n",
            "  [0. 0. 0. 0. 0. 1. 0. 0. 0.]\n",
            "  [0. 0. 0. 0. 0. 0. 1. 0. 0.]\n",
            "  [0. 0. 0. 0. 1. 0. 0. 0. 0.]]]\n"
          ]
        }
      ]
    },
    {
      "cell_type": "code",
      "source": [
        "train_onehot.shape"
      ],
      "metadata": {
        "colab": {
          "base_uri": "https://localhost:8080/"
        },
        "id": "Yqqd2cnDlJmu",
        "outputId": "190d47b4-15ef-4ef6-95d6-ec26e450d615"
      },
      "execution_count": 14,
      "outputs": [
        {
          "output_type": "execute_result",
          "data": {
            "text/plain": [
              "(3, 5, 9)"
            ]
          },
          "metadata": {},
          "execution_count": 14
        }
      ]
    },
    {
      "cell_type": "code",
      "source": [
        "print(np.argmax(train_onehot, axis=-1))"
      ],
      "metadata": {
        "colab": {
          "base_uri": "https://localhost:8080/"
        },
        "id": "XkhG8zVUlqlt",
        "outputId": "a4f1491e-c9bb-4151-a09c-382707a07898"
      },
      "execution_count": 15,
      "outputs": [
        {
          "output_type": "stream",
          "name": "stdout",
          "text": [
            "[[2 3 4 0 0]\n",
            " [2 5 6 4 0]\n",
            " [7 8 5 6 4]]\n"
          ]
        }
      ]
    },
    {
      "cell_type": "code",
      "source": [
        "x = (np.argmax(train_onehot, axis=-1))\n",
        "print(x)"
      ],
      "metadata": {
        "colab": {
          "base_uri": "https://localhost:8080/"
        },
        "id": "hkVw_pLKq6e2",
        "outputId": "37e2a40c-1f51-4d9d-8df1-7b65d3722385"
      },
      "execution_count": 16,
      "outputs": [
        {
          "output_type": "stream",
          "name": "stdout",
          "text": [
            "[[2 3 4 0 0]\n",
            " [2 5 6 4 0]\n",
            " [7 8 5 6 4]]\n"
          ]
        }
      ]
    },
    {
      "cell_type": "code",
      "source": [
        "import tensorflow as tf\n",
        "import tensorflow.keras.layers as L"
      ],
      "metadata": {
        "id": "5Up9OzYXrI_1"
      },
      "execution_count": 17,
      "outputs": []
    },
    {
      "cell_type": "code",
      "source": [
        "x_len = train_onehot.shape\n",
        "print(x_len)"
      ],
      "metadata": {
        "colab": {
          "base_uri": "https://localhost:8080/"
        },
        "id": "sjRfN9BhrQ8v",
        "outputId": "c1275154-510e-4ef5-f934-f0e2b7b0ed93"
      },
      "execution_count": 18,
      "outputs": [
        {
          "output_type": "stream",
          "name": "stdout",
          "text": [
            "(3, 5, 9)\n"
          ]
        }
      ]
    },
    {
      "cell_type": "code",
      "source": [
        "inp = tf.convert_to_tensor(x, dtype=tf.int32)\n",
        "print(inp)"
      ],
      "metadata": {
        "colab": {
          "base_uri": "https://localhost:8080/"
        },
        "id": "FaHlnIPLrYS0",
        "outputId": "3835b7fd-f42c-4bb7-d227-45843ffc1f6a"
      },
      "execution_count": 19,
      "outputs": [
        {
          "output_type": "stream",
          "name": "stdout",
          "text": [
            "tf.Tensor(\n",
            "[[2 3 4 0 0]\n",
            " [2 5 6 4 0]\n",
            " [7 8 5 6 4]], shape=(3, 5), dtype=int32)\n"
          ]
        }
      ]
    },
    {
      "cell_type": "code",
      "source": [
        "inp_len = tf.convert_to_tensor(x_len, dtype=tf.int32)\n",
        "print(inp_len)"
      ],
      "metadata": {
        "colab": {
          "base_uri": "https://localhost:8080/"
        },
        "id": "IpUU6wb8rhyu",
        "outputId": "a878acd0-ec39-4bad-9f3e-aef8c852a836"
      },
      "execution_count": 20,
      "outputs": [
        {
          "output_type": "stream",
          "name": "stdout",
          "text": [
            "tf.Tensor([3 5 9], shape=(3,), dtype=int32)\n"
          ]
        }
      ]
    },
    {
      "cell_type": "code",
      "source": [
        "vocab_size = 1000\n",
        "dim = 3\n",
        "embed = L.Embedding(vocab_size, dim)"
      ],
      "metadata": {
        "id": "NEqchg9wr0r-"
      },
      "execution_count": 21,
      "outputs": []
    },
    {
      "cell_type": "code",
      "source": [
        "embed(inp)"
      ],
      "metadata": {
        "colab": {
          "base_uri": "https://localhost:8080/"
        },
        "id": "7zl33M9RsNx1",
        "outputId": "91545d32-8810-4eb7-80bf-588420ae9512"
      },
      "execution_count": 22,
      "outputs": [
        {
          "output_type": "execute_result",
          "data": {
            "text/plain": [
              "<tf.Tensor: shape=(3, 5, 3), dtype=float32, numpy=\n",
              "array([[[-0.00800318, -0.02855622,  0.02950381],\n",
              "        [ 0.00158304,  0.0274088 , -0.01638817],\n",
              "        [ 0.01367557, -0.01286893, -0.03440173],\n",
              "        [-0.01056675,  0.02716519, -0.0343533 ],\n",
              "        [-0.01056675,  0.02716519, -0.0343533 ]],\n",
              "\n",
              "       [[-0.00800318, -0.02855622,  0.02950381],\n",
              "        [-0.04471196,  0.00796033,  0.00758058],\n",
              "        [ 0.03836031,  0.01902537, -0.0423249 ],\n",
              "        [ 0.01367557, -0.01286893, -0.03440173],\n",
              "        [-0.01056675,  0.02716519, -0.0343533 ]],\n",
              "\n",
              "       [[-0.02980256, -0.00643258,  0.02882986],\n",
              "        [ 0.04222736, -0.01246612, -0.03175808],\n",
              "        [-0.04471196,  0.00796033,  0.00758058],\n",
              "        [ 0.03836031,  0.01902537, -0.0423249 ],\n",
              "        [ 0.01367557, -0.01286893, -0.03440173]]], dtype=float32)>"
            ]
          },
          "metadata": {},
          "execution_count": 22
        }
      ]
    },
    {
      "cell_type": "markdown",
      "source": [
        "# Word2vec"
      ],
      "metadata": {
        "id": "4-xJDklLsSdT"
      }
    },
    {
      "cell_type": "markdown",
      "source": [
        "## abc 뉴스데이터로 word2vec"
      ],
      "metadata": {
        "id": "Ie8HywOIZCAj"
      }
    },
    {
      "cell_type": "code",
      "source": [
        "from nltk.corpus import abc\n",
        "import nltk\n",
        "nltk.download('abc')\n",
        "nltk.download('punkt')"
      ],
      "metadata": {
        "colab": {
          "base_uri": "https://localhost:8080/"
        },
        "id": "erQsXuk8ZFM2",
        "outputId": "f224ead3-4172-4467-e60d-43b955757fa4"
      },
      "execution_count": 12,
      "outputs": [
        {
          "output_type": "stream",
          "name": "stdout",
          "text": [
            "[nltk_data] Downloading package abc to /root/nltk_data...\n",
            "[nltk_data]   Package abc is already up-to-date!\n",
            "[nltk_data] Downloading package punkt to /root/nltk_data...\n",
            "[nltk_data]   Package punkt is already up-to-date!\n"
          ]
        },
        {
          "output_type": "execute_result",
          "data": {
            "text/plain": [
              "True"
            ]
          },
          "metadata": {},
          "execution_count": 12
        }
      ]
    },
    {
      "cell_type": "code",
      "source": [
        "corpus = abc.sents()"
      ],
      "metadata": {
        "id": "RlPRgDs_ZZST"
      },
      "execution_count": 24,
      "outputs": []
    },
    {
      "cell_type": "code",
      "source": [
        "print(corpus[:3])"
      ],
      "metadata": {
        "colab": {
          "base_uri": "https://localhost:8080/"
        },
        "id": "TCN6gI1ZZhOa",
        "outputId": "617151cc-be07-4162-90e9-035d3674a030"
      },
      "execution_count": 25,
      "outputs": [
        {
          "output_type": "stream",
          "name": "stdout",
          "text": [
            "[['PM', 'denies', 'knowledge', 'of', 'AWB', 'kickbacks', 'The', 'Prime', 'Minister', 'has', 'denied', 'he', 'knew', 'AWB', 'was', 'paying', 'kickbacks', 'to', 'Iraq', 'despite', 'writing', 'to', 'the', 'wheat', 'exporter', 'asking', 'to', 'be', 'kept', 'fully', 'informed', 'on', 'Iraq', 'wheat', 'sales', '.'], ['Letters', 'from', 'John', 'Howard', 'and', 'Deputy', 'Prime', 'Minister', 'Mark', 'Vaile', 'to', 'AWB', 'have', 'been', 'released', 'by', 'the', 'Cole', 'inquiry', 'into', 'the', 'oil', 'for', 'food', 'program', '.'], ['In', 'one', 'of', 'the', 'letters', 'Mr', 'Howard', 'asks', 'AWB', 'managing', 'director', 'Andrew', 'Lindberg', 'to', 'remain', 'in', 'close', 'contact', 'with', 'the', 'Government', 'on', 'Iraq', 'wheat', 'sales', '.']]\n"
          ]
        }
      ]
    },
    {
      "cell_type": "code",
      "source": [
        "print('코퍼스의 크기 :', len(corpus))"
      ],
      "metadata": {
        "colab": {
          "base_uri": "https://localhost:8080/"
        },
        "id": "Xo4HirRaZp-I",
        "outputId": "6a85b497-810f-4cda-f46e-dad96340fb3d"
      },
      "execution_count": 26,
      "outputs": [
        {
          "output_type": "stream",
          "name": "stdout",
          "text": [
            "코퍼스의 크기 : 29059\n"
          ]
        }
      ]
    },
    {
      "cell_type": "code",
      "source": [
        "from gensim.models import Word2Vec\n",
        "model = Word2Vec(\n",
        "    sentences=corpus,\n",
        "    size=100,       # 워드 벡터의 특징 값, 임베딩된 벡터의 차원\n",
        "    window=5,       # context window의 크기\n",
        "    min_count=5,    # 단어 최소 빈도 수 제한 (빈도가 적은 단어들은 학습하지 않는다.)\n",
        "    workers=4,      # 학습을 위한 프로세스 수\n",
        "    sg=0            # 0은 CBOW, 1은 Skip-gram\n",
        ")"
      ],
      "metadata": {
        "id": "n_8mFNFQZwFO"
      },
      "execution_count": 27,
      "outputs": []
    },
    {
      "cell_type": "code",
      "source": [
        "# word2vec은 입력한 단어에 대해서 가장 유사한 단더들을 출력하는 model.wv.most_similar를 지원한다.\n",
        "model_result = model.wv.most_similar(\"man\") # 단어간 코사인 유사도(-1~1)를 계산하여 가장 1에 가까운 10개값을 반환"
      ],
      "metadata": {
        "id": "xvnFki7gasKe"
      },
      "execution_count": 28,
      "outputs": []
    },
    {
      "cell_type": "code",
      "source": [
        "print(model_result)"
      ],
      "metadata": {
        "colab": {
          "base_uri": "https://localhost:8080/"
        },
        "id": "ZB1v0K-Ua69h",
        "outputId": "d026e262-823e-48c7-a63b-571579f52cac"
      },
      "execution_count": 29,
      "outputs": [
        {
          "output_type": "stream",
          "name": "stdout",
          "text": [
            "[('woman', 0.9333978295326233), ('Bang', 0.9174728989601135), ('third', 0.9158248901367188), ('asteroid', 0.9144430756568909), ('skull', 0.91264408826828), ('rally', 0.9116621613502502), ('dinosaur', 0.9079714417457581), ('infant', 0.9038867950439453), ('dog', 0.9028000831604004), ('rich', 0.9007760286331177)]\n"
          ]
        }
      ]
    },
    {
      "cell_type": "code",
      "source": [
        "from gensim.models import KeyedVectors\n",
        "\n",
        "# 저장\n",
        "model.wv.save_word2vec_format('./w2v')"
      ],
      "metadata": {
        "id": "SSOYYooCa9e6"
      },
      "execution_count": 30,
      "outputs": []
    },
    {
      "cell_type": "code",
      "source": [
        "loaded_model = KeyedVectors.load_word2vec_format(\"./w2v\")\n",
        "print('모델 load완료')"
      ],
      "metadata": {
        "colab": {
          "base_uri": "https://localhost:8080/"
        },
        "id": "zqoMAH5Dbb7D",
        "outputId": "73c11016-6810-442e-e53a-120d82e95050"
      },
      "execution_count": 31,
      "outputs": [
        {
          "output_type": "stream",
          "name": "stdout",
          "text": [
            "모델 load완료\n"
          ]
        }
      ]
    },
    {
      "cell_type": "code",
      "source": [
        "loaded_model_result = loaded_model.wv.most_similar(\"man\")\n",
        "print(loaded_model_result)"
      ],
      "metadata": {
        "colab": {
          "base_uri": "https://localhost:8080/"
        },
        "id": "vVP9Telybwa0",
        "outputId": "a1eeee4b-178b-41da-f907-0bd289baa7c3"
      },
      "execution_count": 32,
      "outputs": [
        {
          "output_type": "stream",
          "name": "stdout",
          "text": [
            "[('woman', 0.9333978295326233), ('Bang', 0.9174728989601135), ('third', 0.9158248901367188), ('asteroid', 0.9144430756568909), ('skull', 0.91264408826828), ('rally', 0.9116621613502502), ('dinosaur', 0.9079714417457581), ('infant', 0.9038867950439453), ('dog', 0.9028000831604004), ('rich', 0.9007760286331177)]\n"
          ]
        },
        {
          "output_type": "stream",
          "name": "stderr",
          "text": [
            "/usr/local/lib/python3.7/dist-packages/ipykernel_launcher.py:1: DeprecationWarning: Call to deprecated `wv` (Attribute will be removed in 4.0.0, use self instead).\n",
            "  \"\"\"Entry point for launching an IPython kernel.\n"
          ]
        }
      ]
    },
    {
      "cell_type": "code",
      "source": [
        "loaded_model.most_similar('overacting')"
      ],
      "metadata": {
        "colab": {
          "base_uri": "https://localhost:8080/",
          "height": 323
        },
        "id": "0TaA-d5IcFfb",
        "outputId": "610e5a4c-24f1-4f6f-de0e-aafcb82e1d81"
      },
      "execution_count": 33,
      "outputs": [
        {
          "output_type": "error",
          "ename": "KeyError",
          "evalue": "ignored",
          "traceback": [
            "\u001b[0;31m---------------------------------------------------------------------------\u001b[0m",
            "\u001b[0;31mKeyError\u001b[0m                                  Traceback (most recent call last)",
            "\u001b[0;32m<ipython-input-33-df825cbe5aee>\u001b[0m in \u001b[0;36m<module>\u001b[0;34m()\u001b[0m\n\u001b[0;32m----> 1\u001b[0;31m \u001b[0mloaded_model\u001b[0m\u001b[0;34m.\u001b[0m\u001b[0mmost_similar\u001b[0m\u001b[0;34m(\u001b[0m\u001b[0;34m'overacting'\u001b[0m\u001b[0;34m)\u001b[0m\u001b[0;34m\u001b[0m\u001b[0;34m\u001b[0m\u001b[0m\n\u001b[0m",
            "\u001b[0;32m/usr/local/lib/python3.7/dist-packages/gensim/models/keyedvectors.py\u001b[0m in \u001b[0;36mmost_similar\u001b[0;34m(self, positive, negative, topn, restrict_vocab, indexer)\u001b[0m\n\u001b[1;32m    529\u001b[0m                 \u001b[0mmean\u001b[0m\u001b[0;34m.\u001b[0m\u001b[0mappend\u001b[0m\u001b[0;34m(\u001b[0m\u001b[0mweight\u001b[0m \u001b[0;34m*\u001b[0m \u001b[0mword\u001b[0m\u001b[0;34m)\u001b[0m\u001b[0;34m\u001b[0m\u001b[0;34m\u001b[0m\u001b[0m\n\u001b[1;32m    530\u001b[0m             \u001b[0;32melse\u001b[0m\u001b[0;34m:\u001b[0m\u001b[0;34m\u001b[0m\u001b[0;34m\u001b[0m\u001b[0m\n\u001b[0;32m--> 531\u001b[0;31m                 \u001b[0mmean\u001b[0m\u001b[0;34m.\u001b[0m\u001b[0mappend\u001b[0m\u001b[0;34m(\u001b[0m\u001b[0mweight\u001b[0m \u001b[0;34m*\u001b[0m \u001b[0mself\u001b[0m\u001b[0;34m.\u001b[0m\u001b[0mword_vec\u001b[0m\u001b[0;34m(\u001b[0m\u001b[0mword\u001b[0m\u001b[0;34m,\u001b[0m \u001b[0muse_norm\u001b[0m\u001b[0;34m=\u001b[0m\u001b[0;32mTrue\u001b[0m\u001b[0;34m)\u001b[0m\u001b[0;34m)\u001b[0m\u001b[0;34m\u001b[0m\u001b[0;34m\u001b[0m\u001b[0m\n\u001b[0m\u001b[1;32m    532\u001b[0m                 \u001b[0;32mif\u001b[0m \u001b[0mword\u001b[0m \u001b[0;32min\u001b[0m \u001b[0mself\u001b[0m\u001b[0;34m.\u001b[0m\u001b[0mvocab\u001b[0m\u001b[0;34m:\u001b[0m\u001b[0;34m\u001b[0m\u001b[0;34m\u001b[0m\u001b[0m\n\u001b[1;32m    533\u001b[0m                     \u001b[0mall_words\u001b[0m\u001b[0;34m.\u001b[0m\u001b[0madd\u001b[0m\u001b[0;34m(\u001b[0m\u001b[0mself\u001b[0m\u001b[0;34m.\u001b[0m\u001b[0mvocab\u001b[0m\u001b[0;34m[\u001b[0m\u001b[0mword\u001b[0m\u001b[0;34m]\u001b[0m\u001b[0;34m.\u001b[0m\u001b[0mindex\u001b[0m\u001b[0;34m)\u001b[0m\u001b[0;34m\u001b[0m\u001b[0;34m\u001b[0m\u001b[0m\n",
            "\u001b[0;32m/usr/local/lib/python3.7/dist-packages/gensim/models/keyedvectors.py\u001b[0m in \u001b[0;36mword_vec\u001b[0;34m(self, word, use_norm)\u001b[0m\n\u001b[1;32m    450\u001b[0m             \u001b[0;32mreturn\u001b[0m \u001b[0mresult\u001b[0m\u001b[0;34m\u001b[0m\u001b[0;34m\u001b[0m\u001b[0m\n\u001b[1;32m    451\u001b[0m         \u001b[0;32melse\u001b[0m\u001b[0;34m:\u001b[0m\u001b[0;34m\u001b[0m\u001b[0;34m\u001b[0m\u001b[0m\n\u001b[0;32m--> 452\u001b[0;31m             \u001b[0;32mraise\u001b[0m \u001b[0mKeyError\u001b[0m\u001b[0;34m(\u001b[0m\u001b[0;34m\"word '%s' not in vocabulary\"\u001b[0m \u001b[0;34m%\u001b[0m \u001b[0mword\u001b[0m\u001b[0;34m)\u001b[0m\u001b[0;34m\u001b[0m\u001b[0;34m\u001b[0m\u001b[0m\n\u001b[0m\u001b[1;32m    453\u001b[0m \u001b[0;34m\u001b[0m\u001b[0m\n\u001b[1;32m    454\u001b[0m     \u001b[0;32mdef\u001b[0m \u001b[0mget_vector\u001b[0m\u001b[0;34m(\u001b[0m\u001b[0mself\u001b[0m\u001b[0;34m,\u001b[0m \u001b[0mword\u001b[0m\u001b[0;34m)\u001b[0m\u001b[0;34m:\u001b[0m\u001b[0;34m\u001b[0m\u001b[0;34m\u001b[0m\u001b[0m\n",
            "\u001b[0;31mKeyError\u001b[0m: \"word 'overacting' not in vocabulary\""
          ]
        }
      ]
    },
    {
      "cell_type": "code",
      "source": [
        "loaded_model.most_similar('memory')"
      ],
      "metadata": {
        "colab": {
          "base_uri": "https://localhost:8080/"
        },
        "id": "j_dwsOaUcQR6",
        "outputId": "fb9813e6-be88-4fff-a326-3d524e4f152c"
      },
      "execution_count": 34,
      "outputs": [
        {
          "output_type": "execute_result",
          "data": {
            "text/plain": [
              "[('jolt', 0.9711573719978333),\n",
              " ('structures', 0.970538854598999),\n",
              " ('lifting', 0.9705184102058411),\n",
              " ('infection', 0.9700412154197693),\n",
              " ('semen', 0.9700232148170471),\n",
              " ('video', 0.9682134389877319),\n",
              " ('charged', 0.9681147336959839),\n",
              " ('springs', 0.9677307605743408),\n",
              " ('movie', 0.9676814079284668),\n",
              " ('broad', 0.9674487709999084)]"
            ]
          },
          "metadata": {},
          "execution_count": 34
        }
      ]
    },
    {
      "cell_type": "markdown",
      "source": [
        "## 한국어 word2vec 만들기"
      ],
      "metadata": {
        "id": "IvUszNdZiRIq"
      }
    },
    {
      "cell_type": "code",
      "source": [
        "!pip install konlpy"
      ],
      "metadata": {
        "colab": {
          "base_uri": "https://localhost:8080/"
        },
        "id": "FLuPIpg-cUxE",
        "outputId": "9c3bf318-9c05-4757-e93c-0ccc55867a16"
      },
      "execution_count": 35,
      "outputs": [
        {
          "output_type": "stream",
          "name": "stdout",
          "text": [
            "Collecting konlpy\n",
            "  Downloading konlpy-0.6.0-py2.py3-none-any.whl (19.4 MB)\n",
            "\u001b[K     |████████████████████████████████| 19.4 MB 1.3 MB/s \n",
            "\u001b[?25hCollecting JPype1>=0.7.0\n",
            "  Downloading JPype1-1.4.0-cp37-cp37m-manylinux_2_5_x86_64.manylinux1_x86_64.whl (453 kB)\n",
            "\u001b[K     |████████████████████████████████| 453 kB 56.0 MB/s \n",
            "\u001b[?25hRequirement already satisfied: numpy>=1.6 in /usr/local/lib/python3.7/dist-packages (from konlpy) (1.21.6)\n",
            "Requirement already satisfied: lxml>=4.1.0 in /usr/local/lib/python3.7/dist-packages (from konlpy) (4.2.6)\n",
            "Requirement already satisfied: typing-extensions in /usr/local/lib/python3.7/dist-packages (from JPype1>=0.7.0->konlpy) (4.2.0)\n",
            "Installing collected packages: JPype1, konlpy\n",
            "Successfully installed JPype1-1.4.0 konlpy-0.6.0\n"
          ]
        }
      ]
    },
    {
      "cell_type": "code",
      "source": [
        "import pandas as pd\n",
        "import matplotlib.pyplot as plt\n",
        "import urllib.request\n",
        "from gensim.models.word2vec import Word2Vec\n",
        "from konlpy.tag import Okt"
      ],
      "metadata": {
        "id": "dqTblKg_iOzB"
      },
      "execution_count": 36,
      "outputs": []
    },
    {
      "cell_type": "code",
      "source": [
        "urllib.request.urlretrieve(\"https://raw.githubusercontent.com/e9t/nsmc/master/ratings.txt\", filename=\"ratings.txt\")"
      ],
      "metadata": {
        "colab": {
          "base_uri": "https://localhost:8080/"
        },
        "id": "TWsYW5UKiQqQ",
        "outputId": "72166a46-9585-4b83-f6f5-dcd40964f648"
      },
      "execution_count": 37,
      "outputs": [
        {
          "output_type": "execute_result",
          "data": {
            "text/plain": [
              "('ratings.txt', <http.client.HTTPMessage at 0x7f59d4bc7710>)"
            ]
          },
          "metadata": {},
          "execution_count": 37
        }
      ]
    },
    {
      "cell_type": "code",
      "source": [
        "train_data = pd.read_table('ratings.txt')"
      ],
      "metadata": {
        "id": "lBicBU8kidVs"
      },
      "execution_count": 38,
      "outputs": []
    },
    {
      "cell_type": "code",
      "source": [
        "train_data.head()"
      ],
      "metadata": {
        "colab": {
          "base_uri": "https://localhost:8080/",
          "height": 250
        },
        "id": "-h4hmXtjih4e",
        "outputId": "d7f78963-47c8-4813-b6b6-93eeb817cf21"
      },
      "execution_count": 39,
      "outputs": [
        {
          "output_type": "execute_result",
          "data": {
            "text/plain": [
              "         id                                           document  label\n",
              "0   8112052                                어릴때보고 지금다시봐도 재밌어요ㅋㅋ      1\n",
              "1   8132799  디자인을 배우는 학생으로, 외국디자이너와 그들이 일군 전통을 통해 발전해가는 문화산...      1\n",
              "2   4655635               폴리스스토리 시리즈는 1부터 뉴까지 버릴께 하나도 없음.. 최고.      1\n",
              "3   9251303  와.. 연기가 진짜 개쩔구나.. 지루할거라고 생각했는데 몰입해서 봤다.. 그래 이런...      1\n",
              "4  10067386                        안개 자욱한 밤하늘에 떠 있는 초승달 같은 영화.      1"
            ],
            "text/html": [
              "\n",
              "  <div id=\"df-0f989710-0d9c-45c4-b9f1-daa2e48beb57\">\n",
              "    <div class=\"colab-df-container\">\n",
              "      <div>\n",
              "<style scoped>\n",
              "    .dataframe tbody tr th:only-of-type {\n",
              "        vertical-align: middle;\n",
              "    }\n",
              "\n",
              "    .dataframe tbody tr th {\n",
              "        vertical-align: top;\n",
              "    }\n",
              "\n",
              "    .dataframe thead th {\n",
              "        text-align: right;\n",
              "    }\n",
              "</style>\n",
              "<table border=\"1\" class=\"dataframe\">\n",
              "  <thead>\n",
              "    <tr style=\"text-align: right;\">\n",
              "      <th></th>\n",
              "      <th>id</th>\n",
              "      <th>document</th>\n",
              "      <th>label</th>\n",
              "    </tr>\n",
              "  </thead>\n",
              "  <tbody>\n",
              "    <tr>\n",
              "      <th>0</th>\n",
              "      <td>8112052</td>\n",
              "      <td>어릴때보고 지금다시봐도 재밌어요ㅋㅋ</td>\n",
              "      <td>1</td>\n",
              "    </tr>\n",
              "    <tr>\n",
              "      <th>1</th>\n",
              "      <td>8132799</td>\n",
              "      <td>디자인을 배우는 학생으로, 외국디자이너와 그들이 일군 전통을 통해 발전해가는 문화산...</td>\n",
              "      <td>1</td>\n",
              "    </tr>\n",
              "    <tr>\n",
              "      <th>2</th>\n",
              "      <td>4655635</td>\n",
              "      <td>폴리스스토리 시리즈는 1부터 뉴까지 버릴께 하나도 없음.. 최고.</td>\n",
              "      <td>1</td>\n",
              "    </tr>\n",
              "    <tr>\n",
              "      <th>3</th>\n",
              "      <td>9251303</td>\n",
              "      <td>와.. 연기가 진짜 개쩔구나.. 지루할거라고 생각했는데 몰입해서 봤다.. 그래 이런...</td>\n",
              "      <td>1</td>\n",
              "    </tr>\n",
              "    <tr>\n",
              "      <th>4</th>\n",
              "      <td>10067386</td>\n",
              "      <td>안개 자욱한 밤하늘에 떠 있는 초승달 같은 영화.</td>\n",
              "      <td>1</td>\n",
              "    </tr>\n",
              "  </tbody>\n",
              "</table>\n",
              "</div>\n",
              "      <button class=\"colab-df-convert\" onclick=\"convertToInteractive('df-0f989710-0d9c-45c4-b9f1-daa2e48beb57')\"\n",
              "              title=\"Convert this dataframe to an interactive table.\"\n",
              "              style=\"display:none;\">\n",
              "        \n",
              "  <svg xmlns=\"http://www.w3.org/2000/svg\" height=\"24px\"viewBox=\"0 0 24 24\"\n",
              "       width=\"24px\">\n",
              "    <path d=\"M0 0h24v24H0V0z\" fill=\"none\"/>\n",
              "    <path d=\"M18.56 5.44l.94 2.06.94-2.06 2.06-.94-2.06-.94-.94-2.06-.94 2.06-2.06.94zm-11 1L8.5 8.5l.94-2.06 2.06-.94-2.06-.94L8.5 2.5l-.94 2.06-2.06.94zm10 10l.94 2.06.94-2.06 2.06-.94-2.06-.94-.94-2.06-.94 2.06-2.06.94z\"/><path d=\"M17.41 7.96l-1.37-1.37c-.4-.4-.92-.59-1.43-.59-.52 0-1.04.2-1.43.59L10.3 9.45l-7.72 7.72c-.78.78-.78 2.05 0 2.83L4 21.41c.39.39.9.59 1.41.59.51 0 1.02-.2 1.41-.59l7.78-7.78 2.81-2.81c.8-.78.8-2.07 0-2.86zM5.41 20L4 18.59l7.72-7.72 1.47 1.35L5.41 20z\"/>\n",
              "  </svg>\n",
              "      </button>\n",
              "      \n",
              "  <style>\n",
              "    .colab-df-container {\n",
              "      display:flex;\n",
              "      flex-wrap:wrap;\n",
              "      gap: 12px;\n",
              "    }\n",
              "\n",
              "    .colab-df-convert {\n",
              "      background-color: #E8F0FE;\n",
              "      border: none;\n",
              "      border-radius: 50%;\n",
              "      cursor: pointer;\n",
              "      display: none;\n",
              "      fill: #1967D2;\n",
              "      height: 32px;\n",
              "      padding: 0 0 0 0;\n",
              "      width: 32px;\n",
              "    }\n",
              "\n",
              "    .colab-df-convert:hover {\n",
              "      background-color: #E2EBFA;\n",
              "      box-shadow: 0px 1px 2px rgba(60, 64, 67, 0.3), 0px 1px 3px 1px rgba(60, 64, 67, 0.15);\n",
              "      fill: #174EA6;\n",
              "    }\n",
              "\n",
              "    [theme=dark] .colab-df-convert {\n",
              "      background-color: #3B4455;\n",
              "      fill: #D2E3FC;\n",
              "    }\n",
              "\n",
              "    [theme=dark] .colab-df-convert:hover {\n",
              "      background-color: #434B5C;\n",
              "      box-shadow: 0px 1px 3px 1px rgba(0, 0, 0, 0.15);\n",
              "      filter: drop-shadow(0px 1px 2px rgba(0, 0, 0, 0.3));\n",
              "      fill: #FFFFFF;\n",
              "    }\n",
              "  </style>\n",
              "\n",
              "      <script>\n",
              "        const buttonEl =\n",
              "          document.querySelector('#df-0f989710-0d9c-45c4-b9f1-daa2e48beb57 button.colab-df-convert');\n",
              "        buttonEl.style.display =\n",
              "          google.colab.kernel.accessAllowed ? 'block' : 'none';\n",
              "\n",
              "        async function convertToInteractive(key) {\n",
              "          const element = document.querySelector('#df-0f989710-0d9c-45c4-b9f1-daa2e48beb57');\n",
              "          const dataTable =\n",
              "            await google.colab.kernel.invokeFunction('convertToInteractive',\n",
              "                                                     [key], {});\n",
              "          if (!dataTable) return;\n",
              "\n",
              "          const docLinkHtml = 'Like what you see? Visit the ' +\n",
              "            '<a target=\"_blank\" href=https://colab.research.google.com/notebooks/data_table.ipynb>data table notebook</a>'\n",
              "            + ' to learn more about interactive tables.';\n",
              "          element.innerHTML = '';\n",
              "          dataTable['output_type'] = 'display_data';\n",
              "          await google.colab.output.renderOutput(dataTable, element);\n",
              "          const docLink = document.createElement('div');\n",
              "          docLink.innerHTML = docLinkHtml;\n",
              "          element.appendChild(docLink);\n",
              "        }\n",
              "      </script>\n",
              "    </div>\n",
              "  </div>\n",
              "  "
            ]
          },
          "metadata": {},
          "execution_count": 39
        }
      ]
    },
    {
      "cell_type": "code",
      "source": [
        "train_data.info()"
      ],
      "metadata": {
        "colab": {
          "base_uri": "https://localhost:8080/"
        },
        "id": "ZcuM56OkikXf",
        "outputId": "2612b3d3-1c52-453d-988e-168e7ab55acb"
      },
      "execution_count": 40,
      "outputs": [
        {
          "output_type": "stream",
          "name": "stdout",
          "text": [
            "<class 'pandas.core.frame.DataFrame'>\n",
            "RangeIndex: 200000 entries, 0 to 199999\n",
            "Data columns (total 3 columns):\n",
            " #   Column    Non-Null Count   Dtype \n",
            "---  ------    --------------   ----- \n",
            " 0   id        200000 non-null  int64 \n",
            " 1   document  199992 non-null  object\n",
            " 2   label     200000 non-null  int64 \n",
            "dtypes: int64(2), object(1)\n",
            "memory usage: 4.6+ MB\n"
          ]
        }
      ]
    },
    {
      "cell_type": "code",
      "source": [
        "# Null값이 존재하는 행 제거\n",
        "droped_na_data = train_data.dropna(how='any')"
      ],
      "metadata": {
        "id": "u4DaH2RZiloP"
      },
      "execution_count": 41,
      "outputs": []
    },
    {
      "cell_type": "code",
      "source": [
        "print(len(droped_na_data))"
      ],
      "metadata": {
        "colab": {
          "base_uri": "https://localhost:8080/"
        },
        "id": "eecZbzIsjGwB",
        "outputId": "66105ede-9969-4404-dfcd-da96962cd499"
      },
      "execution_count": 43,
      "outputs": [
        {
          "output_type": "stream",
          "name": "stdout",
          "text": [
            "199992\n"
          ]
        }
      ]
    },
    {
      "cell_type": "code",
      "source": [
        "droped_na_data.info()"
      ],
      "metadata": {
        "colab": {
          "base_uri": "https://localhost:8080/"
        },
        "id": "UR683YZ1jIqv",
        "outputId": "18773edf-0848-484b-b9fb-05d73e12ef09"
      },
      "execution_count": 44,
      "outputs": [
        {
          "output_type": "stream",
          "name": "stdout",
          "text": [
            "<class 'pandas.core.frame.DataFrame'>\n",
            "Int64Index: 199992 entries, 0 to 199999\n",
            "Data columns (total 3 columns):\n",
            " #   Column    Non-Null Count   Dtype \n",
            "---  ------    --------------   ----- \n",
            " 0   id        199992 non-null  int64 \n",
            " 1   document  199992 non-null  object\n",
            " 2   label     199992 non-null  int64 \n",
            "dtypes: int64(2), object(1)\n",
            "memory usage: 6.1+ MB\n"
          ]
        }
      ]
    },
    {
      "cell_type": "code",
      "source": [
        "cleaning_data = droped_na_data['document'].str.replace(\"[^ㅏ-ㅣㄱ-ㅎ가-힣 ]\",\"\")"
      ],
      "metadata": {
        "colab": {
          "base_uri": "https://localhost:8080/"
        },
        "id": "bqpqItwGjyJR",
        "outputId": "526cc599-177d-4a51-fdec-fef4e63da944"
      },
      "execution_count": 47,
      "outputs": [
        {
          "output_type": "stream",
          "name": "stderr",
          "text": [
            "/usr/local/lib/python3.7/dist-packages/ipykernel_launcher.py:1: FutureWarning: The default value of regex will change from True to False in a future version.\n",
            "  \"\"\"Entry point for launching an IPython kernel.\n"
          ]
        }
      ]
    },
    {
      "cell_type": "code",
      "source": [
        "cleaning_data[:5]"
      ],
      "metadata": {
        "colab": {
          "base_uri": "https://localhost:8080/"
        },
        "id": "lkpkmVhTj7FE",
        "outputId": "131394ef-549b-4252-f84f-4ae73d5ebf4f"
      },
      "execution_count": 48,
      "outputs": [
        {
          "output_type": "execute_result",
          "data": {
            "text/plain": [
              "0                                  어릴때보고 지금다시봐도 재밌어요ㅋㅋ\n",
              "1    디자인을 배우는 학생으로 외국디자이너와 그들이 일군 전통을 통해 발전해가는 문화산업...\n",
              "2                     폴리스스토리 시리즈는 부터 뉴까지 버릴께 하나도 없음 최고\n",
              "3     와 연기가 진짜 개쩔구나 지루할거라고 생각했는데 몰입해서 봤다 그래 이런게 진짜 영화지\n",
              "4                           안개 자욱한 밤하늘에 떠 있는 초승달 같은 영화\n",
              "Name: document, dtype: object"
            ]
          },
          "metadata": {},
          "execution_count": 48
        }
      ]
    },
    {
      "cell_type": "code",
      "source": [
        "# 불용어 정의\n",
        "stopwords = ['의','가','이','은','들','는','좀','잘','걍','과','도','를','으로','자','에','와','한','하다']"
      ],
      "metadata": {
        "id": "T9a5Ty2EkWFC"
      },
      "execution_count": 49,
      "outputs": []
    },
    {
      "cell_type": "code",
      "source": [
        "# 불용어 제거 및 토큰화 적용\n",
        "okt = Okt()\n",
        "tokenized_data = []\n",
        "for sentence in cleaning_data:\n",
        "    temp_x = okt.morphs(sentence, stem=True)\n",
        "    temp_x = [word for word in temp_x if word not in stopwords] # 불용어 제거\n",
        "    tokenized_data.append(temp_x)\n",
        "\n",
        "print(tokenized_data[:5])"
      ],
      "metadata": {
        "colab": {
          "base_uri": "https://localhost:8080/"
        },
        "id": "orh9xkeIkaNq",
        "outputId": "33843447-5d38-466e-ee64-b59f24f81bbf"
      },
      "execution_count": 50,
      "outputs": [
        {
          "output_type": "stream",
          "name": "stdout",
          "text": [
            "[['어리다', '때', '보고', '지금', '다시', '보다', '재밌다', 'ㅋㅋ'], ['디자인', '을', '배우다', '학생', '외국', '디자이너', '그', '일군', '전통', '을', '통해', '발전', '문화', '산업', '부럽다', '사실', '우리나라', '에서도', '그', '어렵다', '시절', '끝', '까지', '열정', '을', '지키다', '노라노', '같다', '전통', '있다', '저', '같다', '사람', '꿈', '을', '꾸다', '이루다', '나가다', '수', '있다', '것', '감사하다'], ['폴리스스토리', '시리즈', '부터', '뉴', '까지', '버리다', '하나', '없다', '최고'], ['오다', '연기', '진짜', '개', '쩔다', '지루하다', '생각', '몰입', '보다', '그렇다', '이렇다', '진짜', '영화', '지'], ['안개', '자욱하다', '밤하늘', '뜨다', '있다', '초승달', '같다', '영화']]\n"
          ]
        }
      ]
    },
    {
      "cell_type": "code",
      "source": [
        "# 리뷰의 길이 분포 확인\n",
        "print('리뷰의 최대 길이 :', max(len(l) for l in tokenized_data))\n",
        "print('리뷰의 평균 길이 :', sum(map(len, tokenized_data))/len(tokenized_data))\n",
        "\n",
        "plt.hist([len(s) for s in tokenized_data], bins=50)\n",
        "plt.xlabel('length of samples')\n",
        "plt.ylabel('number of samples')\n",
        "plt.show()"
      ],
      "metadata": {
        "colab": {
          "base_uri": "https://localhost:8080/",
          "height": 315
        },
        "id": "rtVHCba2lDlJ",
        "outputId": "45cf0104-d6c7-4b2f-e520-56f9a6d4889c"
      },
      "execution_count": 51,
      "outputs": [
        {
          "output_type": "stream",
          "name": "stdout",
          "text": [
            "리뷰의 최대 길이 : 72\n",
            "리뷰의 평균 길이 : 10.716703668146726\n"
          ]
        },
        {
          "output_type": "display_data",
          "data": {
            "text/plain": [
              "<Figure size 432x288 with 1 Axes>"
            ],
            "image/png": "[encoded data removed]"
          },
          "metadata": {
            "needs_background": "light"
          }
        }
      ]
    },
    {
      "cell_type": "code",
      "source": [
        "from gensim.models import Word2Vec\n",
        "model = Word2Vec(sentences=tokenized_data, size=100, window=5, min_count=5, workers=4, sg=0)"
      ],
      "metadata": {
        "id": "L9AZPSL_pFOy"
      },
      "execution_count": 53,
      "outputs": []
    },
    {
      "cell_type": "code",
      "source": [
        "model.wv.vectors.shape"
      ],
      "metadata": {
        "colab": {
          "base_uri": "https://localhost:8080/"
        },
        "id": "4haixf_Cpcp_",
        "outputId": "e7ce6e57-2a05-43b8-ff3d-5dd699357fdc"
      },
      "execution_count": 54,
      "outputs": [
        {
          "output_type": "execute_result",
          "data": {
            "text/plain": [
              "(16477, 100)"
            ]
          },
          "metadata": {},
          "execution_count": 54
        }
      ]
    },
    {
      "cell_type": "code",
      "source": [
        "print(model.wv.most_similar(\"최민식\"))"
      ],
      "metadata": {
        "colab": {
          "base_uri": "https://localhost:8080/"
        },
        "id": "sMbS0mzLprBp",
        "outputId": "8b4b1aa1-76bb-48c6-acde-d6db14cf9cd3"
      },
      "execution_count": 55,
      "outputs": [
        {
          "output_type": "stream",
          "name": "stdout",
          "text": [
            "[('한석규', 0.8847265243530273), ('안성기', 0.8757756948471069), ('최민수', 0.8643490076065063), ('이민호', 0.8600115776062012), ('설경구', 0.8417963981628418), ('유다인', 0.8417581915855408), ('박상민', 0.8406884670257568), ('주진모', 0.8366653919219971), ('채민서', 0.8326462507247925), ('박중훈', 0.8235019445419312)]\n"
          ]
        }
      ]
    },
    {
      "cell_type": "code",
      "source": [
        "print(model.wv.most_similar(\"히어로\"))"
      ],
      "metadata": {
        "colab": {
          "base_uri": "https://localhost:8080/"
        },
        "id": "abZ-LXkMpykU",
        "outputId": "434718d5-35a3-4034-e9c2-b41c9613e6d8"
      },
      "execution_count": 56,
      "outputs": [
        {
          "output_type": "stream",
          "name": "stdout",
          "text": [
            "[('슬래셔', 0.8658611178398132), ('무협', 0.8574554920196533), ('호러', 0.8539676666259766), ('느와르', 0.8425710201263428), ('정통', 0.8390511274337769), ('물의', 0.8377536535263062), ('물', 0.8375344276428223), ('무비', 0.8221415281295776), ('블록버스터', 0.822088897228241), ('멜로', 0.806597113609314)]\n"
          ]
        }
      ]
    },
    {
      "cell_type": "code",
      "source": [
        "print(model.wv.most_similar(\"뽀로로\"))"
      ],
      "metadata": {
        "colab": {
          "base_uri": "https://localhost:8080/"
        },
        "id": "h-imH7oRqFOm",
        "outputId": "46ff49f6-638e-4ca5-958c-8eefdc144d48"
      },
      "execution_count": 57,
      "outputs": [
        {
          "output_type": "stream",
          "name": "stdout",
          "text": [
            "[('마다가스카', 0.8493053913116455), ('어린이날', 0.844731330871582), ('유로트립', 0.8257744312286377), ('바론', 0.8167880773544312), ('키키', 0.8157335519790649), ('에스', 0.8138102889060974), ('더파이팅', 0.8138045072555542), ('요괴', 0.8134110569953918), ('샵', 0.813277006149292), ('보다야', 0.8129746913909912)]\n"
          ]
        }
      ]
    },
    {
      "cell_type": "code",
      "source": [
        "print(model.wv.most_similar(\"영화\"))"
      ],
      "metadata": {
        "colab": {
          "base_uri": "https://localhost:8080/"
        },
        "id": "uVZuPyWtqHDo",
        "outputId": "da0b05d4-1fd7-4aa6-eee7-a0d5195e3344"
      },
      "execution_count": 58,
      "outputs": [
        {
          "output_type": "stream",
          "name": "stdout",
          "text": [
            "[('애니메이션', 0.5851103067398071), ('독립영화', 0.5714597702026367), ('공포영화', 0.5697891116142273), ('애니', 0.563654899597168), ('이영화', 0.5479162931442261), ('작품', 0.5441969633102417), ('수작', 0.5300544500350952), ('다큐', 0.5300365686416626), ('영화로', 0.5189224481582642), ('액션영화', 0.5145867466926575)]\n"
          ]
        }
      ]
    },
    {
      "cell_type": "markdown",
      "source": [
        "## 사전에 훈련된 워드 임베딩 (한국어)"
      ],
      "metadata": {
        "id": "31vLeAtMqJ2D"
      }
    },
    {
      "cell_type": "code",
      "source": [
        "import gensim\n",
        "model = gensim.models.Word2Vec.load('./ko.bin')"
      ],
      "metadata": {
        "id": "aR6hY8z3vCSp"
      },
      "execution_count": 61,
      "outputs": []
    },
    {
      "cell_type": "code",
      "source": [
        "print(model)"
      ],
      "metadata": {
        "colab": {
          "base_uri": "https://localhost:8080/"
        },
        "id": "DYs6O-J7vNJV",
        "outputId": "dfd1cfb1-ab74-49ea-f8cb-503ffefa079e"
      },
      "execution_count": 62,
      "outputs": [
        {
          "output_type": "stream",
          "name": "stdout",
          "text": [
            "Word2Vec(vocab=30185, size=200, alpha=0.025)\n"
          ]
        }
      ]
    },
    {
      "cell_type": "code",
      "source": [
        "result = model.wv.most_similar(\"강아지\", topn=50) # 상위 50개\n",
        "print(result)"
      ],
      "metadata": {
        "colab": {
          "base_uri": "https://localhost:8080/"
        },
        "id": "dfzg2FvWvoCC",
        "outputId": "193bc078-bd00-4aa6-aa71-99cc4410668e"
      },
      "execution_count": 63,
      "outputs": [
        {
          "output_type": "stream",
          "name": "stdout",
          "text": [
            "[('고양이', 0.7290452718734741), ('거위', 0.7185635566711426), ('토끼', 0.7056223154067993), ('멧돼지', 0.6950401067733765), ('엄마', 0.6934334635734558), ('난쟁이', 0.6806551218032837), ('한마리', 0.6770296096801758), ('아가씨', 0.6750352382659912), ('아빠', 0.6729634404182434), ('목걸이', 0.6512460708618164), ('까마귀', 0.6500682830810547), ('아주머니', 0.6432187557220459), ('독사', 0.6389124393463135), ('고슴도치', 0.6313384771347046), ('거북이', 0.6252505779266357), ('돼지', 0.6222692131996155), ('앵무새', 0.6218831539154053), ('개구리', 0.6218565702438354), ('당나귀', 0.6206705570220947), ('송아지', 0.6165446043014526), ('구미호', 0.615827202796936), ('메두사', 0.6134721040725708), ('사냥개', 0.6131488084793091), ('악어', 0.6128274202346802), ('뱀파이어', 0.6126487255096436), ('맹수', 0.609540581703186), ('갈기', 0.6087672114372253), ('아저씨', 0.6054108142852783), ('바구니', 0.6049458980560303), ('샴푸', 0.6020784974098206), ('잠자리', 0.6012549996376038), ('요괴', 0.6010540127754211), ('기러기', 0.6004207134246826), ('아기', 0.6002471446990967), ('애완', 0.600007176399231), ('사냥꾼', 0.599605143070221), ('잉어', 0.5940761566162109), ('애완동물', 0.592205822467804), ('비둘기', 0.5903027057647705), ('데이지', 0.5883350372314453), ('하녀', 0.5824557542800903), ('거미', 0.581872820854187), ('금발', 0.5797356963157654), ('금붕어', 0.5794419050216675), ('괭이', 0.5779764652252197), ('생김새', 0.5771268010139465), ('애벌레', 0.576567530632019), ('생쥐', 0.5745236873626709), ('너구리', 0.5743240118026733), ('처녀', 0.573948860168457)]\n"
          ]
        }
      ]
    },
    {
      "cell_type": "markdown",
      "source": [
        "## 사전 훈련된 워드 임베딩 (영어)"
      ],
      "metadata": {
        "id": "3x0e7rJawJlX"
      }
    },
    {
      "cell_type": "code",
      "source": [
        "from google.colab import drive\n",
        "drive.mount('/content/drive')"
      ],
      "metadata": {
        "colab": {
          "base_uri": "https://localhost:8080/"
        },
        "id": "vMKGAnD5wpNa",
        "outputId": "c1700652-d17c-4b74-aa27-1c5888eee915"
      },
      "execution_count": 1,
      "outputs": [
        {
          "output_type": "stream",
          "name": "stdout",
          "text": [
            "Drive already mounted at /content/drive; to attempt to forcibly remount, call drive.mount(\"/content/drive\", force_remount=True).\n"
          ]
        }
      ]
    },
    {
      "cell_type": "code",
      "source": [
        "import gensim\n",
        "model = gensim.models.KeyedVectors.load_word2vec_format('/content/drive/MyDrive/영우_6기_자연어/수업안/dataset/GoogleNews-vectors-negative300.bin.gz', binary=True)"
      ],
      "metadata": {
        "id": "7bp30ugcwsUf"
      },
      "execution_count": 2,
      "outputs": []
    },
    {
      "cell_type": "code",
      "source": [
        "print(model.vectors.shape)"
      ],
      "metadata": {
        "colab": {
          "base_uri": "https://localhost:8080/"
        },
        "id": "y7DrnvzoxPZM",
        "outputId": "a799466c-9330-4dfb-b03e-d36d2a4abb03"
      },
      "execution_count": 3,
      "outputs": [
        {
          "output_type": "stream",
          "name": "stdout",
          "text": [
            "(3000000, 300)\n"
          ]
        }
      ]
    },
    {
      "cell_type": "code",
      "source": [
        "print(model.similarity('this','si'))"
      ],
      "metadata": {
        "colab": {
          "base_uri": "https://localhost:8080/"
        },
        "id": "FG57n2CVygd9",
        "outputId": "9fa141a6-eabc-45a0-940d-4da53421bf47"
      },
      "execution_count": 4,
      "outputs": [
        {
          "output_type": "stream",
          "name": "stdout",
          "text": [
            "0.00068292255\n"
          ]
        }
      ]
    },
    {
      "cell_type": "code",
      "source": [
        "print(model.similarity('post','book'))"
      ],
      "metadata": {
        "colab": {
          "base_uri": "https://localhost:8080/"
        },
        "id": "gIfsvKN1ymga",
        "outputId": "93ef6550-c21f-4b67-e064-5f7325cf4f52"
      },
      "execution_count": 5,
      "outputs": [
        {
          "output_type": "stream",
          "name": "stdout",
          "text": [
            "0.057204384\n"
          ]
        }
      ]
    },
    {
      "cell_type": "code",
      "source": [
        "print(model['book'])"
      ],
      "metadata": {
        "colab": {
          "base_uri": "https://localhost:8080/"
        },
        "id": "RVRpBcU6yqrX",
        "outputId": "4a1f1421-e76e-4920-cd8c-6812eef8493c"
      },
      "execution_count": 6,
      "outputs": [
        {
          "output_type": "stream",
          "name": "stdout",
          "text": [
            "[ 0.11279297 -0.02612305 -0.04492188  0.06982422  0.140625    0.03039551\n",
            " -0.04370117  0.24511719  0.08740234 -0.05053711  0.23144531 -0.07470703\n",
            "  0.21875     0.03466797 -0.14550781  0.05761719  0.00671387 -0.00701904\n",
            "  0.13183594 -0.25390625  0.14355469 -0.140625   -0.03564453 -0.21289062\n",
            " -0.24804688  0.04980469 -0.09082031  0.14453125  0.05712891 -0.10400391\n",
            " -0.19628906 -0.20507812 -0.27539062  0.03063965  0.20117188  0.17382812\n",
            "  0.09130859 -0.10107422  0.22851562 -0.04077148  0.02709961 -0.00106049\n",
            "  0.02709961  0.34179688 -0.13183594 -0.078125    0.02197266 -0.18847656\n",
            " -0.17480469 -0.05566406 -0.20898438  0.04858398 -0.07617188 -0.15625\n",
            " -0.05419922  0.01672363 -0.02722168 -0.11132812 -0.03588867 -0.18359375\n",
            "  0.28710938  0.01757812  0.02185059 -0.05664062 -0.01251221  0.01708984\n",
            " -0.21777344 -0.06787109  0.04711914 -0.00668335  0.08544922 -0.02209473\n",
            "  0.31835938  0.01794434 -0.02246094 -0.03051758 -0.09570312  0.24414062\n",
            "  0.20507812  0.05419922  0.29101562  0.03637695  0.04956055 -0.06689453\n",
            "  0.09277344 -0.10595703 -0.04370117  0.19726562 -0.03015137  0.05615234\n",
            "  0.08544922 -0.09863281 -0.02392578 -0.08691406 -0.22460938 -0.16894531\n",
            "  0.09521484 -0.0612793  -0.03015137 -0.265625   -0.13378906  0.00139618\n",
            "  0.01794434  0.10107422  0.13964844  0.06445312 -0.09765625 -0.11376953\n",
            " -0.24511719 -0.15722656  0.00457764  0.12988281 -0.03540039 -0.08105469\n",
            "  0.18652344  0.03125    -0.09326172 -0.04760742  0.23730469  0.11083984\n",
            "  0.08691406  0.01916504  0.21386719 -0.0065918  -0.08984375 -0.02502441\n",
            " -0.09863281 -0.05639648 -0.26757812  0.19335938 -0.08886719 -0.25976562\n",
            "  0.05957031 -0.10742188  0.09863281  0.1484375   0.04101562  0.00340271\n",
            " -0.06591797 -0.02941895  0.20019531 -0.00521851  0.02355957 -0.13671875\n",
            " -0.12597656 -0.10791016  0.0067749   0.15917969  0.0145874  -0.15136719\n",
            "  0.07519531 -0.02905273  0.01843262  0.20800781  0.25195312 -0.11523438\n",
            " -0.23535156  0.04101562 -0.11035156  0.02905273  0.22460938 -0.04272461\n",
            "  0.09667969  0.11865234  0.08007812  0.07958984  0.3125     -0.14941406\n",
            " -0.234375    0.06079102  0.06982422 -0.14355469 -0.05834961 -0.36914062\n",
            " -0.10595703  0.00738525  0.24023438 -0.10400391 -0.02124023  0.05712891\n",
            " -0.11621094 -0.16894531 -0.06396484 -0.12060547  0.08105469 -0.13769531\n",
            " -0.08447266  0.12792969 -0.15429688  0.17871094  0.2421875  -0.06884766\n",
            "  0.03320312  0.04394531 -0.04589844  0.03686523 -0.07421875 -0.01635742\n",
            " -0.24121094 -0.08203125 -0.01733398  0.0291748   0.10742188  0.11279297\n",
            "  0.12890625  0.01416016 -0.28710938  0.16503906 -0.25585938  0.2109375\n",
            " -0.19238281  0.22363281  0.04541016  0.00872803  0.11376953  0.375\n",
            "  0.09765625  0.06201172  0.12109375 -0.24316406  0.203125    0.12158203\n",
            "  0.08642578  0.01782227  0.17382812  0.01855469  0.03613281 -0.02124023\n",
            " -0.02905273 -0.04541016  0.1796875   0.06494141 -0.13378906 -0.09228516\n",
            "  0.02172852  0.02099609  0.07226562  0.3046875  -0.27539062 -0.30078125\n",
            "  0.08691406 -0.22949219  0.0546875  -0.34179688 -0.00680542 -0.0291748\n",
            " -0.03222656  0.16210938  0.01141357  0.23339844 -0.0859375  -0.06494141\n",
            "  0.15039062  0.17675781  0.08251953 -0.26757812 -0.11669922  0.01330566\n",
            "  0.01818848  0.10009766 -0.09570312  0.109375   -0.16992188 -0.23046875\n",
            " -0.22070312  0.0625      0.03662109 -0.125       0.05151367 -0.18847656\n",
            "  0.22949219  0.26367188 -0.09814453  0.06176758  0.11669922  0.23046875\n",
            "  0.32617188  0.02038574 -0.03735352 -0.12255859  0.296875   -0.25\n",
            " -0.08544922 -0.03149414  0.38085938  0.02929688 -0.265625    0.42382812\n",
            " -0.1484375   0.14355469 -0.03125     0.00717163 -0.16601562 -0.15820312\n",
            "  0.03637695 -0.16796875 -0.01483154  0.09667969 -0.05761719 -0.00515747]\n"
          ]
        }
      ]
    },
    {
      "cell_type": "code",
      "source": [
        "model.most_similar('memory')"
      ],
      "metadata": {
        "colab": {
          "base_uri": "https://localhost:8080/"
        },
        "id": "BTOxIUEdywMs",
        "outputId": "2281eff2-7e32-4908-927c-6be0d6f73063"
      },
      "execution_count": 7,
      "outputs": [
        {
          "output_type": "execute_result",
          "data": {
            "text/plain": [
              "[('Memory', 0.6844282150268555),\n",
              " ('memories', 0.6138081550598145),\n",
              " ('Added_Tarbet', 0.5560144186019897),\n",
              " ('Earliest_sporting', 0.5375796556472778),\n",
              " ('Flash_memory', 0.5318928360939026),\n",
              " ('foam_mattress_topper', 0.5253582000732422),\n",
              " ('flash_memory', 0.5221431255340576),\n",
              " ('remembering', 0.5171269178390503),\n",
              " ('SODIMM_modules', 0.5119421482086182),\n",
              " ('components_microprocessors_CPUs', 0.5007408857345581)]"
            ]
          },
          "metadata": {},
          "execution_count": 7
        }
      ]
    },
    {
      "cell_type": "code",
      "source": [
        "del model"
      ],
      "metadata": {
        "id": "a2NBKd6Ry8AK"
      },
      "execution_count": 8,
      "outputs": []
    },
    {
      "cell_type": "markdown",
      "source": [
        "## FastText"
      ],
      "metadata": {
        "id": "_4k0ro44z5jG"
      }
    },
    {
      "cell_type": "markdown",
      "source": [
        "- n = 3\n",
        "- \\<apple>\n",
        "- \\<ap, app, ppl, ple, le>"
      ],
      "metadata": {
        "id": "BoUtw6hR0Bgq"
      }
    },
    {
      "cell_type": "code",
      "source": [
        "from gensim.models import FastText"
      ],
      "metadata": {
        "id": "lex4BJZM0PVP"
      },
      "execution_count": 10,
      "outputs": []
    },
    {
      "cell_type": "code",
      "source": [
        "model = FastText(corpus, size=100, window=5, min_count=5, workers=4, sg=1)"
      ],
      "metadata": {
        "id": "ie4Cj4bh0rd6"
      },
      "execution_count": 15,
      "outputs": []
    },
    {
      "cell_type": "code",
      "source": [
        "from gensim.models import Word2Vec\n",
        "model_wv = Word2Vec(\n",
        "    sentences=corpus,\n",
        "    size=100,       # 워드 벡터의 특징 값, 임베딩된 벡터의 차원\n",
        "    window=5,       # context window의 크기\n",
        "    min_count=5,    # 단어 최소 빈도 수 제한 (빈도가 적은 단어들은 학습하지 않는다.)\n",
        "    workers=4,      # 학습을 위한 프로세스 수\n",
        "    sg=0            # 0은 CBOW, 1은 Skip-gram\n",
        ")"
      ],
      "metadata": {
        "id": "vtNCvdKl0t2_"
      },
      "execution_count": 16,
      "outputs": []
    },
    {
      "cell_type": "code",
      "source": [
        "model_wv.wv.most_similar('electrofishing') # Word2Vec"
      ],
      "metadata": {
        "colab": {
          "base_uri": "https://localhost:8080/",
          "height": 323
        },
        "id": "7Z-wCJ041W0V",
        "outputId": "32130142-0865-4dc0-8b5f-de7198b1e7eb"
      },
      "execution_count": 17,
      "outputs": [
        {
          "output_type": "error",
          "ename": "KeyError",
          "evalue": "ignored",
          "traceback": [
            "\u001b[0;31m---------------------------------------------------------------------------\u001b[0m",
            "\u001b[0;31mKeyError\u001b[0m                                  Traceback (most recent call last)",
            "\u001b[0;32m<ipython-input-17-54be7c2bdd0b>\u001b[0m in \u001b[0;36m<module>\u001b[0;34m()\u001b[0m\n\u001b[0;32m----> 1\u001b[0;31m \u001b[0mmodel_wv\u001b[0m\u001b[0;34m.\u001b[0m\u001b[0mwv\u001b[0m\u001b[0;34m.\u001b[0m\u001b[0mmost_similar\u001b[0m\u001b[0;34m(\u001b[0m\u001b[0;34m'electrofishing'\u001b[0m\u001b[0;34m)\u001b[0m\u001b[0;34m\u001b[0m\u001b[0;34m\u001b[0m\u001b[0m\n\u001b[0m",
            "\u001b[0;32m/usr/local/lib/python3.7/dist-packages/gensim/models/keyedvectors.py\u001b[0m in \u001b[0;36mmost_similar\u001b[0;34m(self, positive, negative, topn, restrict_vocab, indexer)\u001b[0m\n\u001b[1;32m    529\u001b[0m                 \u001b[0mmean\u001b[0m\u001b[0;34m.\u001b[0m\u001b[0mappend\u001b[0m\u001b[0;34m(\u001b[0m\u001b[0mweight\u001b[0m \u001b[0;34m*\u001b[0m \u001b[0mword\u001b[0m\u001b[0;34m)\u001b[0m\u001b[0;34m\u001b[0m\u001b[0;34m\u001b[0m\u001b[0m\n\u001b[1;32m    530\u001b[0m             \u001b[0;32melse\u001b[0m\u001b[0;34m:\u001b[0m\u001b[0;34m\u001b[0m\u001b[0;34m\u001b[0m\u001b[0m\n\u001b[0;32m--> 531\u001b[0;31m                 \u001b[0mmean\u001b[0m\u001b[0;34m.\u001b[0m\u001b[0mappend\u001b[0m\u001b[0;34m(\u001b[0m\u001b[0mweight\u001b[0m \u001b[0;34m*\u001b[0m \u001b[0mself\u001b[0m\u001b[0;34m.\u001b[0m\u001b[0mword_vec\u001b[0m\u001b[0;34m(\u001b[0m\u001b[0mword\u001b[0m\u001b[0;34m,\u001b[0m \u001b[0muse_norm\u001b[0m\u001b[0;34m=\u001b[0m\u001b[0;32mTrue\u001b[0m\u001b[0;34m)\u001b[0m\u001b[0;34m)\u001b[0m\u001b[0;34m\u001b[0m\u001b[0;34m\u001b[0m\u001b[0m\n\u001b[0m\u001b[1;32m    532\u001b[0m                 \u001b[0;32mif\u001b[0m \u001b[0mword\u001b[0m \u001b[0;32min\u001b[0m \u001b[0mself\u001b[0m\u001b[0;34m.\u001b[0m\u001b[0mvocab\u001b[0m\u001b[0;34m:\u001b[0m\u001b[0;34m\u001b[0m\u001b[0;34m\u001b[0m\u001b[0m\n\u001b[1;32m    533\u001b[0m                     \u001b[0mall_words\u001b[0m\u001b[0;34m.\u001b[0m\u001b[0madd\u001b[0m\u001b[0;34m(\u001b[0m\u001b[0mself\u001b[0m\u001b[0;34m.\u001b[0m\u001b[0mvocab\u001b[0m\u001b[0;34m[\u001b[0m\u001b[0mword\u001b[0m\u001b[0;34m]\u001b[0m\u001b[0;34m.\u001b[0m\u001b[0mindex\u001b[0m\u001b[0;34m)\u001b[0m\u001b[0;34m\u001b[0m\u001b[0;34m\u001b[0m\u001b[0m\n",
            "\u001b[0;32m/usr/local/lib/python3.7/dist-packages/gensim/models/keyedvectors.py\u001b[0m in \u001b[0;36mword_vec\u001b[0;34m(self, word, use_norm)\u001b[0m\n\u001b[1;32m    450\u001b[0m             \u001b[0;32mreturn\u001b[0m \u001b[0mresult\u001b[0m\u001b[0;34m\u001b[0m\u001b[0;34m\u001b[0m\u001b[0m\n\u001b[1;32m    451\u001b[0m         \u001b[0;32melse\u001b[0m\u001b[0;34m:\u001b[0m\u001b[0;34m\u001b[0m\u001b[0;34m\u001b[0m\u001b[0m\n\u001b[0;32m--> 452\u001b[0;31m             \u001b[0;32mraise\u001b[0m \u001b[0mKeyError\u001b[0m\u001b[0;34m(\u001b[0m\u001b[0;34m\"word '%s' not in vocabulary\"\u001b[0m \u001b[0;34m%\u001b[0m \u001b[0mword\u001b[0m\u001b[0;34m)\u001b[0m\u001b[0;34m\u001b[0m\u001b[0;34m\u001b[0m\u001b[0m\n\u001b[0m\u001b[1;32m    453\u001b[0m \u001b[0;34m\u001b[0m\u001b[0m\n\u001b[1;32m    454\u001b[0m     \u001b[0;32mdef\u001b[0m \u001b[0mget_vector\u001b[0m\u001b[0;34m(\u001b[0m\u001b[0mself\u001b[0m\u001b[0;34m,\u001b[0m \u001b[0mword\u001b[0m\u001b[0;34m)\u001b[0m\u001b[0;34m:\u001b[0m\u001b[0;34m\u001b[0m\u001b[0;34m\u001b[0m\u001b[0m\n",
            "\u001b[0;31mKeyError\u001b[0m: \"word 'electrofishing' not in vocabulary\""
          ]
        }
      ]
    },
    {
      "cell_type": "code",
      "source": [
        "model.wv.most_similar('electrofishing') # FastText"
      ],
      "metadata": {
        "colab": {
          "base_uri": "https://localhost:8080/"
        },
        "id": "_ZS5WFzb1hkp",
        "outputId": "8cde97fd-d092-42c7-8645-065afb29bca5"
      },
      "execution_count": 18,
      "outputs": [
        {
          "output_type": "execute_result",
          "data": {
            "text/plain": [
              "[('electric', 0.9571753740310669),\n",
              " ('electricity', 0.9374736547470093),\n",
              " ('electronics', 0.9305765628814697),\n",
              " ('electrical', 0.9268018007278442),\n",
              " ('trick', 0.9201295375823975),\n",
              " ('tactics', 0.9178457856178284),\n",
              " ('Systems', 0.9159002900123596),\n",
              " ('electronic', 0.915211021900177),\n",
              " ('electrode', 0.9140057563781738),\n",
              " ('ironic', 0.9124502539634705)]"
            ]
          },
          "metadata": {},
          "execution_count": 18
        }
      ]
    },
    {
      "cell_type": "markdown",
      "source": [
        "## GloVe"
      ],
      "metadata": {
        "id": "KsUmwosH1jUu"
      }
    },
    {
      "cell_type": "code",
      "source": [
        "!pip install glove_python_binary"
      ],
      "metadata": {
        "colab": {
          "base_uri": "https://localhost:8080/"
        },
        "id": "9A0jFmTT18fI",
        "outputId": "f8b61369-033c-454e-9172-6aba0d8ebe24"
      },
      "execution_count": 21,
      "outputs": [
        {
          "output_type": "stream",
          "name": "stdout",
          "text": [
            "Collecting glove_python_binary\n",
            "  Downloading glove_python_binary-0.2.0-cp37-cp37m-manylinux1_x86_64.whl (948 kB)\n",
            "\u001b[?25l\r\u001b[K     |▍                               | 10 kB 24.7 MB/s eta 0:00:01\r\u001b[K     |▊                               | 20 kB 31.2 MB/s eta 0:00:01\r\u001b[K     |█                               | 30 kB 34.3 MB/s eta 0:00:01\r\u001b[K     |█▍                              | 40 kB 16.4 MB/s eta 0:00:01\r\u001b[K     |█▊                              | 51 kB 13.8 MB/s eta 0:00:01\r\u001b[K     |██                              | 61 kB 15.8 MB/s eta 0:00:01\r\u001b[K     |██▍                             | 71 kB 15.8 MB/s eta 0:00:01\r\u001b[K     |██▊                             | 81 kB 9.0 MB/s eta 0:00:01\r\u001b[K     |███                             | 92 kB 9.8 MB/s eta 0:00:01\r\u001b[K     |███▌                            | 102 kB 10.6 MB/s eta 0:00:01\r\u001b[K     |███▉                            | 112 kB 10.6 MB/s eta 0:00:01\r\u001b[K     |████▏                           | 122 kB 10.6 MB/s eta 0:00:01\r\u001b[K     |████▌                           | 133 kB 10.6 MB/s eta 0:00:01\r\u001b[K     |████▉                           | 143 kB 10.6 MB/s eta 0:00:01\r\u001b[K     |█████▏                          | 153 kB 10.6 MB/s eta 0:00:01\r\u001b[K     |█████▌                          | 163 kB 10.6 MB/s eta 0:00:01\r\u001b[K     |█████▉                          | 174 kB 10.6 MB/s eta 0:00:01\r\u001b[K     |██████▏                         | 184 kB 10.6 MB/s eta 0:00:01\r\u001b[K     |██████▋                         | 194 kB 10.6 MB/s eta 0:00:01\r\u001b[K     |███████                         | 204 kB 10.6 MB/s eta 0:00:01\r\u001b[K     |███████▎                        | 215 kB 10.6 MB/s eta 0:00:01\r\u001b[K     |███████▋                        | 225 kB 10.6 MB/s eta 0:00:01\r\u001b[K     |████████                        | 235 kB 10.6 MB/s eta 0:00:01\r\u001b[K     |████████▎                       | 245 kB 10.6 MB/s eta 0:00:01\r\u001b[K     |████████▋                       | 256 kB 10.6 MB/s eta 0:00:01\r\u001b[K     |█████████                       | 266 kB 10.6 MB/s eta 0:00:01\r\u001b[K     |█████████▎                      | 276 kB 10.6 MB/s eta 0:00:01\r\u001b[K     |█████████▊                      | 286 kB 10.6 MB/s eta 0:00:01\r\u001b[K     |██████████                      | 296 kB 10.6 MB/s eta 0:00:01\r\u001b[K     |██████████▍                     | 307 kB 10.6 MB/s eta 0:00:01\r\u001b[K     |██████████▊                     | 317 kB 10.6 MB/s eta 0:00:01\r\u001b[K     |███████████                     | 327 kB 10.6 MB/s eta 0:00:01\r\u001b[K     |███████████▍                    | 337 kB 10.6 MB/s eta 0:00:01\r\u001b[K     |███████████▊                    | 348 kB 10.6 MB/s eta 0:00:01\r\u001b[K     |████████████                    | 358 kB 10.6 MB/s eta 0:00:01\r\u001b[K     |████████████▍                   | 368 kB 10.6 MB/s eta 0:00:01\r\u001b[K     |████████████▊                   | 378 kB 10.6 MB/s eta 0:00:01\r\u001b[K     |█████████████▏                  | 389 kB 10.6 MB/s eta 0:00:01\r\u001b[K     |█████████████▌                  | 399 kB 10.6 MB/s eta 0:00:01\r\u001b[K     |█████████████▉                  | 409 kB 10.6 MB/s eta 0:00:01\r\u001b[K     |██████████████▏                 | 419 kB 10.6 MB/s eta 0:00:01\r\u001b[K     |██████████████▌                 | 430 kB 10.6 MB/s eta 0:00:01\r\u001b[K     |██████████████▉                 | 440 kB 10.6 MB/s eta 0:00:01\r\u001b[K     |███████████████▏                | 450 kB 10.6 MB/s eta 0:00:01\r\u001b[K     |███████████████▌                | 460 kB 10.6 MB/s eta 0:00:01\r\u001b[K     |███████████████▉                | 471 kB 10.6 MB/s eta 0:00:01\r\u001b[K     |████████████████▎               | 481 kB 10.6 MB/s eta 0:00:01\r\u001b[K     |████████████████▋               | 491 kB 10.6 MB/s eta 0:00:01\r\u001b[K     |█████████████████               | 501 kB 10.6 MB/s eta 0:00:01\r\u001b[K     |█████████████████▎              | 512 kB 10.6 MB/s eta 0:00:01\r\u001b[K     |█████████████████▋              | 522 kB 10.6 MB/s eta 0:00:01\r\u001b[K     |██████████████████              | 532 kB 10.6 MB/s eta 0:00:01\r\u001b[K     |██████████████████▎             | 542 kB 10.6 MB/s eta 0:00:01\r\u001b[K     |██████████████████▋             | 552 kB 10.6 MB/s eta 0:00:01\r\u001b[K     |███████████████████             | 563 kB 10.6 MB/s eta 0:00:01\r\u001b[K     |███████████████████▍            | 573 kB 10.6 MB/s eta 0:00:01\r\u001b[K     |███████████████████▊            | 583 kB 10.6 MB/s eta 0:00:01\r\u001b[K     |████████████████████            | 593 kB 10.6 MB/s eta 0:00:01\r\u001b[K     |████████████████████▍           | 604 kB 10.6 MB/s eta 0:00:01\r\u001b[K     |████████████████████▊           | 614 kB 10.6 MB/s eta 0:00:01\r\u001b[K     |█████████████████████           | 624 kB 10.6 MB/s eta 0:00:01\r\u001b[K     |█████████████████████▍          | 634 kB 10.6 MB/s eta 0:00:01\r\u001b[K     |█████████████████████▊          | 645 kB 10.6 MB/s eta 0:00:01\r\u001b[K     |██████████████████████          | 655 kB 10.6 MB/s eta 0:00:01\r\u001b[K     |██████████████████████▌         | 665 kB 10.6 MB/s eta 0:00:01\r\u001b[K     |██████████████████████▉         | 675 kB 10.6 MB/s eta 0:00:01\r\u001b[K     |███████████████████████▏        | 686 kB 10.6 MB/s eta 0:00:01\r\u001b[K     |███████████████████████▌        | 696 kB 10.6 MB/s eta 0:00:01\r\u001b[K     |███████████████████████▉        | 706 kB 10.6 MB/s eta 0:00:01\r\u001b[K     |████████████████████████▏       | 716 kB 10.6 MB/s eta 0:00:01\r\u001b[K     |████████████████████████▌       | 727 kB 10.6 MB/s eta 0:00:01\r\u001b[K     |████████████████████████▉       | 737 kB 10.6 MB/s eta 0:00:01\r\u001b[K     |█████████████████████████▏      | 747 kB 10.6 MB/s eta 0:00:01\r\u001b[K     |█████████████████████████▌      | 757 kB 10.6 MB/s eta 0:00:01\r\u001b[K     |██████████████████████████      | 768 kB 10.6 MB/s eta 0:00:01\r\u001b[K     |██████████████████████████▎     | 778 kB 10.6 MB/s eta 0:00:01\r\u001b[K     |██████████████████████████▋     | 788 kB 10.6 MB/s eta 0:00:01\r\u001b[K     |███████████████████████████     | 798 kB 10.6 MB/s eta 0:00:01\r\u001b[K     |███████████████████████████▎    | 808 kB 10.6 MB/s eta 0:00:01\r\u001b[K     |███████████████████████████▋    | 819 kB 10.6 MB/s eta 0:00:01\r\u001b[K     |████████████████████████████    | 829 kB 10.6 MB/s eta 0:00:01\r\u001b[K     |████████████████████████████▎   | 839 kB 10.6 MB/s eta 0:00:01\r\u001b[K     |████████████████████████████▋   | 849 kB 10.6 MB/s eta 0:00:01\r\u001b[K     |█████████████████████████████   | 860 kB 10.6 MB/s eta 0:00:01\r\u001b[K     |█████████████████████████████▍  | 870 kB 10.6 MB/s eta 0:00:01\r\u001b[K     |█████████████████████████████▊  | 880 kB 10.6 MB/s eta 0:00:01\r\u001b[K     |██████████████████████████████  | 890 kB 10.6 MB/s eta 0:00:01\r\u001b[K     |██████████████████████████████▍ | 901 kB 10.6 MB/s eta 0:00:01\r\u001b[K     |██████████████████████████████▊ | 911 kB 10.6 MB/s eta 0:00:01\r\u001b[K     |███████████████████████████████ | 921 kB 10.6 MB/s eta 0:00:01\r\u001b[K     |███████████████████████████████▍| 931 kB 10.6 MB/s eta 0:00:01\r\u001b[K     |███████████████████████████████▊| 942 kB 10.6 MB/s eta 0:00:01\r\u001b[K     |████████████████████████████████| 948 kB 10.6 MB/s \n",
            "\u001b[?25hRequirement already satisfied: numpy in /usr/local/lib/python3.7/dist-packages (from glove_python_binary) (1.21.6)\n",
            "Requirement already satisfied: scipy in /usr/local/lib/python3.7/dist-packages (from glove_python_binary) (1.4.1)\n",
            "Installing collected packages: glove-python-binary\n",
            "Successfully installed glove-python-binary-0.2.0\n"
          ]
        }
      ]
    },
    {
      "cell_type": "code",
      "source": [
        "from glove import Corpus, Glove"
      ],
      "metadata": {
        "id": "MA5_qMt92BSP"
      },
      "execution_count": 22,
      "outputs": []
    },
    {
      "cell_type": "code",
      "source": [
        "corpus_model = Corpus()"
      ],
      "metadata": {
        "id": "afIA0pJ52JKK"
      },
      "execution_count": 26,
      "outputs": []
    },
    {
      "cell_type": "code",
      "source": [
        "corpus_model.fit(corpus)"
      ],
      "metadata": {
        "id": "UdAVylbi2UHx"
      },
      "execution_count": 27,
      "outputs": []
    },
    {
      "cell_type": "code",
      "source": [
        "glove = Glove(no_components=100, learning_rate=0.05)"
      ],
      "metadata": {
        "id": "ewFIpEzI2n_G"
      },
      "execution_count": 28,
      "outputs": []
    },
    {
      "cell_type": "code",
      "source": [
        "glove.fit(corpus_model.matrix, epochs=10, no_threads=4, verbose=True)\n",
        "glove.add_dictionary(corpus_model.dictionary)"
      ],
      "metadata": {
        "colab": {
          "base_uri": "https://localhost:8080/"
        },
        "id": "BsI6deTN248V",
        "outputId": "8fe91748-9e47-4f8d-edf5-a47aaef2b580"
      },
      "execution_count": 34,
      "outputs": [
        {
          "output_type": "stream",
          "name": "stdout",
          "text": [
            "Performing 10 training epochs with 4 threads\n",
            "Epoch 0\n",
            "Epoch 1\n",
            "Epoch 2\n",
            "Epoch 3\n",
            "Epoch 4\n",
            "Epoch 5\n",
            "Epoch 6\n",
            "Epoch 7\n",
            "Epoch 8\n",
            "Epoch 9\n"
          ]
        }
      ]
    },
    {
      "cell_type": "code",
      "source": [
        "print(glove.most_similar(\"man\"))"
      ],
      "metadata": {
        "colab": {
          "base_uri": "https://localhost:8080/"
        },
        "id": "d-Wuwbs-3EhC",
        "outputId": "b483d60b-d0d5-4088-ee66-ac9603f3e938"
      },
      "execution_count": 35,
      "outputs": [
        {
          "output_type": "stream",
          "name": "stdout",
          "text": [
            "[('child', 0.9733152249783119), ('woman', 0.9588288938341321), ('real', 0.958245471901264), ('dog', 0.9515154084006352)]\n"
          ]
        }
      ]
    },
    {
      "cell_type": "code",
      "source": [
        "print(glove.most_similar(\"boy\"))"
      ],
      "metadata": {
        "colab": {
          "base_uri": "https://localhost:8080/"
        },
        "id": "Fx9nr7tH3jop",
        "outputId": "2c7f1d8d-8150-4d31-a86d-1dfcf03d29f8"
      },
      "execution_count": 36,
      "outputs": [
        {
          "output_type": "stream",
          "name": "stdout",
          "text": [
            "[('Should', 0.9814941553477474), ('Carbon', 0.980947821075289), ('planetesimals', 0.9805143578859857), ('transitional', 0.9801229761307558)]\n"
          ]
        }
      ]
    },
    {
      "cell_type": "code",
      "source": [
        "print(glove.most_similar(\"university\"))"
      ],
      "metadata": {
        "colab": {
          "base_uri": "https://localhost:8080/"
        },
        "id": "fsk39fjb3neS",
        "outputId": "12561feb-d5ab-4df9-8362-9d03e09ab72d"
      },
      "execution_count": 37,
      "outputs": [
        {
          "output_type": "stream",
          "name": "stdout",
          "text": [
            "[('moon', 0.975153617171653), ('state', 0.9680538994376868), ('peak', 0.9658155262646219), ('world', 0.9587860971755249)]\n"
          ]
        }
      ]
    },
    {
      "cell_type": "code",
      "source": [
        ""
      ],
      "metadata": {
        "id": "eMmdHpFy3q5l"
      },
      "execution_count": null,
      "outputs": []
    }
  ]
}